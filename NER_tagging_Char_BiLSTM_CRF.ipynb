{
 "cells": [
  {
   "cell_type": "code",
   "execution_count": 1,
   "metadata": {},
   "outputs": [
    {
     "name": "stderr",
     "output_type": "stream",
     "text": [
      "/Users/patsnap/anaconda2/lib/python3.7/site-packages/statsmodels/tools/_testing.py:19: FutureWarning: pandas.util.testing is deprecated. Use the functions in the public API at pandas.testing instead.\n",
      "  import pandas.util.testing as tm\n"
     ]
    }
   ],
   "source": [
    "import os\n",
    "import time\n",
    "import pandas as pd\n",
    "\n",
    "import torch\n",
    "import torch.nn as nn\n",
    "import torch.optim as optim\n",
    "import torch.utils.data as data\n",
    "\n",
    "from itertools import chain\n",
    "from collections import Counter\n",
    "from sklearn import metrics\n",
    "from sklearn.preprocessing import MultiLabelBinarizer\n",
    "from sklearn.model_selection import train_test_split\n",
    "\n",
    "import matplotlib.pyplot as plt\n",
    "import seaborn as sns"
   ]
  },
  {
   "cell_type": "code",
   "execution_count": 2,
   "metadata": {},
   "outputs": [
    {
     "data": {
      "text/plain": [
       "device(type='cpu')"
      ]
     },
     "execution_count": 2,
     "metadata": {},
     "output_type": "execute_result"
    }
   ],
   "source": [
    "device = torch.device('cpu')\n",
    "device"
   ]
  },
  {
   "cell_type": "code",
   "execution_count": 3,
   "metadata": {},
   "outputs": [],
   "source": [
    "datafile = '/Users/patsnap/Desktop/Neo4J_and_other_codes/1014-4361-bundle-archive/ner_dataset.csv'"
   ]
  },
  {
   "cell_type": "code",
   "execution_count": 4,
   "metadata": {},
   "outputs": [],
   "source": [
    "df = pd.read_csv(datafile, encoding=\"latin1\", error_bad_lines=False)\n",
    "df = df.fillna(method='ffill')"
   ]
  },
  {
   "cell_type": "code",
   "execution_count": 5,
   "metadata": {},
   "outputs": [
    {
     "data": {
      "text/html": [
       "<div>\n",
       "<style scoped>\n",
       "    .dataframe tbody tr th:only-of-type {\n",
       "        vertical-align: middle;\n",
       "    }\n",
       "\n",
       "    .dataframe tbody tr th {\n",
       "        vertical-align: top;\n",
       "    }\n",
       "\n",
       "    .dataframe thead th {\n",
       "        text-align: right;\n",
       "    }\n",
       "</style>\n",
       "<table border=\"1\" class=\"dataframe\">\n",
       "  <thead>\n",
       "    <tr style=\"text-align: right;\">\n",
       "      <th></th>\n",
       "      <th>Sentence #</th>\n",
       "      <th>Word</th>\n",
       "      <th>POS</th>\n",
       "      <th>Tag</th>\n",
       "    </tr>\n",
       "  </thead>\n",
       "  <tbody>\n",
       "    <tr>\n",
       "      <th>0</th>\n",
       "      <td>Sentence: 1</td>\n",
       "      <td>Thousands</td>\n",
       "      <td>NNS</td>\n",
       "      <td>O</td>\n",
       "    </tr>\n",
       "    <tr>\n",
       "      <th>1</th>\n",
       "      <td>Sentence: 1</td>\n",
       "      <td>of</td>\n",
       "      <td>IN</td>\n",
       "      <td>O</td>\n",
       "    </tr>\n",
       "    <tr>\n",
       "      <th>2</th>\n",
       "      <td>Sentence: 1</td>\n",
       "      <td>demonstrators</td>\n",
       "      <td>NNS</td>\n",
       "      <td>O</td>\n",
       "    </tr>\n",
       "    <tr>\n",
       "      <th>3</th>\n",
       "      <td>Sentence: 1</td>\n",
       "      <td>have</td>\n",
       "      <td>VBP</td>\n",
       "      <td>O</td>\n",
       "    </tr>\n",
       "    <tr>\n",
       "      <th>4</th>\n",
       "      <td>Sentence: 1</td>\n",
       "      <td>marched</td>\n",
       "      <td>VBN</td>\n",
       "      <td>O</td>\n",
       "    </tr>\n",
       "  </tbody>\n",
       "</table>\n",
       "</div>"
      ],
      "text/plain": [
       "    Sentence #           Word  POS Tag\n",
       "0  Sentence: 1      Thousands  NNS   O\n",
       "1  Sentence: 1             of   IN   O\n",
       "2  Sentence: 1  demonstrators  NNS   O\n",
       "3  Sentence: 1           have  VBP   O\n",
       "4  Sentence: 1        marched  VBN   O"
      ]
     },
     "execution_count": 5,
     "metadata": {},
     "output_type": "execute_result"
    }
   ],
   "source": [
    "df.head()"
   ]
  },
  {
   "cell_type": "code",
   "execution_count": 6,
   "metadata": {},
   "outputs": [
    {
     "data": {
      "text/plain": [
       "1048575"
      ]
     },
     "execution_count": 6,
     "metadata": {},
     "output_type": "execute_result"
    }
   ],
   "source": [
    "len(df)"
   ]
  },
  {
   "cell_type": "code",
   "execution_count": 7,
   "metadata": {},
   "outputs": [
    {
     "data": {
      "text/plain": [
       "['O',\n",
       " 'B-geo',\n",
       " 'B-gpe',\n",
       " 'B-per',\n",
       " 'I-geo',\n",
       " 'B-org',\n",
       " 'I-org',\n",
       " 'B-tim',\n",
       " 'B-art',\n",
       " 'I-art',\n",
       " 'I-per',\n",
       " 'I-gpe',\n",
       " 'I-tim',\n",
       " 'B-nat',\n",
       " 'B-eve',\n",
       " 'I-eve',\n",
       " 'I-nat']"
      ]
     },
     "execution_count": 7,
     "metadata": {},
     "output_type": "execute_result"
    }
   ],
   "source": [
    "tags = list(df.Tag.unique())\n",
    "tags"
   ]
  },
  {
   "cell_type": "code",
   "execution_count": 8,
   "metadata": {},
   "outputs": [
    {
     "data": {
      "text/plain": [
       "<matplotlib.axes._subplots.AxesSubplot at 0x7fd8505b4450>"
      ]
     },
     "execution_count": 8,
     "metadata": {},
     "output_type": "execute_result"
    },
    {
     "data": {
      "image/png": "[encoded data removed]",
      "text/plain": [
       "<Figure size 1080x360 with 1 Axes>"
      ]
     },
     "metadata": {
      "needs_background": "light"
     },
     "output_type": "display_data"
    }
   ],
   "source": [
    "plt.figure(figsize=(15, 5))\n",
    "sns.countplot(df.Tag.values)"
   ]
  },
  {
   "cell_type": "code",
   "execution_count": 9,
   "metadata": {},
   "outputs": [
    {
     "data": {
      "text/plain": [
       "17"
      ]
     },
     "execution_count": 9,
     "metadata": {},
     "output_type": "execute_result"
    }
   ],
   "source": [
    "num_tags = len(tags)\n",
    "num_tags"
   ]
  },
  {
   "cell_type": "code",
   "execution_count": 10,
   "metadata": {},
   "outputs": [],
   "source": [
    "agg_func = lambda s: [(w, t) for w, p, t in zip(s[\"Word\"].values.tolist(), s[\"POS\"].values.tolist(), s[\"Tag\"].values.tolist())]\n",
    "group = df.groupby(\"Sentence #\").apply(agg_func)\n",
    "lines = [s for s in group]\n"
   ]
  },
  {
   "cell_type": "code",
   "execution_count": 11,
   "metadata": {},
   "outputs": [
    {
     "data": {
      "text/plain": [
       "[('Thousands', 'O'),\n",
       " ('of', 'O'),\n",
       " ('demonstrators', 'O'),\n",
       " ('have', 'O'),\n",
       " ('marched', 'O'),\n",
       " ('through', 'O'),\n",
       " ('London', 'B-geo'),\n",
       " ('to', 'O'),\n",
       " ('protest', 'O'),\n",
       " ('the', 'O'),\n",
       " ('war', 'O'),\n",
       " ('in', 'O'),\n",
       " ('Iraq', 'B-geo'),\n",
       " ('and', 'O'),\n",
       " ('demand', 'O'),\n",
       " ('the', 'O'),\n",
       " ('withdrawal', 'O'),\n",
       " ('of', 'O'),\n",
       " ('British', 'B-gpe'),\n",
       " ('troops', 'O'),\n",
       " ('from', 'O'),\n",
       " ('that', 'O'),\n",
       " ('country', 'O'),\n",
       " ('.', 'O')]"
      ]
     },
     "execution_count": 11,
     "metadata": {},
     "output_type": "execute_result"
    }
   ],
   "source": [
    "lines[0]"
   ]
  },
  {
   "cell_type": "code",
   "execution_count": 12,
   "metadata": {},
   "outputs": [],
   "source": [
    "sentences = [['<START>'] + [tokens[0] for tokens in line] + ['<END>'] for line in lines]\n",
    "tags = [['<START>'] + [tokens[1] for tokens in line] + ['<END>'] for line in lines]"
   ]
  },
  {
   "cell_type": "code",
   "execution_count": 13,
   "metadata": {},
   "outputs": [],
   "source": [
    "chars = [[['<START']] + [['<START>'] + [ch for ch in word] + ['<END>'] for word in sent[1:-1]] + [['<END>']] for sent in sentences]"
   ]
  },
  {
   "cell_type": "code",
   "execution_count": 14,
   "metadata": {},
   "outputs": [
    {
     "data": {
      "text/plain": [
       "(47959, 47959, 47959)"
      ]
     },
     "execution_count": 14,
     "metadata": {},
     "output_type": "execute_result"
    }
   ],
   "source": [
    "len(sentences), len(tags), len(chars)"
   ]
  },
  {
   "cell_type": "code",
   "execution_count": 15,
   "metadata": {},
   "outputs": [
    {
     "data": {
      "text/plain": [
       "['<START>',\n",
       " 'Thousands',\n",
       " 'of',\n",
       " 'demonstrators',\n",
       " 'have',\n",
       " 'marched',\n",
       " 'through',\n",
       " 'London',\n",
       " 'to',\n",
       " 'protest',\n",
       " 'the',\n",
       " 'war',\n",
       " 'in',\n",
       " 'Iraq',\n",
       " 'and',\n",
       " 'demand',\n",
       " 'the',\n",
       " 'withdrawal',\n",
       " 'of',\n",
       " 'British',\n",
       " 'troops',\n",
       " 'from',\n",
       " 'that',\n",
       " 'country',\n",
       " '.',\n",
       " '<END>']"
      ]
     },
     "execution_count": 15,
     "metadata": {},
     "output_type": "execute_result"
    }
   ],
   "source": [
    "sentences[0]"
   ]
  },
  {
   "cell_type": "code",
   "execution_count": 16,
   "metadata": {},
   "outputs": [
    {
     "data": {
      "text/plain": [
       "[['<START'],\n",
       " ['<START>', 'T', 'h', 'o', 'u', 's', 'a', 'n', 'd', 's', '<END>'],\n",
       " ['<START>', 'o', 'f', '<END>'],\n",
       " ['<START>',\n",
       "  'd',\n",
       "  'e',\n",
       "  'm',\n",
       "  'o',\n",
       "  'n',\n",
       "  's',\n",
       "  't',\n",
       "  'r',\n",
       "  'a',\n",
       "  't',\n",
       "  'o',\n",
       "  'r',\n",
       "  's',\n",
       "  '<END>'],\n",
       " ['<START>', 'h', 'a', 'v', 'e', '<END>'],\n",
       " ['<START>', 'm', 'a', 'r', 'c', 'h', 'e', 'd', '<END>'],\n",
       " ['<START>', 't', 'h', 'r', 'o', 'u', 'g', 'h', '<END>'],\n",
       " ['<START>', 'L', 'o', 'n', 'd', 'o', 'n', '<END>'],\n",
       " ['<START>', 't', 'o', '<END>'],\n",
       " ['<START>', 'p', 'r', 'o', 't', 'e', 's', 't', '<END>'],\n",
       " ['<START>', 't', 'h', 'e', '<END>'],\n",
       " ['<START>', 'w', 'a', 'r', '<END>'],\n",
       " ['<START>', 'i', 'n', '<END>'],\n",
       " ['<START>', 'I', 'r', 'a', 'q', '<END>'],\n",
       " ['<START>', 'a', 'n', 'd', '<END>'],\n",
       " ['<START>', 'd', 'e', 'm', 'a', 'n', 'd', '<END>'],\n",
       " ['<START>', 't', 'h', 'e', '<END>'],\n",
       " ['<START>', 'w', 'i', 't', 'h', 'd', 'r', 'a', 'w', 'a', 'l', '<END>'],\n",
       " ['<START>', 'o', 'f', '<END>'],\n",
       " ['<START>', 'B', 'r', 'i', 't', 'i', 's', 'h', '<END>'],\n",
       " ['<START>', 't', 'r', 'o', 'o', 'p', 's', '<END>'],\n",
       " ['<START>', 'f', 'r', 'o', 'm', '<END>'],\n",
       " ['<START>', 't', 'h', 'a', 't', '<END>'],\n",
       " ['<START>', 'c', 'o', 'u', 'n', 't', 'r', 'y', '<END>'],\n",
       " ['<START>', '.', '<END>'],\n",
       " ['<END>']]"
      ]
     },
     "execution_count": 16,
     "metadata": {},
     "output_type": "execute_result"
    }
   ],
   "source": [
    "chars[0]"
   ]
  },
  {
   "cell_type": "code",
   "execution_count": 17,
   "metadata": {},
   "outputs": [
    {
     "data": {
      "text/plain": [
       "<matplotlib.axes._subplots.AxesSubplot at 0x7fd83a2ab750>"
      ]
     },
     "execution_count": 17,
     "metadata": {},
     "output_type": "execute_result"
    },
    {
     "data": {
      "image/png": "[encoded data removed]",
      "text/plain": [
       "<Figure size 1080x360 with 1 Axes>"
      ]
     },
     "metadata": {
      "needs_background": "light"
     },
     "output_type": "display_data"
    }
   ],
   "source": [
    "sen_lengths = [len(sent) for sent in sentences]\n",
    "plt.figure(figsize=(15, 5))\n",
    "sns.countplot(sen_lengths)"
   ]
  },
  {
   "cell_type": "code",
   "execution_count": 18,
   "metadata": {},
   "outputs": [
    {
     "data": {
      "text/plain": [
       "<matplotlib.axes._subplots.AxesSubplot at 0x7fd856b6e2d0>"
      ]
     },
     "execution_count": 18,
     "metadata": {},
     "output_type": "execute_result"
    },
    {
     "data": {
      "image/png": "[encoded data removed]",
      "text/plain": [
       "<Figure size 1080x360 with 1 Axes>"
      ]
     },
     "metadata": {
      "needs_background": "light"
     },
     "output_type": "display_data"
    }
   ],
   "source": [
    "char_lengths = [len(t) for char in chars for t in char]\n",
    "plt.figure(figsize=(15, 5))\n",
    "sns.countplot(char_lengths)"
   ]
  },
  {
   "cell_type": "code",
   "execution_count": 19,
   "metadata": {},
   "outputs": [
    {
     "data": {
      "text/plain": [
       "(38367, 4796, 4796)"
      ]
     },
     "execution_count": 19,
     "metadata": {},
     "output_type": "execute_result"
    }
   ],
   "source": [
    "train_sentences, valid_sentences, train_tags, valid_tags, train_chars, valid_chars = train_test_split(sentences, tags, chars, test_size=0.2, random_state=42)\n",
    "valid_sentences, test_sentences, valid_tags, test_tags, valid_chars, test_chars = train_test_split(valid_sentences, valid_tags, valid_chars, test_size=0.5, random_state=42)\n",
    "len(train_sentences), len(valid_sentences), len(test_sentences)"
   ]
  },
  {
   "cell_type": "code",
   "execution_count": 20,
   "metadata": {},
   "outputs": [],
   "source": [
    "class Vocab:\n",
    "    def __init__(self, word2id, id2word):\n",
    "        self.UNK = '<UNK>'\n",
    "        self.PAD = '<PAD>'\n",
    "        self.START = '<START>'\n",
    "        self.END = '<END>'\n",
    "        self.__word2id = word2id\n",
    "        self.__id2word = id2word\n",
    "\n",
    "    def get_word2id(self):\n",
    "        return self.__word2id\n",
    "\n",
    "    def get_id2word(self):\n",
    "        return self.__id2word\n",
    "\n",
    "    def __getitem__(self, item):\n",
    "        if self.UNK in self.__word2id:\n",
    "            return self.__word2id.get(item, self.__word2id[self.UNK])\n",
    "        return self.__word2id[item]\n",
    "\n",
    "    def __len__(self):\n",
    "        return len(self.__word2id)\n",
    "\n",
    "    def id2word(self, idx):\n",
    "        return self.__id2word[idx]"
   ]
  },
  {
   "cell_type": "code",
   "execution_count": 21,
   "metadata": {},
   "outputs": [],
   "source": [
    "def build_vocab(data, freq_cutoff=5, is_tags=False, is_chars=False):\n",
    "    if is_chars:\n",
    "        word_counts = Counter(chain(*chain(*train_chars[:10])))\n",
    "    else:\n",
    "        word_counts = Counter(chain(*data))\n",
    "    valid_words = [w for w, d in word_counts.items() if d >= freq_cutoff]\n",
    "    valid_words = sorted(valid_words, key=lambda x: word_counts[x], reverse=True)\n",
    "    valid_words += ['<PAD>']\n",
    "    word2id = {w: idx for idx, w in enumerate(valid_words)}\n",
    "    if not is_tags:\n",
    "        word2id['<UNK>'] = len(word2id)\n",
    "        valid_words += ['<UNK>']\n",
    "    return Vocab(word2id=word2id, id2word=valid_words)"
   ]
  },
  {
   "cell_type": "code",
   "execution_count": 22,
   "metadata": {},
   "outputs": [],
   "source": [
    "words_vocab = build_vocab(train_sentences)\n",
    "tags_vocab = build_vocab(train_tags, is_tags=True)\n",
    "chars_vocab = build_vocab(train_chars, is_chars=True)"
   ]
  },
  {
   "cell_type": "code",
   "execution_count": 23,
   "metadata": {},
   "outputs": [
    {
     "data": {
      "text/plain": [
       "(9620, 20, 34)"
      ]
     },
     "execution_count": 23,
     "metadata": {},
     "output_type": "execute_result"
    }
   ],
   "source": [
    "len(words_vocab), len(tags_vocab), len(chars_vocab)"
   ]
  },
  {
   "cell_type": "code",
   "execution_count": 24,
   "metadata": {},
   "outputs": [],
   "source": [
    "MAX_SEQ_LEN = 50\n",
    "MAX_WORD_LEN = 15"
   ]
  },
  {
   "cell_type": "code",
   "execution_count": 25,
   "metadata": {},
   "outputs": [],
   "source": [
    "class NERDataset(data.Dataset):\n",
    "    def __init__(self, sentences, tags, chars, max_seq_len, max_word_len):\n",
    "        self.sentences = sentences\n",
    "        self.tags = tags\n",
    "        self.characters = chars\n",
    "        self.max_seq_len = max_seq_len\n",
    "        self.max_word_len = max_word_len\n",
    "    \n",
    "    def __len__(self):\n",
    "        return len(self.sentences)\n",
    "    \n",
    "    def __getitem__(self, item):\n",
    "        sentence = self.sentences[item]\n",
    "        tag = self.tags[item]\n",
    "        chars = self.characters[item]\n",
    "        seq_len = len(sentence)\n",
    "\n",
    "        # convert the sentences and tags into numerical format\n",
    "        word_tokens = [words_vocab[word] for word in sentence]\n",
    "        tag_tokens = [tags_vocab[t] for t in tag]\n",
    "\n",
    "        char_seq = []\n",
    "        for word in chars:\n",
    "            word_len = len(word)\n",
    "            # truncate the word if it is greater than max_word_len\n",
    "            if word_len > self.max_word_len:\n",
    "                word = word[:self.max_word_len]\n",
    "            # pad the word if it less\n",
    "            else:\n",
    "                pad_length = self.max_word_len - word_len\n",
    "                word = word + [chars_vocab.PAD] * pad_length\n",
    "            \n",
    "            # convert the chars into numerical format\n",
    "            char_ids = []\n",
    "            for each_char in word: \n",
    "                char_ids.append(chars_vocab[each_char])\n",
    "            char_seq.append(char_ids)\n",
    "        \n",
    "        return torch.LongTensor(word_tokens), torch.LongTensor(char_seq), torch.LongTensor(tag_tokens)"
   ]
  },
  {
   "cell_type": "code",
   "execution_count": 26,
   "metadata": {},
   "outputs": [],
   "source": [
    "train_dataset = NERDataset(train_sentences, train_tags, train_chars, MAX_SEQ_LEN, MAX_WORD_LEN)\n",
    "valid_dataset = NERDataset(valid_sentences, valid_tags, valid_chars, MAX_SEQ_LEN, MAX_WORD_LEN)\n",
    "test_dataset = NERDataset(test_sentences, test_tags, test_chars, MAX_SEQ_LEN, MAX_WORD_LEN)"
   ]
  },
  {
   "cell_type": "code",
   "execution_count": 27,
   "metadata": {},
   "outputs": [
    {
     "data": {
      "text/plain": [
       "(tensor([   1,  150,  235,   11,   36,   72,   49, 3318,    8, 1977, 4171,  166,\n",
       "         9619, 9619, 7832,    4,  199,    7, 1385, 9619,   67, 1103,    3,    2]),\n",
       " tensor([[24, 32, 32, 32, 32, 32, 32, 32, 32, 32, 32, 32, 32, 32, 32],\n",
       "         [ 1, 28,  4, 14,  5, 11,  0, 32, 32, 32, 32, 32, 32, 32, 32],\n",
       "         [ 1, 33,  4,  6,  2,  3,  0, 32, 32, 32, 32, 32, 32, 32, 32],\n",
       "         [ 1, 29,  7,  0, 32, 32, 32, 32, 32, 32, 32, 32, 32, 32, 32],\n",
       "         [ 1, 16,  4, 21,  2,  6,  8, 15,  2,  8,  5,  0, 32, 32, 32],\n",
       "         [ 1, 33, 14,  2,  7, 10,  3, 19,  0, 32, 32, 32, 32, 32, 32],\n",
       "         [ 1,  3, 12,  7,  4,  0, 32, 32, 32, 32, 32, 32, 32, 32, 32],\n",
       "         [ 1, 14,  8, 21,  2,  9, 12,  2, 10,  0, 32, 32, 32, 32, 32],\n",
       "         [ 1,  3,  0, 32, 32, 32, 32, 32, 32, 32, 32, 32, 32, 32, 32],\n",
       "         [ 1,  7,  4, 33, 13,  3, 12, 12,  2, 10,  0, 32, 32, 32, 32],\n",
       "         [ 1, 33,  6,  2,  2,  8,  0, 32, 32, 32, 32, 32, 32, 32, 32],\n",
       "         [ 1, 33,  2, 23,  0, 32, 32, 32, 32, 32, 32, 32, 32, 32, 32],\n",
       "         [ 1, 33,  4, 26,  0, 32, 32, 32, 32, 32, 32, 32, 32, 32, 32],\n",
       "         [ 1, 33,  6,  2,  3,  5,  9,  4,  8,  0, 32, 32, 32, 32, 32],\n",
       "         [ 1, 33, 12,  3,  8,  0, 32, 32, 32, 32, 32, 32, 32, 32, 32],\n",
       "         [ 1, 25,  0, 32, 32, 32, 32, 32, 32, 32, 32, 32, 32, 32, 32],\n",
       "         [ 1,  2, 33, 18,  2, 13,  5,  2, 10,  0, 32, 32, 32, 32, 32],\n",
       "         [ 1,  5,  4,  0, 32, 32, 32, 32, 32, 32, 32, 32, 32, 32, 32],\n",
       "         [ 1, 13,  6,  2,  3,  5,  2,  0, 32, 32, 32, 32, 32, 32, 32],\n",
       "         [ 1, 33, 25, 33, 22, 25, 22, 22, 22,  0, 32, 32, 32, 32, 32],\n",
       "         [ 1,  8,  2, 23,  0, 32, 32, 32, 32, 32, 32, 32, 32, 32, 32],\n",
       "         [ 1, 33,  4, 26,  7,  0, 32, 32, 32, 32, 32, 32, 32, 32, 32],\n",
       "         [ 1, 20,  0, 32, 32, 32, 32, 32, 32, 32, 32, 32, 32, 32, 32],\n",
       "         [ 0, 32, 32, 32, 32, 32, 32, 32, 32, 32, 32, 32, 32, 32, 32]]),\n",
       " tensor([ 1,  3, 10,  0,  0,  4,  0,  0,  0,  0,  0,  0,  0,  0,  0,  0,  0,  0,\n",
       "          0,  0,  0,  0,  0,  2]))"
      ]
     },
     "execution_count": 27,
     "metadata": {},
     "output_type": "execute_result"
    }
   ],
   "source": [
    "train_dataset[0]"
   ]
  },
  {
   "cell_type": "code",
   "execution_count": 28,
   "metadata": {},
   "outputs": [],
   "source": [
    "BATCH_SIZE = 64"
   ]
  },
  {
   "cell_type": "code",
   "execution_count": 29,
   "metadata": {},
   "outputs": [],
   "source": [
    "def collate_fn(data):\n",
    "    data.sort(key=lambda x: len(x[0]), reverse=True)\n",
    "    sentences, words, tags = zip(*data)\n",
    "\n",
    "    # Merge questions (from tuple of 1D tensor to 2D tensor).\n",
    "    sent_lengths = [len(sent) for sent in sentences]\n",
    "    inputs = torch.zeros(len(sentences), max(sent_lengths)).long()\n",
    "    labels = torch.zeros(len(sentences), max(sent_lengths)).long()\n",
    "    chars = torch.zeros(len(sentences), max(sent_lengths), MAX_WORD_LEN).long()\n",
    "    for i, (sent, lab, ch) in enumerate(zip(sentences, tags, words)):\n",
    "        end = sent_lengths[i]\n",
    "        inputs[i, :end] = sent[:end]\n",
    "        labels[i, :end] = lab[:end]\n",
    "        chars[i, :end] = ch[:end]\n",
    "    return inputs, chars, labels, sent_lengths"
   ]
  },
  {
   "cell_type": "code",
   "execution_count": 30,
   "metadata": {},
   "outputs": [],
   "source": [
    "train_data_loader = data.DataLoader(train_dataset, BATCH_SIZE, shuffle=True, collate_fn=collate_fn)\n",
    "valid_data_loader = data.DataLoader(valid_dataset, BATCH_SIZE, shuffle=False, collate_fn=collate_fn)\n",
    "test_data_loader = data.DataLoader(test_dataset, BATCH_SIZE, shuffle=False, collate_fn=collate_fn)"
   ]
  },
  {
   "cell_type": "code",
   "execution_count": 31,
   "metadata": {},
   "outputs": [],
   "source": [
    "sample = next(iter(train_data_loader))"
   ]
  },
  {
   "cell_type": "code",
   "execution_count": 32,
   "metadata": {},
   "outputs": [
    {
     "data": {
      "text/plain": [
       "(torch.Size([64, 41]), torch.Size([64, 41, 15]), torch.Size([64, 41]), 64)"
      ]
     },
     "execution_count": 32,
     "metadata": {},
     "output_type": "execute_result"
    }
   ],
   "source": [
    "sample[0].shape, sample[1].shape, sample[2].shape, len(sample[3])"
   ]
  },
  {
   "cell_type": "code",
   "execution_count": 33,
   "metadata": {},
   "outputs": [],
   "source": [
    "class CharBiLSTMCRF(nn.Module):\n",
    "    def __init__(self, vocab_size, emb_dim, hid_dim, char_emb_dim, char_hid_dim, char_vocab_size, tag_vocab_size, sent_pad_token, tag_start_token, dropout=0.3):\n",
    "        super().__init__()\n",
    "        self.hid_dim = hid_dim\n",
    "        self.sent_pad_token = sent_pad_token\n",
    "        self.tag_start_token = tag_start_token\n",
    "        self.tag_vocab_size = tag_vocab_size\n",
    "\n",
    "        self.char_embedding = nn.Embedding(char_vocab_size, char_emb_dim, padding_idx=0)\n",
    "        self.char_lstm = nn.LSTM(char_emb_dim, char_hid_dim, bidirectional=True, batch_first=True)\n",
    "\n",
    "        self.embedding = nn.Embedding(vocab_size, emb_dim, padding_idx=0)\n",
    "        self.lstm = nn.LSTM(\n",
    "            emb_dim + char_hid_dim,\n",
    "            hid_dim,\n",
    "            bidirectional=True,\n",
    "            batch_first=True\n",
    "        )\n",
    "        self.emission = nn.Linear(hid_dim * 2, tag_vocab_size)\n",
    "        self.transition = nn.Parameter(torch.rand(tag_vocab_size, tag_vocab_size))\n",
    "\n",
    "        self.dropout = nn.Dropout(dropout)\n",
    "    \n",
    "    def forward(self, sentences, lengths, words, tags):\n",
    "        # sentences => [batch_size, seq_len]\n",
    "        # lengths => [batch_size]\n",
    "        # words => [batch_size, seq_len, word_len]\n",
    "        # tags => [batch_size, seq_len]\n",
    "\n",
    "        char_final_hidden = []\n",
    "        for word in words:\n",
    "            # word => [seq_len, word_len]\n",
    "            char_embed = self.char_embedding(word)\n",
    "            char_embed = self.dropout(char_embed)\n",
    "            # char_embed => [seq_len, word_len, char_emb_dim]\n",
    "\n",
    "            _, (char_hidden, _) = self.char_lstm(char_embed)\n",
    "            # char_hidden => [2, seq_len, char_hid_dim]\n",
    "\n",
    "            # add the final forward and backward hidden states\n",
    "            char_combined = char_hidden[-1, :, :] + char_hidden[-2, :, :]\n",
    "            # char_combined => [seq_len, char_hid_dim]\n",
    "\n",
    "            char_final_hidden.append(char_combined)\n",
    "        \n",
    "        char_encoding = torch.stack(char_final_hidden)\n",
    "        # char_encoding => [batch_size, seq_len, char_hid_dim]\n",
    "\n",
    "        mask = (sentences != self.sent_pad_token).to(device)\n",
    "        # mask => [batch_size, seq_len]\n",
    "\n",
    "        embed = self.embedding(sentences)\n",
    "        embed = self.dropout(embed)\n",
    "        # embed => [batch_size, seq_len, emb_dim]\n",
    "\n",
    "        embed_with_char = torch.cat((embed, char_encoding), dim=-1)\n",
    "        # embed_with_char => [batch_size, seq_len, emb_dim + char_hid_dim]\n",
    "\n",
    "        packed_input = nn.utils.rnn.pack_padded_sequence(embed_with_char, lengths, batch_first=True)\n",
    "        packed_output, _ = self.lstm(packed_input)\n",
    "        outputs, _ = nn.utils.rnn.pad_packed_sequence(packed_output, batch_first=True)\n",
    "        # outputs => [batch_size, seq_len, hid_dim * 2]\n",
    "\n",
    "        combined = torch.cat((outputs[:, :, :self.hid_dim], outputs[:, :, self.hid_dim:]), dim=-1)\n",
    "        combined = self.dropout(combined)\n",
    "        # combined => [batch_size, seq_len, hid_dim * 2]\n",
    "\n",
    "        emission_scores = self.emission(combined)\n",
    "        # emission_scores => [batch_size, seq_len, tag_size]\n",
    "\n",
    "        loss = self.vitebri_loss(tags, mask, emission_scores)\n",
    "        # loss => [batch_size]\n",
    "\n",
    "        return loss\n",
    "\n",
    "    def vitebri_loss(self, tags, mask, emit_scores):\n",
    "        # tags => [batch_size, seq_len]\n",
    "        # mask => [batch_size, seq_len]\n",
    "        # emit_scores => [batch_size, seq_len, tag_size]\n",
    "\n",
    "        batch_size, sent_len = tags.shape\n",
    "\n",
    "        # calculate the ground truth score\n",
    "        score = torch.gather(emit_scores, 2, tags.unsqueeze(2)).squeeze(2)\n",
    "        # emission scores of actual tags\n",
    "        # score => [batch_size, seq_len]\n",
    "\n",
    "        # add the transition scores to the emission scores\n",
    "        # ignore the start token tag score\n",
    "        score[:, 1:] += self.transition[tags[:, :-1], tags[:, 1:]]\n",
    "\n",
    "        # consider only the scores of actual tokens not the padded\n",
    "        gold_scores = (score * mask.type(torch.float)).sum(dim=1)\n",
    "        # gold_scores => [batch_size]\n",
    "\n",
    "        # calculate the scores of the partition (Z)\n",
    "        # tensor to hold the accumulated sequence scores at each time step\n",
    "        # at the inital time step score will be on dim=0\n",
    "        scores_upto_t = emit_scores[:, 0].unsqueeze(1)\n",
    "        # scores_upto_t => [batch_size, 1, tag_size]\n",
    "\n",
    "        for i in range(1, sent_len):\n",
    "            # get the current batch_size\n",
    "            batch_t = mask[:, i].sum()\n",
    "\n",
    "            # get the accumulated scores till now (only the current batch size)\n",
    "            scores_unpad = scores_upto_t[:batch_t]\n",
    "            # scores_unpad => [batch_t, 1, tag_size]\n",
    "\n",
    "            # add the transition scores for this time step\n",
    "            scores_with_trans = emit_scores[:batch_t, i].unsqueeze(1) + self.transition\n",
    "            # scores_with_trans => [batch_t, tag_size, tag_size]\n",
    "\n",
    "            # add to the accumulation\n",
    "            sum_scores = scores_unpad.transpose(1, 2) + scores_with_trans\n",
    "            # sum_scores => [batch_t, tag_size, tag_size]\n",
    "            \n",
    "            # apply the following to overcome the overflow problems\n",
    "            # since the exp(some_big_number) will cause issues \n",
    "            # log(Σ exp(z_k)) = max(z) + log(Σ exp(z_k - max(z)))\n",
    "            # log(Σ exp(z_k)) = log(Σ exp(z_k - c + c))\n",
    "            #                 = log(Σ exp(z_k - c) * exp(c))\n",
    "            #                 = log(Σ exp(z_k - c)) + log(exp(c))\n",
    "            #                 = log(Σ exp(z_k - c)) + c\n",
    "            # by taking c as max(z)\n",
    "            # log(Σ exp(z_k)) = max(z) + log(Σ exp(z_k - max(z))) [log_sum_exp]\n",
    "            # get the maximum score of the current time step\n",
    "            max_t = sum_scores.max(dim=1)[0].unsqueeze(1)\n",
    "            # max_t => [batch_t, 1, tag_size]\n",
    "\n",
    "            sum_scores = sum_scores - max_t\n",
    "            # sum_scores => [batch_t, tag_size, tag_size]\n",
    "\n",
    "            scores_t = max_t + torch.logsumexp(sum_scores, dim=1).unsqueeze(1)\n",
    "            # scores_t => [batch_t, 1, tag_size]\n",
    "\n",
    "            # update the accumulation scores\n",
    "            scores_upto_t = torch.cat((scores_t, scores_upto_t[batch_t:]), dim=0)\n",
    "            # scores_upto_t => [batch_size, 1, tag_size]\n",
    "        \n",
    "        final_scores = scores_upto_t.squeeze(1)\n",
    "        # final_scores => [batch_size, tag_size]\n",
    "\n",
    "        max_final_scores = final_scores.max(dim=-1)[0]\n",
    "        # max_final_scores => [batch_size]\n",
    "\n",
    "        predicted_scores = max_final_scores + torch.logsumexp(final_scores - max_final_scores.unsqueeze(1), dim=1)\n",
    "        # predicted_scores => [batch_size]\n",
    "\n",
    "        vitebri_loss = predicted_scores - gold_scores\n",
    "        # vitebri_loss => [batch_size]\n",
    "\n",
    "        return vitebri_loss\n",
    "    \n",
    "    def predict(self, sentences, lengths, words):\n",
    "        # sentences => [batch_size, seq_len]\n",
    "        # lengths => [batch_size]\n",
    "        # words => [batch_size, seq_len, word_len]\n",
    "\n",
    "        batch_size = sentences.size(0)\n",
    "\n",
    "        char_final_hidden = []\n",
    "        for word in words:\n",
    "            # word => [seq_len, word_len]\n",
    "            char_embed = self.char_embedding(word)\n",
    "            char_embed = self.dropout(char_embed)\n",
    "            # char_embed => [seq_len, word_len, char_emb_dim]\n",
    "\n",
    "            _, (char_hidden, _) = self.char_lstm(char_embed)\n",
    "            # char_hidden => [2, seq_len, char_hid_dim]\n",
    "\n",
    "            # add the final forward and backward hidden states\n",
    "            char_combined = char_hidden[-1, :, :] + char_hidden[-2, :, :]\n",
    "            # char_combined => [seq_len, char_hid_dim]\n",
    "\n",
    "            char_final_hidden.append(char_combined)\n",
    "        \n",
    "        char_encoding = torch.stack(char_final_hidden)\n",
    "        # char_encoding => [batch_size, seq_len, char_hid_dim]\n",
    "\n",
    "        mask = (sentences != self.sent_pad_token).to(device)\n",
    "        # mask => [batch_size, seq_len]\n",
    "\n",
    "        embed = self.embedding(sentences)\n",
    "        embed = self.dropout(embed)\n",
    "        # embed => [batch_size, seq_len, emb_dim]\n",
    "\n",
    "        embed_with_char = torch.cat((embed, char_encoding), dim=-1)\n",
    "        # embed_with_char => [batch_size, seq_len, emb_dim + char_hid_dim]\n",
    "\n",
    "        packed_inp = nn.utils.rnn.pack_padded_sequence(embed_with_char, lengths, batch_first=True)\n",
    "        packed_output, _ = self.lstm(packed_inp)\n",
    "        outputs, _ = nn.utils.rnn.pad_packed_sequence(packed_output, batch_first=True)\n",
    "        # outputs => [batch_size, seq_len, hid_dim * 2]\n",
    "\n",
    "        combined = torch.cat((outputs[:, :, :self.hid_dim], outputs[:, :, self.hid_dim:]), dim=-1)\n",
    "        combined = self.dropout(combined)\n",
    "        # combined => [batch_size, seq_len, hid_dim * 2]\n",
    "\n",
    "        emission_scores = self.emission(combined)\n",
    "        # emission_scores => [batch_size, seq_len, tag_size]\n",
    "\n",
    "        # to store the tags predicted at each time step\n",
    "        # since at the begining every tag is start tag create the list with start tags\n",
    "        tags = [[[self.tag_start_token] for _ in range(self.tag_vocab_size)]] * batch_size\n",
    "        # tags => [batch_size, tag_size, 1]\n",
    "\n",
    "        scores_upto_t = emission_scores[:, 0].unsqueeze(1)\n",
    "        # scores_upto_t => [batch_size, 1, tag_size]\n",
    "\n",
    "        for i in range(1, max(lengths)):\n",
    "            # get the current batch_size\n",
    "            batch_t = mask[:, i].sum()\n",
    "\n",
    "            # get the accumulated scores till now (only the current batch size)\n",
    "            scores_unpad = scores_upto_t[:batch_t]\n",
    "            # scores_unpad => [batch_t, 1, tag_size]\n",
    "\n",
    "            # add the transition scores for this time step\n",
    "            scores_with_trans = emission_scores[:batch_t, i].unsqueeze(1) + self.transition\n",
    "            # scores_with_trans => [batch_t, tag_size, tag_size]\n",
    "\n",
    "            # add to the accumulation\n",
    "            sum_scores = scores_unpad.transpose(1, 2) + scores_with_trans\n",
    "            # sum_scores => [batch_t, tag_size, tag_size]\n",
    "\n",
    "            max_scores_t, max_ids_t = torch.max(sum_scores, dim=1)\n",
    "            max_ids_t = max_ids_t.tolist()\n",
    "            # max_scores_t => [batch_t, tag_size]\n",
    "            # max_ids_t => [batch_t, tag_size]\n",
    "\n",
    "            # add the current time step predicted tags \n",
    "            tags[:batch_t] = [[tags[b][k] + [j] for j, k in enumerate(max_ids_t[b])] for b in range(batch_t)]\n",
    "            \n",
    "            # update the accumulation scores\n",
    "            scores_upto_t = torch.cat((max_scores_t.unsqueeze(1), scores_upto_t[batch_t:]), dim=0)\n",
    "            # scores_upto_t => [batch_size, tag_size]\n",
    "\n",
    "        scores = scores_upto_t.squeeze(1)\n",
    "        # scores => [batch_size, tag_size]\n",
    "\n",
    "        _, max_ids = torch.max(scores, dim=1)\n",
    "        max_ids = max_ids.tolist()\n",
    "        # max_ids => [batch_size]\n",
    "\n",
    "        # tags => [batch_size, tag_size, seq_len]\n",
    "        tags = [tags[b][k] for b, k in enumerate(max_ids)]\n",
    "        # tags => [batch_size, seq_len]\n",
    "\n",
    "        return tags"
   ]
  },
  {
   "cell_type": "code",
   "execution_count": 34,
   "metadata": {},
   "outputs": [
    {
     "data": {
      "text/plain": [
       "CharBiLSTMCRF(\n",
       "  (char_embedding): Embedding(34, 20, padding_idx=0)\n",
       "  (char_lstm): LSTM(20, 50, batch_first=True, bidirectional=True)\n",
       "  (embedding): Embedding(9620, 50, padding_idx=0)\n",
       "  (lstm): LSTM(100, 200, batch_first=True, bidirectional=True)\n",
       "  (emission): Linear(in_features=400, out_features=20, bias=True)\n",
       "  (dropout): Dropout(p=0.3, inplace=False)\n",
       ")"
      ]
     },
     "execution_count": 34,
     "metadata": {},
     "output_type": "execute_result"
    }
   ],
   "source": [
    "vocab_size = len(words_vocab)\n",
    "sent_pad_token = words_vocab[words_vocab.PAD]\n",
    "tag_start_token = tags_vocab[tags_vocab.START]\n",
    "emb_dim = 50\n",
    "hid_dim = 200\n",
    "char_emb_dim = 20\n",
    "char_hid_dim = 50\n",
    "char_vocab_size = len(chars_vocab)\n",
    "tag_vocab_size = len(tags_vocab)\n",
    "model = CharBiLSTMCRF(\n",
    "    vocab_size,\n",
    "    emb_dim,\n",
    "    hid_dim,\n",
    "    char_emb_dim,\n",
    "    char_hid_dim,\n",
    "    char_vocab_size,\n",
    "    tag_vocab_size,\n",
    "    sent_pad_token,\n",
    "    tag_start_token\n",
    ")\n",
    "model.to(device)"
   ]
  },
  {
   "cell_type": "code",
   "execution_count": 35,
   "metadata": {},
   "outputs": [
    {
     "name": "stdout",
     "output_type": "stream",
     "text": [
      "The model has 1,002,100 trainable parameters\n"
     ]
    }
   ],
   "source": [
    "def count_parameters(model):\n",
    "    return sum(p.numel() for p in model.parameters() if p.requires_grad)\n",
    "\n",
    "print(f'The model has {count_parameters(model):,} trainable parameters')"
   ]
  },
  {
   "cell_type": "code",
   "execution_count": 36,
   "metadata": {},
   "outputs": [],
   "source": [
    "optimizer = optim.Adam(model.parameters(), lr=0.01)"
   ]
  },
  {
   "cell_type": "code",
   "execution_count": 37,
   "metadata": {},
   "outputs": [],
   "source": [
    "def train(model, iterator, optimizer, clip):\n",
    "    model.train()\n",
    "\n",
    "    epoch_loss = 0\n",
    "    total_sentences = 0\n",
    "\n",
    "    for batch in iterator:\n",
    "        sentences = batch[0].to(device)\n",
    "        words = batch[1].to(device)\n",
    "        tags = batch[2].to(device)\n",
    "        seq_lengths = batch[3]\n",
    "        # sentences => [batch_size, seq_len]\n",
    "        # words => [batch_size, seq_len, word_len]\n",
    "        # tags => [batch_size, seq_len]\n",
    "        # seq_lengths => [batch_size]\n",
    "\n",
    "        optimizer.zero_grad()\n",
    "\n",
    "        batch_loss = model(sentences, seq_lengths, words, tags)\n",
    "        # batch_loss => [batch_size]\n",
    "\n",
    "        loss = batch_loss.mean()\n",
    "\n",
    "        loss.backward()\n",
    "        torch.nn.utils.clip_grad_norm_(model.parameters(), clip)\n",
    "        optimizer.step()\n",
    "        \n",
    "        epoch_loss += batch_loss.sum().item()\n",
    "        total_sentences += len(sentences)\n",
    "\n",
    "    return epoch_loss / total_sentences"
   ]
  },
  {
   "cell_type": "code",
   "execution_count": 38,
   "metadata": {},
   "outputs": [],
   "source": [
    "def evaluate(model, iterator):\n",
    "    model.eval()\n",
    "    epoch_loss = 0\n",
    "    total_sentences = 0\n",
    "\n",
    "    with torch.no_grad():\n",
    "        for batch in iterator:\n",
    "            sentences = batch[0].to(device)\n",
    "            words = batch[1].to(device)\n",
    "            tags = batch[2].to(device)\n",
    "            seq_lengths = batch[3]\n",
    "            # sentences => [batch_size, seq_len]\n",
    "            # words => [batch_size, seq_len, word_len]\n",
    "            # tags => [batch_size, seq_len]\n",
    "            # seq_lengths => [batch_size]\n",
    "\n",
    "            batch_loss = model(sentences, seq_lengths, words, tags)\n",
    "            # batch_loss => [batch_size]\n",
    "\n",
    "            loss = batch_loss.mean()\n",
    "\n",
    "            epoch_loss += batch_loss.sum().item()\n",
    "            total_sentences += len(sentences)\n",
    "        \n",
    "    return epoch_loss / total_sentences"
   ]
  },
  {
   "cell_type": "code",
   "execution_count": 39,
   "metadata": {},
   "outputs": [],
   "source": [
    "def epoch_time(start_time, end_time):\n",
    "    elapsed_time = end_time - start_time\n",
    "    elapsed_mins = int(elapsed_time / 60)\n",
    "    elapsed_secs = int(elapsed_time - (elapsed_mins * 60))\n",
    "    return elapsed_mins, elapsed_secs"
   ]
  },
  {
   "cell_type": "code",
   "execution_count": 40,
   "metadata": {},
   "outputs": [
    {
     "name": "stdout",
     "output_type": "stream",
     "text": [
      "Epoch: 01 | Epoch Time: 13m 58s\n",
      "\tTrain Loss: 7.989 | Val. Loss: 1.731\n",
      "Epoch: 02 | Epoch Time: 13m 38s\n",
      "\tTrain Loss: 1.768 | Val. Loss: 1.542\n",
      "Epoch: 03 | Epoch Time: 13m 16s\n",
      "\tTrain Loss: 1.580 | Val. Loss: 1.482\n",
      "Epoch: 04 | Epoch Time: 13m 17s\n",
      "\tTrain Loss: 1.491 | Val. Loss: 1.495\n",
      "Epoch: 05 | Epoch Time: 13m 15s\n",
      "\tTrain Loss: 1.438 | Val. Loss: 1.443\n",
      "Epoch: 06 | Epoch Time: 13m 17s\n",
      "\tTrain Loss: 1.389 | Val. Loss: 1.488\n",
      "Epoch: 07 | Epoch Time: 13m 17s\n",
      "\tTrain Loss: 1.359 | Val. Loss: 1.486\n",
      "Epoch: 08 | Epoch Time: 13m 22s\n",
      "\tTrain Loss: 1.341 | Val. Loss: 1.439\n",
      "Epoch: 09 | Epoch Time: 13m 25s\n",
      "\tTrain Loss: 1.328 | Val. Loss: 1.508\n",
      "Epoch: 10 | Epoch Time: 13m 25s\n",
      "\tTrain Loss: 1.304 | Val. Loss: 1.505\n"
     ]
    }
   ],
   "source": [
    "N_EPOCHS = 10\n",
    "CLIP = 2\n",
    "best_valid_loss = float('inf')\n",
    "\n",
    "for epoch in range(N_EPOCHS):\n",
    "\n",
    "    start_time = time.time()\n",
    "    \n",
    "    train_loss = train(model, train_data_loader, optimizer, CLIP)\n",
    "    valid_loss = evaluate(model, valid_data_loader)\n",
    "    \n",
    "    end_time = time.time()\n",
    "\n",
    "    epoch_mins, epoch_secs = epoch_time(start_time, end_time)\n",
    "    \n",
    "    if valid_loss < best_valid_loss:\n",
    "        best_valid_loss = valid_loss\n",
    "        torch.save(model.state_dict(), 'model.pt')\n",
    "    \n",
    "    print(f'Epoch: {epoch+1:02} | Epoch Time: {epoch_mins}m {epoch_secs}s')\n",
    "    print(f'\\tTrain Loss: {train_loss:.3f} | Val. Loss: {valid_loss:.3f}')"
   ]
  },
  {
   "cell_type": "code",
   "execution_count": 41,
   "metadata": {},
   "outputs": [
    {
     "data": {
      "text/plain": [
       "<All keys matched successfully>"
      ]
     },
     "execution_count": 41,
     "metadata": {},
     "output_type": "execute_result"
    }
   ],
   "source": [
    "model.load_state_dict(torch.load('model.pt'))"
   ]
  },
  {
   "cell_type": "code",
   "execution_count": 42,
   "metadata": {},
   "outputs": [
    {
     "name": "stdout",
     "output_type": "stream",
     "text": [
      "Test Loss: 1.422\n"
     ]
    }
   ],
   "source": [
    "test_loss = evaluate(model, test_data_loader)\n",
    "print(f'Test Loss: {test_loss:.3f}')"
   ]
  },
  {
   "cell_type": "code",
   "execution_count": 43,
   "metadata": {},
   "outputs": [],
   "source": [
    "def cal_metrics(model, iterator):\n",
    "    model.eval()\n",
    "\n",
    "    fin_outputs = []\n",
    "    fin_targets = []\n",
    "\n",
    "    with torch.no_grad():\n",
    "        for batch in iterator:\n",
    "            sentences = batch[0].to(device)\n",
    "            words = batch[1].to(device)\n",
    "            tags = batch[2].to(device)\n",
    "            seq_lengths = batch[3]\n",
    "            # sentences => [batch_size, seq_len]\n",
    "            # words => [batch_size, seq_len, word_len]\n",
    "            # tags => [batch_size, seq_len]\n",
    "            # seq_lengths => [batch_size]\n",
    "\n",
    "            predictions = model.predict(sentences, seq_lengths, words)\n",
    "            # predictions => [batch_size, seq_len]\n",
    "\n",
    "            fin_outputs.extend(predictions)\n",
    "            fin_targets.extend(tags.detach().cpu().numpy().tolist())\n",
    "        \n",
    "    assert len(fin_outputs) == len(fin_targets)\n",
    "    mlb = MultiLabelBinarizer()\n",
    "    trans_trg = mlb.fit_transform(fin_targets)\n",
    "    trans_pred = mlb.transform(fin_outputs)\n",
    "\n",
    "    cf = metrics.classification_report(trans_trg, trans_pred)\n",
    "    print(cf)"
   ]
  },
  {
   "cell_type": "code",
   "execution_count": 44,
   "metadata": {},
   "outputs": [
    {
     "name": "stdout",
     "output_type": "stream",
     "text": [
      "              precision    recall  f1-score   support\n",
      "\n",
      "           0       1.00      1.00      1.00      4796\n",
      "           1       1.00      1.00      1.00      4796\n",
      "           2       1.00      1.00      1.00      4796\n",
      "           3       0.92      0.96      0.94      2496\n",
      "           4       0.97      0.95      0.96      1688\n",
      "           5       0.90      0.78      0.84      1623\n",
      "           6       0.90      0.96      0.93      1071\n",
      "           7       0.91      0.91      0.91      1361\n",
      "           8       0.87      0.80      0.84       879\n",
      "           9       0.98      0.94      0.96      1303\n",
      "          10       0.81      0.88      0.84       595\n",
      "          11       0.87      0.80      0.84       395\n",
      "          12       0.33      0.02      0.04        42\n",
      "          13       0.87      0.42      0.57        31\n",
      "          14       0.00      0.00      0.00        25\n",
      "          15       0.67      0.25      0.36        16\n",
      "          16       1.00      0.73      0.85        15\n",
      "          17       0.86      0.50      0.63        12\n",
      "          18       1.00      0.50      0.67         4\n",
      "\n",
      "   micro avg       0.96      0.95      0.96     25944\n",
      "   macro avg       0.83      0.71      0.75     25944\n",
      "weighted avg       0.96      0.95      0.96     25944\n",
      " samples avg       0.97      0.96      0.96     25944\n",
      "\n"
     ]
    },
    {
     "name": "stderr",
     "output_type": "stream",
     "text": [
      "/Users/patsnap/anaconda2/lib/python3.7/site-packages/sklearn/metrics/_classification.py:1221: UndefinedMetricWarning: Precision and F-score are ill-defined and being set to 0.0 in labels with no predicted samples. Use `zero_division` parameter to control this behavior.\n",
      "  _warn_prf(average, modifier, msg_start, len(result))\n"
     ]
    }
   ],
   "source": [
    "cal_metrics(model, test_data_loader)"
   ]
  },
  {
   "cell_type": "code",
   "execution_count": 45,
   "metadata": {},
   "outputs": [],
   "source": [
    "def inference(sentence):\n",
    "    if isinstance(sentence, str):\n",
    "        tokens = [words_vocab[words_vocab.START]] + sentence.split() + [words_vocab[words_vocab.END]]\n",
    "    else:\n",
    "        tokens = sentence\n",
    "    \n",
    "    chars = [['<START']] + [['<START>'] + [ch for ch in word] + ['<END>'] for word in tokens[1:-1]] + [['<END>']]\n",
    "\n",
    "    char_seq = []\n",
    "    for word in chars:\n",
    "        word_len = len(word)\n",
    "        # truncate the word if it is greater than max_word_len\n",
    "        if word_len > MAX_WORD_LEN:\n",
    "            word = word[:MAX_WORD_LEN]\n",
    "        # pad the word if it less\n",
    "        else:\n",
    "            pad_length = MAX_WORD_LEN - word_len\n",
    "            word = word + [chars_vocab.PAD] * pad_length\n",
    "        \n",
    "        # convert the chars into numerical format\n",
    "        char_ids = []\n",
    "        for each_char in word: \n",
    "            char_ids.append(chars_vocab[each_char])\n",
    "        char_seq.append(char_ids)\n",
    "\n",
    "    # numericalize\n",
    "    token_ids = [words_vocab[tok] for tok in tokens]\n",
    "    \n",
    "    # seq length\n",
    "    sent_length = [len(token_ids)]\n",
    "\n",
    "    # create tensors\n",
    "    sent_tensor = torch.LongTensor(token_ids).to(device)\n",
    "    sent_tensor = sent_tensor.unsqueeze(0)\n",
    "    # sent_tensor => [1, seq_len]\n",
    "\n",
    "    char_tensor = torch.LongTensor(char_seq).to(device)\n",
    "    char_tensor = char_tensor.unsqueeze(0)\n",
    "    # char_tensor => [1, seq_len, word_len]\n",
    "\n",
    "    model.eval()\n",
    "    with torch.no_grad():\n",
    "        predictions = model.predict(sent_tensor, sent_length, char_tensor)\n",
    "    \n",
    "    predictions = predictions[0]\n",
    "    predicted_tags = []\n",
    "    for i in predictions:\n",
    "        predicted_tags.append(tags_vocab.id2word(i))\n",
    "    \n",
    "    return tokens, predicted_tags"
   ]
  },
  {
   "cell_type": "code",
   "execution_count": 46,
   "metadata": {},
   "outputs": [
    {
     "name": "stdout",
     "output_type": "stream",
     "text": [
      "Pred. Tag\tActual Tag\tCorrect?\tToken\n",
      "\n",
      "<START>\t\t<START>\t\t✔\t\t<START>\n",
      "O\t\tO\t\t✔\t\tThe\n",
      "O\t\tO\t\t✔\t\toffice\n",
      "O\t\tO\t\t✔\t\tof\n",
      "O\t\tO\t\t✔\t\tthe\n",
      "B-gpe\t\tB-gpe\t\t✔\t\tIsraeli\n",
      "O\t\tO\t\t✔\t\tprime\n",
      "O\t\tO\t\t✔\t\tminister\n",
      "O\t\tO\t\t✔\t\tsays\n",
      "O\t\tO\t\t✔\t\ta\n",
      "O\t\tO\t\t✔\t\tvisit\n",
      "O\t\tO\t\t✔\t\tto\n",
      "B-geo\t\tB-geo\t\t✔\t\tIsrael\n",
      "O\t\tO\t\t✔\t\tby\n",
      "O\t\tO\t\t✔\t\tthe\n",
      "O\t\tO\t\t✔\t\tforeign\n",
      "O\t\tO\t\t✔\t\tministers\n",
      "O\t\tO\t\t✔\t\tof\n",
      "B-geo\t\tB-gpe\t\t✘\t\tEgypt\n",
      "O\t\tO\t\t✔\t\tand\n",
      "B-gpe\t\tB-gpe\t\t✔\t\tJordan\n",
      "O\t\tO\t\t✔\t\twill\n",
      "O\t\tO\t\t✔\t\ttake\n",
      "O\t\tO\t\t✔\t\tplace\n",
      "B-tim\t\tB-tim\t\t✔\t\tJuly\n",
      "I-tim\t\tI-tim\t\t✔\t\t25\n",
      "O\t\tO\t\t✔\t\t,\n",
      "O\t\tO\t\t✔\t\tnot\n",
      "O\t\tO\t\t✔\t\tthis\n",
      "O\t\tO\t\t✔\t\tweek\n",
      "O\t\tO\t\t✔\t\tas\n",
      "O\t\tO\t\t✔\t\tpreviously\n",
      "O\t\tO\t\t✔\t\tplanned\n",
      "O\t\tO\t\t✔\t\t.\n",
      "<END>\t\t<END>\t\t✔\t\t<END>\n"
     ]
    }
   ],
   "source": [
    "sentence = test_sentences[0]\n",
    "actual_tags = test_tags[0]\n",
    "tokens, predicted_tag_ids = inference(sentence)\n",
    "\n",
    "print(\"Pred. Tag\\tActual Tag\\tCorrect?\\tToken\\n\")\n",
    "for token, pred_tag, actual_tag in zip(tokens, predicted_tag_ids, actual_tags):\n",
    "    correct = '✔' if pred_tag == actual_tag else '✘'\n",
    "    print(f\"{pred_tag}\\t\\t{actual_tag}\\t\\t{correct}\\t\\t{token}\")"
   ]
  },
  {
   "cell_type": "code",
   "execution_count": 47,
   "metadata": {},
   "outputs": [
    {
     "name": "stdout",
     "output_type": "stream",
     "text": [
      "Pred. Tag\tActual Tag\tCorrect?\tToken\n",
      "\n",
      "<START>\t\t<START>\t\t✔\t\t<START>\n",
      "O\t\tO\t\t✔\t\tAn\n",
      "B-gpe\t\tB-gpe\t\t✔\t\tIraqi\n",
      "O\t\tO\t\t✔\t\tmilitant\n",
      "O\t\tO\t\t✔\t\tgroup\n",
      "O\t\tO\t\t✔\t\t(\n",
      "O\t\tO\t\t✔\t\tthe\n",
      "B-org\t\tB-org\t\t✔\t\tIslamic\n",
      "I-org\t\tI-org\t\t✔\t\tArmy\n",
      "O\t\tO\t\t✔\t\tof\n",
      "B-geo\t\tB-geo\t\t✔\t\tIraq\n",
      "O\t\tO\t\t✔\t\t)\n",
      "O\t\tO\t\t✔\t\tposted\n",
      "O\t\tO\t\t✔\t\ta\n",
      "O\t\tO\t\t✔\t\tvideo\n",
      "O\t\tO\t\t✔\t\ton\n",
      "O\t\tO\t\t✔\t\tthe\n",
      "O\t\tO\t\t✔\t\tInternet\n",
      "B-tim\t\tB-tim\t\t✔\t\ttoday\n",
      "O\t\tO\t\t✔\t\tthat\n",
      "O\t\tO\t\t✔\t\tshowed\n",
      "O\t\tO\t\t✔\t\ta\n",
      "O\t\tO\t\t✔\t\tblindfolded\n",
      "O\t\tO\t\t✔\t\tman\n",
      "O\t\tO\t\t✔\t\tbeing\n",
      "O\t\tO\t\t✔\t\tshot\n",
      "O\t\tO\t\t✔\t\tin\n",
      "O\t\tO\t\t✔\t\tthe\n",
      "O\t\tO\t\t✔\t\tback\n",
      "O\t\tO\t\t✔\t\tof\n",
      "O\t\tO\t\t✔\t\tthe\n",
      "O\t\tO\t\t✔\t\thead\n",
      "O\t\tO\t\t✔\t\t.\n",
      "<END>\t\t<END>\t\t✔\t\t<END>\n"
     ]
    }
   ],
   "source": [
    "sentence = test_sentences[10]\n",
    "actual_tags = test_tags[10]\n",
    "tokens, predicted_tag_ids = inference(sentence)\n",
    "\n",
    "print(\"Pred. Tag\\tActual Tag\\tCorrect?\\tToken\\n\")\n",
    "for token, pred_tag, actual_tag in zip(tokens, predicted_tag_ids, actual_tags):\n",
    "    correct = '✔' if pred_tag == actual_tag else '✘'\n",
    "    print(f\"{pred_tag}\\t\\t{actual_tag}\\t\\t{correct}\\t\\t{token}\")"
   ]
  },
  {
   "cell_type": "code",
   "execution_count": 48,
   "metadata": {},
   "outputs": [
    {
     "name": "stdout",
     "output_type": "stream",
     "text": [
      "Pred. Tag\tToken\n",
      "\n",
      "O\t\tI\n",
      "O\t\tlike\n",
      "O\t\tto\n",
      "O\t\tlive\n",
      "O\t\tin\n",
      "B-geo\t\tNew\n",
      "I-geo\t\tYork\n"
     ]
    }
   ],
   "source": [
    "sentence = \"I like to live in New York\"\n",
    "tokens, predicted_tag_ids = inference(sentence)\n",
    "\n",
    "print(\"Pred. Tag\\tToken\\n\")\n",
    "for token, pred_tag in zip(tokens[1:-1], predicted_tag_ids[1:-1]):\n",
    "    print(f\"{pred_tag}\\t\\t{token}\")"
   ]
  },
  {
   "cell_type": "code",
   "execution_count": 49,
   "metadata": {},
   "outputs": [
    {
     "name": "stdout",
     "output_type": "stream",
     "text": [
      "Pred. Tag\tToken\n",
      "\n",
      "O\t\tMy\n",
      "O\t\tdream\n",
      "O\t\tis\n",
      "O\t\tto\n",
      "O\t\twork\n",
      "O\t\tat\n",
      "B-org\t\tGoogle\n"
     ]
    }
   ],
   "source": [
    "sentence = \"My dream is to work at Google\"\n",
    "tokens, predicted_tag_ids = inference(sentence)\n",
    "\n",
    "print(\"Pred. Tag\\tToken\\n\")\n",
    "for token, pred_tag in zip(tokens[1:-1], predicted_tag_ids[1:-1]):\n",
    "    print(f\"{pred_tag}\\t\\t{token}\")"
   ]
  },
  {
   "cell_type": "code",
   "execution_count": null,
   "metadata": {},
   "outputs": [],
   "source": []
  },
  {
   "cell_type": "code",
   "execution_count": null,
   "metadata": {},
   "outputs": [],
   "source": []
  }
 ],
 "metadata": {
  "kernelspec": {
   "display_name": "Python 3",
   "language": "python",
   "name": "python3"
  },
  "language_info": {
   "codemirror_mode": {
    "name": "ipython",
    "version": 3
   },
   "file_extension": ".py",
   "mimetype": "text/x-python",
   "name": "python",
   "nbconvert_exporter": "python",
   "pygments_lexer": "ipython3",
   "version": "3.7.5"
  }
 },
 "nbformat": 4,
 "nbformat_minor": 2
}
