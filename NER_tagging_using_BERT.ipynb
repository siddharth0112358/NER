{
 "cells": [
  {
   "cell_type": "markdown",
   "metadata": {},
   "source": [
    "https://github.com/graviraja/100-Days-of-NLP/tree/master/applications/classification/ner_tagging"
   ]
  },
  {
   "cell_type": "markdown",
   "metadata": {},
   "source": [
    "https://www.kaggle.com/abhinavwalia95/entity-annotated-corpus"
   ]
  },
  {
   "cell_type": "code",
   "execution_count": 1,
   "metadata": {},
   "outputs": [
    {
     "name": "stdout",
     "output_type": "stream",
     "text": [
      "Error processing line 1 of /Users/patsnap/anaconda2/lib/python3.7/site-packages/google_api_core-1.16.0-py3.8-nspkg.pth:\n",
      "\n",
      "Error processing line 1 of /Users/patsnap/anaconda2/lib/python3.7/site-packages/homebrew.pth:\n",
      "\n",
      "Error processing line 1 of /Users/patsnap/anaconda2/lib/python3.7/site-packages/homebrew.pth:\n",
      "\n",
      "Error processing line 1 of /Users/patsnap/anaconda2/lib/python3.7/site-packages/homebrew.pth:\n",
      "\n",
      "Error processing line 1 of /Users/patsnap/anaconda2/lib/python3.7/site-packages/homebrew.pth:\n",
      "\n",
      "Error processing line 1 of /Users/patsnap/anaconda2/lib/python3.7/site-packages/homebrew.pth:\n",
      "\n",
      "  Traceback (most recent call last):\n",
      "    File \"/Users/patsnap/anaconda2/lib/python3.7/site.py\", line 168, in addpackage\n",
      "      exec(line)\n",
      "    File \"<string>\", line 1, in <module>\n",
      "    File \"<frozen importlib._bootstrap_external>\", line 1280, in find_spec\n",
      "    File \"<frozen importlib._bootstrap_external>\", line 1252, in _get_spec\n",
      "    File \"<frozen importlib._bootstrap_external>\", line 1383, in find_spec\n",
      "    File \"<frozen importlib._bootstrap_external>\", line 95, in _path_isfile\n",
      "    File \"<frozen importlib._bootstrap_external>\", line 87, in _path_is_mode_type\n",
      "    File \"<frozen importlib._bootstrap_external>\", line 81, in _path_stat\n",
      "  RecursionError: maximum recursion depth exceeded while calling a Python object\n",
      "  \n",
      "  During handling of the above exception, another exception occurred:\n",
      "  \n",
      "  Traceback (most recent call last):\n",
      "    File \"/Users/patsnap/anaconda2/lib/python3.7/site.py\", line 168, in addpackage\n",
      "      exec(line)\n",
      "    File \"<string>\", line 1, in <module>\n",
      "    File \"/Users/patsnap/anaconda2/lib/python3.7/site.py\", line 207, in addsitedir\n",
      "      addpackage(sitedir, name, known_paths)\n",
      "    File \"/Users/patsnap/anaconda2/lib/python3.7/site.py\", line 178, in addpackage\n",
      "      import traceback\n",
      "    File \"/Users/patsnap/anaconda2/lib/python3.7/traceback.py\", line 5, in <module>\n",
      "      import linecache\n",
      "    File \"/Users/patsnap/anaconda2/lib/python3.7/linecache.py\", line 11, in <module>\n",
      "      import tokenize\n",
      "    File \"/Users/patsnap/anaconda2/lib/python3.7/tokenize.py\", line 94, in <module>\n",
      "      class TokenInfo(collections.namedtuple('TokenInfo', 'type string start end line')):\n",
      "    File \"/Users/patsnap/anaconda2/lib/python3.7/collections/__init__.py\", line 397, in namedtuple\n",
      "      exec(s, namespace)\n",
      "  RecursionError: maximum recursion depth exceeded during compilation\n",
      "  \n",
      "  During handling of the above exception, another exception occurred:\n",
      "  \n",
      "  Traceback (most recent call last):\n",
      "    File \"/Users/patsnap/anaconda2/lib/python3.7/site.py\", line 168, in addpackage\n",
      "      exec(line)\n",
      "    File \"<string>\", line 1, in <module>\n",
      "    File \"/Users/patsnap/anaconda2/lib/python3.7/site.py\", line 207, in addsitedir\n",
      "      addpackage(sitedir, name, known_paths)\n",
      "    File \"/Users/patsnap/anaconda2/lib/python3.7/site.py\", line 178, in addpackage\n",
      "      import traceback\n",
      "    File \"/Users/patsnap/anaconda2/lib/python3.7/traceback.py\", line 5, in <module>\n",
      "      import linecache\n",
      "    File \"/Users/patsnap/anaconda2/lib/python3.7/linecache.py\", line 11, in <module>\n",
      "      import tokenize\n",
      "    File \"/Users/patsnap/anaconda2/lib/python3.7/tokenize.py\", line 94, in <module>\n",
      "      class TokenInfo(collections.namedtuple('TokenInfo', 'type string start end line')):\n",
      "    File \"/Users/patsnap/anaconda2/lib/python3.7/collections/__init__.py\", line 397, in namedtuple\n",
      "      exec(s, namespace)\n",
      "  RecursionError: maximum recursion depth exceeded during compilation\n",
      "  \n",
      "  During handling of the above exception, another exception occurred:\n",
      "  \n",
      "  Traceback (most recent call last):\n",
      "    File \"/Users/patsnap/anaconda2/lib/python3.7/site.py\", line 168, in addpackage\n",
      "      exec(line)\n",
      "    File \"<string>\", line 1, in <module>\n",
      "    File \"/Users/patsnap/anaconda2/lib/python3.7/site.py\", line 207, in addsitedir\n",
      "      addpackage(sitedir, name, known_paths)\n",
      "    File \"/Users/patsnap/anaconda2/lib/python3.7/site.py\", line 178, in addpackage\n",
      "      import traceback\n",
      "    File \"/Users/patsnap/anaconda2/lib/python3.7/traceback.py\", line 5, in <module>\n",
      "      import linecache\n",
      "    File \"/Users/patsnap/anaconda2/lib/python3.7/linecache.py\", line 11, in <module>\n",
      "      import tokenize\n",
      "    File \"/Users/patsnap/anaconda2/lib/python3.7/tokenize.py\", line 94, in <module>\n",
      "      class TokenInfo(collections.namedtuple('TokenInfo', 'type string start end line')):\n",
      "    File \"/Users/patsnap/anaconda2/lib/python3.7/collections/__init__.py\", line 397, in namedtuple\n",
      "      exec(s, namespace)\n",
      "  RecursionError: maximum recursion depth exceeded during compilation\n",
      "  \n",
      "  During handling of the above exception, another exception occurred:\n",
      "  \n",
      "  Traceback (most recent call last):\n",
      "    File \"/Users/patsnap/anaconda2/lib/python3.7/site.py\", line 168, in addpackage\n",
      "      exec(line)\n",
      "    File \"<string>\", line 1, in <module>\n",
      "    File \"/Users/patsnap/anaconda2/lib/python3.7/site.py\", line 207, in addsitedir\n",
      "      addpackage(sitedir, name, known_paths)\n",
      "    File \"/Users/patsnap/anaconda2/lib/python3.7/site.py\", line 178, in addpackage\n",
      "      import traceback\n",
      "    File \"/Users/patsnap/anaconda2/lib/python3.7/traceback.py\", line 5, in <module>\n",
      "      import linecache\n",
      "    File \"/Users/patsnap/anaconda2/lib/python3.7/linecache.py\", line 11, in <module>\n",
      "      import tokenize\n",
      "    File \"/Users/patsnap/anaconda2/lib/python3.7/tokenize.py\", line 94, in <module>\n",
      "      class TokenInfo(collections.namedtuple('TokenInfo', 'type string start end line')):\n",
      "    File \"/Users/patsnap/anaconda2/lib/python3.7/collections/__init__.py\", line 397, in namedtuple\n",
      "      exec(s, namespace)\n",
      "  RecursionError: maximum recursion depth exceeded during compilation\n",
      "  \n",
      "  During handling of the above exception, another exception occurred:\n",
      "  \n",
      "  Traceback (most recent call last):\n",
      "    File \"/Users/patsnap/anaconda2/lib/python3.7/site.py\", line 168, in addpackage\n",
      "      exec(line)\n",
      "    File \"<string>\", line 1, in <module>\n",
      "    File \"/Users/patsnap/anaconda2/lib/python3.7/site.py\", line 207, in addsitedir\n",
      "      addpackage(sitedir, name, known_paths)\n",
      "    File \"/Users/patsnap/anaconda2/lib/python3.7/site.py\", line 178, in addpackage\n",
      "      import traceback\n",
      "    File \"/Users/patsnap/anaconda2/lib/python3.7/traceback.py\", line 5, in <module>\n",
      "      import linecache\n",
      "    File \"/Users/patsnap/anaconda2/lib/python3.7/linecache.py\", line 11, in <module>\n",
      "      import tokenize\n",
      "    File \"/Users/patsnap/anaconda2/lib/python3.7/tokenize.py\", line 94, in <module>\n",
      "      class TokenInfo(collections.namedtuple('TokenInfo', 'type string start end line')):\n",
      "    File \"/Users/patsnap/anaconda2/lib/python3.7/collections/__init__.py\", line 397, in namedtuple\n",
      "      exec(s, namespace)\n",
      "  RecursionError: maximum recursion depth exceeded during compilation\n",
      "\n",
      "Remainder of file ignored\n",
      "\u001b[33mWARNING: You are using pip version 20.2; however, version 20.2.1 is available.\n",
      "You should consider upgrading via the '/Users/patsnap/anaconda2/bin/python -m pip install --upgrade pip' command.\u001b[0m\n"
     ]
    }
   ],
   "source": [
    "!pip install transformers -q"
   ]
  },
  {
   "cell_type": "code",
   "execution_count": 2,
   "metadata": {},
   "outputs": [
    {
     "name": "stderr",
     "output_type": "stream",
     "text": [
      "/Users/patsnap/anaconda2/lib/python3.7/site-packages/statsmodels/tools/_testing.py:19: FutureWarning: pandas.util.testing is deprecated. Use the functions in the public API at pandas.testing instead.\n",
      "  import pandas.util.testing as tm\n"
     ]
    }
   ],
   "source": [
    "import os\n",
    "import time\n",
    "import numpy as np\n",
    "import pandas as pd\n",
    "\n",
    "import torch\n",
    "import torch.nn as nn\n",
    "import torch.optim as optim\n",
    "import torch.utils.data as data\n",
    "\n",
    "from transformers import BertTokenizer, BertModel\n",
    "\n",
    "from itertools import chain\n",
    "from collections import Counter\n",
    "from sklearn import metrics\n",
    "from sklearn.preprocessing import MultiLabelBinarizer\n",
    "from sklearn.model_selection import train_test_split\n",
    "\n",
    "import matplotlib.pyplot as plt\n",
    "import seaborn as sns"
   ]
  },
  {
   "cell_type": "code",
   "execution_count": 3,
   "metadata": {},
   "outputs": [
    {
     "data": {
      "text/plain": [
       "device(type='cpu')"
      ]
     },
     "execution_count": 3,
     "metadata": {},
     "output_type": "execute_result"
    }
   ],
   "source": [
    "device = torch.device('cpu')\n",
    "device"
   ]
  },
  {
   "cell_type": "code",
   "execution_count": 4,
   "metadata": {},
   "outputs": [],
   "source": [
    "datafile = '/Users/patsnap/Desktop/Neo4J_and_other_codes/1014-4361-bundle-archive/ner_dataset.csv'"
   ]
  },
  {
   "cell_type": "code",
   "execution_count": 5,
   "metadata": {},
   "outputs": [],
   "source": [
    "df = pd.read_csv(datafile, encoding=\"latin1\", error_bad_lines=False)\n",
    "df = df.fillna(method='ffill')"
   ]
  },
  {
   "cell_type": "code",
   "execution_count": 6,
   "metadata": {},
   "outputs": [
    {
     "data": {
      "text/html": [
       "<div>\n",
       "<style scoped>\n",
       "    .dataframe tbody tr th:only-of-type {\n",
       "        vertical-align: middle;\n",
       "    }\n",
       "\n",
       "    .dataframe tbody tr th {\n",
       "        vertical-align: top;\n",
       "    }\n",
       "\n",
       "    .dataframe thead th {\n",
       "        text-align: right;\n",
       "    }\n",
       "</style>\n",
       "<table border=\"1\" class=\"dataframe\">\n",
       "  <thead>\n",
       "    <tr style=\"text-align: right;\">\n",
       "      <th></th>\n",
       "      <th>Sentence #</th>\n",
       "      <th>Word</th>\n",
       "      <th>POS</th>\n",
       "      <th>Tag</th>\n",
       "    </tr>\n",
       "  </thead>\n",
       "  <tbody>\n",
       "    <tr>\n",
       "      <th>0</th>\n",
       "      <td>Sentence: 1</td>\n",
       "      <td>Thousands</td>\n",
       "      <td>NNS</td>\n",
       "      <td>O</td>\n",
       "    </tr>\n",
       "    <tr>\n",
       "      <th>1</th>\n",
       "      <td>Sentence: 1</td>\n",
       "      <td>of</td>\n",
       "      <td>IN</td>\n",
       "      <td>O</td>\n",
       "    </tr>\n",
       "    <tr>\n",
       "      <th>2</th>\n",
       "      <td>Sentence: 1</td>\n",
       "      <td>demonstrators</td>\n",
       "      <td>NNS</td>\n",
       "      <td>O</td>\n",
       "    </tr>\n",
       "    <tr>\n",
       "      <th>3</th>\n",
       "      <td>Sentence: 1</td>\n",
       "      <td>have</td>\n",
       "      <td>VBP</td>\n",
       "      <td>O</td>\n",
       "    </tr>\n",
       "    <tr>\n",
       "      <th>4</th>\n",
       "      <td>Sentence: 1</td>\n",
       "      <td>marched</td>\n",
       "      <td>VBN</td>\n",
       "      <td>O</td>\n",
       "    </tr>\n",
       "  </tbody>\n",
       "</table>\n",
       "</div>"
      ],
      "text/plain": [
       "    Sentence #           Word  POS Tag\n",
       "0  Sentence: 1      Thousands  NNS   O\n",
       "1  Sentence: 1             of   IN   O\n",
       "2  Sentence: 1  demonstrators  NNS   O\n",
       "3  Sentence: 1           have  VBP   O\n",
       "4  Sentence: 1        marched  VBN   O"
      ]
     },
     "execution_count": 6,
     "metadata": {},
     "output_type": "execute_result"
    }
   ],
   "source": [
    "df.head()"
   ]
  },
  {
   "cell_type": "code",
   "execution_count": 7,
   "metadata": {},
   "outputs": [
    {
     "data": {
      "text/plain": [
       "1048575"
      ]
     },
     "execution_count": 7,
     "metadata": {},
     "output_type": "execute_result"
    }
   ],
   "source": [
    "len(df)"
   ]
  },
  {
   "cell_type": "code",
   "execution_count": 8,
   "metadata": {},
   "outputs": [
    {
     "data": {
      "text/plain": [
       "['O',\n",
       " 'B-geo',\n",
       " 'B-gpe',\n",
       " 'B-per',\n",
       " 'I-geo',\n",
       " 'B-org',\n",
       " 'I-org',\n",
       " 'B-tim',\n",
       " 'B-art',\n",
       " 'I-art',\n",
       " 'I-per',\n",
       " 'I-gpe',\n",
       " 'I-tim',\n",
       " 'B-nat',\n",
       " 'B-eve',\n",
       " 'I-eve',\n",
       " 'I-nat']"
      ]
     },
     "execution_count": 8,
     "metadata": {},
     "output_type": "execute_result"
    }
   ],
   "source": [
    "tags = list(df.Tag.unique())\n",
    "tags"
   ]
  },
  {
   "cell_type": "code",
   "execution_count": 9,
   "metadata": {},
   "outputs": [
    {
     "data": {
      "text/plain": [
       "<matplotlib.axes._subplots.AxesSubplot at 0x7fb7a52ab450>"
      ]
     },
     "execution_count": 9,
     "metadata": {},
     "output_type": "execute_result"
    },
    {
     "data": {
      "image/png": "[encoded data removed]",
      "text/plain": [
       "<Figure size 1080x360 with 1 Axes>"
      ]
     },
     "metadata": {
      "needs_background": "light"
     },
     "output_type": "display_data"
    }
   ],
   "source": [
    "plt.figure(figsize=(15, 5))\n",
    "sns.countplot(df.Tag.values)"
   ]
  },
  {
   "cell_type": "code",
   "execution_count": 10,
   "metadata": {},
   "outputs": [
    {
     "data": {
      "text/plain": [
       "17"
      ]
     },
     "execution_count": 10,
     "metadata": {},
     "output_type": "execute_result"
    }
   ],
   "source": [
    "num_tags = len(tags)\n",
    "num_tags"
   ]
  },
  {
   "cell_type": "code",
   "execution_count": 11,
   "metadata": {},
   "outputs": [],
   "source": [
    "agg_func = lambda s: [(w, t) for w, p, t in zip(s[\"Word\"].values.tolist(), s[\"POS\"].values.tolist(), s[\"Tag\"].values.tolist())]\n",
    "group = df.groupby(\"Sentence #\").apply(agg_func)\n",
    "lines = [s for s in group]"
   ]
  },
  {
   "cell_type": "code",
   "execution_count": 12,
   "metadata": {},
   "outputs": [
    {
     "data": {
      "text/plain": [
       "[('Thousands', 'O'),\n",
       " ('of', 'O'),\n",
       " ('demonstrators', 'O'),\n",
       " ('have', 'O'),\n",
       " ('marched', 'O'),\n",
       " ('through', 'O'),\n",
       " ('London', 'B-geo'),\n",
       " ('to', 'O'),\n",
       " ('protest', 'O'),\n",
       " ('the', 'O'),\n",
       " ('war', 'O'),\n",
       " ('in', 'O'),\n",
       " ('Iraq', 'B-geo'),\n",
       " ('and', 'O'),\n",
       " ('demand', 'O'),\n",
       " ('the', 'O'),\n",
       " ('withdrawal', 'O'),\n",
       " ('of', 'O'),\n",
       " ('British', 'B-gpe'),\n",
       " ('troops', 'O'),\n",
       " ('from', 'O'),\n",
       " ('that', 'O'),\n",
       " ('country', 'O'),\n",
       " ('.', 'O')]"
      ]
     },
     "execution_count": 12,
     "metadata": {},
     "output_type": "execute_result"
    }
   ],
   "source": [
    "lines[0]"
   ]
  },
  {
   "cell_type": "code",
   "execution_count": 13,
   "metadata": {},
   "outputs": [],
   "source": [
    "sentences = [[tokens[0] for tokens in line] for line in lines]\n",
    "tags = [[tokens[1] for tokens in line] for line in lines]"
   ]
  },
  {
   "cell_type": "code",
   "execution_count": 14,
   "metadata": {},
   "outputs": [
    {
     "data": {
      "text/plain": [
       "<matplotlib.axes._subplots.AxesSubplot at 0x7fb7a5634c50>"
      ]
     },
     "execution_count": 14,
     "metadata": {},
     "output_type": "execute_result"
    },
    {
     "data": {
      "image/png": "[encoded data removed]",
      "text/plain": [
       "<Figure size 1080x360 with 1 Axes>"
      ]
     },
     "metadata": {
      "needs_background": "light"
     },
     "output_type": "display_data"
    }
   ],
   "source": [
    "sen_lengths = [len(sent) for sent in sentences]\n",
    "plt.figure(figsize=(15, 5))\n",
    "sns.countplot(sen_lengths)"
   ]
  },
  {
   "cell_type": "code",
   "execution_count": 15,
   "metadata": {},
   "outputs": [],
   "source": [
    "MAX_LEN = 60\n",
    "tokenizer = BertTokenizer.from_pretrained('bert-base-cased')"
   ]
  },
  {
   "cell_type": "code",
   "execution_count": 16,
   "metadata": {},
   "outputs": [
    {
     "name": "stdout",
     "output_type": "stream",
     "text": [
      "101 0 100\n"
     ]
    }
   ],
   "source": [
    "# get the special tokens, it is required to use these while encoding in Field\n",
    "init_token = tokenizer.cls_token\n",
    "pad_token = tokenizer.pad_token\n",
    "unk_token = tokenizer.unk_token\n",
    "\n",
    "init_token_idx = tokenizer.convert_tokens_to_ids(init_token)\n",
    "pad_token_idx = tokenizer.convert_tokens_to_ids(pad_token)\n",
    "unk_token_idx = tokenizer.convert_tokens_to_ids(unk_token)\n",
    "\n",
    "print(init_token_idx, pad_token_idx, unk_token_idx)"
   ]
  },
  {
   "cell_type": "code",
   "execution_count": 17,
   "metadata": {},
   "outputs": [],
   "source": [
    "# limit the input tokens to max length - 1, [CLS] is the initial token\n",
    "def convert_to_id(tokens, tokenizer, max_input_length=MAX_LEN):\n",
    "    tokens = tokens[:max_input_length-1]\n",
    "    tokens = [init_token_idx] + tokenizer.convert_tokens_to_ids(tokens)\n",
    "    return tokens\n",
    "\n",
    "def cut_tags(tag, max_input_length=MAX_LEN):\n",
    "    tags = tag[:max_input_length-1]\n",
    "    return tags"
   ]
  },
  {
   "cell_type": "code",
   "execution_count": 18,
   "metadata": {},
   "outputs": [
    {
     "name": "stdout",
     "output_type": "stream",
     "text": [
      "CPU times: user 1.15 s, sys: 20.2 ms, total: 1.18 s\n",
      "Wall time: 1.19 s\n"
     ]
    }
   ],
   "source": [
    "%%time\n",
    "sentences_ids = [convert_to_id(line, tokenizer) for line in sentences]\n",
    "tags = [cut_tags(tag) for tag in tags]"
   ]
  },
  {
   "cell_type": "code",
   "execution_count": 19,
   "metadata": {},
   "outputs": [
    {
     "data": {
      "text/plain": [
       "([101,\n",
       "  26159,\n",
       "  1104,\n",
       "  100,\n",
       "  1138,\n",
       "  9639,\n",
       "  1194,\n",
       "  1498,\n",
       "  1106,\n",
       "  5641,\n",
       "  1103,\n",
       "  1594,\n",
       "  1107,\n",
       "  5008,\n",
       "  1105,\n",
       "  4555,\n",
       "  1103,\n",
       "  10602,\n",
       "  1104,\n",
       "  1418,\n",
       "  2830,\n",
       "  1121,\n",
       "  1115,\n",
       "  1583,\n",
       "  119],\n",
       " ['O',\n",
       "  'O',\n",
       "  'O',\n",
       "  'O',\n",
       "  'O',\n",
       "  'O',\n",
       "  'B-geo',\n",
       "  'O',\n",
       "  'O',\n",
       "  'O',\n",
       "  'O',\n",
       "  'O',\n",
       "  'B-geo',\n",
       "  'O',\n",
       "  'O',\n",
       "  'O',\n",
       "  'O',\n",
       "  'O',\n",
       "  'B-gpe',\n",
       "  'O',\n",
       "  'O',\n",
       "  'O',\n",
       "  'O',\n",
       "  'O'])"
      ]
     },
     "execution_count": 19,
     "metadata": {},
     "output_type": "execute_result"
    }
   ],
   "source": [
    "sentences_ids[0], tags[0]"
   ]
  },
  {
   "cell_type": "code",
   "execution_count": 20,
   "metadata": {},
   "outputs": [],
   "source": [
    "class Vocabulary(object):\n",
    "    def __init__(self):\n",
    "        self.word2idx = {}\n",
    "        self.idx2word = {}\n",
    "        self.idx = 0\n",
    "\n",
    "    def add_word(self, word):\n",
    "        if not word in self.word2idx:\n",
    "            self.word2idx[word] = self.idx\n",
    "            self.idx2word[self.idx] = word\n",
    "            self.idx += 1\n",
    "\n",
    "    def __call__(self, word):\n",
    "        return self.word2idx[word]\n",
    "\n",
    "    def __len__(self):\n",
    "        return len(self.word2idx)"
   ]
  },
  {
   "cell_type": "code",
   "execution_count": 21,
   "metadata": {},
   "outputs": [],
   "source": [
    "def build_vocab(tags, threshold=5):\n",
    "    \"\"\"Build a simple vocabulary wrapper.\"\"\"\n",
    "    counter = Counter(chain(*tags))\n",
    "\n",
    "    # If the word frequency is less than 'threshold', then the word is discarded.\n",
    "    words = [word for word, cnt in counter.items() if cnt >= threshold]\n",
    "\n",
    "    # Create a vocab wrapper and add some special tokens.\n",
    "    vocab = Vocabulary()\n",
    "    vocab.add_word('<pad>')\n",
    "\n",
    "    # Add the words to the vocabulary.\n",
    "    for i, word in enumerate(words):\n",
    "        vocab.add_word(word)\n",
    "    return vocab"
   ]
  },
  {
   "cell_type": "code",
   "execution_count": 22,
   "metadata": {},
   "outputs": [
    {
     "name": "stdout",
     "output_type": "stream",
     "text": [
      "Total vocabulary size: 18\n"
     ]
    }
   ],
   "source": [
    "tags_vocab = build_vocab(tags)\n",
    "print(\"Total vocabulary size: {}\".format(len(tags_vocab)))"
   ]
  },
  {
   "cell_type": "code",
   "execution_count": 23,
   "metadata": {},
   "outputs": [],
   "source": [
    "tags_ids = [[tags_vocab('<pad>')] + [tags_vocab(t) for t in tag] for tag in tags]"
   ]
  },
  {
   "cell_type": "code",
   "execution_count": 24,
   "metadata": {},
   "outputs": [
    {
     "data": {
      "text/plain": [
       "(38367, 4796, 4796)"
      ]
     },
     "execution_count": 24,
     "metadata": {},
     "output_type": "execute_result"
    }
   ],
   "source": [
    "train_sentences, valid_sentences, train_tags, valid_tags = train_test_split(sentences_ids, tags_ids, test_size=0.2, random_state=42)\n",
    "valid_sentences, test_sentences, valid_tags, test_tags = train_test_split(valid_sentences, valid_tags, test_size=0.5, random_state=42)\n",
    "len(train_sentences), len(valid_sentences), len(test_sentences)"
   ]
  },
  {
   "cell_type": "code",
   "execution_count": 25,
   "metadata": {},
   "outputs": [],
   "source": [
    "class NERDataset(data.Dataset):\n",
    "    def __init__(self, sentences, tags):\n",
    "        self.sentences = sentences\n",
    "        self.tags = tags\n",
    "    \n",
    "    def __len__(self):\n",
    "        return len(self.sentences)\n",
    "    \n",
    "    def __getitem__(self, item):\n",
    "        sentence = self.sentences[item]\n",
    "        tag = self.tags[item]\n",
    "\n",
    "        return torch.LongTensor(sentence), torch.LongTensor(tag)"
   ]
  },
  {
   "cell_type": "code",
   "execution_count": 26,
   "metadata": {},
   "outputs": [],
   "source": [
    "train_dataset = NERDataset(train_sentences, train_tags)\n",
    "valid_dataset = NERDataset(valid_sentences, valid_tags)\n",
    "test_dataset = NERDataset(test_sentences, test_tags)"
   ]
  },
  {
   "cell_type": "code",
   "execution_count": 28,
   "metadata": {},
   "outputs": [
    {
     "name": "stdout",
     "output_type": "stream",
     "text": [
      "(tensor([  101,  1375,  3577,   100,  1433,  9667,  1145, 11770,   170,   100,\n",
      "         2565,  1203, 18235, 19470,  7382,   117,  2637,  1106,  2561,   100,\n",
      "         1207,  5448,   119]), tensor([0, 2, 6, 1, 1, 4, 1, 1, 1, 1, 1, 1, 1, 1, 1, 1, 1, 1, 1, 1, 1, 1, 1]))\n"
     ]
    }
   ],
   "source": [
    "print(train_dataset[0])\n",
    "BATCH_SIZE = 64"
   ]
  },
  {
   "cell_type": "code",
   "execution_count": 29,
   "metadata": {},
   "outputs": [],
   "source": [
    "def collate_fn(data):\n",
    "    data.sort(key=lambda x: len(x[0]), reverse=True)\n",
    "    sentences, tags = zip(*data)\n",
    "\n",
    "    # Merge questions (from tuple of 1D tensor to 2D tensor).\n",
    "    sent_lengths = [len(sent) for sent in sentences]\n",
    "    inputs = torch.zeros(len(sentences), max(sent_lengths)).long()\n",
    "    labels = torch.zeros(len(sentences), max(sent_lengths)).long()\n",
    "    \n",
    "    for i, (sent, lab) in enumerate(zip(sentences, tags)):\n",
    "        end = sent_lengths[i]\n",
    "        inputs[i, :end] = sent[:end]\n",
    "        labels[i, :end] = lab[:end]\n",
    "\n",
    "    return inputs, labels"
   ]
  },
  {
   "cell_type": "code",
   "execution_count": 30,
   "metadata": {},
   "outputs": [],
   "source": [
    "train_data_loader = data.DataLoader(train_dataset, BATCH_SIZE, shuffle=True, collate_fn=collate_fn)\n",
    "valid_data_loader = data.DataLoader(valid_dataset, BATCH_SIZE, shuffle=False, collate_fn=collate_fn)\n",
    "test_data_loader = data.DataLoader(test_dataset, BATCH_SIZE, shuffle=False, collate_fn=collate_fn)"
   ]
  },
  {
   "cell_type": "code",
   "execution_count": 31,
   "metadata": {},
   "outputs": [
    {
     "data": {
      "text/plain": [
       "(torch.Size([64, 45]), torch.Size([64, 45]))"
      ]
     },
     "execution_count": 31,
     "metadata": {},
     "output_type": "execute_result"
    }
   ],
   "source": [
    "sample = next(iter(train_data_loader))\n",
    "sample[0].shape, sample[1].shape"
   ]
  },
  {
   "cell_type": "code",
   "execution_count": 32,
   "metadata": {},
   "outputs": [],
   "source": [
    "class NERTagger(nn.Module):\n",
    "    def __init__(self, output_dim, dropout):\n",
    "        super().__init__()\n",
    "        \n",
    "        # bert model\n",
    "        self.bert = BertModel.from_pretrained('bert-base-cased')\n",
    "        \n",
    "        # bert model hidden size\n",
    "        d_model = self.bert.config.to_dict()['hidden_size']\n",
    "        \n",
    "        # prediction layer\n",
    "        self.fc = nn.Linear(d_model, output_dim)\n",
    "        \n",
    "        self.dropout = nn.Dropout(dropout)\n",
    "    \n",
    "    def forward(self, text):\n",
    "        # text => [batch_size, seq_len]\n",
    "\n",
    "        embedded = self.dropout(self.bert(text)[0])\n",
    "        # only take the outputs, pooled output is not required\n",
    "        # embedded => [batch_size, seq_len, d_model]\n",
    "\n",
    "        predictions = self.fc(self.dropout(embedded))\n",
    "        # predictions => [batch_size, seq_len, output_dim]\n",
    "\n",
    "        return predictions"
   ]
  },
  {
   "cell_type": "code",
   "execution_count": 33,
   "metadata": {},
   "outputs": [
    {
     "data": {
      "application/vnd.jupyter.widget-view+json": {
       "model_id": "235f356685734ce6b57fbbc801d002de",
       "version_major": 2,
       "version_minor": 0
      },
      "text/plain": [
       "HBox(children=(FloatProgress(value=0.0, description='Downloading', max=435779157.0, style=ProgressStyle(descri…"
      ]
     },
     "metadata": {},
     "output_type": "display_data"
    },
    {
     "name": "stdout",
     "output_type": "stream",
     "text": [
      "\n"
     ]
    }
   ],
   "source": [
    "OUTPUT_DIM = len(tags_vocab)\n",
    "DROPOUT = 0.4\n",
    "\n",
    "model = NERTagger(OUTPUT_DIM, DROPOUT)"
   ]
  },
  {
   "cell_type": "code",
   "execution_count": 34,
   "metadata": {},
   "outputs": [],
   "source": [
    "model = model.to(device)"
   ]
  },
  {
   "cell_type": "code",
   "execution_count": 35,
   "metadata": {},
   "outputs": [
    {
     "name": "stdout",
     "output_type": "stream",
     "text": [
      "The model has 108,324,114 trainable parameters\n"
     ]
    }
   ],
   "source": [
    "def count_parameters(model):\n",
    "    return sum(p.numel() for p in model.parameters() if p.requires_grad)\n",
    "\n",
    "print(f'The model has {count_parameters(model):,} trainable parameters')"
   ]
  },
  {
   "cell_type": "code",
   "execution_count": 36,
   "metadata": {},
   "outputs": [],
   "source": [
    "LR = 5e-5\n",
    "TAG_PAD_IDX = tags_vocab('<pad>')\n",
    "\n",
    "optimizer = optim.Adam(model.parameters(), lr=LR)\n",
    "criterion = nn.CrossEntropyLoss(ignore_index = TAG_PAD_IDX).to(device)"
   ]
  },
  {
   "cell_type": "code",
   "execution_count": 37,
   "metadata": {},
   "outputs": [],
   "source": [
    "def train(model, iterator, criterion, optimizer):\n",
    "    model.train()\n",
    "\n",
    "    epoch_loss = 0\n",
    "\n",
    "    for batch in iterator:\n",
    "        text = batch[0].to(device)\n",
    "        tags = batch[1].to(device)\n",
    "        # text => [seq_len, batch_size]\n",
    "        # tags => [seq_len, batch_size]\n",
    "\n",
    "        optimizer.zero_grad()\n",
    "\n",
    "        logits = model(text)\n",
    "        # logits => [batch_size, seq_len, output_dim]\n",
    "\n",
    "        logits = logits.view(-1, logits.shape[-1])\n",
    "        # logits => [batch_size * seq_len, output_dim]\n",
    "\n",
    "        tags = tags.view(-1)\n",
    "        # tags => [batch_size * seq_len]\n",
    "\n",
    "        loss = criterion(logits, tags)\n",
    "\n",
    "        loss.backward()\n",
    "        optimizer.step()\n",
    "        \n",
    "        epoch_loss += loss.item()\n",
    "    \n",
    "    return epoch_loss / len(iterator)"
   ]
  },
  {
   "cell_type": "code",
   "execution_count": 38,
   "metadata": {},
   "outputs": [],
   "source": [
    "def evaluate(model, iterator, criterion):\n",
    "    model.eval()\n",
    "\n",
    "    epoch_loss = 0\n",
    "\n",
    "    with torch.no_grad():\n",
    "        for batch in iterator:\n",
    "            text = batch[0].to(device)\n",
    "            tags = batch[1].to(device)\n",
    "            # text => [batch_size, seq_len]\n",
    "            # tags => [batch_size, seq_len]\n",
    "\n",
    "            optimizer.zero_grad()\n",
    "\n",
    "            logits = model(text)\n",
    "            # logits => [batch_size, seq_len, output_dim]\n",
    "\n",
    "            logits = logits.view(-1, logits.shape[-1])\n",
    "            # logits => [batch_size * seq_len, output_dim]\n",
    "\n",
    "            tags = tags.view(-1)\n",
    "            # tags => [batch_size * seq_len]\n",
    "\n",
    "            loss = criterion(logits, tags)\n",
    "            epoch_loss += loss.item()\n",
    "    \n",
    "    return epoch_loss / len(iterator)"
   ]
  },
  {
   "cell_type": "code",
   "execution_count": 39,
   "metadata": {},
   "outputs": [],
   "source": [
    "def epoch_time(start_time, end_time):\n",
    "    elapsed_time = end_time - start_time\n",
    "    elapsed_mins = int(elapsed_time / 60)\n",
    "    elapsed_secs = int(elapsed_time - (elapsed_mins * 60))\n",
    "    return elapsed_mins, elapsed_secs"
   ]
  },
  {
   "cell_type": "code",
   "execution_count": 41,
   "metadata": {},
   "outputs": [
    {
     "name": "stdout",
     "output_type": "stream",
     "text": [
      "Epoch: 01 | Epoch Time: 140m 23s\n",
      "\tTrain Loss: 0.218 | Val. Loss: 0.124\n",
      "Epoch: 02 | Epoch Time: 623m 8s\n",
      "\tTrain Loss: 0.116 | Val. Loss: 0.116\n",
      "Epoch: 03 | Epoch Time: 137m 50s\n",
      "\tTrain Loss: 0.093 | Val. Loss: 0.112\n",
      "Epoch: 04 | Epoch Time: 136m 25s\n",
      "\tTrain Loss: 0.074 | Val. Loss: 0.116\n",
      "Epoch: 05 | Epoch Time: 151m 35s\n",
      "\tTrain Loss: 0.059 | Val. Loss: 0.125\n"
     ]
    }
   ],
   "source": [
    "#N_EPOCHS = 10\n",
    "N_EPOCHS = 5\n",
    "best_valid_loss = float('inf')\n",
    "\n",
    "for epoch in range(N_EPOCHS):\n",
    "\n",
    "    start_time = time.time()\n",
    "    \n",
    "    train_loss = train(model, train_data_loader, criterion, optimizer)\n",
    "    valid_loss = evaluate(model, valid_data_loader, criterion)\n",
    "    \n",
    "    end_time = time.time()\n",
    "\n",
    "    epoch_mins, epoch_secs = epoch_time(start_time, end_time)\n",
    "    \n",
    "    if valid_loss < best_valid_loss:\n",
    "        best_valid_loss = valid_loss\n",
    "        torch.save(model.state_dict(), 'model.pt')\n",
    "    \n",
    "    print(f'Epoch: {epoch+1:02} | Epoch Time: {epoch_mins}m {epoch_secs}s')\n",
    "    print(f'\\tTrain Loss: {train_loss:.3f} | Val. Loss: {valid_loss:.3f}')"
   ]
  },
  {
   "cell_type": "code",
   "execution_count": 42,
   "metadata": {},
   "outputs": [
    {
     "data": {
      "text/plain": [
       "<All keys matched successfully>"
      ]
     },
     "execution_count": 42,
     "metadata": {},
     "output_type": "execute_result"
    }
   ],
   "source": [
    "model.load_state_dict(torch.load('model.pt'))"
   ]
  },
  {
   "cell_type": "code",
   "execution_count": 43,
   "metadata": {},
   "outputs": [],
   "source": [
    "def cal_metrics(iterator):\n",
    "    model.eval()\n",
    "    epoch_loss = 0\n",
    "    fin_outputs = []\n",
    "    fin_targets = []\n",
    "\n",
    "    with torch.no_grad():\n",
    "        for batch in iterator:\n",
    "            text = batch[0].to(device)\n",
    "            tags = batch[1].to(device)\n",
    "            # text => [seq_len, batch_size]\n",
    "            # tags => [seq_len, batch_size]\n",
    "\n",
    "            logits = model(text)\n",
    "            # logits => [seq_len, batch_size, output_dim]\n",
    "\n",
    "            predictions = logits.argmax(-1)\n",
    "\n",
    "            fin_outputs.extend(predictions.detach().cpu().numpy().tolist())\n",
    "            fin_targets.extend(tags.detach().cpu().numpy().tolist())\n",
    "\n",
    "    assert len(fin_outputs) == len(fin_targets)\n",
    "    mlb = MultiLabelBinarizer()\n",
    "    trans_trg = mlb.fit_transform(fin_targets)\n",
    "    trans_pred = mlb.transform(fin_outputs)\n",
    "\n",
    "    cf = metrics.classification_report(trans_trg, trans_pred)\n",
    "    print(cf)"
   ]
  },
  {
   "cell_type": "code",
   "execution_count": 44,
   "metadata": {},
   "outputs": [
    {
     "name": "stdout",
     "output_type": "stream",
     "text": [
      "              precision    recall  f1-score   support\n",
      "\n",
      "           0       0.00      0.00      0.00      4796\n",
      "           1       1.00      1.00      1.00      4795\n",
      "           2       0.52      1.00      0.69      2496\n",
      "           3       0.95      0.93      0.94      1303\n",
      "           4       0.98      0.94      0.96      1688\n",
      "           5       0.85      0.77      0.81      1623\n",
      "           6       0.88      0.79      0.83       595\n",
      "           7       0.90      0.89      0.89      1361\n",
      "           8       0.88      0.96      0.92      1071\n",
      "           9       0.80      0.85      0.82       879\n",
      "          10       0.90      0.79      0.85       395\n",
      "          11       0.33      0.07      0.12        42\n",
      "          12       0.00      0.00      0.00        25\n",
      "          13       0.71      0.42      0.53        12\n",
      "          14       1.00      0.53      0.70        15\n",
      "          15       1.00      0.25      0.40         4\n",
      "          16       0.87      0.42      0.57        31\n",
      "          17       0.50      0.06      0.11        16\n",
      "\n",
      "   micro avg       0.83      0.72      0.77     21147\n",
      "   macro avg       0.73      0.59      0.62     21147\n",
      "weighted avg       0.67      0.72      0.68     21147\n",
      " samples avg       0.80      0.68      0.73     21147\n",
      "\n"
     ]
    },
    {
     "name": "stderr",
     "output_type": "stream",
     "text": [
      "/Users/patsnap/anaconda2/lib/python3.7/site-packages/sklearn/metrics/_classification.py:1221: UndefinedMetricWarning: Precision and F-score are ill-defined and being set to 0.0 in labels with no predicted samples. Use `zero_division` parameter to control this behavior.\n",
      "  _warn_prf(average, modifier, msg_start, len(result))\n"
     ]
    }
   ],
   "source": [
    "cal_metrics(test_data_loader)"
   ]
  }
 ],
 "metadata": {
  "kernelspec": {
   "display_name": "Python 3",
   "language": "python",
   "name": "python3"
  },
  "language_info": {
   "codemirror_mode": {
    "name": "ipython",
    "version": 3
   },
   "file_extension": ".py",
   "mimetype": "text/x-python",
   "name": "python",
   "nbconvert_exporter": "python",
   "pygments_lexer": "ipython3",
   "version": "3.7.5"
  }
 },
 "nbformat": 4,
 "nbformat_minor": 2
}
