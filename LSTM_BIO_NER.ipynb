{
 "cells": [
  {
   "cell_type": "markdown",
   "metadata": {},
   "source": [
    "https://github.com/MuthuJaguar/NER/blob/master/NER.ipynb"
   ]
  },
  {
   "cell_type": "code",
   "execution_count": null,
   "metadata": {},
   "outputs": [],
   "source": [
    "# Need larger data for better fit"
   ]
  },
  {
   "cell_type": "code",
   "execution_count": 1,
   "metadata": {},
   "outputs": [
    {
     "name": "stdout",
     "output_type": "stream",
     "text": [
      "Tensorflow version: 2.3.0\n"
     ]
    }
   ],
   "source": [
    "%matplotlib inline\n",
    "import matplotlib.pyplot as plt\n",
    "import pandas as pd\n",
    "import numpy as np\n",
    "np.random.seed(0)\n",
    "plt.style.use(\"ggplot\")\n",
    "\n",
    "import tensorflow as tf\n",
    "print('Tensorflow version:', tf.__version__)"
   ]
  },
  {
   "cell_type": "code",
   "execution_count": 3,
   "metadata": {},
   "outputs": [
    {
     "data": {
      "text/html": [
       "<div>\n",
       "<style scoped>\n",
       "    .dataframe tbody tr th:only-of-type {\n",
       "        vertical-align: middle;\n",
       "    }\n",
       "\n",
       "    .dataframe tbody tr th {\n",
       "        vertical-align: top;\n",
       "    }\n",
       "\n",
       "    .dataframe thead th {\n",
       "        text-align: right;\n",
       "    }\n",
       "</style>\n",
       "<table border=\"1\" class=\"dataframe\">\n",
       "  <thead>\n",
       "    <tr style=\"text-align: right;\">\n",
       "      <th></th>\n",
       "      <th>Sentence #</th>\n",
       "      <th>Word</th>\n",
       "      <th>POS</th>\n",
       "      <th>Tag</th>\n",
       "    </tr>\n",
       "  </thead>\n",
       "  <tbody>\n",
       "    <tr>\n",
       "      <th>0</th>\n",
       "      <td>Sentence: 1</td>\n",
       "      <td>Saiprasad</td>\n",
       "      <td>NNP</td>\n",
       "      <td>Person</td>\n",
       "    </tr>\n",
       "    <tr>\n",
       "      <th>1</th>\n",
       "      <td>Sentence: 1</td>\n",
       "      <td>23</td>\n",
       "      <td>CD</td>\n",
       "      <td>O</td>\n",
       "    </tr>\n",
       "    <tr>\n",
       "      <th>2</th>\n",
       "      <td>Sentence: 1</td>\n",
       "      <td>years</td>\n",
       "      <td>NNS</td>\n",
       "      <td>O</td>\n",
       "    </tr>\n",
       "    <tr>\n",
       "      <th>3</th>\n",
       "      <td>Sentence: 1</td>\n",
       "      <td>Male</td>\n",
       "      <td>JJ</td>\n",
       "      <td>O</td>\n",
       "    </tr>\n",
       "    <tr>\n",
       "      <th>4</th>\n",
       "      <td>Sentence: 1</td>\n",
       "      <td>Capsule</td>\n",
       "      <td>NNP</td>\n",
       "      <td>Medicine</td>\n",
       "    </tr>\n",
       "    <tr>\n",
       "      <th>5</th>\n",
       "      <td>Sentence: 1</td>\n",
       "      <td>AXL</td>\n",
       "      <td>NNP</td>\n",
       "      <td>Medicine</td>\n",
       "    </tr>\n",
       "    <tr>\n",
       "      <th>6</th>\n",
       "      <td>Sentence: 1</td>\n",
       "      <td>250mg</td>\n",
       "      <td>CD</td>\n",
       "      <td>Dose</td>\n",
       "    </tr>\n",
       "    <tr>\n",
       "      <th>7</th>\n",
       "      <td>Sentence: 1</td>\n",
       "      <td>3</td>\n",
       "      <td>CD</td>\n",
       "      <td>Frequency</td>\n",
       "    </tr>\n",
       "    <tr>\n",
       "      <th>8</th>\n",
       "      <td>Sentence: 1</td>\n",
       "      <td>times</td>\n",
       "      <td>NNS</td>\n",
       "      <td>O</td>\n",
       "    </tr>\n",
       "    <tr>\n",
       "      <th>9</th>\n",
       "      <td>Sentence: 1</td>\n",
       "      <td>a</td>\n",
       "      <td>DT</td>\n",
       "      <td>O</td>\n",
       "    </tr>\n",
       "    <tr>\n",
       "      <th>10</th>\n",
       "      <td>Sentence: 1</td>\n",
       "      <td>day</td>\n",
       "      <td>NN</td>\n",
       "      <td>O</td>\n",
       "    </tr>\n",
       "    <tr>\n",
       "      <th>11</th>\n",
       "      <td>Sentence: 1</td>\n",
       "      <td>for</td>\n",
       "      <td>IN</td>\n",
       "      <td>O</td>\n",
       "    </tr>\n",
       "    <tr>\n",
       "      <th>12</th>\n",
       "      <td>Sentence: 1</td>\n",
       "      <td>5</td>\n",
       "      <td>CD</td>\n",
       "      <td>Frequency</td>\n",
       "    </tr>\n",
       "    <tr>\n",
       "      <th>13</th>\n",
       "      <td>Sentence: 1</td>\n",
       "      <td>days</td>\n",
       "      <td>NNS</td>\n",
       "      <td>O</td>\n",
       "    </tr>\n",
       "    <tr>\n",
       "      <th>14</th>\n",
       "      <td>Sentence: 1</td>\n",
       "      <td>after</td>\n",
       "      <td>IN</td>\n",
       "      <td>O</td>\n",
       "    </tr>\n",
       "    <tr>\n",
       "      <th>15</th>\n",
       "      <td>Sentence: 1</td>\n",
       "      <td>food</td>\n",
       "      <td>NN</td>\n",
       "      <td>Frequency</td>\n",
       "    </tr>\n",
       "    <tr>\n",
       "      <th>16</th>\n",
       "      <td>Sentence: 1</td>\n",
       "      <td>,</td>\n",
       "      <td>,</td>\n",
       "      <td>O</td>\n",
       "    </tr>\n",
       "    <tr>\n",
       "      <th>17</th>\n",
       "      <td>Sentence: 1</td>\n",
       "      <td>Tablet</td>\n",
       "      <td>NNP</td>\n",
       "      <td>Medicine</td>\n",
       "    </tr>\n",
       "    <tr>\n",
       "      <th>18</th>\n",
       "      <td>Sentence: 1</td>\n",
       "      <td>Metrogyl</td>\n",
       "      <td>NNP</td>\n",
       "      <td>Medicine</td>\n",
       "    </tr>\n",
       "    <tr>\n",
       "      <th>19</th>\n",
       "      <td>Sentence: 1</td>\n",
       "      <td>200mg</td>\n",
       "      <td>CD</td>\n",
       "      <td>Dose</td>\n",
       "    </tr>\n",
       "  </tbody>\n",
       "</table>\n",
       "</div>"
      ],
      "text/plain": [
       "     Sentence #       Word  POS        Tag\n",
       "0   Sentence: 1  Saiprasad  NNP     Person\n",
       "1   Sentence: 1         23   CD          O\n",
       "2   Sentence: 1      years  NNS          O\n",
       "3   Sentence: 1       Male   JJ          O\n",
       "4   Sentence: 1    Capsule  NNP   Medicine\n",
       "5   Sentence: 1        AXL  NNP   Medicine\n",
       "6   Sentence: 1      250mg   CD       Dose\n",
       "7   Sentence: 1          3   CD  Frequency\n",
       "8   Sentence: 1      times  NNS          O\n",
       "9   Sentence: 1          a   DT          O\n",
       "10  Sentence: 1        day   NN          O\n",
       "11  Sentence: 1        for   IN          O\n",
       "12  Sentence: 1          5   CD  Frequency\n",
       "13  Sentence: 1       days  NNS          O\n",
       "14  Sentence: 1      after   IN          O\n",
       "15  Sentence: 1       food   NN  Frequency\n",
       "16  Sentence: 1          ,    ,          O\n",
       "17  Sentence: 1     Tablet  NNP   Medicine\n",
       "18  Sentence: 1   Metrogyl  NNP   Medicine\n",
       "19  Sentence: 1      200mg   CD       Dose"
      ]
     },
     "execution_count": 3,
     "metadata": {},
     "output_type": "execute_result"
    }
   ],
   "source": [
    "data = pd.read_csv(\"/Users/sdeshpande/Desktop/bioinformatices/NER-using-CRF-on-Clinical-Prescription/NLP_dataset.csv\")\n",
    "data = data.fillna(method=\"ffill\")\n",
    "data.head(20)"
   ]
  },
  {
   "cell_type": "code",
   "execution_count": 4,
   "metadata": {},
   "outputs": [
    {
     "name": "stdout",
     "output_type": "stream",
     "text": [
      "Unique words in corpus: 80\n",
      "Unique tags in corpus: 5\n"
     ]
    }
   ],
   "source": [
    "print(\"Unique words in corpus:\", data['Word'].nunique())\n",
    "print(\"Unique tags in corpus:\", data['Tag'].nunique())"
   ]
  },
  {
   "cell_type": "code",
   "execution_count": 5,
   "metadata": {},
   "outputs": [],
   "source": [
    "words = list(set(data[\"Word\"].values))\n",
    "words.append(\"ENDPAD\")\n",
    "num_words = len(words)"
   ]
  },
  {
   "cell_type": "code",
   "execution_count": 6,
   "metadata": {},
   "outputs": [],
   "source": [
    "tags = list(set(data[\"Tag\"].values))\n",
    "num_tags = len(tags)"
   ]
  },
  {
   "cell_type": "code",
   "execution_count": 7,
   "metadata": {},
   "outputs": [],
   "source": [
    "class SentenceGetter(object):\n",
    "    def __init__(self, data):\n",
    "        self.n_sent = 1\n",
    "        self.data = data\n",
    "        self.empty = False\n",
    "        agg_func = lambda s: [(w, p, t) for w, p, t in zip(s[\"Word\"].values.tolist(),\n",
    "                                                           s[\"POS\"].values.tolist(),\n",
    "                                                           s[\"Tag\"].values.tolist())]\n",
    "        self.grouped = self.data.groupby(\"Sentence #\").apply(agg_func)\n",
    "        self.sentences = [s for s in self.grouped]\n",
    "    \n",
    "    def get_next(self):\n",
    "        try:\n",
    "            s = self.grouped[\"Sentence: {}\".format(self.n_sent)]\n",
    "            self.n_sent += 1\n",
    "            return s\n",
    "        except:\n",
    "            return None"
   ]
  },
  {
   "cell_type": "code",
   "execution_count": 8,
   "metadata": {},
   "outputs": [],
   "source": [
    "getter = SentenceGetter(data)\n",
    "sentences = getter.sentences"
   ]
  },
  {
   "cell_type": "code",
   "execution_count": 9,
   "metadata": {},
   "outputs": [
    {
     "data": {
      "text/plain": [
       "[('Saiprasad', 'NNP', 'Person'),\n",
       " ('23', 'CD', 'O'),\n",
       " ('years', 'NNS', 'O'),\n",
       " ('Male', 'JJ', 'O'),\n",
       " ('Capsule', 'NNP', 'Medicine'),\n",
       " ('AXL', 'NNP', 'Medicine'),\n",
       " ('250mg', 'CD', 'Dose'),\n",
       " ('3', 'CD', 'Frequency'),\n",
       " ('times', 'NNS', 'O'),\n",
       " ('a', 'DT', 'O'),\n",
       " ('day', 'NN', 'O'),\n",
       " ('for', 'IN', 'O'),\n",
       " ('5', 'CD', 'Frequency'),\n",
       " ('days', 'NNS', 'O'),\n",
       " ('after', 'IN', 'O'),\n",
       " ('food', 'NN', 'Frequency'),\n",
       " (',', ',', 'O'),\n",
       " ('Tablet', 'NNP', 'Medicine'),\n",
       " ('Metrogyl', 'NNP', 'Medicine'),\n",
       " ('200mg', 'CD', 'Dose'),\n",
       " ('3', 'CD', 'Frequency'),\n",
       " ('times', 'NNS', 'O'),\n",
       " ('a', 'DT', 'O'),\n",
       " ('day', 'NN', 'O'),\n",
       " ('for', 'IN', 'O'),\n",
       " ('5', 'CD', 'Frequency'),\n",
       " ('days', 'NNS', 'O'),\n",
       " ('after', 'IN', 'O'),\n",
       " ('food', 'NN', 'Frequency'),\n",
       " (',', ',', 'O'),\n",
       " ('Tablet', 'NNP', 'Medicine'),\n",
       " ('Enzoflam', 'NNP', 'Medicine'),\n",
       " ('390mg', 'CD', 'Dose'),\n",
       " ('3', 'CD', 'Frequency'),\n",
       " ('times', 'NNS', 'O'),\n",
       " ('a', 'DT', 'O'),\n",
       " ('day', 'NN', 'O'),\n",
       " ('for', 'IN', 'O'),\n",
       " ('5', 'CD', 'Frequency'),\n",
       " ('days', 'NNS', 'O'),\n",
       " ('after', 'IN', 'O'),\n",
       " ('food', 'NN', 'Frequency'),\n",
       " (',', ',', 'O'),\n",
       " ('Tablet', 'NNP', 'Medicine'),\n",
       " ('Pan-20', 'NNP', 'Medicine'),\n",
       " ('20mg', 'CD', 'Dose'),\n",
       " ('2', 'CD', 'Frequency'),\n",
       " ('times', 'NNS', 'O'),\n",
       " ('a', 'DT', 'O'),\n",
       " ('day', 'NN', 'O'),\n",
       " ('for', 'IN', 'O'),\n",
       " ('5', 'CD', 'Frequency'),\n",
       " ('days', 'NNS', 'O'),\n",
       " ('before', 'IN', 'O'),\n",
       " ('breakfast', 'NN', 'Frequency'),\n",
       " ('and', 'CC', 'O'),\n",
       " ('dinner', 'NN', 'Frequency'),\n",
       " ('.', '.', 'O')]"
      ]
     },
     "execution_count": 9,
     "metadata": {},
     "output_type": "execute_result"
    }
   ],
   "source": [
    "sentences[0]"
   ]
  },
  {
   "cell_type": "code",
   "execution_count": 10,
   "metadata": {},
   "outputs": [],
   "source": [
    "word2idx = {w: i + 1 for i, w in enumerate(words)}\n",
    "tag2idx = {t: i for i, t in enumerate(tags)}"
   ]
  },
  {
   "cell_type": "code",
   "execution_count": 11,
   "metadata": {},
   "outputs": [
    {
     "data": {
      "text/plain": [
       "{'Female': 1,\n",
       " '100ml': 2,\n",
       " 'Saiprasad': 3,\n",
       " 'times': 4,\n",
       " 'time': 5,\n",
       " 'after': 6,\n",
       " 'Verapamil-SR': 7,\n",
       " 'food': 8,\n",
       " 'breakfast': 9,\n",
       " 'Capsule': 10,\n",
       " 'Tablet': 11,\n",
       " 'before': 12,\n",
       " '35': 13,\n",
       " 'Vitamin ': 14,\n",
       " 'a': 15,\n",
       " 'Dolofer-600': 16,\n",
       " '250mg': 17,\n",
       " 'week': 18,\n",
       " '20mg': 19,\n",
       " '32.5mg': 20,\n",
       " 'triamcinolone': 21,\n",
       " 'once': 22,\n",
       " '22': 23,\n",
       " 'Pan-20': 24,\n",
       " ',': 25,\n",
       " 'Dravid': 26,\n",
       " 'Male': 27,\n",
       " 'years': 28,\n",
       " 'and': 29,\n",
       " 'Shweta': 30,\n",
       " '.': 31,\n",
       " '21': 32,\n",
       " 'SSKI': 33,\n",
       " 'Tendulkar': 34,\n",
       " 'oral': 35,\n",
       " 'Rahul': 36,\n",
       " 'B-complex': 37,\n",
       " 'mouth': 38,\n",
       " 'Azithromycin': 39,\n",
       " '500mg': 40,\n",
       " 'lunch': 41,\n",
       " '7': 42,\n",
       " '(OTC)': 43,\n",
       " '5': 44,\n",
       " '200mg': 45,\n",
       " '23': 46,\n",
       " 'years ': 47,\n",
       " 'Mithali': 48,\n",
       " 'Sachin': 49,\n",
       " 'AXL': 50,\n",
       " 'daily': 51,\n",
       " 'days': 52,\n",
       " 'Paracetamol': 53,\n",
       " 'Alendronate': 54,\n",
       " 'Sunil ': 55,\n",
       " 'Shekhar': 56,\n",
       " '2': 57,\n",
       " 'dinner': 58,\n",
       " 'Pillai': 59,\n",
       " 'Loxapine': 60,\n",
       " 'Metrogyl': 61,\n",
       " 'Syrup': 62,\n",
       " 'solution': 63,\n",
       " 'night': 64,\n",
       " '1': 65,\n",
       " 'Acyclovir': 66,\n",
       " 'sleeping': 67,\n",
       " 'Enzoflam': 68,\n",
       " 'Terphylate': 69,\n",
       " 'Raj': 70,\n",
       " 'by': 71,\n",
       " '47': 72,\n",
       " '0.10%': 73,\n",
       " 'at': 74,\n",
       " '3': 75,\n",
       " 'for': 76,\n",
       " 'cream': 77,\n",
       " '390mg': 78,\n",
       " 'day': 79,\n",
       " '270mg': 80,\n",
       " 'ENDPAD': 81}"
      ]
     },
     "execution_count": 11,
     "metadata": {},
     "output_type": "execute_result"
    }
   ],
   "source": [
    "word2idx"
   ]
  },
  {
   "cell_type": "code",
   "execution_count": 12,
   "metadata": {},
   "outputs": [
    {
     "data": {
      "image/png": "[encoded data removed]",
      "text/plain": [
       "<Figure size 432x288 with 1 Axes>"
      ]
     },
     "metadata": {},
     "output_type": "display_data"
    }
   ],
   "source": [
    "plt.hist([len(s) for s in sentences], bins=50)\n",
    "plt.show()"
   ]
  },
  {
   "cell_type": "code",
   "execution_count": 13,
   "metadata": {},
   "outputs": [],
   "source": [
    "from tensorflow.keras.preprocessing.sequence import pad_sequences\n",
    "\n",
    "max_len = 50\n",
    "\n",
    "X = [[word2idx[w[0]] for w in s] for s in sentences]\n",
    "X = pad_sequences(maxlen=max_len, sequences=X, padding=\"post\", value=num_words-1)\n",
    "\n",
    "y = [[tag2idx[w[2]] for w in s] for s in sentences]\n",
    "y = pad_sequences(maxlen=max_len, sequences=y, padding=\"post\", value=tag2idx[\"O\"])"
   ]
  },
  {
   "cell_type": "code",
   "execution_count": 14,
   "metadata": {},
   "outputs": [],
   "source": [
    "from sklearn.model_selection import train_test_split\n",
    "x_train, x_test, y_train, y_test = train_test_split(X, y, test_size=0.2, random_state=1)"
   ]
  },
  {
   "cell_type": "code",
   "execution_count": 15,
   "metadata": {},
   "outputs": [],
   "source": [
    "from tensorflow.keras import Model, Input\n",
    "from tensorflow.keras.layers import LSTM, Embedding, Dense\n",
    "from tensorflow.keras.layers import TimeDistributed, SpatialDropout1D, Bidirectional"
   ]
  },
  {
   "cell_type": "code",
   "execution_count": 16,
   "metadata": {},
   "outputs": [
    {
     "name": "stdout",
     "output_type": "stream",
     "text": [
      "Model: \"functional_1\"\n",
      "_________________________________________________________________\n",
      "Layer (type)                 Output Shape              Param #   \n",
      "=================================================================\n",
      "input_1 (InputLayer)         [(None, 50)]              0         \n",
      "_________________________________________________________________\n",
      "embedding (Embedding)        (None, 50, 50)            4050      \n",
      "_________________________________________________________________\n",
      "spatial_dropout1d (SpatialDr (None, 50, 50)            0         \n",
      "_________________________________________________________________\n",
      "bidirectional (Bidirectional (None, 50, 200)           120800    \n",
      "_________________________________________________________________\n",
      "time_distributed (TimeDistri (None, 50, 5)             1005      \n",
      "=================================================================\n",
      "Total params: 125,855\n",
      "Trainable params: 125,855\n",
      "Non-trainable params: 0\n",
      "_________________________________________________________________\n"
     ]
    }
   ],
   "source": [
    "input_word = Input(shape=(max_len,))\n",
    "model = Embedding(input_dim=num_words, output_dim=50, input_length=max_len)(input_word)\n",
    "model = SpatialDropout1D(0.1)(model)\n",
    "model = Bidirectional(LSTM(units=100, return_sequences=True, recurrent_dropout=0.1))(model)\n",
    "out = TimeDistributed(Dense(num_tags, activation=\"softmax\"))(model)\n",
    "model = Model(input_word, out)\n",
    "model.summary()"
   ]
  },
  {
   "cell_type": "code",
   "execution_count": 17,
   "metadata": {},
   "outputs": [],
   "source": [
    "model.compile(optimizer=\"adam\",\n",
    "              loss=\"sparse_categorical_crossentropy\",\n",
    "              metrics=[\"accuracy\"])"
   ]
  },
  {
   "cell_type": "code",
   "execution_count": 19,
   "metadata": {},
   "outputs": [
    {
     "name": "stdout",
     "output_type": "stream",
     "text": [
      "Collecting livelossplot\n",
      "  Downloading livelossplot-0.5.3-py3-none-any.whl (30 kB)\n",
      "Requirement already satisfied: bokeh; python_version >= \"3.6\" in /Users/sdeshpande/opt/anaconda3/lib/python3.8/site-packages (from livelossplot) (2.1.1)\n",
      "Requirement already satisfied: ipython in /Users/sdeshpande/opt/anaconda3/lib/python3.8/site-packages (from livelossplot) (7.16.1)\n",
      "Requirement already satisfied: matplotlib; python_version >= \"3.6\" in /Users/sdeshpande/opt/anaconda3/lib/python3.8/site-packages (from livelossplot) (3.2.2)\n",
      "Requirement already satisfied: numpy>=1.11.3 in /Users/sdeshpande/opt/anaconda3/lib/python3.8/site-packages (from bokeh; python_version >= \"3.6\"->livelossplot) (1.19.2)\n",
      "Requirement already satisfied: tornado>=5.1 in /Users/sdeshpande/opt/anaconda3/lib/python3.8/site-packages (from bokeh; python_version >= \"3.6\"->livelossplot) (6.0.4)\n",
      "Requirement already satisfied: typing-extensions>=3.7.4 in /Users/sdeshpande/opt/anaconda3/lib/python3.8/site-packages (from bokeh; python_version >= \"3.6\"->livelossplot) (3.7.4.2)\n",
      "Requirement already satisfied: PyYAML>=3.10 in /Users/sdeshpande/opt/anaconda3/lib/python3.8/site-packages (from bokeh; python_version >= \"3.6\"->livelossplot) (5.3.1)\n",
      "Requirement already satisfied: pillow>=4.0 in /Users/sdeshpande/opt/anaconda3/lib/python3.8/site-packages (from bokeh; python_version >= \"3.6\"->livelossplot) (7.2.0)\n",
      "Requirement already satisfied: Jinja2>=2.7 in /Users/sdeshpande/opt/anaconda3/lib/python3.8/site-packages (from bokeh; python_version >= \"3.6\"->livelossplot) (2.11.2)\n",
      "Requirement already satisfied: python-dateutil>=2.1 in /Users/sdeshpande/opt/anaconda3/lib/python3.8/site-packages (from bokeh; python_version >= \"3.6\"->livelossplot) (2.8.1)\n",
      "Requirement already satisfied: packaging>=16.8 in /Users/sdeshpande/opt/anaconda3/lib/python3.8/site-packages (from bokeh; python_version >= \"3.6\"->livelossplot) (20.4)\n",
      "Requirement already satisfied: pickleshare in /Users/sdeshpande/opt/anaconda3/lib/python3.8/site-packages (from ipython->livelossplot) (0.7.5)\n",
      "Requirement already satisfied: pexpect; sys_platform != \"win32\" in /Users/sdeshpande/opt/anaconda3/lib/python3.8/site-packages (from ipython->livelossplot) (4.8.0)\n",
      "Requirement already satisfied: backcall in /Users/sdeshpande/opt/anaconda3/lib/python3.8/site-packages (from ipython->livelossplot) (0.2.0)\n",
      "Requirement already satisfied: appnope; sys_platform == \"darwin\" in /Users/sdeshpande/opt/anaconda3/lib/python3.8/site-packages (from ipython->livelossplot) (0.1.0)\n",
      "Requirement already satisfied: pygments in /Users/sdeshpande/opt/anaconda3/lib/python3.8/site-packages (from ipython->livelossplot) (2.6.1)\n",
      "Requirement already satisfied: prompt-toolkit!=3.0.0,!=3.0.1,<3.1.0,>=2.0.0 in /Users/sdeshpande/opt/anaconda3/lib/python3.8/site-packages (from ipython->livelossplot) (3.0.5)\n",
      "Requirement already satisfied: jedi>=0.10 in /Users/sdeshpande/opt/anaconda3/lib/python3.8/site-packages (from ipython->livelossplot) (0.17.1)\n",
      "Requirement already satisfied: decorator in /Users/sdeshpande/opt/anaconda3/lib/python3.8/site-packages (from ipython->livelossplot) (4.4.2)\n",
      "Requirement already satisfied: traitlets>=4.2 in /Users/sdeshpande/opt/anaconda3/lib/python3.8/site-packages (from ipython->livelossplot) (4.3.3)\n",
      "Requirement already satisfied: setuptools>=18.5 in /Users/sdeshpande/opt/anaconda3/lib/python3.8/site-packages (from ipython->livelossplot) (49.2.0.post20200714)\n",
      "Requirement already satisfied: pyparsing!=2.0.4,!=2.1.2,!=2.1.6,>=2.0.1 in /Users/sdeshpande/opt/anaconda3/lib/python3.8/site-packages (from matplotlib; python_version >= \"3.6\"->livelossplot) (2.4.7)\n",
      "Requirement already satisfied: kiwisolver>=1.0.1 in /Users/sdeshpande/opt/anaconda3/lib/python3.8/site-packages (from matplotlib; python_version >= \"3.6\"->livelossplot) (1.2.0)\n",
      "Requirement already satisfied: cycler>=0.10 in /Users/sdeshpande/opt/anaconda3/lib/python3.8/site-packages (from matplotlib; python_version >= \"3.6\"->livelossplot) (0.10.0)\n",
      "Requirement already satisfied: MarkupSafe>=0.23 in /Users/sdeshpande/opt/anaconda3/lib/python3.8/site-packages (from Jinja2>=2.7->bokeh; python_version >= \"3.6\"->livelossplot) (1.1.1)\n",
      "Requirement already satisfied: six>=1.5 in /Users/sdeshpande/opt/anaconda3/lib/python3.8/site-packages (from python-dateutil>=2.1->bokeh; python_version >= \"3.6\"->livelossplot) (1.12.0)\n",
      "Requirement already satisfied: ptyprocess>=0.5 in /Users/sdeshpande/opt/anaconda3/lib/python3.8/site-packages (from pexpect; sys_platform != \"win32\"->ipython->livelossplot) (0.6.0)\n",
      "Requirement already satisfied: wcwidth in /Users/sdeshpande/opt/anaconda3/lib/python3.8/site-packages (from prompt-toolkit!=3.0.0,!=3.0.1,<3.1.0,>=2.0.0->ipython->livelossplot) (0.2.5)\n",
      "Requirement already satisfied: parso<0.8.0,>=0.7.0 in /Users/sdeshpande/opt/anaconda3/lib/python3.8/site-packages (from jedi>=0.10->ipython->livelossplot) (0.7.0)\n",
      "Requirement already satisfied: ipython-genutils in /Users/sdeshpande/opt/anaconda3/lib/python3.8/site-packages (from traitlets>=4.2->ipython->livelossplot) (0.2.0)\n",
      "Installing collected packages: livelossplot\n",
      "Successfully installed livelossplot-0.5.3\n"
     ]
    }
   ],
   "source": [
    "!pip install livelossplot"
   ]
  },
  {
   "cell_type": "code",
   "execution_count": 20,
   "metadata": {},
   "outputs": [],
   "source": [
    "from tensorflow.keras.callbacks import ModelCheckpoint, EarlyStopping\n",
    "from livelossplot.tf_keras import PlotLossesCallback"
   ]
  },
  {
   "cell_type": "code",
   "execution_count": 22,
   "metadata": {},
   "outputs": [
    {
     "name": "stdout",
     "output_type": "stream",
     "text": [
      "Epoch 1/3\n",
      "1/1 [==============================] - 0s 344ms/step - loss: 1.6071 - accuracy: 0.2650 - val_loss: 1.5775 - val_accuracy: 0.7200\n",
      "Epoch 2/3\n",
      "1/1 [==============================] - 0s 23ms/step - loss: 1.5827 - accuracy: 0.6450 - val_loss: 1.5503 - val_accuracy: 0.7200\n",
      "Epoch 3/3\n",
      "1/1 [==============================] - 0s 20ms/step - loss: 1.5629 - accuracy: 0.6500 - val_loss: 1.5202 - val_accuracy: 0.7200\n",
      "CPU times: user 3.3 s, sys: 454 ms, total: 3.76 s\n",
      "Wall time: 2.78 s\n"
     ]
    }
   ],
   "source": [
    "%%time\n",
    "\n",
    "chkpt = ModelCheckpoint(\"model_weights.h5\", monitor='val_loss',verbose=1, save_best_only=True, save_weights_only=True, mode='min')\n",
    "\n",
    "early_stopping = EarlyStopping(monitor='val_accuracy', min_delta=0, patience=1, verbose=0, mode='max', baseline=None, restore_best_weights=False)\n",
    "\n",
    "\n",
    "history = model.fit(\n",
    "    x=x_train,\n",
    "    y=y_train,\n",
    "    validation_data=(x_test,y_test),\n",
    "    batch_size=32, \n",
    "    epochs=3,\n",
    "    verbose=1\n",
    ")\n"
   ]
  },
  {
   "cell_type": "code",
   "execution_count": 23,
   "metadata": {},
   "outputs": [
    {
     "name": "stdout",
     "output_type": "stream",
     "text": [
      "1/1 [==============================] - 0s 859us/step - loss: 1.5202 - accuracy: 0.7200\n"
     ]
    },
    {
     "data": {
      "text/plain": [
       "[1.5201752185821533, 0.7200000286102295]"
      ]
     },
     "execution_count": 23,
     "metadata": {},
     "output_type": "execute_result"
    }
   ],
   "source": [
    "model.evaluate(x_test, y_test)"
   ]
  },
  {
   "cell_type": "code",
   "execution_count": 24,
   "metadata": {},
   "outputs": [
    {
     "name": "stdout",
     "output_type": "stream",
     "text": [
      "Word           True \t Pred\n",
      "\n",
      "------------------------------\n",
      "Shweta         Person\tO\n",
      "Shekhar        Person\tO\n",
      "21             O\tO\n",
      "years          O\tO\n",
      "Female         O\tO\n",
      "Tablet         Medicine\tO\n",
      "Paracetamol    Medicine\tO\n",
      "500mg          Dose\tO\n",
      "2              Frequency\tO\n",
      "times          O\tO\n",
      "a              O\tO\n",
      "day            O\tO\n",
      "for            O\tO\n",
      "7              Frequency\tO\n",
      "days           O\tO\n",
      "after          O\tO\n",
      "breakfast      Frequency\tO\n",
      "and            O\tO\n",
      "dinner         Frequency\tO\n",
      ",              O\tO\n",
      "Tablet         Medicine\tO\n",
      "Alendronate    Medicine\tO\n",
      "250mg          Dose\tO\n",
      "1              Frequency\tO\n",
      "time           O\tO\n",
      "a              O\tO\n",
      "day            O\tO\n",
      "for            O\tO\n",
      "5              Frequency\tO\n",
      "days           O\tO\n",
      "after          O\tO\n",
      "dinner         Frequency\tO\n",
      ".              O\tO\n",
      "270mg          O\tO\n",
      "270mg          O\tO\n",
      "270mg          O\tO\n",
      "270mg          O\tO\n",
      "270mg          O\tO\n",
      "270mg          O\tO\n",
      "270mg          O\tO\n",
      "270mg          O\tO\n",
      "270mg          O\tO\n",
      "270mg          O\tO\n",
      "270mg          O\tO\n",
      "270mg          O\tO\n",
      "270mg          O\tO\n",
      "270mg          O\tO\n",
      "270mg          O\tO\n",
      "270mg          O\tO\n",
      "270mg          O\tO\n"
     ]
    }
   ],
   "source": [
    "i = np.random.randint(0, x_test.shape[0]) #659\n",
    "p = model.predict(np.array([x_test[i]]))\n",
    "p = np.argmax(p, axis=-1)\n",
    "y_true = y_test[i]\n",
    "print(\"{:15}{:5}\\t {}\\n\".format(\"Word\", \"True\", \"Pred\"))\n",
    "print(\"-\" *30)\n",
    "for w, true, pred in zip(x_test[i], y_true, p[0]):\n",
    "    print(\"{:15}{}\\t{}\".format(words[w-1], tags[true], tags[pred]))"
   ]
  },
  {
   "cell_type": "code",
   "execution_count": null,
   "metadata": {},
   "outputs": [],
   "source": []
  },
  {
   "cell_type": "code",
   "execution_count": null,
   "metadata": {},
   "outputs": [],
   "source": []
  },
  {
   "cell_type": "code",
   "execution_count": null,
   "metadata": {},
   "outputs": [],
   "source": []
  },
  {
   "cell_type": "code",
   "execution_count": null,
   "metadata": {},
   "outputs": [],
   "source": []
  },
  {
   "cell_type": "code",
   "execution_count": null,
   "metadata": {},
   "outputs": [],
   "source": []
  },
  {
   "cell_type": "code",
   "execution_count": null,
   "metadata": {},
   "outputs": [],
   "source": []
  },
  {
   "cell_type": "code",
   "execution_count": null,
   "metadata": {},
   "outputs": [],
   "source": []
  },
  {
   "cell_type": "code",
   "execution_count": null,
   "metadata": {},
   "outputs": [],
   "source": []
  },
  {
   "cell_type": "code",
   "execution_count": null,
   "metadata": {},
   "outputs": [],
   "source": []
  },
  {
   "cell_type": "code",
   "execution_count": null,
   "metadata": {},
   "outputs": [],
   "source": []
  }
 ],
 "metadata": {
  "kernelspec": {
   "display_name": "Python 3",
   "language": "python",
   "name": "python3"
  },
  "language_info": {
   "codemirror_mode": {
    "name": "ipython",
    "version": 3
   },
   "file_extension": ".py",
   "mimetype": "text/x-python",
   "name": "python",
   "nbconvert_exporter": "python",
   "pygments_lexer": "ipython3",
   "version": "3.8.3"
  }
 },
 "nbformat": 4,
 "nbformat_minor": 4
}
