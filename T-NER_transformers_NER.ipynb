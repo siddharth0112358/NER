{
 "metadata": {
  "language_info": {
   "codemirror_mode": {
    "name": "ipython",
    "version": 3
   },
   "file_extension": ".py",
   "mimetype": "text/x-python",
   "name": "python",
   "nbconvert_exporter": "python",
   "pygments_lexer": "ipython3",
   "version": "3.8.3-final"
  },
  "orig_nbformat": 2,
  "kernelspec": {
   "name": "python3",
   "display_name": "Python 3",
   "language": "python"
  }
 },
 "nbformat": 4,
 "nbformat_minor": 2,
 "cells": [
  {
   "source": [
    "https://github.com/asahi417/tner"
   ],
   "cell_type": "markdown",
   "metadata": {}
  },
  {
   "cell_type": "code",
   "execution_count": 1,
   "metadata": {},
   "outputs": [
    {
     "output_type": "stream",
     "name": "stdout",
     "text": [
      "Collecting git+https://github.com/asahi417/tner\n",
      "  Cloning https://github.com/asahi417/tner to /private/var/folders/z4/zq1sx9z918l822zf41yhflvr0000gn/T/pip-req-build-vjdju2_d\n",
      "  Running command git clone -q https://github.com/asahi417/tner /private/var/folders/z4/zq1sx9z918l822zf41yhflvr0000gn/T/pip-req-build-vjdju2_d\n",
      "Requirement already satisfied: Pillow>=7.1.0 in /Users/sdeshpande/opt/anaconda3/lib/python3.8/site-packages (from tner==0.0.0) (7.2.0)\n",
      "Collecting mecab-python3==0.996.5\n",
      "  Downloading mecab_python3-0.996.5-cp38-cp38-macosx_10_9_x86_64.whl (13.9 MB)\n",
      "\u001b[K     |████████████████████████████████| 13.9 MB 173 kB/s \n",
      "\u001b[?25hCollecting uvicorn==0.11.8\n",
      "  Downloading uvicorn-0.11.8-py3-none-any.whl (43 kB)\n",
      "\u001b[K     |████████████████████████████████| 43 kB 5.2 MB/s \n",
      "\u001b[?25hRequirement already satisfied: jinja2==2.11.2 in /Users/sdeshpande/opt/anaconda3/lib/python3.8/site-packages (from tner==0.0.0) (2.11.2)\n",
      "Collecting aiofiles==0.5.0\n",
      "  Downloading aiofiles-0.5.0-py3-none-any.whl (11 kB)\n",
      "Collecting fastapi==0.61.0\n",
      "  Downloading fastapi-0.61.0-py3-none-any.whl (48 kB)\n",
      "\u001b[K     |████████████████████████████████| 48 kB 16.1 MB/s \n",
      "\u001b[?25hCollecting matplotlib==3.3.1\n",
      "  Downloading matplotlib-3.3.1-cp38-cp38-macosx_10_9_x86_64.whl (8.5 MB)\n",
      "\u001b[K     |████████████████████████████████| 8.5 MB 43.4 MB/s \n",
      "\u001b[?25hRequirement already satisfied: toml in /Users/sdeshpande/opt/anaconda3/lib/python3.8/site-packages (from tner==0.0.0) (0.10.1)\n",
      "Requirement already satisfied: tensorboard in /Users/sdeshpande/opt/anaconda3/lib/python3.8/site-packages (from tner==0.0.0) (2.3.0)\n",
      "Requirement already satisfied: torch in /Users/sdeshpande/opt/anaconda3/lib/python3.8/site-packages (from tner==0.0.0) (1.6.0)\n",
      "Requirement already satisfied: transformers in /Users/sdeshpande/opt/anaconda3/lib/python3.8/site-packages (from tner==0.0.0) (3.3.0)\n",
      "Requirement already satisfied: seqeval in /Users/sdeshpande/opt/anaconda3/lib/python3.8/site-packages (from tner==0.0.0) (0.0.12)\n",
      "Requirement already satisfied: segtok in /Users/sdeshpande/opt/anaconda3/lib/python3.8/site-packages (from tner==0.0.0) (1.5.10)\n",
      "Requirement already satisfied: click==7.* in /Users/sdeshpande/opt/anaconda3/lib/python3.8/site-packages (from uvicorn==0.11.8->tner==0.0.0) (7.1.2)\n",
      "Requirement already satisfied: h11<0.10,>=0.8 in /Users/sdeshpande/opt/anaconda3/lib/python3.8/site-packages (from uvicorn==0.11.8->tner==0.0.0) (0.9.0)\n",
      "Collecting websockets==8.*\n",
      "  Downloading websockets-8.1-cp38-cp38-macosx_10_9_x86_64.whl (64 kB)\n",
      "\u001b[K     |████████████████████████████████| 64 kB 5.4 MB/s \n",
      "\u001b[?25hCollecting uvloop>=0.14.0; sys_platform != \"win32\" and sys_platform != \"cygwin\" and platform_python_implementation != \"PyPy\"\n",
      "  Downloading uvloop-0.14.0-cp38-cp38-macosx_10_11_x86_64.whl (1.5 MB)\n",
      "\u001b[K     |████████████████████████████████| 1.5 MB 34.0 MB/s \n",
      "\u001b[?25hCollecting httptools==0.1.*; sys_platform != \"win32\" and sys_platform != \"cygwin\" and platform_python_implementation != \"PyPy\"\n",
      "  Downloading httptools-0.1.1-cp38-cp38-macosx_10_13_x86_64.whl (102 kB)\n",
      "\u001b[K     |████████████████████████████████| 102 kB 18.6 MB/s \n",
      "\u001b[?25hRequirement already satisfied: MarkupSafe>=0.23 in /Users/sdeshpande/opt/anaconda3/lib/python3.8/site-packages (from jinja2==2.11.2->tner==0.0.0) (1.1.1)\n",
      "Collecting starlette==0.13.6\n",
      "  Downloading starlette-0.13.6-py3-none-any.whl (59 kB)\n",
      "\u001b[K     |████████████████████████████████| 59 kB 4.1 MB/s \n",
      "\u001b[?25hCollecting pydantic<2.0.0,>=1.0.0\n",
      "  Downloading pydantic-1.7.3-cp38-cp38-macosx_10_9_x86_64.whl (2.4 MB)\n",
      "\u001b[K     |████████████████████████████████| 2.4 MB 23.3 MB/s \n",
      "\u001b[?25hRequirement already satisfied: cycler>=0.10 in /Users/sdeshpande/opt/anaconda3/lib/python3.8/site-packages (from matplotlib==3.3.1->tner==0.0.0) (0.10.0)\n",
      "Requirement already satisfied: python-dateutil>=2.1 in /Users/sdeshpande/opt/anaconda3/lib/python3.8/site-packages (from matplotlib==3.3.1->tner==0.0.0) (2.8.1)\n",
      "Requirement already satisfied: numpy>=1.15 in /Users/sdeshpande/opt/anaconda3/lib/python3.8/site-packages (from matplotlib==3.3.1->tner==0.0.0) (1.19.5)\n",
      "Requirement already satisfied: pyparsing!=2.0.4,!=2.1.2,!=2.1.6,>=2.0.3 in /Users/sdeshpande/opt/anaconda3/lib/python3.8/site-packages (from matplotlib==3.3.1->tner==0.0.0) (2.4.7)\n",
      "Requirement already satisfied: certifi>=2020.06.20 in /Users/sdeshpande/opt/anaconda3/lib/python3.8/site-packages (from matplotlib==3.3.1->tner==0.0.0) (2020.6.20)\n",
      "Requirement already satisfied: kiwisolver>=1.0.1 in /Users/sdeshpande/opt/anaconda3/lib/python3.8/site-packages (from matplotlib==3.3.1->tner==0.0.0) (1.2.0)\n",
      "Requirement already satisfied: tensorboard-plugin-wit>=1.6.0 in /Users/sdeshpande/opt/anaconda3/lib/python3.8/site-packages (from tensorboard->tner==0.0.0) (1.7.0)\n",
      "Requirement already satisfied: markdown>=2.6.8 in /Users/sdeshpande/opt/anaconda3/lib/python3.8/site-packages (from tensorboard->tner==0.0.0) (3.2.2)\n",
      "Requirement already satisfied: absl-py>=0.4 in /Users/sdeshpande/opt/anaconda3/lib/python3.8/site-packages (from tensorboard->tner==0.0.0) (0.10.0)\n",
      "Requirement already satisfied: setuptools>=41.0.0 in /Users/sdeshpande/opt/anaconda3/lib/python3.8/site-packages (from tensorboard->tner==0.0.0) (49.2.0.post20200714)\n",
      "Requirement already satisfied: google-auth<2,>=1.6.3 in /Users/sdeshpande/opt/anaconda3/lib/python3.8/site-packages (from tensorboard->tner==0.0.0) (1.22.1)\n",
      "Requirement already satisfied: grpcio>=1.24.3 in /Users/sdeshpande/opt/anaconda3/lib/python3.8/site-packages (from tensorboard->tner==0.0.0) (1.31.0)\n",
      "Requirement already satisfied: wheel>=0.26; python_version >= \"3\" in /Users/sdeshpande/opt/anaconda3/lib/python3.8/site-packages (from tensorboard->tner==0.0.0) (0.34.2)\n",
      "Requirement already satisfied: protobuf>=3.6.0 in /Users/sdeshpande/opt/anaconda3/lib/python3.8/site-packages (from tensorboard->tner==0.0.0) (3.13.0)\n",
      "Requirement already satisfied: google-auth-oauthlib<0.5,>=0.4.1 in /Users/sdeshpande/opt/anaconda3/lib/python3.8/site-packages (from tensorboard->tner==0.0.0) (0.4.1)\n",
      "Requirement already satisfied: six>=1.10.0 in /Users/sdeshpande/opt/anaconda3/lib/python3.8/site-packages (from tensorboard->tner==0.0.0) (1.11.0)\n",
      "Requirement already satisfied: requests<3,>=2.21.0 in /Users/sdeshpande/opt/anaconda3/lib/python3.8/site-packages (from tensorboard->tner==0.0.0) (2.24.0)\n",
      "Requirement already satisfied: werkzeug>=0.11.15 in /Users/sdeshpande/opt/anaconda3/lib/python3.8/site-packages (from tensorboard->tner==0.0.0) (1.0.1)\n",
      "Requirement already satisfied: future in /Users/sdeshpande/opt/anaconda3/lib/python3.8/site-packages (from torch->tner==0.0.0) (0.18.2)\n",
      "Requirement already satisfied: sacremoses in /Users/sdeshpande/opt/anaconda3/lib/python3.8/site-packages (from transformers->tner==0.0.0) (0.0.43)\n",
      "Requirement already satisfied: tqdm>=4.27 in /Users/sdeshpande/opt/anaconda3/lib/python3.8/site-packages (from transformers->tner==0.0.0) (4.50.2)\n",
      "Requirement already satisfied: packaging in /Users/sdeshpande/opt/anaconda3/lib/python3.8/site-packages (from transformers->tner==0.0.0) (20.4)\n",
      "Requirement already satisfied: filelock in /Users/sdeshpande/opt/anaconda3/lib/python3.8/site-packages (from transformers->tner==0.0.0) (3.0.12)\n",
      "Requirement already satisfied: sentencepiece!=0.1.92 in /Users/sdeshpande/opt/anaconda3/lib/python3.8/site-packages (from transformers->tner==0.0.0) (0.1.91)\n",
      "Requirement already satisfied: regex!=2019.12.17 in /Users/sdeshpande/opt/anaconda3/lib/python3.8/site-packages (from transformers->tner==0.0.0) (2020.6.8)\n",
      "Requirement already satisfied: tokenizers==0.8.1.rc2 in /Users/sdeshpande/opt/anaconda3/lib/python3.8/site-packages (from transformers->tner==0.0.0) (0.8.1rc2)\n",
      "Collecting Keras>=2.2.4\n",
      "  Using cached Keras-2.4.3-py2.py3-none-any.whl (36 kB)\n",
      "Requirement already satisfied: rsa<5,>=3.1.4; python_version >= \"3.5\" in /Users/sdeshpande/opt/anaconda3/lib/python3.8/site-packages (from google-auth<2,>=1.6.3->tensorboard->tner==0.0.0) (4.5)\n",
      "Requirement already satisfied: pyasn1-modules>=0.2.1 in /Users/sdeshpande/opt/anaconda3/lib/python3.8/site-packages (from google-auth<2,>=1.6.3->tensorboard->tner==0.0.0) (0.2.8)\n",
      "Requirement already satisfied: cachetools<5.0,>=2.0.0 in /Users/sdeshpande/opt/anaconda3/lib/python3.8/site-packages (from google-auth<2,>=1.6.3->tensorboard->tner==0.0.0) (4.1.1)\n",
      "Requirement already satisfied: requests-oauthlib>=0.7.0 in /Users/sdeshpande/opt/anaconda3/lib/python3.8/site-packages (from google-auth-oauthlib<0.5,>=0.4.1->tensorboard->tner==0.0.0) (1.3.0)\n",
      "Requirement already satisfied: idna<3,>=2.5 in /Users/sdeshpande/opt/anaconda3/lib/python3.8/site-packages (from requests<3,>=2.21.0->tensorboard->tner==0.0.0) (2.10)\n",
      "Requirement already satisfied: urllib3!=1.25.0,!=1.25.1,<1.26,>=1.21.1 in /Users/sdeshpande/opt/anaconda3/lib/python3.8/site-packages (from requests<3,>=2.21.0->tensorboard->tner==0.0.0) (1.25.9)\n",
      "Requirement already satisfied: chardet<4,>=3.0.2 in /Users/sdeshpande/opt/anaconda3/lib/python3.8/site-packages (from requests<3,>=2.21.0->tensorboard->tner==0.0.0) (3.0.4)\n",
      "Requirement already satisfied: joblib in /Users/sdeshpande/opt/anaconda3/lib/python3.8/site-packages (from sacremoses->transformers->tner==0.0.0) (0.16.0)\n",
      "Requirement already satisfied: pyyaml in /Users/sdeshpande/opt/anaconda3/lib/python3.8/site-packages (from Keras>=2.2.4->seqeval->tner==0.0.0) (5.3.1)\n",
      "Requirement already satisfied: scipy>=0.14 in /Users/sdeshpande/opt/anaconda3/lib/python3.8/site-packages (from Keras>=2.2.4->seqeval->tner==0.0.0) (1.4.1)\n",
      "Requirement already satisfied: h5py in /Users/sdeshpande/opt/anaconda3/lib/python3.8/site-packages (from Keras>=2.2.4->seqeval->tner==0.0.0) (2.10.0)\n",
      "Requirement already satisfied: pyasn1>=0.1.3 in /Users/sdeshpande/opt/anaconda3/lib/python3.8/site-packages (from rsa<5,>=3.1.4; python_version >= \"3.5\"->google-auth<2,>=1.6.3->tensorboard->tner==0.0.0) (0.4.8)\n",
      "Requirement already satisfied: oauthlib>=3.0.0 in /Users/sdeshpande/opt/anaconda3/lib/python3.8/site-packages (from requests-oauthlib>=0.7.0->google-auth-oauthlib<0.5,>=0.4.1->tensorboard->tner==0.0.0) (3.1.0)\n",
      "Building wheels for collected packages: tner\n",
      "  Building wheel for tner (setup.py) ... \u001b[?25ldone\n",
      "\u001b[?25h  Created wheel for tner: filename=tner-0.0.0-py3-none-any.whl size=25998 sha256=fd3bba8059fccf96cc5b3f584786433b0d803e763ad16e2a0a24fc9901856162\n",
      "  Stored in directory: /private/var/folders/z4/zq1sx9z918l822zf41yhflvr0000gn/T/pip-ephem-wheel-cache-73_e516w/wheels/9e/9b/f5/b9228d6f5d40c5b5eecda89817bb8444a45d0eb1f279cedeb3\n",
      "Successfully built tner\n",
      "\u001b[31mERROR: pymatgen 2020.8.13 has requirement networkx>=2.2, but you'll have networkx 2.1 which is incompatible.\u001b[0m\n",
      "\u001b[31mERROR: pymatgen 2020.8.13 has requirement scipy>=1.5.0, but you'll have scipy 1.4.1 which is incompatible.\u001b[0m\n",
      "\u001b[31mERROR: matminer 0.6.3 has requirement six>=1.14.0, but you'll have six 1.11.0 which is incompatible.\u001b[0m\n",
      "Installing collected packages: mecab-python3, websockets, uvloop, httptools, uvicorn, aiofiles, starlette, pydantic, fastapi, matplotlib, tner, Keras\n",
      "  Attempting uninstall: matplotlib\n",
      "    Found existing installation: matplotlib 3.2.2\n",
      "    Uninstalling matplotlib-3.2.2:\n",
      "      Successfully uninstalled matplotlib-3.2.2\n",
      "  Attempting uninstall: Keras\n",
      "    Found existing installation: Keras 2.1.2\n",
      "    Uninstalling Keras-2.1.2:\n",
      "      Successfully uninstalled Keras-2.1.2\n",
      "Successfully installed Keras-2.4.3 aiofiles-0.5.0 fastapi-0.61.0 httptools-0.1.1 matplotlib-3.3.1 mecab-python3-0.996.5 pydantic-1.7.3 starlette-0.13.6 tner-0.0.0 uvicorn-0.11.8 uvloop-0.14.0 websockets-8.1\n"
     ]
    }
   ],
   "source": [
    "!pip install git+https://github.com/asahi417/tner"
   ]
  },
  {
   "source": [
    "# Use built-in NER dataset - BioNLP 2004 or BioCreative V CDR for medical dataset"
   ],
   "cell_type": "markdown",
   "metadata": {}
  },
  {
   "cell_type": "code",
   "execution_count": 2,
   "metadata": {},
   "outputs": [],
   "source": [
    "import tner"
   ]
  },
  {
   "cell_type": "code",
   "execution_count": 3,
   "metadata": {},
   "outputs": [
    {
     "output_type": "execute_result",
     "data": {
      "text/plain": [
       "['conll2003',\n",
       " 'wnut2017',\n",
       " 'ontonotes5',\n",
       " 'mit_movie_trivia',\n",
       " 'mit_restaurant',\n",
       " 'fin',\n",
       " 'bionlp2004',\n",
       " 'wiki_ja',\n",
       " 'wiki_news_ja',\n",
       " 'bc5cdr',\n",
       " \"panx_dataset/['ace', 'bg', 'da', 'fur', 'ilo', 'lij', 'mzn', 'qu', 'su', 'vi', 'af', 'bh', 'de', 'fy', 'io', 'lmo', 'nap', 'rm', 'sv', 'vls', 'als', 'bn', 'diq', 'ga', 'is', 'ln', 'nds', 'ro', 'sw', 'vo', 'am', 'bo', 'dv', 'gan', 'it', 'lt', 'ne', 'ru', 'szl', 'wa', 'an', 'br', 'el', 'gd', 'ja', 'lv', 'nl', 'rw', 'ta', 'war', 'ang', 'bs', 'eml', 'gl', 'jbo', 'map-bms', 'nn', 'sa', 'te', 'wuu', 'ar', 'ca', 'en', 'gn', 'jv', 'mg', 'no', 'sah', 'tg', 'xmf', 'arc', 'cbk-zam', 'eo', 'gu', 'ka', 'mhr', 'nov', 'scn', 'th', 'yi', 'arz', 'cdo', 'es', 'hak', 'kk', 'mi', 'oc', 'sco', 'tk', 'yo', 'as', 'ce', 'et', 'he', 'km', 'min', 'or', 'sd', 'tl', 'zea', 'ast', 'ceb', 'eu', 'hi', 'kn', 'mk', 'os', 'sh', 'tr', 'zh-classical', 'ay', 'ckb', 'ext', 'hr', 'ko', 'ml', 'pa', 'si', 'tt', 'zh-min-nan', 'az', 'co', 'fa', 'hsb', 'ksh', 'mn', 'pdc', 'simple', 'ug', 'zh-yue', 'ba', 'crh', 'fi', 'hu', 'ku', 'mr', 'pl', 'sk', 'uk', 'zh', 'bar', 'cs', 'fiu-vro', 'hy', 'ky', 'ms', 'pms', 'sl', 'ur', 'bat-smg', 'csb', 'fo', 'ia', 'la', 'mt', 'pnb', 'so', 'uz', 'be-x-old', 'cv', 'fr', 'id', 'lb', 'mwl', 'ps', 'sq', 'vec', 'be', 'cy', 'frr', 'ig', 'li', 'my', 'pt', 'sr', 'vep']\"]"
      ]
     },
     "metadata": {},
     "execution_count": 3
    }
   ],
   "source": [
    "tner.VALID_DATASET"
   ]
  },
  {
   "source": [
    "# Model fine tuning \n",
    "where transformers_model is a pre-trained model name from https://huggingface.co/models and dataset is a dataset alias (from built-in NER dataset) or path to custom dataset folder explained dataset section. Words tagged with O are outside of named entities and the I-XXX tag is used for words inside a named entity of type XXX. Whenever two entities of type XXX are immediately next to each other, the first word of the second entity will be tagged B-XXX in order to show that it starts another entity. The custom dataset should has train.txt and valid.txt file in a same folder."
   ],
   "cell_type": "markdown",
   "metadata": {}
  },
  {
   "source": [
    "cutom dataset example - \n",
    "train.txt - \n",
    "\n",
    "EU B-ORG\n",
    "\n",
    "rejects O\n",
    "\n",
    "German B-MISC\n",
    "\n",
    "call O\n",
    "\n",
    "to O\n",
    "\n",
    "boycott O\n",
    "\n",
    "British B-MISC\n",
    "\n",
    "lamb O\n",
    "\n",
    ". O\n",
    "\n",
    "\n",
    "and test.txt and/or dev.txt"
   ],
   "cell_type": "markdown",
   "metadata": {}
  },
  {
   "cell_type": "code",
   "execution_count": null,
   "metadata": {},
   "outputs": [],
   "source": [
    "from tner import TrainTransformersNER\n",
    "trainer = TrainTransformersNER(\n",
    "        dataset='bc5cdr',\n",
    "        transformers_model='xlm-roberta-base',\n",
    "        random_seed=1234,\n",
    "        lr=1e-5,\n",
    "        total_step=13000,\n",
    "        warmup_step=700,\n",
    "        weight_decay=1e-7,\n",
    "        batch_size=16,\n",
    "        batch_size_validation=2,\n",
    "        max_seq_length=128,\n",
    "        fp16=False,\n",
    "        max_grad_norm=1.0\n",
    "    )"
   ]
  },
  {
   "cell_type": "code",
   "execution_count": null,
   "metadata": {},
   "outputs": [],
   "source": [
    "trainer.train() # gives u a model checkpoint"
   ]
  },
  {
   "source": [
    "# Model testing"
   ],
   "cell_type": "markdown",
   "metadata": {}
  },
  {
   "cell_type": "code",
   "execution_count": null,
   "metadata": {},
   "outputs": [],
   "source": [
    "from tner import TrainTransformersNER\n",
    "# initialize model instance with model checkpoint\n",
    "trainer = TrainTransformersNER(checkpoint='./ckpt/ontonote5_6bb4fdb286b5e32c068262c2a413639e', batch_size_validation=2)"
   ]
  },
  {
   "cell_type": "code",
   "execution_count": null,
   "metadata": {},
   "outputs": [],
   "source": [
    "# Again, the test_dataset can be a path to custom dataset explained at\n",
    "trainer.test(test_dataset='conll_2003') # test it on testing dataset\n",
    "trainer.test(test_dataset='conll_2003', ignore_entity_type=True)"
   ]
  },
  {
   "source": [
    "Entity span prediction: For better understanding of out-of-domain accuracy, we provide entity span prediction accuracy, which ignores the entity type and compute metrics only on the IOB entity position."
   ],
   "cell_type": "markdown",
   "metadata": {}
  },
  {
   "cell_type": "code",
   "execution_count": null,
   "metadata": {},
   "outputs": [],
   "source": [
    "trainer.test(test_dataset='conll2003', entity_span_prediction=True)"
   ]
  },
  {
   "source": [
    "# Model Inference API"
   ],
   "cell_type": "markdown",
   "metadata": {}
  },
  {
   "cell_type": "code",
   "execution_count": null,
   "metadata": {},
   "outputs": [],
   "source": [
    "import tner\n",
    "classifier = tner.TransformersNER(checkpoint='path-to-checkpoint-dir')\n",
    "test_sentences = [\n",
    "    'I live in United States, but Microsoft asks me to move to Japan.',\n",
    "    'I have an Apple computer.',\n",
    "    'I like to eat an apple.'\n",
    "]\n",
    "classifier.predict(test_sentences)"
   ]
  }
 ]
}