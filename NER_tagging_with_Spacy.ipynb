{
 "cells": [
  {
   "cell_type": "code",
   "execution_count": 1,
   "metadata": {},
   "outputs": [],
   "source": [
    "import random\n",
    "import spacy\n",
    "\n",
    "from spacy import displacy\n",
    "from spacy.util import minibatch, compounding"
   ]
  },
  {
   "cell_type": "code",
   "execution_count": 2,
   "metadata": {},
   "outputs": [],
   "source": [
    "nlp = spacy.load(\"en_core_web_sm\")"
   ]
  },
  {
   "cell_type": "code",
   "execution_count": 3,
   "metadata": {},
   "outputs": [
    {
     "data": {
      "text/plain": [
       "['tagger', 'parser', 'ner']"
      ]
     },
     "execution_count": 3,
     "metadata": {},
     "output_type": "execute_result"
    }
   ],
   "source": [
    "nlp.pipe_names"
   ]
  },
  {
   "cell_type": "code",
   "execution_count": 4,
   "metadata": {},
   "outputs": [],
   "source": [
    "doc = nlp(\"Australia wants to force Facebook and Google to pay media companies for news\")"
   ]
  },
  {
   "cell_type": "code",
   "execution_count": 5,
   "metadata": {},
   "outputs": [
    {
     "name": "stdout",
     "output_type": "stream",
     "text": [
      "Australia 0 9 GPE\n",
      "Facebook 25 33 ORG\n",
      "Google 38 44 ORG\n"
     ]
    }
   ],
   "source": [
    "for ent in doc.ents:\n",
    "    print(ent.text, ent.start_char, ent.end_char, ent.label_)"
   ]
  },
  {
   "cell_type": "code",
   "execution_count": 6,
   "metadata": {},
   "outputs": [
    {
     "data": {
      "text/html": [
       "<span class=\"tex2jax_ignore\"><div class=\"entities\" style=\"line-height: 2.5; direction: ltr\">\n",
       "<mark class=\"entity\" style=\"background: #feca74; padding: 0.45em 0.6em; margin: 0 0.25em; line-height: 1; border-radius: 0.35em;\">\n",
       "    Australia\n",
       "    <span style=\"font-size: 0.8em; font-weight: bold; line-height: 1; border-radius: 0.35em; text-transform: uppercase; vertical-align: middle; margin-left: 0.5rem\">GPE</span>\n",
       "</mark>\n",
       " wants to force \n",
       "<mark class=\"entity\" style=\"background: #7aecec; padding: 0.45em 0.6em; margin: 0 0.25em; line-height: 1; border-radius: 0.35em;\">\n",
       "    Facebook\n",
       "    <span style=\"font-size: 0.8em; font-weight: bold; line-height: 1; border-radius: 0.35em; text-transform: uppercase; vertical-align: middle; margin-left: 0.5rem\">ORG</span>\n",
       "</mark>\n",
       " and \n",
       "<mark class=\"entity\" style=\"background: #7aecec; padding: 0.45em 0.6em; margin: 0 0.25em; line-height: 1; border-radius: 0.35em;\">\n",
       "    Google\n",
       "    <span style=\"font-size: 0.8em; font-weight: bold; line-height: 1; border-radius: 0.35em; text-transform: uppercase; vertical-align: middle; margin-left: 0.5rem\">ORG</span>\n",
       "</mark>\n",
       " to pay media companies for news</div></span>"
      ],
      "text/plain": [
       "<IPython.core.display.HTML object>"
      ]
     },
     "metadata": {},
     "output_type": "display_data"
    }
   ],
   "source": [
    "displacy.render(nlp(doc.text), style=\"ent\", jupyter=True)"
   ]
  },
  {
   "cell_type": "code",
   "execution_count": 7,
   "metadata": {},
   "outputs": [
    {
     "data": {
      "text/html": [
       "<span class=\"tex2jax_ignore\"><div class=\"entities\" style=\"line-height: 2.5; direction: ltr\">A little less than a decade later, \n",
       "<mark class=\"entity\" style=\"background: #e4e7d2; padding: 0.45em 0.6em; margin: 0 0.25em; line-height: 1; border-radius: 0.35em;\">\n",
       "    dozens\n",
       "    <span style=\"font-size: 0.8em; font-weight: bold; line-height: 1; border-radius: 0.35em; text-transform: uppercase; vertical-align: middle; margin-left: 0.5rem\">CARDINAL</span>\n",
       "</mark>\n",
       " of self-driving startups have cropped up while automakers around the world clamor</div></span>"
      ],
      "text/plain": [
       "<IPython.core.display.HTML object>"
      ]
     },
     "metadata": {},
     "output_type": "display_data"
    }
   ],
   "source": [
    "doc = nlp(\"A little less than a decade later, dozens of self-driving startups have cropped up while automakers around the world clamor\")\n",
    "displacy.render(nlp(doc.text), style=\"ent\", jupyter=True)"
   ]
  },
  {
   "cell_type": "code",
   "execution_count": 8,
   "metadata": {},
   "outputs": [
    {
     "data": {
      "text/html": [
       "<span class=\"tex2jax_ignore\"><div class=\"entities\" style=\"line-height: 2.5; direction: ltr\">I am working at \n",
       "<mark class=\"entity\" style=\"background: #7aecec; padding: 0.45em 0.6em; margin: 0 0.25em; line-height: 1; border-radius: 0.35em;\">\n",
       "    Microsoft\n",
       "    <span style=\"font-size: 0.8em; font-weight: bold; line-height: 1; border-radius: 0.35em; text-transform: uppercase; vertical-align: middle; margin-left: 0.5rem\">ORG</span>\n",
       "</mark>\n",
       " from \n",
       "<mark class=\"entity\" style=\"background: #bfe1d9; padding: 0.45em 0.6em; margin: 0 0.25em; line-height: 1; border-radius: 0.35em;\">\n",
       "    27/07/2017\n",
       "    <span style=\"font-size: 0.8em; font-weight: bold; line-height: 1; border-radius: 0.35em; text-transform: uppercase; vertical-align: middle; margin-left: 0.5rem\">DATE</span>\n",
       "</mark>\n",
       "</div></span>"
      ],
      "text/plain": [
       "<IPython.core.display.HTML object>"
      ]
     },
     "metadata": {},
     "output_type": "display_data"
    }
   ],
   "source": [
    "doc = nlp(\"I am working at Microsoft from 27/07/2017\")\n",
    "displacy.render(nlp(doc.text), style=\"ent\", jupyter=True)"
   ]
  },
  {
   "cell_type": "code",
   "execution_count": 9,
   "metadata": {},
   "outputs": [],
   "source": [
    "doc = nlp(\"I do not have money to pay my credit card account\")"
   ]
  },
  {
   "cell_type": "code",
   "execution_count": 10,
   "metadata": {},
   "outputs": [],
   "source": [
    "for ent in doc.ents:\n",
    "    print(ent.text, ent.start_char, ent.end_char, ent.label_)"
   ]
  },
  {
   "cell_type": "code",
   "execution_count": 11,
   "metadata": {},
   "outputs": [],
   "source": [
    "doc = nlp(\"what is the process to open a new saving account\")"
   ]
  },
  {
   "cell_type": "code",
   "execution_count": 12,
   "metadata": {},
   "outputs": [],
   "source": [
    "for ent in doc.ents:\n",
    "    print(ent.text, ent.start_char, ent.end_char, ent.label_)"
   ]
  },
  {
   "cell_type": "code",
   "execution_count": 13,
   "metadata": {},
   "outputs": [],
   "source": [
    "train = [\n",
    "    (\"Money transfer from my checking account is not working\", {\"entities\": [(6, 13, \"ACTIVITY\"), (23, 39, \"SERVICE\")]}),\n",
    "    (\"I want to check balance in my savings account\", {\"entities\": [(16, 23, \"ACTIVITY\"), (30, 45, \"SERVICE\")]}),\n",
    "    (\"I suspect a fraud in my credit card account\", {\"entities\": [(12, 17, \"ACTIVITY\"), (24, 35, \"SERVICE\")]}),\n",
    "    (\"I am here for opening a new savings account\", {\"entities\": [(14, 21, \"ACTIVITY\"), (28, 43, \"SERVICE\")]}),\n",
    "    (\"Your mortage is in delinquent status\", {\"entities\": [(20, 30, \"ACTIVITY\"), (5, 13, \"SERVICE\")]}),\n",
    "    (\"Your credit card is in past due status\", {\"entities\": [(23, 31, \"ACTIVITY\"), (5, 16, \"SERVICE\")]}),\n",
    "    (\"My loan account is still not approved and funded\", {\"entities\": [(25, 37, \"ACTIVITY\"), (3, 15, \"SERVICE\"), (42, 48, \"ACTIVITY\")]}),\n",
    "    (\"How do I open a new loan account\", {\"entities\": [(9, 13, \"ACTIVITY\"), (20, 32, \"SERVICE\")]}),\n",
    "    (\"what are the charges on Investment account\", {\"entities\": [(13, 20, \"ACTIVITY\"), (24, 42, \"SERVICE\")]}),\n",
    "    (\"Can you explain late charges on my credit card\", {\"entities\": [(21, 28, \"ACTIVITY\"), (35, 46, \"SERVICE\")]}),\n",
    "    (\"I want to open a new loan account\", {\"entities\": [(10, 14, \"ACTIVITY\"), (21, 33, \"SERVICE\")]}),\n",
    "    (\"Can you help updating payment on my credit card\", {\"entities\": [(22, 29, \"ACTIVITY\"), (36, 47, \"SERVICE\")]}),\n",
    "    (\"When is the payment due date on my card\", {\"entities\": [(12, 19, \"ACTIVITY\"), (35, 39, \"SERVICE\")]})\n",
    "]"
   ]
  },
  {
   "cell_type": "code",
   "execution_count": 14,
   "metadata": {},
   "outputs": [],
   "source": [
    "# get the ner pipeline\n",
    "ner = nlp.get_pipe(\"ner\")"
   ]
  },
  {
   "cell_type": "code",
   "execution_count": 15,
   "metadata": {},
   "outputs": [],
   "source": [
    "# add the labels to ner pipeline\n",
    "for _, annotations in train:\n",
    "    for ent in annotations.get(\"entities\"):\n",
    "        ner.add_label(ent[2])"
   ]
  },
  {
   "cell_type": "code",
   "execution_count": 16,
   "metadata": {},
   "outputs": [],
   "source": [
    "# disable other pipelines, since we are only training NER\n",
    "disable_pipes = [pipe for pipe in nlp.pipe_names if pipe != 'ner']"
   ]
  },
  {
   "cell_type": "code",
   "execution_count": 17,
   "metadata": {},
   "outputs": [
    {
     "name": "stderr",
     "output_type": "stream",
     "text": [
      "/Users/patsnap/anaconda2/lib/python3.7/site-packages/spacy/language.py:482: UserWarning: [W030] Some entities could not be aligned in the text \"Your mortage is in delinquent status\" with entities \"[(20, 30, 'ACTIVITY'), (5, 13, 'SERVICE')]\". Use `spacy.gold.biluo_tags_from_offsets(nlp.make_doc(text), entities)` to check the alignment. Misaligned entities ('-') will be ignored during training.\n",
      "  gold = GoldParse(doc, **gold)\n",
      "/Users/patsnap/anaconda2/lib/python3.7/site-packages/spacy/language.py:482: UserWarning: [W030] Some entities could not be aligned in the text \"Money transfer from my checking account is not wor...\" with entities \"[(6, 13, 'ACTIVITY'), (23, 39, 'SERVICE')]\". Use `spacy.gold.biluo_tags_from_offsets(nlp.make_doc(text), entities)` to check the alignment. Misaligned entities ('-') will be ignored during training.\n",
      "  gold = GoldParse(doc, **gold)\n"
     ]
    },
    {
     "name": "stdout",
     "output_type": "stream",
     "text": [
      "Losses: {'ner': 100.71093436330844}\n",
      "Losses: {'ner': 122.41120285630247}\n",
      "Losses: {'ner': 103.8089513879051}\n",
      "Losses: {'ner': 105.45337385661696}\n",
      "Losses: {'ner': 97.87823971917987}\n",
      "Losses: {'ner': 83.07547397495364}\n",
      "Losses: {'ner': 102.02442360681016}\n",
      "Losses: {'ner': 98.99996892976924}\n",
      "Losses: {'ner': 102.9022340408992}\n",
      "Losses: {'ner': 80.93175452461583}\n",
      "Losses: {'ner': 91.59616170730442}\n",
      "Losses: {'ner': 91.4254884137772}\n",
      "Losses: {'ner': 88.89890713547356}\n",
      "Losses: {'ner': 90.1629876664374}\n",
      "Losses: {'ner': 91.32173850946128}\n",
      "Losses: {'ner': 89.65925266314298}\n",
      "Losses: {'ner': 87.64519623224624}\n",
      "Losses: {'ner': 82.24141556274844}\n",
      "Losses: {'ner': 77.15951113209303}\n",
      "Losses: {'ner': 88.71789869840723}\n",
      "Losses: {'ner': 75.59164459252497}\n",
      "Losses: {'ner': 86.82372440415202}\n",
      "Losses: {'ner': 84.85971103869088}\n",
      "Losses: {'ner': 87.21562957260176}\n",
      "Losses: {'ner': 86.03731005222653}\n",
      "Losses: {'ner': 82.20659529053955}\n",
      "Losses: {'ner': 98.84115327009931}\n",
      "Losses: {'ner': 94.94889551450615}\n",
      "Losses: {'ner': 80.56988262507366}\n",
      "Losses: {'ner': 88.05246436668676}\n",
      "Losses: {'ner': 76.98281067996868}\n",
      "Losses: {'ner': 88.1787714487873}\n",
      "Losses: {'ner': 85.91066721559037}\n",
      "Losses: {'ner': 90.04325081582647}\n",
      "Losses: {'ner': 88.12249609320133}\n",
      "Losses: {'ner': 76.9926752110041}\n",
      "Losses: {'ner': 95.08912510721711}\n",
      "Losses: {'ner': 91.44786147336094}\n",
      "Losses: {'ner': 88.18077826396348}\n",
      "Losses: {'ner': 88.32423145603389}\n",
      "Losses: {'ner': 89.25015044159954}\n",
      "Losses: {'ner': 85.58929640073893}\n",
      "Losses: {'ner': 91.37925453321805}\n",
      "Losses: {'ner': 95.04722408956877}\n",
      "Losses: {'ner': 87.16290016692801}\n",
      "Losses: {'ner': 83.72338405893493}\n",
      "Losses: {'ner': 83.9553877967665}\n",
      "Losses: {'ner': 86.43660742594977}\n",
      "Losses: {'ner': 85.4861293676604}\n",
      "Losses: {'ner': 80.87297688255512}\n",
      "Losses: {'ner': 90.5881533861616}\n",
      "Losses: {'ner': 87.20769801749339}\n",
      "Losses: {'ner': 91.07020478847227}\n",
      "Losses: {'ner': 90.26974968031573}\n",
      "Losses: {'ner': 86.43457784997008}\n",
      "Losses: {'ner': 81.71342604068764}\n",
      "Losses: {'ner': 76.75526951196798}\n",
      "Losses: {'ner': 68.4084397745577}\n",
      "Losses: {'ner': 92.86264675586312}\n",
      "Losses: {'ner': 77.37336301965138}\n",
      "Losses: {'ner': 79.03711726676147}\n",
      "Losses: {'ner': 72.46675706415135}\n",
      "Losses: {'ner': 89.64761161688511}\n",
      "Losses: {'ner': 86.39569580906209}\n",
      "Losses: {'ner': 85.56167725438229}\n",
      "Losses: {'ner': 84.50792155998352}\n",
      "Losses: {'ner': 89.2060848903966}\n",
      "Losses: {'ner': 82.82441781570314}\n",
      "Losses: {'ner': 90.74730266873848}\n",
      "Losses: {'ner': 82.68626524324645}\n",
      "Losses: {'ner': 82.45722318722983}\n",
      "Losses: {'ner': 71.2096909528932}\n",
      "Losses: {'ner': 82.15839440789296}\n",
      "Losses: {'ner': 87.41402841428135}\n",
      "Losses: {'ner': 78.48773347700626}\n",
      "Losses: {'ner': 80.05863822137326}\n",
      "Losses: {'ner': 70.17718983319855}\n",
      "Losses: {'ner': 82.12208286751064}\n",
      "Losses: {'ner': 70.90219126554621}\n",
      "Losses: {'ner': 87.38769937728557}\n",
      "Losses: {'ner': 77.88776244094333}\n",
      "Losses: {'ner': 72.51393533760711}\n",
      "Losses: {'ner': 74.55020704046069}\n",
      "Losses: {'ner': 86.99983994812828}\n",
      "Losses: {'ner': 85.73424127063959}\n",
      "Losses: {'ner': 78.32632245555772}\n",
      "Losses: {'ner': 77.06452936991991}\n",
      "Losses: {'ner': 82.12633681124862}\n",
      "Losses: {'ner': 78.35918848143046}\n",
      "Losses: {'ner': 83.29881984691065}\n",
      "Losses: {'ner': 73.99506243530595}\n",
      "Losses: {'ner': 82.35251558231454}\n",
      "Losses: {'ner': 87.8361000201694}\n",
      "Losses: {'ner': 93.63547990843654}\n",
      "Losses: {'ner': 89.9648583598755}\n",
      "Losses: {'ner': 80.29268919018796}\n",
      "Losses: {'ner': 72.25900524295866}\n",
      "Losses: {'ner': 88.97195567396375}\n",
      "Losses: {'ner': 82.51046949477677}\n",
      "Losses: {'ner': 82.31030710669438}\n"
     ]
    }
   ],
   "source": [
    "with nlp.disable_pipes(*disable_pipes):\n",
    "    # resumes from the previous learning\n",
    "    optimizer = nlp.resume_training()\n",
    "    \n",
    "    # run for 100 iterations\n",
    "    for iteration in range(100):\n",
    "        # randomly shuffle the data\n",
    "        random.shuffle(train)\n",
    "        losses = {}\n",
    "\n",
    "        # create minibatches for training\n",
    "        batches = minibatch(train, size=compounding(1.0, 4.0, 1.001))\n",
    "        for batch in batches:\n",
    "            text, annotation = zip(*batch)\n",
    "            nlp.update(\n",
    "                text,\n",
    "                annotation,\n",
    "                drop=0.5,\n",
    "                losses=losses,\n",
    "                sgd=optimizer\n",
    "            )\n",
    "        print(f\"Losses: {losses}\")"
   ]
  },
  {
   "cell_type": "code",
   "execution_count": 18,
   "metadata": {},
   "outputs": [
    {
     "name": "stdout",
     "output_type": "stream",
     "text": [
      "Text: My loan account is still not approved and funded | entites: {'entities': [(25, 37, 'ACTIVITY'), (3, 15, 'SERVICE'), (42, 48, 'ACTIVITY')]}\n",
      "\tActual: [('not approved', 'ACTIVITY'), ('loan account', 'SERVICE'), ('funded', 'ACTIVITY')]\n",
      "\tPredicted: [('loan account', 'SERVICE')]\n",
      "Text: I am here for opening a new savings account | entites: {'entities': [(14, 21, 'ACTIVITY'), (28, 43, 'SERVICE')]}\n",
      "\tActual: [('opening', 'ACTIVITY'), ('savings account', 'SERVICE')]\n",
      "\tPredicted: [('opening', 'ACTIVITY'), ('savings account', 'SERVICE')]\n",
      "Text: Money transfer from my checking account is not working | entites: {'entities': [(6, 13, 'ACTIVITY'), (23, 39, 'SERVICE')]}\n",
      "\tActual: [('transfe', 'ACTIVITY'), ('checking account', 'SERVICE')]\n",
      "\tPredicted: [('checking account', 'SERVICE')]\n",
      "Text: Your credit card is in past due status | entites: {'entities': [(23, 31, 'ACTIVITY'), (5, 16, 'SERVICE')]}\n",
      "\tActual: [('past due', 'ACTIVITY'), ('credit card', 'SERVICE')]\n",
      "\tPredicted: [('credit card', 'SERVICE')]\n",
      "Text: I want to open a new loan account | entites: {'entities': [(10, 14, 'ACTIVITY'), (21, 33, 'SERVICE')]}\n",
      "\tActual: [('open', 'ACTIVITY'), ('loan account', 'SERVICE')]\n",
      "\tPredicted: [('open', 'ACTIVITY'), ('loan account', 'SERVICE')]\n",
      "Text: When is the payment due date on my card | entites: {'entities': [(12, 19, 'ACTIVITY'), (35, 39, 'SERVICE')]}\n",
      "\tActual: [('payment', 'ACTIVITY'), ('card', 'SERVICE')]\n",
      "\tPredicted: [('payment', 'ACTIVITY')]\n",
      "Text: I suspect a fraud in my credit card account | entites: {'entities': [(12, 17, 'ACTIVITY'), (24, 35, 'SERVICE')]}\n",
      "\tActual: [('fraud', 'ACTIVITY'), ('credit card', 'SERVICE')]\n",
      "\tPredicted: [('fraud', 'ACTIVITY'), ('credit card', 'SERVICE')]\n",
      "Text: How do I open a new loan account | entites: {'entities': [(9, 13, 'ACTIVITY'), (20, 32, 'SERVICE')]}\n",
      "\tActual: [('open', 'ACTIVITY'), ('loan account', 'SERVICE')]\n",
      "\tPredicted: [('open', 'ACTIVITY'), ('loan account', 'SERVICE')]\n",
      "Text: I want to check balance in my savings account | entites: {'entities': [(16, 23, 'ACTIVITY'), (30, 45, 'SERVICE')]}\n",
      "\tActual: [('balance', 'ACTIVITY'), ('savings account', 'SERVICE')]\n",
      "\tPredicted: [('balance', 'ACTIVITY'), ('savings account', 'SERVICE')]\n",
      "Text: Can you help updating payment on my credit card | entites: {'entities': [(22, 29, 'ACTIVITY'), (36, 47, 'SERVICE')]}\n",
      "\tActual: [('payment', 'ACTIVITY'), ('credit card', 'SERVICE')]\n",
      "\tPredicted: [('payment', 'ACTIVITY'), ('credit card', 'SERVICE')]\n",
      "Text: Can you explain late charges on my credit card | entites: {'entities': [(21, 28, 'ACTIVITY'), (35, 46, 'SERVICE')]}\n",
      "\tActual: [('charges', 'ACTIVITY'), ('credit card', 'SERVICE')]\n",
      "\tPredicted: [('charges', 'ACTIVITY'), ('credit card', 'SERVICE')]\n",
      "Text: what are the charges on Investment account | entites: {'entities': [(13, 20, 'ACTIVITY'), (24, 42, 'SERVICE')]}\n",
      "\tActual: [('charges', 'ACTIVITY'), ('Investment account', 'SERVICE')]\n",
      "\tPredicted: [('charges', 'ACTIVITY'), ('Investment account', 'SERVICE')]\n",
      "Text: Your mortage is in delinquent status | entites: {'entities': [(20, 30, 'ACTIVITY'), (5, 13, 'SERVICE')]}\n",
      "\tActual: [('elinquent ', 'ACTIVITY'), ('mortage ', 'SERVICE')]\n",
      "\tPredicted: []\n"
     ]
    }
   ],
   "source": [
    "for text, entities in train:\n",
    "    doc = nlp(text)\n",
    "    print(f\"Text: {text} | entites: {entities}\")\n",
    "    print(f\"\\tActual: {[(text[ent[0]: ent[1]], ent[2]) for ent in entities['entities']]}\")\n",
    "    print(f\"\\tPredicted: {[(ent.text, ent.label_) for ent in doc.ents]}\")"
   ]
  },
  {
   "cell_type": "code",
   "execution_count": 19,
   "metadata": {},
   "outputs": [
    {
     "data": {
      "text/html": [
       "<span class=\"tex2jax_ignore\"><div class=\"entities\" style=\"line-height: 2.5; direction: ltr\">My \n",
       "<mark class=\"entity\" style=\"background: #ddd; padding: 0.45em 0.6em; margin: 0 0.25em; line-height: 1; border-radius: 0.35em;\">\n",
       "    loan account\n",
       "    <span style=\"font-size: 0.8em; font-weight: bold; line-height: 1; border-radius: 0.35em; text-transform: uppercase; vertical-align: middle; margin-left: 0.5rem\">SERVICE</span>\n",
       "</mark>\n",
       " is still not approved and funded</div></span>"
      ],
      "text/plain": [
       "<IPython.core.display.HTML object>"
      ]
     },
     "metadata": {},
     "output_type": "display_data"
    },
    {
     "data": {
      "text/html": [
       "<span class=\"tex2jax_ignore\"><div class=\"entities\" style=\"line-height: 2.5; direction: ltr\">I am here for \n",
       "<mark class=\"entity\" style=\"background: #ddd; padding: 0.45em 0.6em; margin: 0 0.25em; line-height: 1; border-radius: 0.35em;\">\n",
       "    opening\n",
       "    <span style=\"font-size: 0.8em; font-weight: bold; line-height: 1; border-radius: 0.35em; text-transform: uppercase; vertical-align: middle; margin-left: 0.5rem\">ACTIVITY</span>\n",
       "</mark>\n",
       " a new \n",
       "<mark class=\"entity\" style=\"background: #ddd; padding: 0.45em 0.6em; margin: 0 0.25em; line-height: 1; border-radius: 0.35em;\">\n",
       "    savings account\n",
       "    <span style=\"font-size: 0.8em; font-weight: bold; line-height: 1; border-radius: 0.35em; text-transform: uppercase; vertical-align: middle; margin-left: 0.5rem\">SERVICE</span>\n",
       "</mark>\n",
       "</div></span>"
      ],
      "text/plain": [
       "<IPython.core.display.HTML object>"
      ]
     },
     "metadata": {},
     "output_type": "display_data"
    },
    {
     "data": {
      "text/html": [
       "<span class=\"tex2jax_ignore\"><div class=\"entities\" style=\"line-height: 2.5; direction: ltr\">Money transfer from my \n",
       "<mark class=\"entity\" style=\"background: #ddd; padding: 0.45em 0.6em; margin: 0 0.25em; line-height: 1; border-radius: 0.35em;\">\n",
       "    checking account\n",
       "    <span style=\"font-size: 0.8em; font-weight: bold; line-height: 1; border-radius: 0.35em; text-transform: uppercase; vertical-align: middle; margin-left: 0.5rem\">SERVICE</span>\n",
       "</mark>\n",
       " is not working</div></span>"
      ],
      "text/plain": [
       "<IPython.core.display.HTML object>"
      ]
     },
     "metadata": {},
     "output_type": "display_data"
    },
    {
     "data": {
      "text/html": [
       "<span class=\"tex2jax_ignore\"><div class=\"entities\" style=\"line-height: 2.5; direction: ltr\">Your \n",
       "<mark class=\"entity\" style=\"background: #ddd; padding: 0.45em 0.6em; margin: 0 0.25em; line-height: 1; border-radius: 0.35em;\">\n",
       "    credit card\n",
       "    <span style=\"font-size: 0.8em; font-weight: bold; line-height: 1; border-radius: 0.35em; text-transform: uppercase; vertical-align: middle; margin-left: 0.5rem\">SERVICE</span>\n",
       "</mark>\n",
       " is in past due status</div></span>"
      ],
      "text/plain": [
       "<IPython.core.display.HTML object>"
      ]
     },
     "metadata": {},
     "output_type": "display_data"
    },
    {
     "data": {
      "text/html": [
       "<span class=\"tex2jax_ignore\"><div class=\"entities\" style=\"line-height: 2.5; direction: ltr\">I want to \n",
       "<mark class=\"entity\" style=\"background: #ddd; padding: 0.45em 0.6em; margin: 0 0.25em; line-height: 1; border-radius: 0.35em;\">\n",
       "    open\n",
       "    <span style=\"font-size: 0.8em; font-weight: bold; line-height: 1; border-radius: 0.35em; text-transform: uppercase; vertical-align: middle; margin-left: 0.5rem\">ACTIVITY</span>\n",
       "</mark>\n",
       " a new \n",
       "<mark class=\"entity\" style=\"background: #ddd; padding: 0.45em 0.6em; margin: 0 0.25em; line-height: 1; border-radius: 0.35em;\">\n",
       "    loan account\n",
       "    <span style=\"font-size: 0.8em; font-weight: bold; line-height: 1; border-radius: 0.35em; text-transform: uppercase; vertical-align: middle; margin-left: 0.5rem\">SERVICE</span>\n",
       "</mark>\n",
       "</div></span>"
      ],
      "text/plain": [
       "<IPython.core.display.HTML object>"
      ]
     },
     "metadata": {},
     "output_type": "display_data"
    },
    {
     "data": {
      "text/html": [
       "<span class=\"tex2jax_ignore\"><div class=\"entities\" style=\"line-height: 2.5; direction: ltr\">When is the \n",
       "<mark class=\"entity\" style=\"background: #ddd; padding: 0.45em 0.6em; margin: 0 0.25em; line-height: 1; border-radius: 0.35em;\">\n",
       "    payment\n",
       "    <span style=\"font-size: 0.8em; font-weight: bold; line-height: 1; border-radius: 0.35em; text-transform: uppercase; vertical-align: middle; margin-left: 0.5rem\">ACTIVITY</span>\n",
       "</mark>\n",
       " due date on my card</div></span>"
      ],
      "text/plain": [
       "<IPython.core.display.HTML object>"
      ]
     },
     "metadata": {},
     "output_type": "display_data"
    },
    {
     "data": {
      "text/html": [
       "<span class=\"tex2jax_ignore\"><div class=\"entities\" style=\"line-height: 2.5; direction: ltr\">I suspect a \n",
       "<mark class=\"entity\" style=\"background: #ddd; padding: 0.45em 0.6em; margin: 0 0.25em; line-height: 1; border-radius: 0.35em;\">\n",
       "    fraud\n",
       "    <span style=\"font-size: 0.8em; font-weight: bold; line-height: 1; border-radius: 0.35em; text-transform: uppercase; vertical-align: middle; margin-left: 0.5rem\">ACTIVITY</span>\n",
       "</mark>\n",
       " in my \n",
       "<mark class=\"entity\" style=\"background: #ddd; padding: 0.45em 0.6em; margin: 0 0.25em; line-height: 1; border-radius: 0.35em;\">\n",
       "    credit card\n",
       "    <span style=\"font-size: 0.8em; font-weight: bold; line-height: 1; border-radius: 0.35em; text-transform: uppercase; vertical-align: middle; margin-left: 0.5rem\">SERVICE</span>\n",
       "</mark>\n",
       " account</div></span>"
      ],
      "text/plain": [
       "<IPython.core.display.HTML object>"
      ]
     },
     "metadata": {},
     "output_type": "display_data"
    },
    {
     "data": {
      "text/html": [
       "<span class=\"tex2jax_ignore\"><div class=\"entities\" style=\"line-height: 2.5; direction: ltr\">How do I \n",
       "<mark class=\"entity\" style=\"background: #ddd; padding: 0.45em 0.6em; margin: 0 0.25em; line-height: 1; border-radius: 0.35em;\">\n",
       "    open\n",
       "    <span style=\"font-size: 0.8em; font-weight: bold; line-height: 1; border-radius: 0.35em; text-transform: uppercase; vertical-align: middle; margin-left: 0.5rem\">ACTIVITY</span>\n",
       "</mark>\n",
       " a new \n",
       "<mark class=\"entity\" style=\"background: #ddd; padding: 0.45em 0.6em; margin: 0 0.25em; line-height: 1; border-radius: 0.35em;\">\n",
       "    loan account\n",
       "    <span style=\"font-size: 0.8em; font-weight: bold; line-height: 1; border-radius: 0.35em; text-transform: uppercase; vertical-align: middle; margin-left: 0.5rem\">SERVICE</span>\n",
       "</mark>\n",
       "</div></span>"
      ],
      "text/plain": [
       "<IPython.core.display.HTML object>"
      ]
     },
     "metadata": {},
     "output_type": "display_data"
    },
    {
     "data": {
      "text/html": [
       "<span class=\"tex2jax_ignore\"><div class=\"entities\" style=\"line-height: 2.5; direction: ltr\">I want to check \n",
       "<mark class=\"entity\" style=\"background: #ddd; padding: 0.45em 0.6em; margin: 0 0.25em; line-height: 1; border-radius: 0.35em;\">\n",
       "    balance\n",
       "    <span style=\"font-size: 0.8em; font-weight: bold; line-height: 1; border-radius: 0.35em; text-transform: uppercase; vertical-align: middle; margin-left: 0.5rem\">ACTIVITY</span>\n",
       "</mark>\n",
       " in my \n",
       "<mark class=\"entity\" style=\"background: #ddd; padding: 0.45em 0.6em; margin: 0 0.25em; line-height: 1; border-radius: 0.35em;\">\n",
       "    savings account\n",
       "    <span style=\"font-size: 0.8em; font-weight: bold; line-height: 1; border-radius: 0.35em; text-transform: uppercase; vertical-align: middle; margin-left: 0.5rem\">SERVICE</span>\n",
       "</mark>\n",
       "</div></span>"
      ],
      "text/plain": [
       "<IPython.core.display.HTML object>"
      ]
     },
     "metadata": {},
     "output_type": "display_data"
    },
    {
     "data": {
      "text/html": [
       "<span class=\"tex2jax_ignore\"><div class=\"entities\" style=\"line-height: 2.5; direction: ltr\">Can you help updating \n",
       "<mark class=\"entity\" style=\"background: #ddd; padding: 0.45em 0.6em; margin: 0 0.25em; line-height: 1; border-radius: 0.35em;\">\n",
       "    payment\n",
       "    <span style=\"font-size: 0.8em; font-weight: bold; line-height: 1; border-radius: 0.35em; text-transform: uppercase; vertical-align: middle; margin-left: 0.5rem\">ACTIVITY</span>\n",
       "</mark>\n",
       " on my \n",
       "<mark class=\"entity\" style=\"background: #ddd; padding: 0.45em 0.6em; margin: 0 0.25em; line-height: 1; border-radius: 0.35em;\">\n",
       "    credit card\n",
       "    <span style=\"font-size: 0.8em; font-weight: bold; line-height: 1; border-radius: 0.35em; text-transform: uppercase; vertical-align: middle; margin-left: 0.5rem\">SERVICE</span>\n",
       "</mark>\n",
       "</div></span>"
      ],
      "text/plain": [
       "<IPython.core.display.HTML object>"
      ]
     },
     "metadata": {},
     "output_type": "display_data"
    },
    {
     "data": {
      "text/html": [
       "<span class=\"tex2jax_ignore\"><div class=\"entities\" style=\"line-height: 2.5; direction: ltr\">Can you explain late \n",
       "<mark class=\"entity\" style=\"background: #ddd; padding: 0.45em 0.6em; margin: 0 0.25em; line-height: 1; border-radius: 0.35em;\">\n",
       "    charges\n",
       "    <span style=\"font-size: 0.8em; font-weight: bold; line-height: 1; border-radius: 0.35em; text-transform: uppercase; vertical-align: middle; margin-left: 0.5rem\">ACTIVITY</span>\n",
       "</mark>\n",
       " on my \n",
       "<mark class=\"entity\" style=\"background: #ddd; padding: 0.45em 0.6em; margin: 0 0.25em; line-height: 1; border-radius: 0.35em;\">\n",
       "    credit card\n",
       "    <span style=\"font-size: 0.8em; font-weight: bold; line-height: 1; border-radius: 0.35em; text-transform: uppercase; vertical-align: middle; margin-left: 0.5rem\">SERVICE</span>\n",
       "</mark>\n",
       "</div></span>"
      ],
      "text/plain": [
       "<IPython.core.display.HTML object>"
      ]
     },
     "metadata": {},
     "output_type": "display_data"
    },
    {
     "data": {
      "text/html": [
       "<span class=\"tex2jax_ignore\"><div class=\"entities\" style=\"line-height: 2.5; direction: ltr\">what are the \n",
       "<mark class=\"entity\" style=\"background: #ddd; padding: 0.45em 0.6em; margin: 0 0.25em; line-height: 1; border-radius: 0.35em;\">\n",
       "    charges\n",
       "    <span style=\"font-size: 0.8em; font-weight: bold; line-height: 1; border-radius: 0.35em; text-transform: uppercase; vertical-align: middle; margin-left: 0.5rem\">ACTIVITY</span>\n",
       "</mark>\n",
       " on \n",
       "<mark class=\"entity\" style=\"background: #ddd; padding: 0.45em 0.6em; margin: 0 0.25em; line-height: 1; border-radius: 0.35em;\">\n",
       "    Investment account\n",
       "    <span style=\"font-size: 0.8em; font-weight: bold; line-height: 1; border-radius: 0.35em; text-transform: uppercase; vertical-align: middle; margin-left: 0.5rem\">SERVICE</span>\n",
       "</mark>\n",
       "</div></span>"
      ],
      "text/plain": [
       "<IPython.core.display.HTML object>"
      ]
     },
     "metadata": {},
     "output_type": "display_data"
    },
    {
     "name": "stderr",
     "output_type": "stream",
     "text": [
      "/Users/patsnap/anaconda2/lib/python3.7/site-packages/spacy/displacy/__init__.py:189: UserWarning: [W006] No entities to visualize found in Doc object. If this is surprising to you, make sure the Doc was processed using a model that supports named entity recognition, and check the `doc.ents` property manually if necessary.\n",
      "  warnings.warn(Warnings.W006)\n"
     ]
    },
    {
     "data": {
      "text/html": [
       "<span class=\"tex2jax_ignore\"><div class=\"entities\" style=\"line-height: 2.5; direction: ltr\">Your mortage is in delinquent status</div></span>"
      ],
      "text/plain": [
       "<IPython.core.display.HTML object>"
      ]
     },
     "metadata": {},
     "output_type": "display_data"
    }
   ],
   "source": [
    "# visualize using displacy\n",
    "for text, _ in train:\n",
    "    doc = nlp(text)\n",
    "    displacy.render(nlp(doc.text), style=\"ent\", jupyter=True)"
   ]
  },
  {
   "cell_type": "code",
   "execution_count": 20,
   "metadata": {},
   "outputs": [
    {
     "data": {
      "text/html": [
       "<span class=\"tex2jax_ignore\"><div class=\"entities\" style=\"line-height: 2.5; direction: ltr\">My \n",
       "<mark class=\"entity\" style=\"background: #ddd; padding: 0.45em 0.6em; margin: 0 0.25em; line-height: 1; border-radius: 0.35em;\">\n",
       "    credit card\n",
       "    <span style=\"font-size: 0.8em; font-weight: bold; line-height: 1; border-radius: 0.35em; text-transform: uppercase; vertical-align: middle; margin-left: 0.5rem\">SERVICE</span>\n",
       "</mark>\n",
       " payment will be delayed</div></span>"
      ],
      "text/plain": [
       "<IPython.core.display.HTML object>"
      ]
     },
     "metadata": {},
     "output_type": "display_data"
    }
   ],
   "source": [
    "doc = nlp(\"My credit card payment will be delayed\")\n",
    "displacy.render(nlp(doc.text), style=\"ent\", jupyter=True)"
   ]
  },
  {
   "cell_type": "code",
   "execution_count": 21,
   "metadata": {},
   "outputs": [
    {
     "data": {
      "text/html": [
       "<span class=\"tex2jax_ignore\"><div class=\"entities\" style=\"line-height: 2.5; direction: ltr\">what are the \n",
       "<mark class=\"entity\" style=\"background: #ddd; padding: 0.45em 0.6em; margin: 0 0.25em; line-height: 1; border-radius: 0.35em;\">\n",
       "    charges\n",
       "    <span style=\"font-size: 0.8em; font-weight: bold; line-height: 1; border-radius: 0.35em; text-transform: uppercase; vertical-align: middle; margin-left: 0.5rem\">ACTIVITY</span>\n",
       "</mark>\n",
       " on \n",
       "<mark class=\"entity\" style=\"background: #ddd; padding: 0.45em 0.6em; margin: 0 0.25em; line-height: 1; border-radius: 0.35em;\">\n",
       "    credit card\n",
       "    <span style=\"font-size: 0.8em; font-weight: bold; line-height: 1; border-radius: 0.35em; text-transform: uppercase; vertical-align: middle; margin-left: 0.5rem\">SERVICE</span>\n",
       "</mark>\n",
       " late \n",
       "<mark class=\"entity\" style=\"background: #ddd; padding: 0.45em 0.6em; margin: 0 0.25em; line-height: 1; border-radius: 0.35em;\">\n",
       "    payment\n",
       "    <span style=\"font-size: 0.8em; font-weight: bold; line-height: 1; border-radius: 0.35em; text-transform: uppercase; vertical-align: middle; margin-left: 0.5rem\">ACTIVITY</span>\n",
       "</mark>\n",
       " in Bank of America</div></span>"
      ],
      "text/plain": [
       "<IPython.core.display.HTML object>"
      ]
     },
     "metadata": {},
     "output_type": "display_data"
    }
   ],
   "source": [
    "doc = nlp(\"what are the charges on credit card late payment in Bank of America\")\n",
    "displacy.render(nlp(doc.text), style=\"ent\", jupyter=True)"
   ]
  },
  {
   "cell_type": "code",
   "execution_count": 22,
   "metadata": {},
   "outputs": [
    {
     "data": {
      "text/html": [
       "<span class=\"tex2jax_ignore\"><div class=\"entities\" style=\"line-height: 2.5; direction: ltr\">Australia wants to force Facebook and Google to pay media companies for news</div></span>"
      ],
      "text/plain": [
       "<IPython.core.display.HTML object>"
      ]
     },
     "metadata": {},
     "output_type": "display_data"
    }
   ],
   "source": [
    "doc = nlp(\"Australia wants to force Facebook and Google to pay media companies for news\")\n",
    "displacy.render(nlp(doc.text), style=\"ent\", jupyter=True)"
   ]
  },
  {
   "cell_type": "code",
   "execution_count": null,
   "metadata": {},
   "outputs": [],
   "source": []
  },
  {
   "cell_type": "code",
   "execution_count": null,
   "metadata": {},
   "outputs": [],
   "source": []
  }
 ],
 "metadata": {
  "kernelspec": {
   "display_name": "Python 3",
   "language": "python",
   "name": "python3"
  },
  "language_info": {
   "codemirror_mode": {
    "name": "ipython",
    "version": 3
   },
   "file_extension": ".py",
   "mimetype": "text/x-python",
   "name": "python",
   "nbconvert_exporter": "python",
   "pygments_lexer": "ipython3",
   "version": "3.7.5"
  }
 },
 "nbformat": 4,
 "nbformat_minor": 2
}
