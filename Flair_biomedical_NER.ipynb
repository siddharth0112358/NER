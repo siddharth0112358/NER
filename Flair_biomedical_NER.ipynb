{
 "cells": [
  {
   "cell_type": "markdown",
   "metadata": {},
   "source": [
    "https://github.com/flairNLP/flair/blob/master/resources/docs/HUNFLAIR_TUTORIAL_1_TAGGING.md"
   ]
  },
  {
   "cell_type": "markdown",
   "metadata": {},
   "source": [
    "https://github.com/flairNLP/flair/blob/master/resources/docs/HUNFLAIR_CORPORA.md"
   ]
  },
  {
   "cell_type": "code",
   "execution_count": null,
   "metadata": {},
   "outputs": [],
   "source": [
    "!pip install flair --ignore-installed"
   ]
  },
  {
   "cell_type": "code",
   "execution_count": null,
   "metadata": {},
   "outputs": [],
   "source": [
    "!pip install https://s3-us-west-2.amazonaws.com/ai2-s2-scispacy/releases/v0.2.5/en_core_sci_sm-0.2.5.tar.gz"
   ]
  },
  {
   "cell_type": "code",
   "execution_count": null,
   "metadata": {},
   "outputs": [],
   "source": [
    "#replace data.py in site-packages/flair with data.py from https://github.com/flairNLP/flair/blob/master/flair/data.py"
   ]
  },
  {
   "cell_type": "code",
   "execution_count": null,
   "metadata": {},
   "outputs": [],
   "source": [
    "from flair.data import Sentence\n",
    "from flair.models import MultiTagger\n",
    "from flair.tokenization import SciSpacyTokenizer"
   ]
  },
  {
   "cell_type": "code",
   "execution_count": null,
   "metadata": {},
   "outputs": [],
   "source": [
    "# make a sentence and tokenize with SciSpaCy\n",
    "sentence = Sentence(\"Behavioral abnormalities in the Fmr1 KO2 Mouse Model of Fragile X Syndrome\",\n",
    "                    use_tokenizer=SciSpacyTokenizer())\n",
    "\n",
    "# load biomedical tagger\n",
    "tagger = MultiTagger.load(\"hunflair\")\n",
    "\n",
    "# tag sentence\n",
    "tagger.predict(sentence)"
   ]
  },
  {
   "cell_type": "code",
   "execution_count": null,
   "metadata": {},
   "outputs": [],
   "source": [
    "for entity in sentence.get_spans():\n",
    "    print(entity)"
   ]
  },
  {
   "cell_type": "code",
   "execution_count": null,
   "metadata": {},
   "outputs": [],
   "source": [
    "from flair.data import Sentence\n",
    "\n",
    "sentence = Sentence(\"Behavioral abnormalities in the Fmr1 KO2 Mouse Model of Fragile X Syndrome\")"
   ]
  },
  {
   "cell_type": "code",
   "execution_count": null,
   "metadata": {},
   "outputs": [],
   "source": [
    "# predict NER tags\n",
    "tagger.predict(sentence)\n",
    "\n",
    "# print sentence with predicted tags\n",
    "print(sentence.to_tagged_string())"
   ]
  },
  {
   "cell_type": "code",
   "execution_count": null,
   "metadata": {},
   "outputs": [],
   "source": [
    "for disease in sentence.get_spans(\"hunflair-disease\"):\n",
    "    print(disease)"
   ]
  },
  {
   "cell_type": "code",
   "execution_count": null,
   "metadata": {},
   "outputs": [],
   "source": [
    "print(sentence.to_dict(\"hunflair-disease\"))"
   ]
  },
  {
   "cell_type": "code",
   "execution_count": null,
   "metadata": {},
   "outputs": [],
   "source": [
    "for entity in sentence.get_spans():\n",
    "    print(entity)"
   ]
  },
  {
   "cell_type": "code",
   "execution_count": null,
   "metadata": {},
   "outputs": [],
   "source": [
    "from flair.tokenization import SciSpacyTokenizer\n",
    "\n",
    "sentence = Sentence(\"Behavioral abnormalities in the Fmr1 KO2 Mouse Model of Fragile X Syndrome\",  \n",
    "                    use_tokenizer=SciSpacyTokenizer())"
   ]
  },
  {
   "cell_type": "code",
   "execution_count": null,
   "metadata": {},
   "outputs": [],
   "source": [
    "abstract = \"Fragile X syndrome (FXS) is a developmental disorder caused by a mutation in the X-linked FMR1 gene, \" \\\n",
    "           \"coding for the FMRP protein which is largely involved in synaptic function. FXS patients present several \" \\\n",
    "           \"behavioral abnormalities, including hyperactivity, anxiety, sensory hyper-responsiveness, and cognitive \" \\\n",
    "           \"deficits. Autistic symptoms, e.g., altered social interaction and communication, are also often observed: \" \\\n",
    "           \"FXS is indeed the most common monogenic cause of autism.\""
   ]
  },
  {
   "cell_type": "code",
   "execution_count": null,
   "metadata": {},
   "outputs": [],
   "source": [
    "from flair.tokenization import SciSpacySentenceSplitter\n",
    "\n",
    "# initialize the sentence splitter\n",
    "splitter = SciSpacySentenceSplitter()\n",
    "\n",
    "# split text into a list of Sentence objects\n",
    "sentences = splitter.split(abstract)\n",
    "\n",
    "# you can apply the HunFlair tagger directly to this list\n",
    "tagger.predict(sentences)"
   ]
  },
  {
   "cell_type": "code",
   "execution_count": null,
   "metadata": {},
   "outputs": [],
   "source": [
    "for sentence in sentences:\n",
    "    print(sentence.to_tagged_string())"
   ]
  },
  {
   "cell_type": "markdown",
   "metadata": {},
   "source": [
    "Here is example code for a biomedical NER model trained over NCBI_DISEASE corpus, using word embeddings and flair embeddings based on biomedical abstracts from PubMed and full-texts from PMC."
   ]
  },
  {
   "cell_type": "code",
   "execution_count": null,
   "metadata": {},
   "outputs": [],
   "source": [
    "from flair.datasets import NCBI_DISEASE"
   ]
  },
  {
   "cell_type": "code",
   "execution_count": null,
   "metadata": {},
   "outputs": [],
   "source": [
    "# 1. get the corpus\n",
    "corpus = NCBI_DISEASE()\n",
    "print(corpus)"
   ]
  },
  {
   "cell_type": "code",
   "execution_count": null,
   "metadata": {},
   "outputs": [],
   "source": [
    "# 2. make the tag dictionary from the corpus\n",
    "tag_dictionary = corpus.make_tag_dictionary(tag_type=\"ner\")"
   ]
  },
  {
   "cell_type": "code",
   "execution_count": null,
   "metadata": {},
   "outputs": [],
   "source": [
    "# 3. initialize embeddings\n",
    "from flair.embeddings import WordEmbeddings, FlairEmbeddings, StackedEmbeddings\n",
    "\n",
    "embedding_types = [\n",
    "\n",
    "    # word embeddings trained on PubMed and PMC\n",
    "    WordEmbeddings(\"pubmed\"),\n",
    "\n",
    "    # flair embeddings trained on PubMed and PMC\n",
    "    FlairEmbeddings(\"pubmed-forward\"),\n",
    "    FlairEmbeddings(\"pubmed-backward\"),\n",
    "]\n",
    "\n",
    "\n",
    "embeddings: StackedEmbeddings = StackedEmbeddings(embeddings=embedding_types)"
   ]
  },
  {
   "cell_type": "code",
   "execution_count": null,
   "metadata": {},
   "outputs": [],
   "source": [
    "# 4. initialize sequence tagger\n",
    "from flair.models import SequenceTagger\n",
    "\n",
    "tagger: SequenceTagger = SequenceTagger(\n",
    "    hidden_size=256,\n",
    "    embeddings=embeddings,\n",
    "    tag_dictionary=tag_dictionary,\n",
    "    tag_type=\"ner\",\n",
    "    use_crf=True,\n",
    "    locked_dropout=0.5\n",
    ")"
   ]
  },
  {
   "cell_type": "code",
   "execution_count": null,
   "metadata": {},
   "outputs": [],
   "source": [
    "# 5. initialize trainer\n",
    "from flair.trainers import ModelTrainer\n",
    "\n",
    "trainer: ModelTrainer = ModelTrainer(tagger, corpus)\n",
    "\n",
    "trainer.train(\n",
    "    base_path=\"taggers/ncbi-disease\",\n",
    "    train_with_dev=False,\n",
    "    max_epochs=200,\n",
    "    learning_rate=0.1,\n",
    "    mini_batch_size=32\n",
    ")"
   ]
  },
  {
   "cell_type": "code",
   "execution_count": null,
   "metadata": {},
   "outputs": [],
   "source": [
    "# 5. initialize trainer\n",
    "from flair.trainers import ModelTrainer\n",
    "\n",
    "trainer: ModelTrainer = ModelTrainer(tagger, corpus)\n",
    "\n",
    "trainer.train(\n",
    "    base_path=\"taggers/ncbi-disease\",\n",
    "    train_with_dev=False,\n",
    "    max_epochs=200,\n",
    "    learning_rate=0.1,\n",
    "    mini_batch_size=32\n",
    ")"
   ]
  },
  {
   "cell_type": "code",
   "execution_count": null,
   "metadata": {},
   "outputs": [],
   "source": [
    "# load the model you trained\n",
    "model = SequenceTagger.load(\"taggers/ncbi-disease/best-model.pt\")\n",
    "\n",
    "# create example sentence\n",
    "from flair.data import Sentence\n",
    "sentence = Sentence(\"Women who smoke 20 cigarettes a day are four times more likely to develop breast cancer.\")\n",
    "\n",
    "# predict tags and print\n",
    "model.predict(sentence)\n",
    "\n",
    "print(sentence.to_tagged_string())"
   ]
  },
  {
   "cell_type": "code",
   "execution_count": null,
   "metadata": {},
   "outputs": [],
   "source": [
    "sentence = Sentence(\"High-risk children should be treated with an intravenous antipseudomonal beta lactam agent, unless there is suspicion of multi-drug resistance when an antibiotic combination should be used, in unresponsive cases, more invasive procedures, including bronchoalveolar lavage (BAL), computed tomography (CT)-guided fine-needle aspiration or open lung biopsy (OLB), are recommended.\")\n",
    "# predict tags and print\n",
    "model.predict(sentence)\n",
    "\n",
    "print(sentence.to_tagged_string())"
   ]
  },
  {
   "cell_type": "markdown",
   "metadata": {},
   "source": [
    "# Fine-tuning HunFlair models"
   ]
  },
  {
   "cell_type": "markdown",
   "metadata": {},
   "source": [
    "In the following example we fine-tune the hunflar-disease model to the NCBI_DISEASE:"
   ]
  },
  {
   "cell_type": "code",
   "execution_count": null,
   "metadata": {},
   "outputs": [],
   "source": [
    "# 1. load your target corpus\n",
    "from flair.datasets import NCBI_DISEASE\n",
    "corpus = NCBI_DISEASE()\n",
    "\n",
    "# 2. load the pre-trained sequence tagger\n",
    "from flair.models import SequenceTagger\n",
    "tagger: SequenceTagger = SequenceTagger.load(\"hunflair-disease\")\n",
    "\n",
    "# 3. initialize trainer\n",
    "from flair.trainers import ModelTrainer\n",
    "trainer: ModelTrainer = ModelTrainer(tagger, corpus)\n",
    "\n",
    "# 4. fine-tune on the target corpus\n",
    "trainer.train(\n",
    "    base_path=\"taggers/hunflair-disease-finetuned-ncbi\",\n",
    "    train_with_dev=False,\n",
    "    max_epochs=200,\n",
    "    learning_rate=0.1,\n",
    "    mini_batch_size=32\n",
    ")"
   ]
  },
  {
   "cell_type": "markdown",
   "metadata": {},
   "source": [
    "# Training HunFlair from scratch"
   ]
  },
  {
   "cell_type": "code",
   "execution_count": null,
   "metadata": {},
   "outputs": [],
   "source": [
    "from flair.datasets import HUNER_CELL_LINE\n",
    "\n",
    "# 1. get all corpora for a specific entity type\n",
    "from flair.models import SequenceTagger\n",
    "corpus = HUNER_CELL_LINE()\n",
    "\n",
    "# 2. initialize embeddings\n",
    "from flair.embeddings import WordEmbeddings, FlairEmbeddings, StackedEmbeddings\n",
    "embedding_types = [\n",
    "    WordEmbeddings(\"pubmed\"),\n",
    "    FlairEmbeddings(\"pubmed-forward\"),\n",
    "    FlairEmbeddings(\"pubmed-backward\"),\n",
    "\n",
    "]\n",
    "\n",
    "embeddings = StackedEmbeddings(embeddings=embedding_types)\n",
    "\n",
    "# 3. initialize sequence tagger\n",
    "tag_dictionary = corpus.make_tag_dictionary(tag_type=\"ner\")\n",
    "\n",
    "tagger = SequenceTagger(\n",
    "    hidden_size=256,\n",
    "    embeddings=embeddings,\n",
    "    tag_dictionary=tag_dictionary,\n",
    "    tag_type=\"ner\",\n",
    "    use_crf=True,\n",
    "    locked_dropout=0.5\n",
    ")\n",
    "\n",
    "# 4. train the model\n",
    "from flair.trainers import ModelTrainer\n",
    "trainer = ModelTrainer(tagger, corpus)\n",
    "\n",
    "trainer.train(\n",
    "    base_path=\"taggers/hunflair-cell-line\", \n",
    "    train_with_dev=False, \n",
    "    max_epochs=200,\n",
    "    learning_rate=0.1, \n",
    "    mini_batch_size=32\n",
    ")"
   ]
  },
  {
   "cell_type": "code",
   "execution_count": null,
   "metadata": {},
   "outputs": [],
   "source": [
    "#Analogously, distinct models can be trained for chemicals, diseases, genes/proteins and species using HUNER_CHEMICALS, HUNER_DISEASE, HUNER_GENE, HUNER_SPECIES respectively."
   ]
  },
  {
   "cell_type": "code",
   "execution_count": null,
   "metadata": {},
   "outputs": [],
   "source": []
  },
  {
   "cell_type": "code",
   "execution_count": null,
   "metadata": {},
   "outputs": [],
   "source": []
  },
  {
   "cell_type": "code",
   "execution_count": null,
   "metadata": {},
   "outputs": [],
   "source": []
  },
  {
   "cell_type": "code",
   "execution_count": null,
   "metadata": {},
   "outputs": [],
   "source": []
  }
 ],
 "metadata": {
  "kernelspec": {
   "display_name": "Python 3",
   "language": "python",
   "name": "python3"
  },
  "language_info": {
   "codemirror_mode": {
    "name": "ipython",
    "version": 3
   },
   "file_extension": ".py",
   "mimetype": "text/x-python",
   "name": "python",
   "nbconvert_exporter": "python",
   "pygments_lexer": "ipython3",
   "version": "3.7.5"
  }
 },
 "nbformat": 4,
 "nbformat_minor": 2
}
