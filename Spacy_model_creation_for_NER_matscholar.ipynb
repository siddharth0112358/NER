{
 "cells": [
  {
   "cell_type": "code",
   "execution_count": 1,
   "metadata": {},
   "outputs": [],
   "source": [
    "import scispacy\n",
    "import spacy\n",
    "import pickle"
   ]
  },
  {
   "cell_type": "code",
   "execution_count": 2,
   "metadata": {},
   "outputs": [],
   "source": [
    "nlp = spacy.load(\"en_core_sci_sm\")"
   ]
  },
  {
   "cell_type": "code",
   "execution_count": 3,
   "metadata": {},
   "outputs": [],
   "source": [
    "text = \"\"\"Myeloid derived suppressor cells (MDSC) are immature \n",
    "myeloid cells with immunosuppressive activity. \n",
    "They accumulate in tumor-bearing mice and humans \n",
    "with different types of cancer, including hepatocellular \n",
    "carcinoma (HCC).\"\"\""
   ]
  },
  {
   "cell_type": "code",
   "execution_count": 4,
   "metadata": {},
   "outputs": [],
   "source": [
    "doc = nlp(text)"
   ]
  },
  {
   "cell_type": "code",
   "execution_count": 5,
   "metadata": {},
   "outputs": [
    {
     "name": "stdout",
     "output_type": "stream",
     "text": [
      "Myeloid 0 7 ENTITY\n",
      "suppressor cells 16 32 ENTITY\n",
      "MDSC 34 38 ENTITY\n",
      "immature 44 52 ENTITY\n",
      "immunosuppressive activity 73 99 ENTITY\n",
      "accumulate 107 117 ENTITY\n",
      "tumor-bearing mice 121 139 ENTITY\n",
      "humans 144 150 ENTITY\n",
      "cancer 176 182 ENTITY\n",
      "hepatocellular \n",
      "carcinoma 194 219 ENTITY\n",
      "HCC 221 224 ENTITY\n"
     ]
    }
   ],
   "source": [
    "for ent in doc.ents:\n",
    "    print(ent.text,ent.start_char,ent.end_char,ent.label_)"
   ]
  },
  {
   "cell_type": "code",
   "execution_count": 54,
   "metadata": {},
   "outputs": [],
   "source": [
    "from spacy import displacy\n",
    "#displacy.render(next(doc.sents), style='dep', jupyter=True) #dependancy image"
   ]
  },
  {
   "cell_type": "code",
   "execution_count": 7,
   "metadata": {},
   "outputs": [
    {
     "data": {
      "text/html": [
       "<div class=\"entities\" style=\"line-height: 2.5; direction: ltr\">\n",
       "<mark class=\"entity\" style=\"background: #ddd; padding: 0.45em 0.6em; margin: 0 0.25em; line-height: 1; border-radius: 0.35em;\">\n",
       "    Myeloid\n",
       "    <span style=\"font-size: 0.8em; font-weight: bold; line-height: 1; border-radius: 0.35em; text-transform: uppercase; vertical-align: middle; margin-left: 0.5rem\">ENTITY</span>\n",
       "</mark>\n",
       " derived \n",
       "<mark class=\"entity\" style=\"background: #ddd; padding: 0.45em 0.6em; margin: 0 0.25em; line-height: 1; border-radius: 0.35em;\">\n",
       "    suppressor cells\n",
       "    <span style=\"font-size: 0.8em; font-weight: bold; line-height: 1; border-radius: 0.35em; text-transform: uppercase; vertical-align: middle; margin-left: 0.5rem\">ENTITY</span>\n",
       "</mark>\n",
       " (\n",
       "<mark class=\"entity\" style=\"background: #ddd; padding: 0.45em 0.6em; margin: 0 0.25em; line-height: 1; border-radius: 0.35em;\">\n",
       "    MDSC\n",
       "    <span style=\"font-size: 0.8em; font-weight: bold; line-height: 1; border-radius: 0.35em; text-transform: uppercase; vertical-align: middle; margin-left: 0.5rem\">ENTITY</span>\n",
       "</mark>\n",
       ") are \n",
       "<mark class=\"entity\" style=\"background: #ddd; padding: 0.45em 0.6em; margin: 0 0.25em; line-height: 1; border-radius: 0.35em;\">\n",
       "    immature\n",
       "    <span style=\"font-size: 0.8em; font-weight: bold; line-height: 1; border-radius: 0.35em; text-transform: uppercase; vertical-align: middle; margin-left: 0.5rem\">ENTITY</span>\n",
       "</mark>\n",
       " </br>myeloid cells with \n",
       "<mark class=\"entity\" style=\"background: #ddd; padding: 0.45em 0.6em; margin: 0 0.25em; line-height: 1; border-radius: 0.35em;\">\n",
       "    immunosuppressive activity\n",
       "    <span style=\"font-size: 0.8em; font-weight: bold; line-height: 1; border-radius: 0.35em; text-transform: uppercase; vertical-align: middle; margin-left: 0.5rem\">ENTITY</span>\n",
       "</mark>\n",
       ". \n",
       "</div>"
      ],
      "text/plain": [
       "<IPython.core.display.HTML object>"
      ]
     },
     "metadata": {},
     "output_type": "display_data"
    }
   ],
   "source": [
    "displacy.render(next(doc.sents), jupyter=True, style='ent')"
   ]
  },
  {
   "cell_type": "code",
   "execution_count": 8,
   "metadata": {},
   "outputs": [],
   "source": [
    "import plac\n",
    "import random\n",
    "from pathlib import Path\n",
    "import spacy\n",
    "from spacy.util import minibatch, compounding"
   ]
  },
  {
   "cell_type": "code",
   "execution_count": 9,
   "metadata": {},
   "outputs": [],
   "source": [
    "#add single entity to model\n",
    "nlp = spacy.blank('en')\n",
    "ner = nlp.create_pipe(\"ner\")"
   ]
  },
  {
   "cell_type": "code",
   "execution_count": 10,
   "metadata": {},
   "outputs": [],
   "source": [
    "LABEL = \"ANIMAL\"\n",
    "TRAIN_DATA = [\n",
    "    (\n",
    "        \"Horses are too tall and they pretend to care about your feelings\",\n",
    "        {\"entities\": [(0, 6, LABEL)]},\n",
    "    ),\n",
    "    (\"Do they bite?\", {\"entities\": []}),\n",
    "    (\n",
    "        \"horses are too tall and they pretend to care about your feelings\",\n",
    "        {\"entities\": [(0, 6, LABEL)]},\n",
    "    ),\n",
    "    (\"horses pretend to care about your feelings\", {\"entities\": [(0, 6, LABEL)]}),\n",
    "    (\n",
    "        \"they pretend to care about your feelings, those horses\",\n",
    "        {\"entities\": [(48, 54, LABEL)]},\n",
    "    ),\n",
    "    (\"horses?\", {\"entities\": [(0, 6, LABEL)]}),\n",
    "]"
   ]
  },
  {
   "cell_type": "code",
   "execution_count": 11,
   "metadata": {},
   "outputs": [],
   "source": [
    "nlp.add_pipe(ner)\n",
    "ner.add_label(LABEL)\n",
    "ner.add_label(\"VEGETABLE\")\n",
    "optimizer = nlp.begin_training()"
   ]
  },
  {
   "cell_type": "code",
   "execution_count": 14,
   "metadata": {},
   "outputs": [
    {
     "name": "stdout",
     "output_type": "stream",
     "text": [
      "{'ner': 1.0999109639778838e-10}\n",
      "{'ner': 1.1280088603617894e-10}\n",
      "{'ner': 2.6444271714444655e-08}\n",
      "{'ner': 1.6084335576751693e-08}\n",
      "{'ner': 1.6306131142039298e-08}\n",
      "{'ner': 1.6307120743688314e-08}\n"
     ]
    }
   ],
   "source": [
    "for itn in range(2):\n",
    "    random.shuffle(TRAIN_DATA)\n",
    "    losses = {}\n",
    "    batches = minibatch(TRAIN_DATA, size=2)\n",
    "    for batch in batches:\n",
    "        texts = [text for text,annotations in batch]\n",
    "        annotations = [annotations for text,annotations in batch]\n",
    "        nlp.update(texts, annotations, losses = losses)\n",
    "        print(losses)"
   ]
  },
  {
   "cell_type": "code",
   "execution_count": 15,
   "metadata": {
    "scrolled": true
   },
   "outputs": [],
   "source": [
    "TEST_DATA = ['This horses are too good to be true'] "
   ]
  },
  {
   "cell_type": "code",
   "execution_count": 16,
   "metadata": {},
   "outputs": [
    {
     "name": "stdout",
     "output_type": "stream",
     "text": [
      "This horses are too good to be true\n",
      "horses 5 11 ANIMAL\n"
     ]
    }
   ],
   "source": [
    "for doc in nlp.pipe(TEST_DATA):\n",
    "    print(doc.text)\n",
    "    for ent in doc.ents:\n",
    "        print(ent.text,ent.start_char,ent.end_char,ent.label_)"
   ]
  },
  {
   "cell_type": "code",
   "execution_count": 17,
   "metadata": {},
   "outputs": [],
   "source": [
    "import json\n",
    "import logging\n",
    "import sys\n",
    "import pandas as pd\n",
    "#convert trial data to spacy format\n",
    "df = pd.read_fwf('/Users/patsnap/Desktop/Neo4J_and_other_codes/SPacy_trial_data/8184428/train.txt',header =None)\n",
    "df.columns = ['Words']\n",
    "df['Words'] = df['Words'].str.split(\" \")\n",
    "df = pd.DataFrame(df.Words.values.tolist()).add_prefix('code_')\n",
    "df = df.drop(['code_2','code_3'], axis=1)"
   ]
  },
  {
   "cell_type": "code",
   "execution_count": 18,
   "metadata": {},
   "outputs": [
    {
     "name": "stdout",
     "output_type": "stream",
     "text": [
      "!\"#$%&'()*+,-./:;<=>?@[\\]^_`{|}~\n"
     ]
    }
   ],
   "source": [
    "import string\n",
    "print(string.punctuation)"
   ]
  },
  {
   "cell_type": "code",
   "execution_count": 19,
   "metadata": {},
   "outputs": [
    {
     "data": {
      "text/html": [
       "<div>\n",
       "<style scoped>\n",
       "    .dataframe tbody tr th:only-of-type {\n",
       "        vertical-align: middle;\n",
       "    }\n",
       "\n",
       "    .dataframe tbody tr th {\n",
       "        vertical-align: top;\n",
       "    }\n",
       "\n",
       "    .dataframe thead th {\n",
       "        text-align: right;\n",
       "    }\n",
       "</style>\n",
       "<table border=\"1\" class=\"dataframe\">\n",
       "  <thead>\n",
       "    <tr style=\"text-align: right;\">\n",
       "      <th></th>\n",
       "      <th>words</th>\n",
       "      <th>labels</th>\n",
       "    </tr>\n",
       "  </thead>\n",
       "  <tbody>\n",
       "    <tr>\n",
       "      <th>0</th>\n",
       "      <td>variable</td>\n",
       "      <td>O</td>\n",
       "    </tr>\n",
       "    <tr>\n",
       "      <th>1</th>\n",
       "      <td>temperature</td>\n",
       "      <td>O</td>\n",
       "    </tr>\n",
       "    <tr>\n",
       "      <th>2</th>\n",
       "      <td>electron</td>\n",
       "      <td>B-CMT</td>\n",
       "    </tr>\n",
       "    <tr>\n",
       "      <th>3</th>\n",
       "      <td>paramagnetic</td>\n",
       "      <td>I-CMT</td>\n",
       "    </tr>\n",
       "    <tr>\n",
       "      <th>4</th>\n",
       "      <td>resonance</td>\n",
       "      <td>I-CMT</td>\n",
       "    </tr>\n",
       "  </tbody>\n",
       "</table>\n",
       "</div>"
      ],
      "text/plain": [
       "          words labels\n",
       "0      variable      O\n",
       "1   temperature      O\n",
       "2      electron  B-CMT\n",
       "3  paramagnetic  I-CMT\n",
       "4     resonance  I-CMT"
      ]
     },
     "execution_count": 19,
     "metadata": {},
     "output_type": "execute_result"
    }
   ],
   "source": [
    "df.columns = ['words','labels']\n",
    "punctuations = [x for x in string.punctuation]\n",
    "\n",
    "for index, row in df.iterrows():\n",
    "    if row['words'] in punctuations:\n",
    "        row['labels'] == 'O'\n",
    "\n",
    "df.head()"
   ]
  },
  {
   "cell_type": "code",
   "execution_count": 20,
   "metadata": {},
   "outputs": [
    {
     "data": {
      "text/html": [
       "<div>\n",
       "<style scoped>\n",
       "    .dataframe tbody tr th:only-of-type {\n",
       "        vertical-align: middle;\n",
       "    }\n",
       "\n",
       "    .dataframe tbody tr th {\n",
       "        vertical-align: top;\n",
       "    }\n",
       "\n",
       "    .dataframe thead th {\n",
       "        text-align: right;\n",
       "    }\n",
       "</style>\n",
       "<table border=\"1\" class=\"dataframe\">\n",
       "  <thead>\n",
       "    <tr style=\"text-align: right;\">\n",
       "      <th></th>\n",
       "      <th>words</th>\n",
       "      <th>labels</th>\n",
       "    </tr>\n",
       "  </thead>\n",
       "  <tbody>\n",
       "    <tr>\n",
       "      <th>0</th>\n",
       "      <td>variable</td>\n",
       "      <td>O</td>\n",
       "    </tr>\n",
       "    <tr>\n",
       "      <th>1</th>\n",
       "      <td>temperature</td>\n",
       "      <td>O</td>\n",
       "    </tr>\n",
       "  </tbody>\n",
       "</table>\n",
       "</div>"
      ],
      "text/plain": [
       "         words labels\n",
       "0     variable      O\n",
       "1  temperature      O"
      ]
     },
     "execution_count": 20,
     "metadata": {},
     "output_type": "execute_result"
    }
   ],
   "source": [
    "df_check_O = df[df.labels == 'O']\n",
    "df_check_O.head(2)"
   ]
  },
  {
   "cell_type": "code",
   "execution_count": 21,
   "metadata": {},
   "outputs": [],
   "source": [
    "df.labels = df.labels.str.replace(\"B-MAT\",\"Inorganic material\")\n",
    "df.labels = df.labels.str.replace(\"I-MAT\",\"Inorganic material\")\n",
    "df.labels = df.labels.str.replace(\"B-MA\",\"Inorganic material\")\n",
    "df.labels = df.labels.str.replace(\"I-MA\",\"Inorganic material\")\n",
    "df.labels = df.labels.str.replace(\"B-M\",\"Inorganic material\")\n",
    "df.labels = df.labels.str.replace(\"I-M\",\"Inorganic material\")\n",
    "df.labels = df.labels.str.replace(\"I-SPL\",\"Symmetry Label\")\n",
    "df.labels = df.labels.str.replace(\"B-SPL\",\"Symmetry Label\")\n",
    "df.labels = df.labels.str.replace(\"I-DSC\",\"Sample descriptor\")\n",
    "df.labels = df.labels.str.replace(\"B-DSC\",\"Sample descriptor\")\n",
    "df.labels = df.labels.str.replace(\"I-DS\",\"Sample descriptor\")\n",
    "df.labels = df.labels.str.replace(\"B-DS\",\"Sample descriptor\")\n",
    "df.labels = df.labels.str.replace(\"I-D\",\"Sample descriptor\")\n",
    "df.labels = df.labels.str.replace(\"B-D\",\"Sample descriptor\")\n",
    "df.labels = df.labels.str.replace(\"I-PRO\",\"Material property\")\n",
    "df.labels = df.labels.str.replace(\"B-PRO\",\"Material property\")\n",
    "df.labels = df.labels.str.replace(\"I-PR\",\"Material property\")\n",
    "df.labels = df.labels.str.replace(\"B-PR\",\"Material property\")\n",
    "df.labels = df.labels.str.replace(\"I-P\",\"Material property\")\n",
    "df.labels = df.labels.str.replace(\"B-P\",\"Material property\")\n",
    "df.labels = df.labels.str.replace(\"I-APL\",\"Material application\")\n",
    "df.labels = df.labels.str.replace(\"B-APL\",\"Material application\")\n",
    "df.labels = df.labels.str.replace(\"I-AP\",\"Material application\")\n",
    "df.labels = df.labels.str.replace(\"B-AP\",\"Material application\")\n",
    "df.labels = df.labels.str.replace(\"I-A\",\"Material application\")\n",
    "df.labels = df.labels.str.replace(\"B-A\",\"Material application\")\n",
    "df.labels = df.labels.str.replace(\"I-SMT\",\"Synthesis method\")\n",
    "df.labels = df.labels.str.replace(\"B-SMT\",\"Synthesis method\")\n",
    "df.labels = df.labels.str.replace(\"I-SM\",\"Synthesis method\")\n",
    "df.labels = df.labels.str.replace(\"B-SM\",\"Synthesis method\")\n",
    "df.labels = df.labels.str.replace(\"I-S\",\"Synthesis method\")\n",
    "df.labels = df.labels.str.replace(\"B-S\",\"Synthesis method\")\n",
    "df.labels = df.labels.str.replace(\"I-CMT\",\"Characterization method\")\n",
    "df.labels = df.labels.str.replace(\"B-CMT\",\"Characterization method\")\n",
    "df.labels = df.labels.str.replace(\"I-CM\",\"Characterization method\")\n",
    "df.labels = df.labels.str.replace(\"B-CM\",\"Characterization method\")\n",
    "df.labels = df.labels.str.replace(\"I-C\",\"Characterization method\")\n",
    "df.labels = df.labels.str.replace(\"B-C\",\"Characterization method\")\n",
    "df.to_csv('/Users/patsnap/Desktop/Neo4J_and_other_codes/SPacy_trial_data/8184428/train.tsv', sep = '\\t',header=False, index =False)"
   ]
  },
  {
   "cell_type": "code",
   "execution_count": 22,
   "metadata": {},
   "outputs": [
    {
     "data": {
      "text/plain": [
       "['O',\n",
       " '',\n",
       " 'Sample descriptor',\n",
       " 'Material property',\n",
       " 'I',\n",
       " None,\n",
       " 'Material application',\n",
       " 'Synthesis method',\n",
       " '1/2',\n",
       " 'B',\n",
       " 'Symmetry Label',\n",
       " 'Characterization method',\n",
       " 'B-',\n",
       " 'I-',\n",
       " 'Inorganic material']"
      ]
     },
     "execution_count": 22,
     "metadata": {},
     "output_type": "execute_result"
    }
   ],
   "source": [
    "label_list = df.labels.tolist()\n",
    "label_list =list(set(label_list))\n",
    "label_list"
   ]
  },
  {
   "cell_type": "code",
   "execution_count": 23,
   "metadata": {},
   "outputs": [],
   "source": [
    "unknown_label_list = ['O','B-','I-','1/2','B','I','']"
   ]
  },
  {
   "cell_type": "code",
   "execution_count": 24,
   "metadata": {},
   "outputs": [],
   "source": [
    "def tsv_to_json_format(input_path,output_path,unknown_label_list):\n",
    "    try:\n",
    "        f=open(input_path,'r') # input file\n",
    "        fp=open(output_path, 'w') # output file\n",
    "        data_dict={}\n",
    "        annotations =[]\n",
    "        label_dict={}\n",
    "        s=''\n",
    "        start=0\n",
    "        for line in f:\n",
    "            if line[0:len(line)-1]!='.\\tO':\n",
    "                word,entity=line.split('\\t')\n",
    "                s+=word+\" \"\n",
    "                entity=entity[:len(entity)-1]\n",
    "                if entity not in unknown_label_list:\n",
    "                    if len(entity) != 1:\n",
    "                        d={}\n",
    "                        d['text']=word\n",
    "                        d['start']=start\n",
    "                        d['end']=start+len(word)-1  \n",
    "                        try:\n",
    "                            label_dict[entity].append(d)\n",
    "                        except:\n",
    "                            label_dict[entity]=[]\n",
    "                            label_dict[entity].append(d) \n",
    "                start+=len(word)+1\n",
    "            else:\n",
    "                data_dict['content']=s\n",
    "                s=''\n",
    "                label_list=[]\n",
    "                for ents in list(label_dict.keys()):\n",
    "                    for i in range(len(label_dict[ents])):\n",
    "                        if(label_dict[ents][i]['text']!=''):\n",
    "                            l=[ents,label_dict[ents][i]]\n",
    "                            for j in range(i+1,len(label_dict[ents])): \n",
    "                                if(label_dict[ents][i]['text']==label_dict[ents][j]['text']):  \n",
    "                                    di={}\n",
    "                                    di['start']=label_dict[ents][j]['start']\n",
    "                                    di['end']=label_dict[ents][j]['end']\n",
    "                                    di['text']=label_dict[ents][i]['text']\n",
    "                                    l.append(di)\n",
    "                                    label_dict[ents][j]['text']=''\n",
    "                            label_list.append(l)                          \n",
    "                            \n",
    "                for entities in label_list:\n",
    "                    label={}\n",
    "                    label['label']=[entities[0]]\n",
    "                    label['points']=entities[1:]\n",
    "                    annotations.append(label)\n",
    "                data_dict['annotation']=annotations\n",
    "                annotations=[]\n",
    "                json.dump(data_dict, fp)\n",
    "                fp.write('\\n')\n",
    "                data_dict={}\n",
    "                start=0\n",
    "                label_dict={}\n",
    "    except Exception as e:\n",
    "        logging.exception(\"Unable to process file\" + \"\\n\" + \"error = \" + str(e))\n",
    "        return None"
   ]
  },
  {
   "cell_type": "code",
   "execution_count": 25,
   "metadata": {},
   "outputs": [],
   "source": [
    "tsv_to_json_format(\"/Users/patsnap/Desktop/Neo4J_and_other_codes/SPacy_trial_data/8184428/train.tsv\",'/Users/patsnap/Desktop/Neo4J_and_other_codes/SPacy_trial_data/8184428/train.json',unknown_label_list)"
   ]
  },
  {
   "cell_type": "code",
   "execution_count": 26,
   "metadata": {},
   "outputs": [],
   "source": [
    "training_data = []\n",
    "lines=[]\n",
    "with open(\"/Users/patsnap/Desktop/Neo4J_and_other_codes/SPacy_trial_data/8184428/train.json\", 'r') as f:\n",
    "    lines = f.readlines()\n",
    "for line in lines:\n",
    "    data = json.loads(line)\n",
    "    text = data['content']\n",
    "    entities = []\n",
    "    for annotation in data['annotation']:\n",
    "        point = annotation['points'][0]\n",
    "        labels = annotation['label']\n",
    "        if not isinstance(labels, list):\n",
    "            labels = [labels]\n",
    "\n",
    "        for label in labels:\n",
    "            entities.append((point['start'], point['end'] + 1 ,label))\n",
    "\n",
    "\n",
    "    training_data.append((text, {\"entities\" : entities}))"
   ]
  },
  {
   "cell_type": "code",
   "execution_count": 27,
   "metadata": {},
   "outputs": [],
   "source": [
    "# Training additional entity types using spaCy\n",
    "from __future__ import unicode_literals, print_function\n",
    "import pickle\n",
    "import plac\n",
    "import random\n",
    "from pathlib import Path\n",
    "import spacy\n",
    "from spacy.util import minibatch, compounding"
   ]
  },
  {
   "cell_type": "code",
   "execution_count": 28,
   "metadata": {},
   "outputs": [],
   "source": [
    "LABEL = df['labels'].tolist()\n",
    "LABEL = list(set(LABEL))\n",
    "LABEL = [x for x in LABEL if x] \n",
    "LABEL = [x for x in LABEL if x not in unknown_label_list]"
   ]
  },
  {
   "cell_type": "code",
   "execution_count": 29,
   "metadata": {},
   "outputs": [
    {
     "data": {
      "text/plain": [
       "['Sample descriptor',\n",
       " 'Material property',\n",
       " 'Material application',\n",
       " 'Synthesis method',\n",
       " 'Symmetry Label',\n",
       " 'Characterization method',\n",
       " 'Inorganic material']"
      ]
     },
     "execution_count": 29,
     "metadata": {},
     "output_type": "execute_result"
    }
   ],
   "source": [
    "LABEL"
   ]
  },
  {
   "cell_type": "code",
   "execution_count": 30,
   "metadata": {},
   "outputs": [],
   "source": [
    "TRAIN_DATA = training_data"
   ]
  },
  {
   "cell_type": "code",
   "execution_count": 31,
   "metadata": {},
   "outputs": [],
   "source": [
    "#adding new entities to blank model\n",
    "nlp = spacy.blank('en')\n",
    "ner = nlp.create_pipe(\"ner\")\n",
    "nlp.add_pipe(ner)\n",
    "for i in LABEL:\n",
    "    ner.add_label(i)\n",
    "optimizer = nlp.begin_training()"
   ]
  },
  {
   "cell_type": "code",
   "execution_count": 32,
   "metadata": {},
   "outputs": [],
   "source": [
    "# #SPacy Training syntax - Code 1\n",
    "# other_pipes = [pipe for pipe in nlp.pipe_names if pipe != 'ner']\n",
    "# with nlp.disable_pipes(*other_pipes):  # only train NER\n",
    "#     for itn in range(500):\n",
    "#         random.shuffle(TRAIN_DATA)\n",
    "#         losses = {}\n",
    "#         batches = minibatch(TRAIN_DATA, size=2)\n",
    "#         for batch in batches:\n",
    "#             texts = [text for text,annotations in batch]\n",
    "#             annotations = [annotations for text,annotations in batch]\n",
    "#             nlp.update(texts, annotations, losses = losses)\n",
    "#             print(losses)"
   ]
  },
  {
   "cell_type": "code",
   "execution_count": 33,
   "metadata": {
    "scrolled": false
   },
   "outputs": [
    {
     "name": "stdout",
     "output_type": "stream",
     "text": [
      "Losses {'ner': 36906.452446693314}\n",
      "Losses {'ner': 27985.315468629782}\n"
     ]
    }
   ],
   "source": [
    "#SPacy Training syntax - Code 2\n",
    "other_pipes = [pipe for pipe in nlp.pipe_names if pipe != 'ner']\n",
    "with nlp.disable_pipes(*other_pipes):  # only train NER\n",
    "    for itn in range(2):\n",
    "        random.shuffle(TRAIN_DATA)\n",
    "        losses = {}\n",
    "        batches = minibatch(TRAIN_DATA, size=compounding(4., 32., 1.001))\n",
    "        for batch in batches:\n",
    "            texts, annotations = zip(*batch)\n",
    "            nlp.update(texts, annotations, sgd=optimizer, drop=0.35,\n",
    "                       losses=losses)\n",
    "        print('Losses', losses)\n",
    "#number of iterations - try 100"
   ]
  },
  {
   "cell_type": "code",
   "execution_count": 34,
   "metadata": {},
   "outputs": [],
   "source": [
    "text = 'The biological application of photoactivatable ruthenium anticancer prodrugs is limited by the need to use poorly penetrating high-energy visible light for their activation. Upconverting nanoparticles (UCNPs), which produce high-energy light under near-infrared (NIR) excitation, can solve this issue, provided that they form stable, water (H2O)-dispersible nanoconjugates with the prodrug and that there is efficient energy transfer from the UCNP to the ruthenium complex. Herein, we report on the synthesis and photochemistry of the ruthenium(II) polypyridyl complex [Ru(bpy)2(3H)](PF6)2 ([1](PF6)2), where bpy = 2,2-bipyridine and 3H is a photocleavable bis(thioether) ligand modified with two phosphonate moieties. This ligand was coordinated to the ruthenium center through its thioether groups and could be dissociated under blue-light irradiation. Complex [1](PF6)2 was bound to the surface of NaYF4:Yb3+,Tm3+@NaYF4:Nd3+@NaYF4 core–shell–shell (CSS-)UCNPs through its bis(phosphonate) group, thereby creating a H2O-dispersible, thermally stable nanoconjugate (CSS-UCNP@[1]). Conjugation to the nanoparticle surface was found to be most efficient in neutral to slightly basic conditions, resulting in up to 2.4 × 103 RuII ions per UCNP. The incorporation of a neodymium-doped shell layer allowed for the generation of blue light using low-energy, deep-penetrating light (796 nm). This wavelength prevents the undesired heating seen with conventional UCNPs activated at 980 nm. Irradiation of CSS-UCNP@[1] with NIR light led to activation of the ruthenium complex [1](PF6)2. Although only one of the two thioether groups was dissociated under irradiation at 50 W·cm–2, we provide the first demonstration of the photoactivation of a ruthenium thioether complex using 796 nm irradiation of a H2O-dispersible nanoconjugate.' "
   ]
  },
  {
   "cell_type": "code",
   "execution_count": 35,
   "metadata": {},
   "outputs": [],
   "source": [
    " from spacy import displacy\n",
    "# doc2 = nlp(text_2)\n",
    "# displacy.render(doc2, style=\"ent\")"
   ]
  },
  {
   "cell_type": "code",
   "execution_count": 36,
   "metadata": {
    "scrolled": true
   },
   "outputs": [],
   "source": [
    "# #update existing scispacy model with matscholar data - (Code 3)\n",
    "# nlp = spacy.load(\"en_core_sci_sm\")\n",
    "# if \"ner\" not in nlp.pipe_names:\n",
    "#     ner = nlp.create_pipe(\"ner\")\n",
    "#     nlp.add_pipe(ner, last=True)\n",
    "# else:\n",
    "#     ner = nlp.get_pipe(\"ner\")\n",
    "# for i in LABEL:\n",
    "#     ner.add_label(i)"
   ]
  },
  {
   "cell_type": "code",
   "execution_count": 37,
   "metadata": {},
   "outputs": [],
   "source": [
    "# pipe_exceptions = [\"ner\", \"trf_wordpiecer\", \"trf_tok2vec\"]\n",
    "# other_pipes = [pipe for pipe in nlp.pipe_names if pipe not in pipe_exceptions]\n",
    "# with nlp.disable_pipes(*other_pipes):\n",
    "#     nlp.begin_training()\n",
    "#     for itn in range(500):\n",
    "#         random.shuffle(TRAIN_DATA)\n",
    "#         losses = {}\n",
    "#         batches = minibatch(TRAIN_DATA, size=compounding(4., 32., 1.001))\n",
    "#         for batch in batches:\n",
    "#             texts, annotations = zip(*batch)\n",
    "#             nlp.update(texts, annotations, drop=0.35,\n",
    "#                        losses=losses)\n",
    "#         print('Losses', losses)"
   ]
  },
  {
   "cell_type": "code",
   "execution_count": 38,
   "metadata": {},
   "outputs": [],
   "source": [
    "nlp.to_disk('/Users/patsnap/Desktop/Neo4J_and_other_codes/Spacy_codes/spacy_models')"
   ]
  },
  {
   "cell_type": "code",
   "execution_count": 39,
   "metadata": {},
   "outputs": [
    {
     "data": {
      "text/html": [
       "<div class=\"entities\" style=\"line-height: 2.5; direction: ltr\">The biological application of photoactivatable \n",
       "<mark class=\"entity\" style=\"background: #ddd; padding: 0.45em 0.6em; margin: 0 0.25em; line-height: 1; border-radius: 0.35em;\">\n",
       "    ruthenium\n",
       "    <span style=\"font-size: 0.8em; font-weight: bold; line-height: 1; border-radius: 0.35em; text-transform: uppercase; vertical-align: middle; margin-left: 0.5rem\">Inorganic material</span>\n",
       "</mark>\n",
       " anticancer prodrugs is limited by the need to use poorly \n",
       "<mark class=\"entity\" style=\"background: #ddd; padding: 0.45em 0.6em; margin: 0 0.25em; line-height: 1; border-radius: 0.35em;\">\n",
       "    penetrating\n",
       "    <span style=\"font-size: 0.8em; font-weight: bold; line-height: 1; border-radius: 0.35em; text-transform: uppercase; vertical-align: middle; margin-left: 0.5rem\">Synthesis method</span>\n",
       "</mark>\n",
       " \n",
       "<mark class=\"entity\" style=\"background: #ddd; padding: 0.45em 0.6em; margin: 0 0.25em; line-height: 1; border-radius: 0.35em;\">\n",
       "    high\n",
       "    <span style=\"font-size: 0.8em; font-weight: bold; line-height: 1; border-radius: 0.35em; text-transform: uppercase; vertical-align: middle; margin-left: 0.5rem\">Synthesis method</span>\n",
       "</mark>\n",
       "-energy \n",
       "<mark class=\"entity\" style=\"background: #ddd; padding: 0.45em 0.6em; margin: 0 0.25em; line-height: 1; border-radius: 0.35em;\">\n",
       "    visible\n",
       "    <span style=\"font-size: 0.8em; font-weight: bold; line-height: 1; border-radius: 0.35em; text-transform: uppercase; vertical-align: middle; margin-left: 0.5rem\">Material property</span>\n",
       "</mark>\n",
       " light for their activation. Upconverting \n",
       "<mark class=\"entity\" style=\"background: #ddd; padding: 0.45em 0.6em; margin: 0 0.25em; line-height: 1; border-radius: 0.35em;\">\n",
       "    nanoparticles\n",
       "    <span style=\"font-size: 0.8em; font-weight: bold; line-height: 1; border-radius: 0.35em; text-transform: uppercase; vertical-align: middle; margin-left: 0.5rem\">Sample descriptor</span>\n",
       "</mark>\n",
       " (UCNPs), which produce high-energy light under \n",
       "<mark class=\"entity\" style=\"background: #ddd; padding: 0.45em 0.6em; margin: 0 0.25em; line-height: 1; border-radius: 0.35em;\">\n",
       "    near\n",
       "    <span style=\"font-size: 0.8em; font-weight: bold; line-height: 1; border-radius: 0.35em; text-transform: uppercase; vertical-align: middle; margin-left: 0.5rem\">Characterization method</span>\n",
       "</mark>\n",
       "\n",
       "<mark class=\"entity\" style=\"background: #ddd; padding: 0.45em 0.6em; margin: 0 0.25em; line-height: 1; border-radius: 0.35em;\">\n",
       "    -\n",
       "    <span style=\"font-size: 0.8em; font-weight: bold; line-height: 1; border-radius: 0.35em; text-transform: uppercase; vertical-align: middle; margin-left: 0.5rem\">Characterization method</span>\n",
       "</mark>\n",
       "\n",
       "<mark class=\"entity\" style=\"background: #ddd; padding: 0.45em 0.6em; margin: 0 0.25em; line-height: 1; border-radius: 0.35em;\">\n",
       "    infrared\n",
       "    <span style=\"font-size: 0.8em; font-weight: bold; line-height: 1; border-radius: 0.35em; text-transform: uppercase; vertical-align: middle; margin-left: 0.5rem\">Characterization method</span>\n",
       "</mark>\n",
       " (\n",
       "<mark class=\"entity\" style=\"background: #ddd; padding: 0.45em 0.6em; margin: 0 0.25em; line-height: 1; border-radius: 0.35em;\">\n",
       "    NIR\n",
       "    <span style=\"font-size: 0.8em; font-weight: bold; line-height: 1; border-radius: 0.35em; text-transform: uppercase; vertical-align: middle; margin-left: 0.5rem\">Characterization method</span>\n",
       "</mark>\n",
       ") excitation, can solve this issue, provided that they form stable, water (H2O)-dispersible \n",
       "<mark class=\"entity\" style=\"background: #ddd; padding: 0.45em 0.6em; margin: 0 0.25em; line-height: 1; border-radius: 0.35em;\">\n",
       "    nanoconjugates\n",
       "    <span style=\"font-size: 0.8em; font-weight: bold; line-height: 1; border-radius: 0.35em; text-transform: uppercase; vertical-align: middle; margin-left: 0.5rem\">Sample descriptor</span>\n",
       "</mark>\n",
       " with the prodrug and that there is efficient \n",
       "<mark class=\"entity\" style=\"background: #ddd; padding: 0.45em 0.6em; margin: 0 0.25em; line-height: 1; border-radius: 0.35em;\">\n",
       "    energy\n",
       "    <span style=\"font-size: 0.8em; font-weight: bold; line-height: 1; border-radius: 0.35em; text-transform: uppercase; vertical-align: middle; margin-left: 0.5rem\">Material property</span>\n",
       "</mark>\n",
       " \n",
       "<mark class=\"entity\" style=\"background: #ddd; padding: 0.45em 0.6em; margin: 0 0.25em; line-height: 1; border-radius: 0.35em;\">\n",
       "    transfer\n",
       "    <span style=\"font-size: 0.8em; font-weight: bold; line-height: 1; border-radius: 0.35em; text-transform: uppercase; vertical-align: middle; margin-left: 0.5rem\">Material property</span>\n",
       "</mark>\n",
       " from the UCNP to the \n",
       "<mark class=\"entity\" style=\"background: #ddd; padding: 0.45em 0.6em; margin: 0 0.25em; line-height: 1; border-radius: 0.35em;\">\n",
       "    ruthenium\n",
       "    <span style=\"font-size: 0.8em; font-weight: bold; line-height: 1; border-radius: 0.35em; text-transform: uppercase; vertical-align: middle; margin-left: 0.5rem\">Inorganic material</span>\n",
       "</mark>\n",
       " complex. Herein, we report on the synthesis and photochemistry of the ruthenium(II) \n",
       "<mark class=\"entity\" style=\"background: #ddd; padding: 0.45em 0.6em; margin: 0 0.25em; line-height: 1; border-radius: 0.35em;\">\n",
       "    polypyridyl\n",
       "    <span style=\"font-size: 0.8em; font-weight: bold; line-height: 1; border-radius: 0.35em; text-transform: uppercase; vertical-align: middle; margin-left: 0.5rem\">Material property</span>\n",
       "</mark>\n",
       " \n",
       "<mark class=\"entity\" style=\"background: #ddd; padding: 0.45em 0.6em; margin: 0 0.25em; line-height: 1; border-radius: 0.35em;\">\n",
       "    complex\n",
       "    <span style=\"font-size: 0.8em; font-weight: bold; line-height: 1; border-radius: 0.35em; text-transform: uppercase; vertical-align: middle; margin-left: 0.5rem\">Material property</span>\n",
       "</mark>\n",
       " \n",
       "<mark class=\"entity\" style=\"background: #ddd; padding: 0.45em 0.6em; margin: 0 0.25em; line-height: 1; border-radius: 0.35em;\">\n",
       "    [Ru(bpy)2(3H)](PF6)2 (\n",
       "    <span style=\"font-size: 0.8em; font-weight: bold; line-height: 1; border-radius: 0.35em; text-transform: uppercase; vertical-align: middle; margin-left: 0.5rem\">Inorganic material</span>\n",
       "</mark>\n",
       "\n",
       "<mark class=\"entity\" style=\"background: #ddd; padding: 0.45em 0.6em; margin: 0 0.25em; line-height: 1; border-radius: 0.35em;\">\n",
       "    [1](PF6)2\n",
       "    <span style=\"font-size: 0.8em; font-weight: bold; line-height: 1; border-radius: 0.35em; text-transform: uppercase; vertical-align: middle; margin-left: 0.5rem\">Inorganic material</span>\n",
       "</mark>\n",
       "), where bpy \n",
       "<mark class=\"entity\" style=\"background: #ddd; padding: 0.45em 0.6em; margin: 0 0.25em; line-height: 1; border-radius: 0.35em;\">\n",
       "    =\n",
       "    <span style=\"font-size: 0.8em; font-weight: bold; line-height: 1; border-radius: 0.35em; text-transform: uppercase; vertical-align: middle; margin-left: 0.5rem\">Inorganic material</span>\n",
       "</mark>\n",
       " 2,2-bipyridine and 3H is a photocleavable bis(thioether) ligand modified with two phosphonate moieties. This ligand was coordinated to the \n",
       "<mark class=\"entity\" style=\"background: #ddd; padding: 0.45em 0.6em; margin: 0 0.25em; line-height: 1; border-radius: 0.35em;\">\n",
       "    ruthenium\n",
       "    <span style=\"font-size: 0.8em; font-weight: bold; line-height: 1; border-radius: 0.35em; text-transform: uppercase; vertical-align: middle; margin-left: 0.5rem\">Inorganic material</span>\n",
       "</mark>\n",
       " center through its thioether groups and could be dissociated under blue-light irradiation. Complex [1](PF6)2 was bound to the \n",
       "<mark class=\"entity\" style=\"background: #ddd; padding: 0.45em 0.6em; margin: 0 0.25em; line-height: 1; border-radius: 0.35em;\">\n",
       "    surface\n",
       "    <span style=\"font-size: 0.8em; font-weight: bold; line-height: 1; border-radius: 0.35em; text-transform: uppercase; vertical-align: middle; margin-left: 0.5rem\">Sample descriptor</span>\n",
       "</mark>\n",
       " of \n",
       "<mark class=\"entity\" style=\"background: #ddd; padding: 0.45em 0.6em; margin: 0 0.25em; line-height: 1; border-radius: 0.35em;\">\n",
       "    NaYF4\n",
       "    <span style=\"font-size: 0.8em; font-weight: bold; line-height: 1; border-radius: 0.35em; text-transform: uppercase; vertical-align: middle; margin-left: 0.5rem\">Inorganic material</span>\n",
       "</mark>\n",
       ":\n",
       "<mark class=\"entity\" style=\"background: #ddd; padding: 0.45em 0.6em; margin: 0 0.25em; line-height: 1; border-radius: 0.35em;\">\n",
       "    Yb3+,Tm3+@NaYF4\n",
       "    <span style=\"font-size: 0.8em; font-weight: bold; line-height: 1; border-radius: 0.35em; text-transform: uppercase; vertical-align: middle; margin-left: 0.5rem\">Inorganic material</span>\n",
       "</mark>\n",
       ":\n",
       "<mark class=\"entity\" style=\"background: #ddd; padding: 0.45em 0.6em; margin: 0 0.25em; line-height: 1; border-radius: 0.35em;\">\n",
       "    Nd3+@NaYF4\n",
       "    <span style=\"font-size: 0.8em; font-weight: bold; line-height: 1; border-radius: 0.35em; text-transform: uppercase; vertical-align: middle; margin-left: 0.5rem\">Inorganic material</span>\n",
       "</mark>\n",
       " \n",
       "<mark class=\"entity\" style=\"background: #ddd; padding: 0.45em 0.6em; margin: 0 0.25em; line-height: 1; border-radius: 0.35em;\">\n",
       "    core\n",
       "    <span style=\"font-size: 0.8em; font-weight: bold; line-height: 1; border-radius: 0.35em; text-transform: uppercase; vertical-align: middle; margin-left: 0.5rem\">Sample descriptor</span>\n",
       "</mark>\n",
       "–\n",
       "<mark class=\"entity\" style=\"background: #ddd; padding: 0.45em 0.6em; margin: 0 0.25em; line-height: 1; border-radius: 0.35em;\">\n",
       "    shell\n",
       "    <span style=\"font-size: 0.8em; font-weight: bold; line-height: 1; border-radius: 0.35em; text-transform: uppercase; vertical-align: middle; margin-left: 0.5rem\">Material application</span>\n",
       "</mark>\n",
       "–\n",
       "<mark class=\"entity\" style=\"background: #ddd; padding: 0.45em 0.6em; margin: 0 0.25em; line-height: 1; border-radius: 0.35em;\">\n",
       "    shell\n",
       "    <span style=\"font-size: 0.8em; font-weight: bold; line-height: 1; border-radius: 0.35em; text-transform: uppercase; vertical-align: middle; margin-left: 0.5rem\">Material application</span>\n",
       "</mark>\n",
       " (\n",
       "<mark class=\"entity\" style=\"background: #ddd; padding: 0.45em 0.6em; margin: 0 0.25em; line-height: 1; border-radius: 0.35em;\">\n",
       "    CSS-)UCNPs\n",
       "    <span style=\"font-size: 0.8em; font-weight: bold; line-height: 1; border-radius: 0.35em; text-transform: uppercase; vertical-align: middle; margin-left: 0.5rem\">Inorganic material</span>\n",
       "</mark>\n",
       " through its bis(phosphonate) group, thereby creating a H2O-dispersible, \n",
       "<mark class=\"entity\" style=\"background: #ddd; padding: 0.45em 0.6em; margin: 0 0.25em; line-height: 1; border-radius: 0.35em;\">\n",
       "    thermally\n",
       "    <span style=\"font-size: 0.8em; font-weight: bold; line-height: 1; border-radius: 0.35em; text-transform: uppercase; vertical-align: middle; margin-left: 0.5rem\">Material property</span>\n",
       "</mark>\n",
       " \n",
       "<mark class=\"entity\" style=\"background: #ddd; padding: 0.45em 0.6em; margin: 0 0.25em; line-height: 1; border-radius: 0.35em;\">\n",
       "    stable\n",
       "    <span style=\"font-size: 0.8em; font-weight: bold; line-height: 1; border-radius: 0.35em; text-transform: uppercase; vertical-align: middle; margin-left: 0.5rem\">Material property</span>\n",
       "</mark>\n",
       " nanoconjugate (CSS-UCNP@[1]). Conjugation to the \n",
       "<mark class=\"entity\" style=\"background: #ddd; padding: 0.45em 0.6em; margin: 0 0.25em; line-height: 1; border-radius: 0.35em;\">\n",
       "    nanoparticle\n",
       "    <span style=\"font-size: 0.8em; font-weight: bold; line-height: 1; border-radius: 0.35em; text-transform: uppercase; vertical-align: middle; margin-left: 0.5rem\">Sample descriptor</span>\n",
       "</mark>\n",
       " \n",
       "<mark class=\"entity\" style=\"background: #ddd; padding: 0.45em 0.6em; margin: 0 0.25em; line-height: 1; border-radius: 0.35em;\">\n",
       "    surface\n",
       "    <span style=\"font-size: 0.8em; font-weight: bold; line-height: 1; border-radius: 0.35em; text-transform: uppercase; vertical-align: middle; margin-left: 0.5rem\">Sample descriptor</span>\n",
       "</mark>\n",
       " was found to be most efficient in neutral to slightly basic conditions, resulting in up to 2.4 × 103 RuII ions per \n",
       "<mark class=\"entity\" style=\"background: #ddd; padding: 0.45em 0.6em; margin: 0 0.25em; line-height: 1; border-radius: 0.35em;\">\n",
       "    UCNP\n",
       "    <span style=\"font-size: 0.8em; font-weight: bold; line-height: 1; border-radius: 0.35em; text-transform: uppercase; vertical-align: middle; margin-left: 0.5rem\">Synthesis method</span>\n",
       "</mark>\n",
       ". The incorporation of a \n",
       "<mark class=\"entity\" style=\"background: #ddd; padding: 0.45em 0.6em; margin: 0 0.25em; line-height: 1; border-radius: 0.35em;\">\n",
       "    neodymium\n",
       "    <span style=\"font-size: 0.8em; font-weight: bold; line-height: 1; border-radius: 0.35em; text-transform: uppercase; vertical-align: middle; margin-left: 0.5rem\">Inorganic material</span>\n",
       "</mark>\n",
       "-\n",
       "<mark class=\"entity\" style=\"background: #ddd; padding: 0.45em 0.6em; margin: 0 0.25em; line-height: 1; border-radius: 0.35em;\">\n",
       "    doped\n",
       "    <span style=\"font-size: 0.8em; font-weight: bold; line-height: 1; border-radius: 0.35em; text-transform: uppercase; vertical-align: middle; margin-left: 0.5rem\">Sample descriptor</span>\n",
       "</mark>\n",
       " \n",
       "<mark class=\"entity\" style=\"background: #ddd; padding: 0.45em 0.6em; margin: 0 0.25em; line-height: 1; border-radius: 0.35em;\">\n",
       "    shell\n",
       "    <span style=\"font-size: 0.8em; font-weight: bold; line-height: 1; border-radius: 0.35em; text-transform: uppercase; vertical-align: middle; margin-left: 0.5rem\">Sample descriptor</span>\n",
       "</mark>\n",
       " \n",
       "<mark class=\"entity\" style=\"background: #ddd; padding: 0.45em 0.6em; margin: 0 0.25em; line-height: 1; border-radius: 0.35em;\">\n",
       "    layer\n",
       "    <span style=\"font-size: 0.8em; font-weight: bold; line-height: 1; border-radius: 0.35em; text-transform: uppercase; vertical-align: middle; margin-left: 0.5rem\">Sample descriptor</span>\n",
       "</mark>\n",
       " allowed for the generation of blue light using \n",
       "<mark class=\"entity\" style=\"background: #ddd; padding: 0.45em 0.6em; margin: 0 0.25em; line-height: 1; border-radius: 0.35em;\">\n",
       "    low\n",
       "    <span style=\"font-size: 0.8em; font-weight: bold; line-height: 1; border-radius: 0.35em; text-transform: uppercase; vertical-align: middle; margin-left: 0.5rem\">Synthesis method</span>\n",
       "</mark>\n",
       "\n",
       "<mark class=\"entity\" style=\"background: #ddd; padding: 0.45em 0.6em; margin: 0 0.25em; line-height: 1; border-radius: 0.35em;\">\n",
       "    -\n",
       "    <span style=\"font-size: 0.8em; font-weight: bold; line-height: 1; border-radius: 0.35em; text-transform: uppercase; vertical-align: middle; margin-left: 0.5rem\">Synthesis method</span>\n",
       "</mark>\n",
       "energy, \n",
       "<mark class=\"entity\" style=\"background: #ddd; padding: 0.45em 0.6em; margin: 0 0.25em; line-height: 1; border-radius: 0.35em;\">\n",
       "    deep\n",
       "    <span style=\"font-size: 0.8em; font-weight: bold; line-height: 1; border-radius: 0.35em; text-transform: uppercase; vertical-align: middle; margin-left: 0.5rem\">Material property</span>\n",
       "</mark>\n",
       "-penetrating \n",
       "<mark class=\"entity\" style=\"background: #ddd; padding: 0.45em 0.6em; margin: 0 0.25em; line-height: 1; border-radius: 0.35em;\">\n",
       "    light\n",
       "    <span style=\"font-size: 0.8em; font-weight: bold; line-height: 1; border-radius: 0.35em; text-transform: uppercase; vertical-align: middle; margin-left: 0.5rem\">Material property</span>\n",
       "</mark>\n",
       " (796 nm). This wavelength prevents the undesired \n",
       "<mark class=\"entity\" style=\"background: #ddd; padding: 0.45em 0.6em; margin: 0 0.25em; line-height: 1; border-radius: 0.35em;\">\n",
       "    heating\n",
       "    <span style=\"font-size: 0.8em; font-weight: bold; line-height: 1; border-radius: 0.35em; text-transform: uppercase; vertical-align: middle; margin-left: 0.5rem\">Synthesis method</span>\n",
       "</mark>\n",
       " seen with conventional UCNPs activated at 980 nm. Irradiation of CSS-UCNP@[1] with NIR light led to activation of the \n",
       "<mark class=\"entity\" style=\"background: #ddd; padding: 0.45em 0.6em; margin: 0 0.25em; line-height: 1; border-radius: 0.35em;\">\n",
       "    ruthenium\n",
       "    <span style=\"font-size: 0.8em; font-weight: bold; line-height: 1; border-radius: 0.35em; text-transform: uppercase; vertical-align: middle; margin-left: 0.5rem\">Inorganic material</span>\n",
       "</mark>\n",
       " complex \n",
       "<mark class=\"entity\" style=\"background: #ddd; padding: 0.45em 0.6em; margin: 0 0.25em; line-height: 1; border-radius: 0.35em;\">\n",
       "    [1](PF6)2\n",
       "    <span style=\"font-size: 0.8em; font-weight: bold; line-height: 1; border-radius: 0.35em; text-transform: uppercase; vertical-align: middle; margin-left: 0.5rem\">Inorganic material</span>\n",
       "</mark>\n",
       ". Although only one of the two thioether groups was dissociated under \n",
       "<mark class=\"entity\" style=\"background: #ddd; padding: 0.45em 0.6em; margin: 0 0.25em; line-height: 1; border-radius: 0.35em;\">\n",
       "    irradiation\n",
       "    <span style=\"font-size: 0.8em; font-weight: bold; line-height: 1; border-radius: 0.35em; text-transform: uppercase; vertical-align: middle; margin-left: 0.5rem\">Synthesis method</span>\n",
       "</mark>\n",
       " at 50 \n",
       "<mark class=\"entity\" style=\"background: #ddd; padding: 0.45em 0.6em; margin: 0 0.25em; line-height: 1; border-radius: 0.35em;\">\n",
       "    W·cm–2\n",
       "    <span style=\"font-size: 0.8em; font-weight: bold; line-height: 1; border-radius: 0.35em; text-transform: uppercase; vertical-align: middle; margin-left: 0.5rem\">Inorganic material</span>\n",
       "</mark>\n",
       ", we provide the first demonstration of the photoactivation of a \n",
       "<mark class=\"entity\" style=\"background: #ddd; padding: 0.45em 0.6em; margin: 0 0.25em; line-height: 1; border-radius: 0.35em;\">\n",
       "    ruthenium\n",
       "    <span style=\"font-size: 0.8em; font-weight: bold; line-height: 1; border-radius: 0.35em; text-transform: uppercase; vertical-align: middle; margin-left: 0.5rem\">Inorganic material</span>\n",
       "</mark>\n",
       " thioether complex using 796 nm irradiation of a H2O-dispersible \n",
       "<mark class=\"entity\" style=\"background: #ddd; padding: 0.45em 0.6em; margin: 0 0.25em; line-height: 1; border-radius: 0.35em;\">\n",
       "    nanoconjugate\n",
       "    <span style=\"font-size: 0.8em; font-weight: bold; line-height: 1; border-radius: 0.35em; text-transform: uppercase; vertical-align: middle; margin-left: 0.5rem\">Sample descriptor</span>\n",
       "</mark>\n",
       ".</div>"
      ],
      "text/plain": [
       "<IPython.core.display.HTML object>"
      ]
     },
     "metadata": {},
     "output_type": "display_data"
    }
   ],
   "source": [
    "doc2 = nlp(text)\n",
    "displacy.render(doc2, style=\"ent\")"
   ]
  },
  {
   "cell_type": "code",
   "execution_count": 40,
   "metadata": {},
   "outputs": [],
   "source": [
    "df2 = pd.read_fwf('/Users/patsnap/Desktop/Neo4J_and_other_codes/SPacy_trial_data/8184428/dev.txt',header =None)\n",
    "df2.columns = ['Words', 'unnecessary']\n",
    "df2 = df2.drop(['unnecessary'], axis = 1)\n",
    "df2 = df2.fillna(\"\")"
   ]
  },
  {
   "cell_type": "code",
   "execution_count": 41,
   "metadata": {},
   "outputs": [
    {
     "data": {
      "text/html": [
       "<div>\n",
       "<style scoped>\n",
       "    .dataframe tbody tr th:only-of-type {\n",
       "        vertical-align: middle;\n",
       "    }\n",
       "\n",
       "    .dataframe tbody tr th {\n",
       "        vertical-align: top;\n",
       "    }\n",
       "\n",
       "    .dataframe thead th {\n",
       "        text-align: right;\n",
       "    }\n",
       "</style>\n",
       "<table border=\"1\" class=\"dataframe\">\n",
       "  <thead>\n",
       "    <tr style=\"text-align: right;\">\n",
       "      <th></th>\n",
       "      <th>Words</th>\n",
       "    </tr>\n",
       "  </thead>\n",
       "  <tbody>\n",
       "    <tr>\n",
       "      <th>0</th>\n",
       "      <td>[hydrogen, B-CMT]</td>\n",
       "    </tr>\n",
       "    <tr>\n",
       "      <th>1</th>\n",
       "      <td>[diffusion, I-CMT]</td>\n",
       "    </tr>\n",
       "    <tr>\n",
       "      <th>2</th>\n",
       "      <td>[studies, I-CMT]</td>\n",
       "    </tr>\n",
       "    <tr>\n",
       "      <th>3</th>\n",
       "      <td>[in, O]</td>\n",
       "    </tr>\n",
       "    <tr>\n",
       "      <th>4</th>\n",
       "      <td>[Zr, B-MAT]</td>\n",
       "    </tr>\n",
       "  </tbody>\n",
       "</table>\n",
       "</div>"
      ],
      "text/plain": [
       "                Words\n",
       "0   [hydrogen, B-CMT]\n",
       "1  [diffusion, I-CMT]\n",
       "2    [studies, I-CMT]\n",
       "3             [in, O]\n",
       "4         [Zr, B-MAT]"
      ]
     },
     "execution_count": 41,
     "metadata": {},
     "output_type": "execute_result"
    }
   ],
   "source": [
    "df2['Words'] = df2['Words'].str.split(\" \")\n",
    "df2.head()"
   ]
  },
  {
   "cell_type": "code",
   "execution_count": 42,
   "metadata": {},
   "outputs": [
    {
     "data": {
      "text/html": [
       "<div>\n",
       "<style scoped>\n",
       "    .dataframe tbody tr th:only-of-type {\n",
       "        vertical-align: middle;\n",
       "    }\n",
       "\n",
       "    .dataframe tbody tr th {\n",
       "        vertical-align: top;\n",
       "    }\n",
       "\n",
       "    .dataframe thead th {\n",
       "        text-align: right;\n",
       "    }\n",
       "</style>\n",
       "<table border=\"1\" class=\"dataframe\">\n",
       "  <thead>\n",
       "    <tr style=\"text-align: right;\">\n",
       "      <th></th>\n",
       "      <th>code_0</th>\n",
       "      <th>code_1</th>\n",
       "    </tr>\n",
       "  </thead>\n",
       "  <tbody>\n",
       "    <tr>\n",
       "      <th>0</th>\n",
       "      <td>hydrogen</td>\n",
       "      <td>B-CMT</td>\n",
       "    </tr>\n",
       "    <tr>\n",
       "      <th>1</th>\n",
       "      <td>diffusion</td>\n",
       "      <td>I-CMT</td>\n",
       "    </tr>\n",
       "    <tr>\n",
       "      <th>2</th>\n",
       "      <td>studies</td>\n",
       "      <td>I-CMT</td>\n",
       "    </tr>\n",
       "    <tr>\n",
       "      <th>3</th>\n",
       "      <td>in</td>\n",
       "      <td>O</td>\n",
       "    </tr>\n",
       "    <tr>\n",
       "      <th>4</th>\n",
       "      <td>Zr</td>\n",
       "      <td>B-MAT</td>\n",
       "    </tr>\n",
       "  </tbody>\n",
       "</table>\n",
       "</div>"
      ],
      "text/plain": [
       "      code_0 code_1\n",
       "0   hydrogen  B-CMT\n",
       "1  diffusion  I-CMT\n",
       "2    studies  I-CMT\n",
       "3         in      O\n",
       "4         Zr  B-MAT"
      ]
     },
     "execution_count": 42,
     "metadata": {},
     "output_type": "execute_result"
    }
   ],
   "source": [
    "df2.isnull().sum().sum()\n",
    "df2 = pd.DataFrame(df2.Words.values.tolist()).add_prefix('code_')\n",
    "df2.head()"
   ]
  },
  {
   "cell_type": "code",
   "execution_count": 43,
   "metadata": {},
   "outputs": [],
   "source": [
    "#import dev set\n",
    "df2.columns = ['words','labels']\n",
    "punctuations = [x for x in string.punctuation]\n",
    "\n",
    "for index, row in df2.iterrows():\n",
    "    if row['words'] in punctuations:\n",
    "        row['labels'] == 'O'"
   ]
  },
  {
   "cell_type": "code",
   "execution_count": 44,
   "metadata": {},
   "outputs": [],
   "source": [
    "df2.labels = df2.labels.str.replace(\"B-MAT\",\"Inorganic material\")\n",
    "df2.labels = df2.labels.str.replace(\"I-MAT\",\"Inorganic material\")\n",
    "df2.labels = df2.labels.str.replace(\"B-MA\",\"Inorganic material\")\n",
    "df2.labels = df2.labels.str.replace(\"I-MA\",\"Inorganic material\")\n",
    "df2.labels = df2.labels.str.replace(\"B-M\",\"Inorganic material\")\n",
    "df2.labels = df2.labels.str.replace(\"I-M\",\"Inorganic material\")\n",
    "df2.labels = df2.labels.str.replace(\"I-SPL\",\"Symmetry Label\")\n",
    "df2.labels = df2.labels.str.replace(\"B-SPL\",\"Symmetry Label\")\n",
    "df2.labels = df2.labels.str.replace(\"I-DSC\",\"Sample descriptor\")\n",
    "df2.labels = df2.labels.str.replace(\"B-DSC\",\"Sample descriptor\")\n",
    "df2.labels = df2.labels.str.replace(\"I-DS\",\"Sample descriptor\")\n",
    "df2.labels = df2.labels.str.replace(\"B-DS\",\"Sample descriptor\")\n",
    "df2.labels = df2.labels.str.replace(\"I-D\",\"Sample descriptor\")\n",
    "df2.labels = df2.labels.str.replace(\"B-D\",\"Sample descriptor\")\n",
    "df2.labels = df2.labels.str.replace(\"I-PRO\",\"Material property\")\n",
    "df2.labels = df2.labels.str.replace(\"B-PRO\",\"Material property\")\n",
    "df2.labels = df2.labels.str.replace(\"I-PR\",\"Material property\")\n",
    "df2.labels = df2.labels.str.replace(\"B-PR\",\"Material property\")\n",
    "df2.labels = df2.labels.str.replace(\"I-P\",\"Material property\")\n",
    "df2.labels = df2.labels.str.replace(\"B-P\",\"Material property\")\n",
    "df2.labels = df2.labels.str.replace(\"I-APL\",\"Material application\")\n",
    "df2.labels = df2.labels.str.replace(\"B-APL\",\"Material application\")\n",
    "df2.labels = df2.labels.str.replace(\"I-AP\",\"Material application\")\n",
    "df2.labels = df2.labels.str.replace(\"B-AP\",\"Material application\")\n",
    "df2.labels = df2.labels.str.replace(\"I-A\",\"Material application\")\n",
    "df2.labels = df2.labels.str.replace(\"B-A\",\"Material application\")\n",
    "df2.labels = df2.labels.str.replace(\"I-SMT\",\"Synthesis method\")\n",
    "df2.labels = df2.labels.str.replace(\"B-SMT\",\"Synthesis method\")\n",
    "df2.labels = df2.labels.str.replace(\"I-SM\",\"Synthesis method\")\n",
    "df2.labels = df2.labels.str.replace(\"B-SM\",\"Synthesis method\")\n",
    "df2.labels = df2.labels.str.replace(\"I-S\",\"Synthesis method\")\n",
    "df2.labels = df2.labels.str.replace(\"B-S\",\"Synthesis method\")\n",
    "df2.labels = df2.labels.str.replace(\"I-CMT\",\"Characterization method\")\n",
    "df2.labels = df2.labels.str.replace(\"B-CMT\",\"Characterization method\")\n",
    "df2.labels = df2.labels.str.replace(\"I-CM\",\"Characterization method\")\n",
    "df2.labels = df2.labels.str.replace(\"B-CM\",\"Characterization method\")\n",
    "df2.labels = df2.labels.str.replace(\"I-C\",\"Characterization method\")\n",
    "df2.labels = df2.labels.str.replace(\"B-C\",\"Characterization method\")\n",
    "df2.to_csv('/Users/patsnap/Desktop/Neo4J_and_other_codes/SPacy_trial_data/8184428/dev.tsv', sep = '\\t',header=False, index =False)"
   ]
  },
  {
   "cell_type": "code",
   "execution_count": 45,
   "metadata": {},
   "outputs": [
    {
     "data": {
      "text/plain": [
       "['O',\n",
       " '',\n",
       " 'Sample descriptor',\n",
       " 'Material property',\n",
       " 'I',\n",
       " None,\n",
       " 'Material application',\n",
       " 'Synthesis method',\n",
       " '1/2',\n",
       " 'B',\n",
       " 'Symmetry Label',\n",
       " 'Characterization method',\n",
       " 'B-',\n",
       " 'I-',\n",
       " 'Inorganic material']"
      ]
     },
     "execution_count": 45,
     "metadata": {},
     "output_type": "execute_result"
    }
   ],
   "source": [
    "label_list = df.labels.tolist()\n",
    "label_list =list(set(label_list))\n",
    "label_list"
   ]
  },
  {
   "cell_type": "code",
   "execution_count": 46,
   "metadata": {},
   "outputs": [],
   "source": [
    "tsv_to_json_format(\"/Users/patsnap/Desktop/Neo4J_and_other_codes/SPacy_trial_data/8184428/dev.tsv\",'/Users/patsnap/Desktop/Neo4J_and_other_codes/SPacy_trial_data/8184428/dev.json',unknown_label_list)"
   ]
  },
  {
   "cell_type": "code",
   "execution_count": 47,
   "metadata": {},
   "outputs": [],
   "source": [
    "dev_data = []\n",
    "dev_dataframe = []\n",
    "lines=[]\n",
    "with open(\"/Users/patsnap/Desktop/Neo4J_and_other_codes/SPacy_trial_data/8184428/dev.json\", 'r') as f:\n",
    "    lines = f.readlines()\n",
    "for line in lines:\n",
    "    data = json.loads(line)\n",
    "    text = data['content']\n",
    "    entities = []\n",
    "    for annotation in data['annotation']:\n",
    "        point = annotation['points'][0]\n",
    "        labels = annotation['label']\n",
    "        if not isinstance(labels, list):\n",
    "            labels = [labels]\n",
    "\n",
    "        for label in labels:\n",
    "            entities.append((point['start'], point['end'] + 1 ,label))\n",
    "\n",
    "\n",
    "    dev_data.append((text, {\"entities\" : entities}))\n",
    "    dev_dataframe.append((text,entities))"
   ]
  },
  {
   "cell_type": "code",
   "execution_count": 48,
   "metadata": {},
   "outputs": [],
   "source": [
    "ner_model = spacy.load('/Users/patsnap/Desktop/Neo4J_and_other_codes/Spacy_codes/spacy_models') "
   ]
  },
  {
   "cell_type": "code",
   "execution_count": 49,
   "metadata": {},
   "outputs": [
    {
     "data": {
      "text/html": [
       "<div>\n",
       "<style scoped>\n",
       "    .dataframe tbody tr th:only-of-type {\n",
       "        vertical-align: middle;\n",
       "    }\n",
       "\n",
       "    .dataframe tbody tr th {\n",
       "        vertical-align: top;\n",
       "    }\n",
       "\n",
       "    .dataframe thead th {\n",
       "        text-align: right;\n",
       "    }\n",
       "</style>\n",
       "<table border=\"1\" class=\"dataframe\">\n",
       "  <thead>\n",
       "    <tr style=\"text-align: right;\">\n",
       "      <th></th>\n",
       "      <th>text</th>\n",
       "      <th>actual_value</th>\n",
       "    </tr>\n",
       "  </thead>\n",
       "  <tbody>\n",
       "    <tr>\n",
       "      <th>0</th>\n",
       "      <td>hydrogen diffusion studies in Zr - based laves...</td>\n",
       "      <td>[(0, 8, Characterization method), (9, 18, Char...</td>\n",
       "    </tr>\n",
       "    <tr>\n",
       "      <th>1</th>\n",
       "      <td>the diffusion constants have been determined...</td>\n",
       "      <td>[(6, 15, Material property), (16, 25, Material...</td>\n",
       "    </tr>\n",
       "    <tr>\n",
       "      <th>2</th>\n",
       "      <td>the results have been discussed on the basis...</td>\n",
       "      <td>[(50, 54, Characterization method), (55, 57, C...</td>\n",
       "    </tr>\n",
       "    <tr>\n",
       "      <th>3</th>\n",
       "      <td>the dependence of diffusion constant on allo...</td>\n",
       "      <td>[(20, 29, Material property), (30, 38, Materia...</td>\n",
       "    </tr>\n",
       "    <tr>\n",
       "      <th>4</th>\n",
       "      <td>activation energy has been obtained from the...</td>\n",
       "      <td>[(2, 12, Material property), (13, 19, Material...</td>\n",
       "    </tr>\n",
       "  </tbody>\n",
       "</table>\n",
       "</div>"
      ],
      "text/plain": [
       "                                                text  \\\n",
       "0  hydrogen diffusion studies in Zr - based laves...   \n",
       "1    the diffusion constants have been determined...   \n",
       "2    the results have been discussed on the basis...   \n",
       "3    the dependence of diffusion constant on allo...   \n",
       "4    activation energy has been obtained from the...   \n",
       "\n",
       "                                        actual_value  \n",
       "0  [(0, 8, Characterization method), (9, 18, Char...  \n",
       "1  [(6, 15, Material property), (16, 25, Material...  \n",
       "2  [(50, 54, Characterization method), (55, 57, C...  \n",
       "3  [(20, 29, Material property), (30, 38, Materia...  \n",
       "4  [(2, 12, Material property), (13, 19, Material...  "
      ]
     },
     "execution_count": 49,
     "metadata": {},
     "output_type": "execute_result"
    }
   ],
   "source": [
    "df_dev = pd.DataFrame(dev_dataframe, columns=['text', 'actual_value'])\n",
    "df_dev.head()"
   ]
  },
  {
   "cell_type": "code",
   "execution_count": 50,
   "metadata": {},
   "outputs": [],
   "source": [
    "def space_text(text):\n",
    "    my_list = []\n",
    "    doc = ner_model(text)\n",
    "    for ent in doc.ents:\n",
    "        my_list.append((ent.start_char, ent.end_char, ent.label_))\n",
    "    return my_list  "
   ]
  },
  {
   "cell_type": "code",
   "execution_count": 51,
   "metadata": {},
   "outputs": [
    {
     "data": {
      "text/html": [
       "<div>\n",
       "<style scoped>\n",
       "    .dataframe tbody tr th:only-of-type {\n",
       "        vertical-align: middle;\n",
       "    }\n",
       "\n",
       "    .dataframe tbody tr th {\n",
       "        vertical-align: top;\n",
       "    }\n",
       "\n",
       "    .dataframe thead th {\n",
       "        text-align: right;\n",
       "    }\n",
       "</style>\n",
       "<table border=\"1\" class=\"dataframe\">\n",
       "  <thead>\n",
       "    <tr style=\"text-align: right;\">\n",
       "      <th></th>\n",
       "      <th>text</th>\n",
       "      <th>actual_value</th>\n",
       "      <th>predicted_value</th>\n",
       "    </tr>\n",
       "  </thead>\n",
       "  <tbody>\n",
       "    <tr>\n",
       "      <th>0</th>\n",
       "      <td>hydrogen diffusion studies in Zr - based laves...</td>\n",
       "      <td>[(0, 8, Characterization method), (9, 18, Char...</td>\n",
       "      <td>[(0, 8, Synthesis method), (30, 32, Inorganic ...</td>\n",
       "    </tr>\n",
       "    <tr>\n",
       "      <th>1</th>\n",
       "      <td>the diffusion constants have been determined...</td>\n",
       "      <td>[(6, 15, Material property), (16, 25, Material...</td>\n",
       "      <td>[(6, 15, Material property), (16, 25, Material...</td>\n",
       "    </tr>\n",
       "    <tr>\n",
       "      <th>2</th>\n",
       "      <td>the results have been discussed on the basis...</td>\n",
       "      <td>[(50, 54, Characterization method), (55, 57, C...</td>\n",
       "      <td>[(50, 54, Characterization method), (55, 57, C...</td>\n",
       "    </tr>\n",
       "    <tr>\n",
       "      <th>3</th>\n",
       "      <td>the dependence of diffusion constant on allo...</td>\n",
       "      <td>[(20, 29, Material property), (30, 38, Materia...</td>\n",
       "      <td>[(42, 47, Symmetry Label), (48, 59, Material p...</td>\n",
       "    </tr>\n",
       "    <tr>\n",
       "      <th>4</th>\n",
       "      <td>activation energy has been obtained from the...</td>\n",
       "      <td>[(2, 12, Material property), (13, 19, Material...</td>\n",
       "      <td>[(2, 12, Material property), (13, 19, Material...</td>\n",
       "    </tr>\n",
       "  </tbody>\n",
       "</table>\n",
       "</div>"
      ],
      "text/plain": [
       "                                                text  \\\n",
       "0  hydrogen diffusion studies in Zr - based laves...   \n",
       "1    the diffusion constants have been determined...   \n",
       "2    the results have been discussed on the basis...   \n",
       "3    the dependence of diffusion constant on allo...   \n",
       "4    activation energy has been obtained from the...   \n",
       "\n",
       "                                        actual_value  \\\n",
       "0  [(0, 8, Characterization method), (9, 18, Char...   \n",
       "1  [(6, 15, Material property), (16, 25, Material...   \n",
       "2  [(50, 54, Characterization method), (55, 57, C...   \n",
       "3  [(20, 29, Material property), (30, 38, Materia...   \n",
       "4  [(2, 12, Material property), (13, 19, Material...   \n",
       "\n",
       "                                     predicted_value  \n",
       "0  [(0, 8, Synthesis method), (30, 32, Inorganic ...  \n",
       "1  [(6, 15, Material property), (16, 25, Material...  \n",
       "2  [(50, 54, Characterization method), (55, 57, C...  \n",
       "3  [(42, 47, Symmetry Label), (48, 59, Material p...  \n",
       "4  [(2, 12, Material property), (13, 19, Material...  "
      ]
     },
     "execution_count": 51,
     "metadata": {},
     "output_type": "execute_result"
    }
   ],
   "source": [
    "df_dev['predicted_value'] = df_dev['text'].apply(lambda x:space_text(x))\n",
    "df_dev.head()"
   ]
  },
  {
   "cell_type": "code",
   "execution_count": 52,
   "metadata": {},
   "outputs": [],
   "source": [
    "actual_value_list = []\n",
    "for l in df_dev['actual_value']:\n",
    "    for a in l:\n",
    "        actual_value_list.append(a)\n",
    "predicted_value_list = []\n",
    "for l in df_dev['predicted_value']:\n",
    "    for a in l:\n",
    "        predicted_value_list.append(a)"
   ]
  },
  {
   "cell_type": "code",
   "execution_count": 53,
   "metadata": {},
   "outputs": [
    {
     "data": {
      "text/plain": [
       "76.35716404627708"
      ]
     },
     "execution_count": 53,
     "metadata": {},
     "output_type": "execute_result"
    }
   ],
   "source": [
    "diff = list(set(actual_value_list)-set(predicted_value_list))\n",
    "accuracy = ((len(actual_value_list) - len(diff))/len(actual_value_list)) * 100\n",
    "accuracy\n",
    "#got accuracy 79.47% after training the model for 500 iterations - updated scispacy model(code 3)\n",
    "#got accuracy 83.15% after training the model for 500 iterations - blank model(code 2)\n",
    "# got accuracy 76.80% after training model for 500 iterations - blank model (code 1)"
   ]
  },
  {
   "cell_type": "code",
   "execution_count": null,
   "metadata": {},
   "outputs": [],
   "source": []
  }
 ],
 "metadata": {
  "kernelspec": {
   "display_name": "Python 3",
   "language": "python",
   "name": "python3"
  },
  "language_info": {
   "codemirror_mode": {
    "name": "ipython",
    "version": 3
   },
   "file_extension": ".py",
   "mimetype": "text/x-python",
   "name": "python",
   "nbconvert_exporter": "python",
   "pygments_lexer": "ipython3",
   "version": "3.7.5"
  }
 },
 "nbformat": 4,
 "nbformat_minor": 2
}
