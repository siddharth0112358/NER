{
 "cells": [
  {
   "cell_type": "code",
   "execution_count": 1,
   "metadata": {},
   "outputs": [
    {
     "name": "stdout",
     "output_type": "stream",
     "text": [
      "Collecting flair\n",
      "  Downloading flair-0.6.0.post1-py3-none-any.whl (241 kB)\n",
      "\u001b[K     |████████████████████████████████| 241 kB 7.4 MB/s eta 0:00:01\n",
      "\u001b[?25hRequirement already satisfied: transformers>=3.0.0 in /Users/sdeshpande/opt/anaconda3/lib/python3.8/site-packages (from flair) (3.0.2)\n",
      "Collecting bpemb>=0.3.2\n",
      "  Downloading bpemb-0.3.2-py3-none-any.whl (19 kB)\n",
      "Requirement already satisfied: python-dateutil>=2.6.1 in /Users/sdeshpande/opt/anaconda3/lib/python3.8/site-packages (from flair) (2.8.1)\n",
      "Requirement already satisfied: tabulate in /Users/sdeshpande/opt/anaconda3/lib/python3.8/site-packages (from flair) (0.8.7)\n",
      "Requirement already satisfied: sentencepiece!=0.1.92 in /Users/sdeshpande/opt/anaconda3/lib/python3.8/site-packages (from flair) (0.1.91)\n",
      "Requirement already satisfied: pytest>=5.3.2 in /Users/sdeshpande/opt/anaconda3/lib/python3.8/site-packages (from flair) (5.4.3)\n",
      "Requirement already satisfied: matplotlib>=2.2.3 in /Users/sdeshpande/opt/anaconda3/lib/python3.8/site-packages (from flair) (3.2.2)\n",
      "Requirement already satisfied: lxml in /Users/sdeshpande/opt/anaconda3/lib/python3.8/site-packages (from flair) (4.5.2)\n",
      "Requirement already satisfied: torch>=1.1.0 in /Users/sdeshpande/opt/anaconda3/lib/python3.8/site-packages (from flair) (1.6.0)\n",
      "Collecting hyperopt>=0.1.1\n",
      "  Downloading hyperopt-0.2.4-py2.py3-none-any.whl (964 kB)\n",
      "\u001b[K     |████████████████████████████████| 964 kB 7.6 MB/s eta 0:00:01\n",
      "\u001b[?25hCollecting segtok>=1.5.7\n",
      "  Downloading segtok-1.5.10.tar.gz (25 kB)\n",
      "Requirement already satisfied: langdetect in /Users/sdeshpande/opt/anaconda3/lib/python3.8/site-packages (from flair) (1.0.8)\n",
      "Collecting ftfy\n",
      "  Downloading ftfy-5.8.tar.gz (64 kB)\n",
      "\u001b[K     |████████████████████████████████| 64 kB 8.5 MB/s  eta 0:00:01\n",
      "\u001b[?25hRequirement already satisfied: gensim>=3.4.0 in /Users/sdeshpande/opt/anaconda3/lib/python3.8/site-packages (from flair) (3.8.3)\n",
      "Collecting mpld3==0.3\n",
      "  Downloading mpld3-0.3.tar.gz (788 kB)\n",
      "\u001b[K     |████████████████████████████████| 788 kB 20.5 MB/s eta 0:00:01\n",
      "\u001b[?25hCollecting konoha<5.0.0,>=4.0.0\n",
      "  Downloading konoha-4.6.1-py3-none-any.whl (19 kB)\n",
      "Collecting sqlitedict>=1.6.0\n",
      "  Downloading sqlitedict-1.7.0.tar.gz (28 kB)\n",
      "Collecting deprecated>=1.2.4\n",
      "  Downloading Deprecated-1.2.10-py2.py3-none-any.whl (8.7 kB)\n",
      "Requirement already satisfied: tqdm>=4.26.0 in /Users/sdeshpande/opt/anaconda3/lib/python3.8/site-packages (from flair) (4.47.0)\n",
      "Requirement already satisfied: regex in /Users/sdeshpande/opt/anaconda3/lib/python3.8/site-packages (from flair) (2020.6.8)\n",
      "Collecting janome\n",
      "  Downloading Janome-0.4.0-py2.py3-none-any.whl (19.7 MB)\n",
      "\u001b[K     |████████████████████████████████| 19.7 MB 15.8 MB/s eta 0:00:01\n",
      "\u001b[?25hRequirement already satisfied: scikit-learn>=0.21.3 in /Users/sdeshpande/opt/anaconda3/lib/python3.8/site-packages (from flair) (0.23.1)\n",
      "Requirement already satisfied: tokenizers==0.8.1.rc1 in /Users/sdeshpande/opt/anaconda3/lib/python3.8/site-packages (from transformers>=3.0.0->flair) (0.8.1rc1)\n",
      "Requirement already satisfied: filelock in /Users/sdeshpande/opt/anaconda3/lib/python3.8/site-packages (from transformers>=3.0.0->flair) (3.0.12)\n",
      "Requirement already satisfied: requests in /Users/sdeshpande/opt/anaconda3/lib/python3.8/site-packages (from transformers>=3.0.0->flair) (2.24.0)\n",
      "Requirement already satisfied: sacremoses in /Users/sdeshpande/opt/anaconda3/lib/python3.8/site-packages (from transformers>=3.0.0->flair) (0.0.43)\n",
      "Requirement already satisfied: packaging in /Users/sdeshpande/opt/anaconda3/lib/python3.8/site-packages (from transformers>=3.0.0->flair) (20.4)\n",
      "Requirement already satisfied: numpy in /Users/sdeshpande/opt/anaconda3/lib/python3.8/site-packages (from transformers>=3.0.0->flair) (1.18.5)\n",
      "Requirement already satisfied: six>=1.5 in /Users/sdeshpande/opt/anaconda3/lib/python3.8/site-packages (from python-dateutil>=2.6.1->flair) (1.12.0)\n",
      "Requirement already satisfied: py>=1.5.0 in /Users/sdeshpande/opt/anaconda3/lib/python3.8/site-packages (from pytest>=5.3.2->flair) (1.9.0)\n",
      "Requirement already satisfied: attrs>=17.4.0 in /Users/sdeshpande/opt/anaconda3/lib/python3.8/site-packages (from pytest>=5.3.2->flair) (19.3.0)\n",
      "Requirement already satisfied: more-itertools>=4.0.0 in /Users/sdeshpande/opt/anaconda3/lib/python3.8/site-packages (from pytest>=5.3.2->flair) (8.4.0)\n",
      "Requirement already satisfied: pluggy<1.0,>=0.12 in /Users/sdeshpande/opt/anaconda3/lib/python3.8/site-packages (from pytest>=5.3.2->flair) (0.13.1)\n",
      "Requirement already satisfied: wcwidth in /Users/sdeshpande/opt/anaconda3/lib/python3.8/site-packages (from pytest>=5.3.2->flair) (0.2.5)\n",
      "Requirement already satisfied: pyparsing!=2.0.4,!=2.1.2,!=2.1.6,>=2.0.1 in /Users/sdeshpande/opt/anaconda3/lib/python3.8/site-packages (from matplotlib>=2.2.3->flair) (2.4.7)\n",
      "Requirement already satisfied: kiwisolver>=1.0.1 in /Users/sdeshpande/opt/anaconda3/lib/python3.8/site-packages (from matplotlib>=2.2.3->flair) (1.2.0)\n",
      "Requirement already satisfied: cycler>=0.10 in /Users/sdeshpande/opt/anaconda3/lib/python3.8/site-packages (from matplotlib>=2.2.3->flair) (0.10.0)\n",
      "Requirement already satisfied: future in /Users/sdeshpande/opt/anaconda3/lib/python3.8/site-packages (from torch>=1.1.0->flair) (0.18.2)\n",
      "Requirement already satisfied: cloudpickle in /Users/sdeshpande/opt/anaconda3/lib/python3.8/site-packages (from hyperopt>=0.1.1->flair) (1.5.0)\n",
      "Requirement already satisfied: networkx>=2.2 in /Users/sdeshpande/opt/anaconda3/lib/python3.8/site-packages (from hyperopt>=0.1.1->flair) (2.4)\n",
      "Requirement already satisfied: scipy in /Users/sdeshpande/opt/anaconda3/lib/python3.8/site-packages (from hyperopt>=0.1.1->flair) (1.5.2)\n",
      "Requirement already satisfied: smart-open>=1.8.1 in /Users/sdeshpande/opt/anaconda3/lib/python3.8/site-packages (from gensim>=3.4.0->flair) (2.1.1)\n",
      "Collecting overrides==3.0.0\n",
      "  Downloading overrides-3.0.0.tar.gz (4.5 kB)\n",
      "Requirement already satisfied: wrapt<2,>=1.10 in /Users/sdeshpande/opt/anaconda3/lib/python3.8/site-packages (from deprecated>=1.2.4->flair) (1.11.2)\n",
      "Requirement already satisfied: threadpoolctl>=2.0.0 in /Users/sdeshpande/opt/anaconda3/lib/python3.8/site-packages (from scikit-learn>=0.21.3->flair) (2.1.0)\n",
      "Requirement already satisfied: joblib>=0.11 in /Users/sdeshpande/opt/anaconda3/lib/python3.8/site-packages (from scikit-learn>=0.21.3->flair) (0.16.0)\n",
      "Requirement already satisfied: urllib3!=1.25.0,!=1.25.1,<1.26,>=1.21.1 in /Users/sdeshpande/opt/anaconda3/lib/python3.8/site-packages (from requests->transformers>=3.0.0->flair) (1.25.9)\n",
      "Requirement already satisfied: idna<3,>=2.5 in /Users/sdeshpande/opt/anaconda3/lib/python3.8/site-packages (from requests->transformers>=3.0.0->flair) (2.10)\n",
      "Requirement already satisfied: certifi>=2017.4.17 in /Users/sdeshpande/opt/anaconda3/lib/python3.8/site-packages (from requests->transformers>=3.0.0->flair) (2020.6.20)\n",
      "Requirement already satisfied: chardet<4,>=3.0.2 in /Users/sdeshpande/opt/anaconda3/lib/python3.8/site-packages (from requests->transformers>=3.0.0->flair) (3.0.4)\n",
      "Requirement already satisfied: click in /Users/sdeshpande/opt/anaconda3/lib/python3.8/site-packages (from sacremoses->transformers>=3.0.0->flair) (7.1.2)\n",
      "Requirement already satisfied: decorator>=4.3.0 in /Users/sdeshpande/opt/anaconda3/lib/python3.8/site-packages (from networkx>=2.2->hyperopt>=0.1.1->flair) (4.4.2)\n",
      "Requirement already satisfied: boto3 in /Users/sdeshpande/opt/anaconda3/lib/python3.8/site-packages (from smart-open>=1.8.1->gensim>=3.4.0->flair) (1.14.49)\n",
      "Requirement already satisfied: boto in /Users/sdeshpande/opt/anaconda3/lib/python3.8/site-packages (from smart-open>=1.8.1->gensim>=3.4.0->flair) (2.49.0)\n",
      "Requirement already satisfied: s3transfer<0.4.0,>=0.3.0 in /Users/sdeshpande/opt/anaconda3/lib/python3.8/site-packages (from boto3->smart-open>=1.8.1->gensim>=3.4.0->flair) (0.3.3)\n",
      "Requirement already satisfied: jmespath<1.0.0,>=0.7.1 in /Users/sdeshpande/opt/anaconda3/lib/python3.8/site-packages (from boto3->smart-open>=1.8.1->gensim>=3.4.0->flair) (0.10.0)\n",
      "Requirement already satisfied: botocore<1.18.0,>=1.17.49 in /Users/sdeshpande/opt/anaconda3/lib/python3.8/site-packages (from boto3->smart-open>=1.8.1->gensim>=3.4.0->flair) (1.17.49)\n",
      "Requirement already satisfied: docutils<0.16,>=0.10 in /Users/sdeshpande/opt/anaconda3/lib/python3.8/site-packages (from botocore<1.18.0,>=1.17.49->boto3->smart-open>=1.8.1->gensim>=3.4.0->flair) (0.15.2)\n"
     ]
    },
    {
     "name": "stdout",
     "output_type": "stream",
     "text": [
      "Building wheels for collected packages: segtok, ftfy, mpld3, sqlitedict, overrides\n",
      "  Building wheel for segtok (setup.py) ... \u001b[?25ldone\n",
      "\u001b[?25h  Created wheel for segtok: filename=segtok-1.5.10-py3-none-any.whl size=25019 sha256=1628d40e4231d9cae72d2e66ea0092c6a1a495aa29b858c4ce9e18ee9c6c966b\n",
      "  Stored in directory: /Users/sdeshpande/Library/Caches/pip/wheels/36/6d/90/6d9b11ba404f68f340ef3f6060cfdf9c9f34653b08eceeacf6\n",
      "  Building wheel for ftfy (setup.py) ... \u001b[?25ldone\n",
      "\u001b[?25h  Created wheel for ftfy: filename=ftfy-5.8-py3-none-any.whl size=45612 sha256=4d11404d59b387eb41dc031157988b7cd2b0ba214387aa3d0c3aa56ed7c5af8f\n",
      "  Stored in directory: /Users/sdeshpande/Library/Caches/pip/wheels/3f/a5/65/684a672b6a26cb8ce3934d155c98d0e23b3dce3d2c0fadae19\n",
      "  Building wheel for mpld3 (setup.py) ... \u001b[?25ldone\n",
      "\u001b[?25h  Created wheel for mpld3: filename=mpld3-0.3-py3-none-any.whl size=116678 sha256=91dba2954935bbaf18b01a9ed71543d2ac77dd59f7b856b1212500bd3aefb54e\n",
      "  Stored in directory: /Users/sdeshpande/Library/Caches/pip/wheels/3d/9f/9d/d806a20bd97bc7076d724fa3e69fa5be61836ba16b2ffa6126\n",
      "  Building wheel for sqlitedict (setup.py) ... \u001b[?25ldone\n",
      "\u001b[?25h  Created wheel for sqlitedict: filename=sqlitedict-1.7.0-py3-none-any.whl size=14375 sha256=23ff5db4c7d336ec6ca14a9e1e5ffe0f39b53df82256b2df494ed8b5883b0121\n",
      "  Stored in directory: /Users/sdeshpande/Library/Caches/pip/wheels/92/82/8c/54ef8d8770fd1a80938197e55d3ccd26eccd117f44c58f601b\n",
      "  Building wheel for overrides (setup.py) ... \u001b[?25ldone\n",
      "\u001b[?25h  Created wheel for overrides: filename=overrides-3.0.0-py3-none-any.whl size=5668 sha256=d27eef7c190cc481458d1c7538c821c6032bcad8444e7e076dd6d83adc429e77\n",
      "  Stored in directory: /Users/sdeshpande/Library/Caches/pip/wheels/4a/62/c2/1a021999d160fce8988607bcd416f1da7a494b476ef3ce59a7\n",
      "Successfully built segtok ftfy mpld3 sqlitedict overrides\n",
      "Installing collected packages: bpemb, hyperopt, segtok, ftfy, mpld3, overrides, konoha, sqlitedict, deprecated, janome, flair\n",
      "Successfully installed bpemb-0.3.2 deprecated-1.2.10 flair-0.6.0.post1 ftfy-5.8 hyperopt-0.2.4 janome-0.4.0 konoha-4.6.1 mpld3-0.3 overrides-3.0.0 segtok-1.5.10 sqlitedict-1.7.0\n"
     ]
    }
   ],
   "source": [
    "!pip install flair"
   ]
  },
  {
   "cell_type": "code",
   "execution_count": 2,
   "metadata": {},
   "outputs": [
    {
     "name": "stdout",
     "output_type": "stream",
     "text": [
      "2020-09-12 17:29:04,303 Reading data from /Users/sdeshpande/Desktop/bioinformatices/BIO_NER_data/data/BC5CDR-IOB\n",
      "2020-09-12 17:29:04,304 Train: /Users/sdeshpande/Desktop/bioinformatices/BIO_NER_data/data/BC5CDR-IOB/train.tsv\n",
      "2020-09-12 17:29:04,304 Dev: /Users/sdeshpande/Desktop/bioinformatices/BIO_NER_data/data/BC5CDR-IOB/devel.tsv\n",
      "2020-09-12 17:29:04,304 Test: /Users/sdeshpande/Desktop/bioinformatices/BIO_NER_data/data/BC5CDR-IOB/test.tsv\n"
     ]
    }
   ],
   "source": [
    "# load the Corpus\n",
    "from flair.data import Corpus\n",
    "columns = {0 : 'test', 1 : 'ner'}\n",
    "data_folder = '/Users/sdeshpande/Desktop/bioinformatices/BIO_NER_data/data/BC5CDR-IOB'\n",
    "from pathlib import Path\n",
    "from flair.data import Corpus\n",
    "from flair.datasets import ColumnCorpus\n",
    "corpus : Corpus = ColumnCorpus(data_folder, columns, train_file = 'train.tsv', test_file = 'test.tsv', dev_file = 'devel.tsv')"
   ]
  },
  {
   "cell_type": "code",
   "execution_count": 3,
   "metadata": {},
   "outputs": [
    {
     "name": "stdout",
     "output_type": "stream",
     "text": [
      "Dictionary with 8 tags: <unk>, O, B-Chemical, B-Disease, I-Disease, I-Chemical, <START>, <STOP>\n",
      "[b'<unk>', b'O', b'B-Chemical', b'B-Disease', b'I-Disease', b'I-Chemical', b'<START>', b'<STOP>']\n"
     ]
    }
   ],
   "source": [
    "# making tag dictionary from Corpus\n",
    "tag_type = 'ner'\n",
    "tag_dictionary = corpus.make_tag_dictionary(tag_type=tag_type)\n",
    "print(tag_dictionary)\n",
    "print(tag_dictionary.idx2item)"
   ]
  },
  {
   "cell_type": "code",
   "execution_count": 4,
   "metadata": {},
   "outputs": [
    {
     "name": "stdout",
     "output_type": "stream",
     "text": [
      "2020-09-12 17:29:59,317 https://flair.informatik.hu-berlin.de/resources/embeddings/flair/pubmed-forward.pt not found in cache, downloading to /var/folders/z4/zq1sx9z918l822zf41yhflvr0000gn/T/tmp33vue3o7\n"
     ]
    },
    {
     "name": "stderr",
     "output_type": "stream",
     "text": [
      "100%|██████████| 72819144/72819144 [00:07<00:00, 9250403.06B/s] "
     ]
    },
    {
     "name": "stdout",
     "output_type": "stream",
     "text": [
      "2020-09-12 17:30:07,748 copying /var/folders/z4/zq1sx9z918l822zf41yhflvr0000gn/T/tmp33vue3o7 to cache at /Users/sdeshpande/.flair/embeddings/pubmed-forward.pt\n",
      "2020-09-12 17:30:07,773 removing temp file /var/folders/z4/zq1sx9z918l822zf41yhflvr0000gn/T/tmp33vue3o7\n"
     ]
    },
    {
     "name": "stderr",
     "output_type": "stream",
     "text": [
      "\n"
     ]
    },
    {
     "name": "stdout",
     "output_type": "stream",
     "text": [
      "2020-09-12 17:30:08,502 https://flair.informatik.hu-berlin.de/resources/embeddings/flair/pubmed-backward.pt not found in cache, downloading to /var/folders/z4/zq1sx9z918l822zf41yhflvr0000gn/T/tmpcs8dpwny\n"
     ]
    },
    {
     "name": "stderr",
     "output_type": "stream",
     "text": [
      "100%|██████████| 72819144/72819144 [00:07<00:00, 9207415.29B/s] "
     ]
    },
    {
     "name": "stdout",
     "output_type": "stream",
     "text": [
      "2020-09-12 17:30:16,955 copying /var/folders/z4/zq1sx9z918l822zf41yhflvr0000gn/T/tmpcs8dpwny to cache at /Users/sdeshpande/.flair/embeddings/pubmed-backward.pt\n"
     ]
    },
    {
     "name": "stderr",
     "output_type": "stream",
     "text": [
      "\n"
     ]
    },
    {
     "name": "stdout",
     "output_type": "stream",
     "text": [
      "2020-09-12 17:30:16,979 removing temp file /var/folders/z4/zq1sx9z918l822zf41yhflvr0000gn/T/tmpcs8dpwny\n",
      "2020-09-12 17:30:17,672 https://flair.informatik.hu-berlin.de/resources/embeddings/token/glove.gensim.vectors.npy not found in cache, downloading to /var/folders/z4/zq1sx9z918l822zf41yhflvr0000gn/T/tmph6we5p9h\n"
     ]
    },
    {
     "name": "stderr",
     "output_type": "stream",
     "text": [
      "100%|██████████| 160000128/160000128 [00:17<00:00, 9101110.13B/s] "
     ]
    },
    {
     "name": "stdout",
     "output_type": "stream",
     "text": [
      "2020-09-12 17:30:35,819 copying /var/folders/z4/zq1sx9z918l822zf41yhflvr0000gn/T/tmph6we5p9h to cache at /Users/sdeshpande/.flair/embeddings/glove.gensim.vectors.npy\n",
      "2020-09-12 17:30:35,869 removing temp file /var/folders/z4/zq1sx9z918l822zf41yhflvr0000gn/T/tmph6we5p9h\n"
     ]
    },
    {
     "name": "stderr",
     "output_type": "stream",
     "text": [
      "\n"
     ]
    },
    {
     "name": "stdout",
     "output_type": "stream",
     "text": [
      "2020-09-12 17:30:36,415 https://flair.informatik.hu-berlin.de/resources/embeddings/token/glove.gensim not found in cache, downloading to /var/folders/z4/zq1sx9z918l822zf41yhflvr0000gn/T/tmppa46m3v7\n"
     ]
    },
    {
     "name": "stderr",
     "output_type": "stream",
     "text": [
      "100%|██████████| 21494764/21494764 [00:10<00:00, 2138089.73B/s]"
     ]
    },
    {
     "name": "stdout",
     "output_type": "stream",
     "text": [
      "2020-09-12 17:30:47,034 copying /var/folders/z4/zq1sx9z918l822zf41yhflvr0000gn/T/tmppa46m3v7 to cache at /Users/sdeshpande/.flair/embeddings/glove.gensim\n",
      "2020-09-12 17:30:47,043 removing temp file /var/folders/z4/zq1sx9z918l822zf41yhflvr0000gn/T/tmppa46m3v7\n"
     ]
    },
    {
     "name": "stderr",
     "output_type": "stream",
     "text": [
      "\n"
     ]
    }
   ],
   "source": [
    "#initialize embeddings\n",
    "from flair.embeddings import WordEmbeddings\n",
    "from flair.embeddings import FlairEmbeddings\n",
    "pubmed_forward_embedding = FlairEmbeddings('pubmed-forward')\n",
    "pubmed_backward_embedding = FlairEmbeddings('pubmed-backward')\n",
    "word_embedding = WordEmbeddings('glove')\n",
    "embedding_types = [\n",
    "    WordEmbeddings('glove'),\n",
    "    FlairEmbeddings('pubmed-forward'),\n",
    "    FlairEmbeddings('pubmed-backward')\n",
    "]\n",
    "from flair.embeddings import StackedEmbeddings\n",
    "embeddings : StackedEmbeddings = StackedEmbeddings(embeddings = embedding_types)\n",
    "\n",
    "#initialize sequence tagger\n",
    "from flair.models import SequenceTagger\n",
    "tagger : SequenceTagger = SequenceTagger(hidden_size=256,\n",
    "                                        embeddings=embeddings,\n",
    "                                        tag_dictionary=tag_dictionary,\n",
    "                                        tag_type=tag_type,\n",
    "                                        use_crf=True)"
   ]
  },
  {
   "cell_type": "code",
   "execution_count": 5,
   "metadata": {},
   "outputs": [
    {
     "name": "stdout",
     "output_type": "stream",
     "text": [
      "2020-09-12 17:31:22,836 ----------------------------------------------------------------------------------------------------\n",
      "2020-09-12 17:31:22,836 Model: \"SequenceTagger(\n",
      "  (embeddings): StackedEmbeddings(\n",
      "    (list_embedding_0): WordEmbeddings('glove')\n",
      "    (list_embedding_1): FlairEmbeddings(\n",
      "      (lm): LanguageModel(\n",
      "        (drop): Dropout(p=0.1, inplace=False)\n",
      "        (encoder): Embedding(275, 100)\n",
      "        (rnn): LSTM(100, 2048)\n",
      "        (decoder): Linear(in_features=2048, out_features=275, bias=True)\n",
      "      )\n",
      "    )\n",
      "    (list_embedding_2): FlairEmbeddings(\n",
      "      (lm): LanguageModel(\n",
      "        (drop): Dropout(p=0.1, inplace=False)\n",
      "        (encoder): Embedding(275, 100)\n",
      "        (rnn): LSTM(100, 2048)\n",
      "        (decoder): Linear(in_features=2048, out_features=275, bias=True)\n",
      "      )\n",
      "    )\n",
      "  )\n",
      "  (word_dropout): WordDropout(p=0.05)\n",
      "  (locked_dropout): LockedDropout(p=0.5)\n",
      "  (embedding2nn): Linear(in_features=4196, out_features=4196, bias=True)\n",
      "  (rnn): LSTM(4196, 256, batch_first=True, bidirectional=True)\n",
      "  (linear): Linear(in_features=512, out_features=8, bias=True)\n",
      "  (beta): 1.0\n",
      "  (weights): None\n",
      "  (weight_tensor) None\n",
      ")\"\n",
      "2020-09-12 17:31:22,837 ----------------------------------------------------------------------------------------------------\n",
      "2020-09-12 17:31:22,838 Corpus: \"Corpus: 4560 train + 4581 dev + 4797 test sentences\"\n",
      "2020-09-12 17:31:22,838 ----------------------------------------------------------------------------------------------------\n",
      "2020-09-12 17:31:22,839 Parameters:\n",
      "2020-09-12 17:31:22,840  - learning_rate: \"0.1\"\n",
      "2020-09-12 17:31:22,840  - mini_batch_size: \"32\"\n",
      "2020-09-12 17:31:22,841  - patience: \"3\"\n",
      "2020-09-12 17:31:22,841  - anneal_factor: \"0.5\"\n",
      "2020-09-12 17:31:22,842  - max_epochs: \"5\"\n",
      "2020-09-12 17:31:22,843  - shuffle: \"True\"\n",
      "2020-09-12 17:31:22,843  - train_with_dev: \"False\"\n",
      "2020-09-12 17:31:22,844  - batch_growth_annealing: \"False\"\n",
      "2020-09-12 17:31:22,845 ----------------------------------------------------------------------------------------------------\n",
      "2020-09-12 17:31:22,855 Model training base path: \"/Users/sdeshpande/Desktop/bioinformatices/BIO_NER_data\"\n",
      "2020-09-12 17:31:22,855 ----------------------------------------------------------------------------------------------------\n",
      "2020-09-12 17:31:22,856 Device: cpu\n",
      "2020-09-12 17:31:22,857 ----------------------------------------------------------------------------------------------------\n",
      "2020-09-12 17:31:22,857 Embeddings storage mode: cpu\n",
      "2020-09-12 17:31:22,859 ----------------------------------------------------------------------------------------------------\n",
      "2020-09-12 17:32:41,753 epoch 1 - iter 14/143 - loss 16.99836411 - samples/sec: 5.68 - lr: 0.100000\n",
      "2020-09-12 17:33:57,690 epoch 1 - iter 28/143 - loss 12.77322223 - samples/sec: 5.90 - lr: 0.100000\n",
      "2020-09-12 17:35:26,453 epoch 1 - iter 42/143 - loss 10.80012194 - samples/sec: 5.05 - lr: 0.100000\n",
      "2020-09-12 17:36:47,535 epoch 1 - iter 56/143 - loss 9.37351484 - samples/sec: 5.53 - lr: 0.100000\n",
      "2020-09-12 17:38:04,603 epoch 1 - iter 70/143 - loss 8.43976569 - samples/sec: 5.81 - lr: 0.100000\n",
      "2020-09-12 17:44:50,967 epoch 1 - iter 84/143 - loss 7.82932179 - samples/sec: 1.10 - lr: 0.100000\n",
      "2020-09-12 17:46:11,490 epoch 1 - iter 98/143 - loss 7.30226367 - samples/sec: 5.57 - lr: 0.100000\n",
      "2020-09-12 17:47:19,543 epoch 1 - iter 112/143 - loss 6.86181612 - samples/sec: 6.59 - lr: 0.100000\n",
      "2020-09-12 17:48:38,203 epoch 1 - iter 126/143 - loss 6.57738485 - samples/sec: 5.70 - lr: 0.100000\n",
      "2020-09-12 17:50:02,272 epoch 1 - iter 140/143 - loss 6.27188548 - samples/sec: 5.33 - lr: 0.100000\n",
      "2020-09-12 17:50:15,733 ----------------------------------------------------------------------------------------------------\n",
      "2020-09-12 17:50:15,734 EPOCH 1 done: loss 6.2107 - lr 0.1000000\n",
      "2020-09-12 18:06:41,978 DEV : loss 2.488166093826294 - score 0.7821\n",
      "2020-09-12 18:06:42,645 BAD EPOCHS (no improvement): 0\n",
      "saving best model\n",
      "2020-09-12 18:06:47,016 ----------------------------------------------------------------------------------------------------\n",
      "2020-09-12 18:07:11,982 epoch 2 - iter 14/143 - loss 3.46681007 - samples/sec: 18.04 - lr: 0.100000\n",
      "2020-09-12 18:07:35,833 epoch 2 - iter 28/143 - loss 3.22970233 - samples/sec: 18.84 - lr: 0.100000\n",
      "2020-09-12 18:07:57,163 epoch 2 - iter 42/143 - loss 3.28238338 - samples/sec: 21.04 - lr: 0.100000\n",
      "2020-09-12 18:08:18,437 epoch 2 - iter 56/143 - loss 3.18787985 - samples/sec: 21.10 - lr: 0.100000\n",
      "2020-09-12 18:08:40,886 epoch 2 - iter 70/143 - loss 3.17559866 - samples/sec: 19.98 - lr: 0.100000\n",
      "2020-09-12 18:09:02,454 epoch 2 - iter 84/143 - loss 3.25911790 - samples/sec: 20.80 - lr: 0.100000\n",
      "2020-09-12 18:09:22,603 epoch 2 - iter 98/143 - loss 3.20948945 - samples/sec: 22.26 - lr: 0.100000\n",
      "2020-09-12 18:09:43,340 epoch 2 - iter 112/143 - loss 3.16175206 - samples/sec: 21.63 - lr: 0.100000\n",
      "2020-09-12 18:16:33,149 epoch 2 - iter 126/143 - loss 3.15717866 - samples/sec: 1.09 - lr: 0.100000\n",
      "2020-09-12 18:16:55,563 epoch 2 - iter 140/143 - loss 3.12669487 - samples/sec: 20.00 - lr: 0.100000\n",
      "2020-09-12 18:16:59,701 ----------------------------------------------------------------------------------------------------\n",
      "2020-09-12 18:16:59,702 EPOCH 2 done: loss 3.1205 - lr 0.1000000\n",
      "2020-09-12 18:17:59,184 DEV : loss 1.8649277687072754 - score 0.8344\n",
      "2020-09-12 18:17:59,491 BAD EPOCHS (no improvement): 0\n",
      "saving best model\n",
      "2020-09-12 18:18:03,884 ----------------------------------------------------------------------------------------------------\n",
      "2020-09-12 18:18:15,724 epoch 3 - iter 14/143 - loss 2.87338496 - samples/sec: 37.92 - lr: 0.100000\n",
      "2020-09-12 18:18:26,354 epoch 3 - iter 28/143 - loss 2.76211943 - samples/sec: 42.16 - lr: 0.100000\n",
      "2020-09-12 18:18:35,910 epoch 3 - iter 42/143 - loss 2.75155324 - samples/sec: 46.89 - lr: 0.100000\n",
      "2020-09-12 18:18:45,393 epoch 3 - iter 56/143 - loss 2.64366557 - samples/sec: 47.25 - lr: 0.100000\n",
      "2020-09-12 18:18:54,522 epoch 3 - iter 70/143 - loss 2.60168876 - samples/sec: 49.09 - lr: 0.100000\n",
      "2020-09-12 18:19:04,778 epoch 3 - iter 84/143 - loss 2.59259445 - samples/sec: 43.69 - lr: 0.100000\n",
      "2020-09-12 18:19:16,677 epoch 3 - iter 98/143 - loss 2.61048550 - samples/sec: 37.65 - lr: 0.100000\n",
      "2020-09-12 18:19:27,173 epoch 3 - iter 112/143 - loss 2.58432503 - samples/sec: 42.69 - lr: 0.100000\n",
      "2020-09-12 18:19:38,429 epoch 3 - iter 126/143 - loss 2.56782740 - samples/sec: 39.81 - lr: 0.100000\n",
      "2020-09-12 18:19:48,990 epoch 3 - iter 140/143 - loss 2.54663307 - samples/sec: 42.43 - lr: 0.100000\n",
      "2020-09-12 18:19:50,727 ----------------------------------------------------------------------------------------------------\n",
      "2020-09-12 18:19:50,728 EPOCH 3 done: loss 2.5266 - lr 0.1000000\n",
      "2020-09-12 18:20:26,978 DEV : loss 1.7583389282226562 - score 0.8383\n",
      "2020-09-12 18:20:27,235 BAD EPOCHS (no improvement): 0\n",
      "saving best model\n",
      "2020-09-12 18:20:29,317 ----------------------------------------------------------------------------------------------------\n",
      "2020-09-12 18:20:40,043 epoch 4 - iter 14/143 - loss 2.59137980 - samples/sec: 41.77 - lr: 0.100000\n",
      "2020-09-12 18:20:49,442 epoch 4 - iter 28/143 - loss 2.33419661 - samples/sec: 47.67 - lr: 0.100000\n",
      "2020-09-12 18:21:01,156 epoch 4 - iter 42/143 - loss 2.43430584 - samples/sec: 38.25 - lr: 0.100000\n",
      "2020-09-12 18:21:11,642 epoch 4 - iter 56/143 - loss 2.40218346 - samples/sec: 42.73 - lr: 0.100000\n",
      "2020-09-12 18:21:22,322 epoch 4 - iter 70/143 - loss 2.36733379 - samples/sec: 41.95 - lr: 0.100000\n",
      "2020-09-12 18:21:32,518 epoch 4 - iter 84/143 - loss 2.34022868 - samples/sec: 43.94 - lr: 0.100000\n",
      "2020-09-12 18:21:42,744 epoch 4 - iter 98/143 - loss 2.30182022 - samples/sec: 43.82 - lr: 0.100000\n",
      "2020-09-12 18:21:52,267 epoch 4 - iter 112/143 - loss 2.26674041 - samples/sec: 47.05 - lr: 0.100000\n",
      "2020-09-12 18:22:02,615 epoch 4 - iter 126/143 - loss 2.29646630 - samples/sec: 43.30 - lr: 0.100000\n",
      "2020-09-12 18:22:12,594 epoch 4 - iter 140/143 - loss 2.25237157 - samples/sec: 44.90 - lr: 0.100000\n",
      "2020-09-12 18:22:14,400 ----------------------------------------------------------------------------------------------------\n",
      "2020-09-12 18:22:14,401 EPOCH 4 done: loss 2.2530 - lr 0.1000000\n",
      "2020-09-12 18:22:49,523 DEV : loss 1.551671028137207 - score 0.8562\n"
     ]
    },
    {
     "name": "stdout",
     "output_type": "stream",
     "text": [
      "2020-09-12 18:22:49,814 BAD EPOCHS (no improvement): 0\n",
      "saving best model\n",
      "2020-09-12 18:22:52,020 ----------------------------------------------------------------------------------------------------\n",
      "2020-09-12 18:23:02,204 epoch 5 - iter 14/143 - loss 2.08763385 - samples/sec: 44.00 - lr: 0.100000\n",
      "2020-09-12 18:23:12,943 epoch 5 - iter 28/143 - loss 2.07367635 - samples/sec: 41.72 - lr: 0.100000\n",
      "2020-09-12 18:23:24,361 epoch 5 - iter 42/143 - loss 2.05924827 - samples/sec: 39.24 - lr: 0.100000\n",
      "2020-09-12 18:23:34,636 epoch 5 - iter 56/143 - loss 2.04730044 - samples/sec: 43.61 - lr: 0.100000\n",
      "2020-09-12 18:23:44,359 epoch 5 - iter 70/143 - loss 2.06400078 - samples/sec: 46.08 - lr: 0.100000\n",
      "2020-09-12 18:23:55,844 epoch 5 - iter 84/143 - loss 2.05114332 - samples/sec: 39.01 - lr: 0.100000\n",
      "2020-09-12 18:24:07,548 epoch 5 - iter 98/143 - loss 2.03857448 - samples/sec: 38.28 - lr: 0.100000\n",
      "2020-09-12 18:24:22,253 epoch 5 - iter 112/143 - loss 2.00691969 - samples/sec: 30.47 - lr: 0.100000\n",
      "2020-09-12 18:24:36,165 epoch 5 - iter 126/143 - loss 1.98965209 - samples/sec: 32.20 - lr: 0.100000\n",
      "2020-09-12 18:24:46,828 epoch 5 - iter 140/143 - loss 2.00806848 - samples/sec: 42.02 - lr: 0.100000\n",
      "2020-09-12 18:24:49,180 ----------------------------------------------------------------------------------------------------\n",
      "2020-09-12 18:24:49,181 EPOCH 5 done: loss 2.0228 - lr 0.1000000\n",
      "2020-09-12 18:25:26,665 DEV : loss 1.581721305847168 - score 0.8354\n",
      "2020-09-12 18:25:26,944 BAD EPOCHS (no improvement): 1\n",
      "2020-09-12 18:25:29,118 ----------------------------------------------------------------------------------------------------\n",
      "2020-09-12 18:25:29,118 Testing using best model ...\n",
      "2020-09-12 18:25:29,120 loading file /Users/sdeshpande/Desktop/bioinformatices/BIO_NER_data/best-model.pt\n",
      "2020-09-12 20:59:51,684 0.8802\t0.8092\t0.8432\n",
      "2020-09-12 20:59:51,684 \n",
      "Results:\n",
      "- F1-score (micro) 0.8432\n",
      "- F1-score (macro) 0.8397\n",
      "\n",
      "By class:\n",
      "Chemical   tp: 4513 - fp: 382 - fn: 872 - precision: 0.9220 - recall: 0.8381 - f1-score: 0.8780\n",
      "Disease    tp: 3424 - fp: 698 - fn: 1000 - precision: 0.8307 - recall: 0.7740 - f1-score: 0.8013\n",
      "2020-09-12 20:59:51,685 ----------------------------------------------------------------------------------------------------\n"
     ]
    },
    {
     "data": {
      "text/plain": [
       "{'test_score': 0.8431955805800488,\n",
       " 'dev_score_history': [0.7820997179800989,\n",
       "  0.8343591998241372,\n",
       "  0.838318066438583,\n",
       "  0.8562387473402805,\n",
       "  0.8354014211475236],\n",
       " 'train_loss_history': [6.210723515157099,\n",
       "  3.1205180758362885,\n",
       "  2.5265588568640758,\n",
       "  2.2529699427264553,\n",
       "  2.022819788722725],\n",
       " 'dev_loss_history': [2.488166093826294,\n",
       "  1.8649277687072754,\n",
       "  1.7583389282226562,\n",
       "  1.551671028137207,\n",
       "  1.581721305847168]}"
      ]
     },
     "execution_count": 5,
     "metadata": {},
     "output_type": "execute_result"
    }
   ],
   "source": [
    "# training\n",
    "from flair.trainers import ModelTrainer\n",
    "from flair.training_utils import EvaluationMetric\n",
    "trainer : ModelTrainer = ModelTrainer(tagger,corpus)\n",
    "trainer.train('/Users/sdeshpande/Desktop/bioinformatices/BIO_NER_data',\n",
    "             learning_rate=0.1,\n",
    "             mini_batch_size=32,\n",
    "             max_epochs=5,\n",
    "             embeddings_storage_mode='cpu',\n",
    "             patience=3)"
   ]
  },
  {
   "cell_type": "code",
   "execution_count": 6,
   "metadata": {},
   "outputs": [
    {
     "name": "stdout",
     "output_type": "stream",
     "text": [
      "2020-09-12 21:37:03,490 loading file /Users/sdeshpande/Desktop/bioinformatices/BIO_NER_data/final-model.pt\n"
     ]
    }
   ],
   "source": [
    "from flair.data import Sentence\n",
    "from flair.models import SequenceTagger\n",
    "# load the trained model\n",
    "model = SequenceTagger.load('/Users/sdeshpande/Desktop/bioinformatices/BIO_NER_data/final-model.pt')"
   ]
  },
  {
   "cell_type": "code",
   "execution_count": 7,
   "metadata": {},
   "outputs": [
    {
     "name": "stdout",
     "output_type": "stream",
     "text": [
      "Secondary cardiovascular ( CV ) prevention in patients with vascular <B-Disease> disease <I-Disease> [ e.g. coronary <B-Disease> ( <I-Disease> CAD <I-Disease> ) <I-Disease> and <I-Disease> peripheral <I-Disease> ( <I-Disease> PAD <I-Disease> ) <I-Disease> artery <I-Disease> disease <I-Disease> ] is crucial and typically involves antiplatelet therapy with aspirin <B-Chemical> ; however , managing residual ischaemic <B-Disease> and <I-Disease> bleeding <I-Disease> risks in CV <B-Disease> disease <I-Disease> ( CVD <B-Disease> ) remains a challenge . Combining the oral anticoagulant rivaroxaban <B-Chemical> ( Xarelto <B-Chemical> ®) with aspirin <B-Chemical> targets both the platelet and thrombotic processes of atherosclerosis <B-Disease> , a common pathophysiological process associated with CVD <B-Disease>\n"
     ]
    }
   ],
   "source": [
    "# create example sentence\n",
    "sentence = Sentence('Secondary cardiovascular (CV) prevention in patients with vascular disease [e.g. coronary (CAD) and peripheral (PAD) artery disease] is crucial and typically involves antiplatelet therapy with aspirin; however, managing residual ischaemic and bleeding risks in CV disease (CVD) remains a challenge. Combining the oral anticoagulant rivaroxaban (Xarelto®) with aspirin targets both the platelet and thrombotic processes of atherosclerosis, a common pathophysiological process associated with CVD')\n",
    "# predict the tags\n",
    "model.predict(sentence)\n",
    "print(sentence.to_tagged_string())"
   ]
  },
  {
   "cell_type": "code",
   "execution_count": 9,
   "metadata": {},
   "outputs": [
    {
     "name": "stdout",
     "output_type": "stream",
     "text": [
      "Span [10,11]: \"vascular disease\"   [− Labels: Disease (0.8537)]\n",
      "Span [14,15,16,17,18,19,20,21,22,23,24]: \"coronary ( CAD ) and peripheral ( PAD ) artery disease\"   [− Labels: Disease (0.7937)]\n",
      "Span [34]: \"aspirin\"   [− Labels: Chemical (0.9935)]\n",
      "Span [40,41,42]: \"ischaemic and bleeding\"   [− Labels: Disease (0.6021)]\n",
      "Span [45,46]: \"CV disease\"   [− Labels: Disease (0.9223)]\n",
      "Span [48]: \"CVD\"   [− Labels: Disease (0.9397)]\n",
      "Span [58]: \"rivaroxaban\"   [− Labels: Chemical (0.9676)]\n",
      "Span [60]: \"Xarelto\"   [− Labels: Chemical (0.9774)]\n",
      "Span [63]: \"aspirin\"   [− Labels: Chemical (0.9965)]\n",
      "Span [72]: \"atherosclerosis\"   [− Labels: Disease (0.9668)]\n",
      "Span [80]: \"CVD\"   [− Labels: Disease (0.9789)]\n"
     ]
    }
   ],
   "source": [
    "# print the entities with below command\n",
    "for entity in sentence.get_spans('ner'):\n",
    "    print(entity)"
   ]
  },
  {
   "cell_type": "code",
   "execution_count": 13,
   "metadata": {},
   "outputs": [
    {
     "name": "stdout",
     "output_type": "stream",
     "text": [
      "{'text': 'Secondary cardiovascular (CV) prevention in patients with vascular disease [e.g. coronary (CAD) and peripheral (PAD) artery disease] is crucial and typically involves antiplatelet therapy with aspirin; however, managing residual ischaemic and bleeding risks in CV disease (CVD) remains a challenge. Combining the oral anticoagulant rivaroxaban (Xarelto®) with aspirin targets both the platelet and thrombotic processes of atherosclerosis, a common pathophysiological process associated with CVD', 'labels': [], 'entities': [{'text': 'vascular disease', 'start_pos': 58, 'end_pos': 74, 'labels': [Disease (0.8537)]}, {'text': 'coronary (CAD) and peripheral (PAD) artery disease', 'start_pos': 81, 'end_pos': 131, 'labels': [Disease (0.7937)]}, {'text': 'aspirin', 'start_pos': 193, 'end_pos': 200, 'labels': [Chemical (0.9935)]}, {'text': 'ischaemic and bleeding', 'start_pos': 229, 'end_pos': 251, 'labels': [Disease (0.6021)]}, {'text': 'CV disease', 'start_pos': 261, 'end_pos': 271, 'labels': [Disease (0.9223)]}, {'text': 'CVD', 'start_pos': 273, 'end_pos': 276, 'labels': [Disease (0.9397)]}, {'text': 'rivaroxaban', 'start_pos': 332, 'end_pos': 343, 'labels': [Chemical (0.9676)]}, {'text': 'Xarelto', 'start_pos': 345, 'end_pos': 352, 'labels': [Chemical (0.9774)]}, {'text': 'aspirin', 'start_pos': 360, 'end_pos': 367, 'labels': [Chemical (0.9965)]}, {'text': 'atherosclerosis', 'start_pos': 422, 'end_pos': 437, 'labels': [Disease (0.9668)]}, {'text': 'CVD', 'start_pos': 491, 'end_pos': 494, 'labels': [Disease (0.9789)]}]}\n"
     ]
    }
   ],
   "source": [
    "print(sentence.to_dict(tag_type='ner'))"
   ]
  },
  {
   "cell_type": "code",
   "execution_count": 16,
   "metadata": {},
   "outputs": [
    {
     "name": "stdout",
     "output_type": "stream",
     "text": [
      "Secondary\n",
      "O (0.8503)\n",
      "cardiovascular\n",
      "O (0.6516)\n",
      "(\n",
      "O (0.8511)\n",
      "CV\n",
      "O (0.399)\n",
      ")\n",
      "O (0.5604)\n",
      "prevention\n",
      "O (0.7962)\n",
      "in\n",
      "O (0.9964)\n",
      "patients\n",
      "O (0.9982)\n",
      "with\n",
      "O (0.9984)\n",
      "vascular\n",
      "B-Disease (0.713)\n",
      "disease\n",
      "I-Disease (0.9945)\n",
      "[\n",
      "O (0.8198)\n",
      "e.g.\n",
      "O (0.9897)\n",
      "coronary\n",
      "B-Disease (0.7975)\n",
      "(\n",
      "I-Disease (0.7032)\n",
      "CAD\n",
      "I-Disease (0.7803)\n",
      ")\n",
      "I-Disease (0.8791)\n",
      "and\n",
      "I-Disease (0.6066)\n",
      "peripheral\n",
      "I-Disease (0.6803)\n",
      "(\n",
      "I-Disease (0.7842)\n",
      "PAD\n",
      "I-Disease (0.6414)\n",
      ")\n",
      "I-Disease (0.877)\n",
      "artery\n",
      "I-Disease (0.9824)\n",
      "disease\n",
      "I-Disease (0.999)\n",
      "]\n",
      "O (0.8493)\n",
      "is\n",
      "O (0.9994)\n",
      "crucial\n",
      "O (0.9996)\n",
      "and\n",
      "O (0.9998)\n",
      "typically\n",
      "O (0.9999)\n",
      "involves\n",
      "O (0.9995)\n",
      "antiplatelet\n",
      "O (0.801)\n",
      "therapy\n",
      "O (0.9926)\n",
      "with\n",
      "O (0.9986)\n",
      "aspirin\n",
      "B-Chemical (0.9935)\n",
      ";\n",
      "O (0.9975)\n",
      "however\n",
      "O (0.9998)\n",
      ",\n",
      "O (0.9999)\n",
      "managing\n",
      "O (0.9984)\n",
      "residual\n",
      "O (0.8587)\n",
      "ischaemic\n",
      "B-Disease (0.7305)\n",
      "and\n",
      "I-Disease (0.5116)\n",
      "bleeding\n",
      "I-Disease (0.5641)\n",
      "risks\n",
      "O (0.5038)\n",
      "in\n",
      "O (0.9784)\n",
      "CV\n",
      "B-Disease (0.85)\n",
      "disease\n",
      "I-Disease (0.9947)\n",
      "(\n",
      "O (0.827)\n",
      "CVD\n",
      "B-Disease (0.9397)\n",
      ")\n",
      "O (0.8468)\n",
      "remains\n",
      "O (0.9996)\n",
      "a\n",
      "O (0.9994)\n",
      "challenge\n",
      "O (0.9987)\n",
      ".\n",
      "O (0.9999)\n",
      "Combining\n",
      "O (0.9988)\n",
      "the\n",
      "O (0.9914)\n",
      "oral\n",
      "O (0.7912)\n",
      "anticoagulant\n",
      "O (0.816)\n",
      "rivaroxaban\n",
      "B-Chemical (0.9676)\n",
      "(\n",
      "O (0.9543)\n",
      "Xarelto\n",
      "B-Chemical (0.9774)\n",
      "®)\n",
      "O (0.8563)\n",
      "with\n",
      "O (0.9643)\n",
      "aspirin\n",
      "B-Chemical (0.9965)\n",
      "targets\n",
      "O (0.9967)\n",
      "both\n",
      "O (0.9964)\n",
      "the\n",
      "O (0.983)\n",
      "platelet\n",
      "O (0.9077)\n",
      "and\n",
      "O (0.9726)\n",
      "thrombotic\n",
      "O (0.6157)\n",
      "processes\n",
      "O (0.7285)\n",
      "of\n",
      "O (0.9319)\n",
      "atherosclerosis\n",
      "B-Disease (0.9668)\n",
      ",\n",
      "O (0.9764)\n",
      "a\n",
      "O (0.9969)\n",
      "common\n",
      "O (0.998)\n",
      "pathophysiological\n",
      "O (0.9716)\n",
      "process\n",
      "O (0.989)\n",
      "associated\n",
      "O (0.9995)\n",
      "with\n",
      "O (0.9983)\n",
      "CVD\n",
      "B-Disease (0.9789)\n"
     ]
    }
   ],
   "source": [
    "for token in sentence:\n",
    "    print(token.text) \n",
    "    print(token.get_tag('ner'))"
   ]
  },
  {
   "cell_type": "code",
   "execution_count": null,
   "metadata": {},
   "outputs": [],
   "source": []
  },
  {
   "cell_type": "code",
   "execution_count": null,
   "metadata": {},
   "outputs": [],
   "source": []
  },
  {
   "cell_type": "code",
   "execution_count": null,
   "metadata": {},
   "outputs": [],
   "source": []
  },
  {
   "cell_type": "code",
   "execution_count": null,
   "metadata": {},
   "outputs": [],
   "source": []
  }
 ],
 "metadata": {
  "kernelspec": {
   "display_name": "Python 3",
   "language": "python",
   "name": "python3"
  },
  "language_info": {
   "codemirror_mode": {
    "name": "ipython",
    "version": 3
   },
   "file_extension": ".py",
   "mimetype": "text/x-python",
   "name": "python",
   "nbconvert_exporter": "python",
   "pygments_lexer": "ipython3",
   "version": "3.8.3"
  }
 },
 "nbformat": 4,
 "nbformat_minor": 4
}
