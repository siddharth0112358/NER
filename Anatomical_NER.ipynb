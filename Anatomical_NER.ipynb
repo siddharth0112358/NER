{
 "cells": [
  {
   "cell_type": "markdown",
   "metadata": {},
   "source": [
    "https://github.com/Felflare/entity-recognition-datasets"
   ]
  },
  {
   "cell_type": "code",
   "execution_count": 50,
   "metadata": {},
   "outputs": [],
   "source": [
    "import pandas as pd\n",
    "import numpy as np"
   ]
  },
  {
   "cell_type": "code",
   "execution_count": 51,
   "metadata": {},
   "outputs": [],
   "source": [
    "def txt_reader(inpt_file):\n",
    "    f = open(inpt_file, \"r\")\n",
    "    tok_lst = []\n",
    "    label_lst = []\n",
    "    for ix, x in enumerate(f):\n",
    "        if x == '\\n':\n",
    "            tok_lst.append('')\n",
    "            label_lst.append('')\n",
    "            continue\n",
    "        line = x.split()\n",
    "        tok = line[0]\n",
    "        try:\n",
    "            label = line[-1]\n",
    "        except:\n",
    "            print(line, ix)\n",
    "        tok_lst.append(tok)\n",
    "        label_lst.append(label)\n",
    "    f.close()\n",
    "    d = {'token':tok_lst,'ner':label_lst}\n",
    "    df = pd.DataFrame(d, columns=['token','ner'])\n",
    "    return df"
   ]
  },
  {
   "cell_type": "code",
   "execution_count": 52,
   "metadata": {},
   "outputs": [],
   "source": [
    "AnEM_train = txt_reader(\"/Users/sdeshpande/Desktop/entity-recognition-datasets/data/AnEM/CONLL-format/data/AnEM.train\")\n",
    "AnEM_test = txt_reader(\"/Users/sdeshpande/Desktop/entity-recognition-datasets/data/AnEM/CONLL-format/data/AnEM.test\")"
   ]
  },
  {
   "cell_type": "code",
   "execution_count": 53,
   "metadata": {},
   "outputs": [],
   "source": [
    "AnEM_train = AnEM_train.replace(\"\",np.nan)\n",
    "AnEM_train.dropna(inplace = True)\n",
    "AnEM_train.columns = [\"word\", \"tag\"]"
   ]
  },
  {
   "cell_type": "code",
   "execution_count": 54,
   "metadata": {},
   "outputs": [
    {
     "data": {
      "text/html": [
       "<div>\n",
       "<style scoped>\n",
       "    .dataframe tbody tr th:only-of-type {\n",
       "        vertical-align: middle;\n",
       "    }\n",
       "\n",
       "    .dataframe tbody tr th {\n",
       "        vertical-align: top;\n",
       "    }\n",
       "\n",
       "    .dataframe thead th {\n",
       "        text-align: right;\n",
       "    }\n",
       "</style>\n",
       "<table border=\"1\" class=\"dataframe\">\n",
       "  <thead>\n",
       "    <tr style=\"text-align: right;\">\n",
       "      <th></th>\n",
       "      <th>word</th>\n",
       "      <th>tag</th>\n",
       "    </tr>\n",
       "  </thead>\n",
       "  <tbody>\n",
       "    <tr>\n",
       "      <th>0</th>\n",
       "      <td>Ventricular</td>\n",
       "      <td>B-Multi-tissue_structure</td>\n",
       "    </tr>\n",
       "    <tr>\n",
       "      <th>1</th>\n",
       "      <td>fibrillation</td>\n",
       "      <td>O</td>\n",
       "    </tr>\n",
       "    <tr>\n",
       "      <th>2</th>\n",
       "      <td>due</td>\n",
       "      <td>O</td>\n",
       "    </tr>\n",
       "    <tr>\n",
       "      <th>3</th>\n",
       "      <td>to</td>\n",
       "      <td>O</td>\n",
       "    </tr>\n",
       "    <tr>\n",
       "      <th>4</th>\n",
       "      <td>long</td>\n",
       "      <td>O</td>\n",
       "    </tr>\n",
       "  </tbody>\n",
       "</table>\n",
       "</div>"
      ],
      "text/plain": [
       "           word                       tag\n",
       "0   Ventricular  B-Multi-tissue_structure\n",
       "1  fibrillation                         O\n",
       "2           due                         O\n",
       "3            to                         O\n",
       "4          long                         O"
      ]
     },
     "execution_count": 54,
     "metadata": {},
     "output_type": "execute_result"
    }
   ],
   "source": [
    "AnEM_train.head()"
   ]
  },
  {
   "cell_type": "code",
   "execution_count": 55,
   "metadata": {},
   "outputs": [
    {
     "data": {
      "text/plain": [
       "(71697, 2)"
      ]
     },
     "execution_count": 55,
     "metadata": {},
     "output_type": "execute_result"
    }
   ],
   "source": [
    "AnEM_train.shape"
   ]
  },
  {
   "cell_type": "code",
   "execution_count": 56,
   "metadata": {},
   "outputs": [],
   "source": [
    "AnEM_test = AnEM_test.replace(\"\",np.nan)\n",
    "AnEM_test.dropna(inplace = True)\n",
    "AnEM_test.columns = [\"word\", \"tag\"]"
   ]
  },
  {
   "cell_type": "code",
   "execution_count": 57,
   "metadata": {},
   "outputs": [
    {
     "data": {
      "text/html": [
       "<div>\n",
       "<style scoped>\n",
       "    .dataframe tbody tr th:only-of-type {\n",
       "        vertical-align: middle;\n",
       "    }\n",
       "\n",
       "    .dataframe tbody tr th {\n",
       "        vertical-align: top;\n",
       "    }\n",
       "\n",
       "    .dataframe thead th {\n",
       "        text-align: right;\n",
       "    }\n",
       "</style>\n",
       "<table border=\"1\" class=\"dataframe\">\n",
       "  <thead>\n",
       "    <tr style=\"text-align: right;\">\n",
       "      <th></th>\n",
       "      <th>word</th>\n",
       "      <th>tag</th>\n",
       "    </tr>\n",
       "  </thead>\n",
       "  <tbody>\n",
       "    <tr>\n",
       "      <th>0</th>\n",
       "      <td>[</td>\n",
       "      <td>O</td>\n",
       "    </tr>\n",
       "    <tr>\n",
       "      <th>1</th>\n",
       "      <td>Histopathologic</td>\n",
       "      <td>O</td>\n",
       "    </tr>\n",
       "    <tr>\n",
       "      <th>2</th>\n",
       "      <td>examination</td>\n",
       "      <td>O</td>\n",
       "    </tr>\n",
       "    <tr>\n",
       "      <th>3</th>\n",
       "      <td>of</td>\n",
       "      <td>O</td>\n",
       "    </tr>\n",
       "    <tr>\n",
       "      <th>4</th>\n",
       "      <td>rectal</td>\n",
       "      <td>B-Pathological_formation</td>\n",
       "    </tr>\n",
       "  </tbody>\n",
       "</table>\n",
       "</div>"
      ],
      "text/plain": [
       "              word                       tag\n",
       "0                [                         O\n",
       "1  Histopathologic                         O\n",
       "2      examination                         O\n",
       "3               of                         O\n",
       "4           rectal  B-Pathological_formation"
      ]
     },
     "execution_count": 57,
     "metadata": {},
     "output_type": "execute_result"
    }
   ],
   "source": [
    "AnEM_test.head()"
   ]
  },
  {
   "cell_type": "code",
   "execution_count": 58,
   "metadata": {},
   "outputs": [
    {
     "data": {
      "text/plain": [
       "(45939, 2)"
      ]
     },
     "execution_count": 58,
     "metadata": {},
     "output_type": "execute_result"
    }
   ],
   "source": [
    "AnEM_test.shape"
   ]
  },
  {
   "cell_type": "code",
   "execution_count": 59,
   "metadata": {},
   "outputs": [
    {
     "data": {
      "text/plain": [
       "(117636, 2)"
      ]
     },
     "execution_count": 59,
     "metadata": {},
     "output_type": "execute_result"
    }
   ],
   "source": [
    "AnEM_train = AnEM_train.append(AnEM_test, ignore_index=True)\n",
    "AnEM_train.shape"
   ]
  },
  {
   "cell_type": "code",
   "execution_count": 60,
   "metadata": {},
   "outputs": [
    {
     "data": {
      "text/html": [
       "<div>\n",
       "<style scoped>\n",
       "    .dataframe tbody tr th:only-of-type {\n",
       "        vertical-align: middle;\n",
       "    }\n",
       "\n",
       "    .dataframe tbody tr th {\n",
       "        vertical-align: top;\n",
       "    }\n",
       "\n",
       "    .dataframe thead th {\n",
       "        text-align: right;\n",
       "    }\n",
       "</style>\n",
       "<table border=\"1\" class=\"dataframe\">\n",
       "  <thead>\n",
       "    <tr style=\"text-align: right;\">\n",
       "      <th></th>\n",
       "      <th>word</th>\n",
       "      <th>tag</th>\n",
       "    </tr>\n",
       "  </thead>\n",
       "  <tbody>\n",
       "    <tr>\n",
       "      <th>0</th>\n",
       "      <td>Ventricular</td>\n",
       "      <td>B-Multi-tissue_structure</td>\n",
       "    </tr>\n",
       "    <tr>\n",
       "      <th>1</th>\n",
       "      <td>fibrillation</td>\n",
       "      <td>O</td>\n",
       "    </tr>\n",
       "    <tr>\n",
       "      <th>2</th>\n",
       "      <td>due</td>\n",
       "      <td>O</td>\n",
       "    </tr>\n",
       "    <tr>\n",
       "      <th>3</th>\n",
       "      <td>to</td>\n",
       "      <td>O</td>\n",
       "    </tr>\n",
       "    <tr>\n",
       "      <th>4</th>\n",
       "      <td>long</td>\n",
       "      <td>O</td>\n",
       "    </tr>\n",
       "  </tbody>\n",
       "</table>\n",
       "</div>"
      ],
      "text/plain": [
       "           word                       tag\n",
       "0   Ventricular  B-Multi-tissue_structure\n",
       "1  fibrillation                         O\n",
       "2           due                         O\n",
       "3            to                         O\n",
       "4          long                         O"
      ]
     },
     "execution_count": 60,
     "metadata": {},
     "output_type": "execute_result"
    }
   ],
   "source": [
    "AnEM_train.head()"
   ]
  },
  {
   "cell_type": "code",
   "execution_count": 61,
   "metadata": {},
   "outputs": [],
   "source": [
    "doc = AnEM_train.word.tolist()\n",
    "doc = \" \".join(doc)"
   ]
  },
  {
   "cell_type": "code",
   "execution_count": 62,
   "metadata": {},
   "outputs": [
    {
     "name": "stderr",
     "output_type": "stream",
     "text": [
      "/Users/sdeshpande/opt/anaconda3/lib/python3.8/site-packages/spacy/util.py:275: UserWarning: [W031] Model 'en_core_web_md' (2.2.5) requires spaCy v2.2 and is incompatible with the current spaCy version (2.3.2). This may lead to unexpected results or runtime errors. To resolve this, download a newer compatible model or retrain your custom model with the current spaCy version. For more details and available updates, run: python -m spacy validate\n",
      "  warnings.warn(warn_msg)\n"
     ]
    }
   ],
   "source": [
    "import plac\n",
    "from spacy.lang.en import English\n",
    "from spacy.matcher import PhraseMatcher\n",
    "from spacy.tokens import Doc, Span, Token\n",
    "import spacy\n",
    "nlp = spacy.load('en_core_web_md')"
   ]
  },
  {
   "cell_type": "code",
   "execution_count": 63,
   "metadata": {},
   "outputs": [],
   "source": [
    "doc = nlp(doc)"
   ]
  },
  {
   "cell_type": "code",
   "execution_count": 64,
   "metadata": {},
   "outputs": [
    {
     "data": {
      "text/html": [
       "<div>\n",
       "<style scoped>\n",
       "    .dataframe tbody tr th:only-of-type {\n",
       "        vertical-align: middle;\n",
       "    }\n",
       "\n",
       "    .dataframe tbody tr th {\n",
       "        vertical-align: top;\n",
       "    }\n",
       "\n",
       "    .dataframe thead th {\n",
       "        text-align: right;\n",
       "    }\n",
       "</style>\n",
       "<table border=\"1\" class=\"dataframe\">\n",
       "  <thead>\n",
       "    <tr style=\"text-align: right;\">\n",
       "      <th></th>\n",
       "      <th>sentence_number</th>\n",
       "      <th>word</th>\n",
       "    </tr>\n",
       "  </thead>\n",
       "  <tbody>\n",
       "    <tr>\n",
       "      <th>0</th>\n",
       "      <td>0</td>\n",
       "      <td>Ventricular</td>\n",
       "    </tr>\n",
       "    <tr>\n",
       "      <th>1</th>\n",
       "      <td>0</td>\n",
       "      <td>fibrillation</td>\n",
       "    </tr>\n",
       "    <tr>\n",
       "      <th>2</th>\n",
       "      <td>0</td>\n",
       "      <td>due</td>\n",
       "    </tr>\n",
       "    <tr>\n",
       "      <th>3</th>\n",
       "      <td>0</td>\n",
       "      <td>to</td>\n",
       "    </tr>\n",
       "    <tr>\n",
       "      <th>4</th>\n",
       "      <td>0</td>\n",
       "      <td>long</td>\n",
       "    </tr>\n",
       "  </tbody>\n",
       "</table>\n",
       "</div>"
      ],
      "text/plain": [
       "   sentence_number          word\n",
       "0                0   Ventricular\n",
       "1                0  fibrillation\n",
       "2                0           due\n",
       "3                0            to\n",
       "4                0          long"
      ]
     },
     "execution_count": 64,
     "metadata": {},
     "output_type": "execute_result"
    }
   ],
   "source": [
    "sentences = []\n",
    "for sent_i, sent in enumerate(doc.sents):\n",
    "    for token in sent:\n",
    "        sentences.append((sent_i, token.text))\n",
    "        \n",
    "df2 = pd.DataFrame(sentences)\n",
    "df2.columns = [\"sentence_number\",\"word\"]\n",
    "df2.head()"
   ]
  },
  {
   "cell_type": "code",
   "execution_count": 66,
   "metadata": {},
   "outputs": [],
   "source": [
    "AnEM_train_merged = AnEM_train.merge(df2, left_index=True, right_index=True, how='inner')"
   ]
  },
  {
   "cell_type": "code",
   "execution_count": 67,
   "metadata": {},
   "outputs": [
    {
     "name": "stdout",
     "output_type": "stream",
     "text": [
      "         word_x                       tag  sentence_number        word_y\n",
      "0   Ventricular  B-Multi-tissue_structure                0   Ventricular\n",
      "1  fibrillation                         O                0  fibrillation\n",
      "2           due                         O                0           due\n",
      "3            to                         O                0            to\n",
      "4          long                         O                0          long\n"
     ]
    }
   ],
   "source": [
    "print(AnEM_train_merged.head())"
   ]
  },
  {
   "cell_type": "code",
   "execution_count": 68,
   "metadata": {},
   "outputs": [],
   "source": [
    "AnEM_train_merged.drop([\"word_y\"], axis = 1, inplace = True)"
   ]
  },
  {
   "cell_type": "code",
   "execution_count": 69,
   "metadata": {},
   "outputs": [],
   "source": [
    "AnEM_train_merged.columns = [\"word\",\"tag\", \"Sentence #\"]"
   ]
  },
  {
   "cell_type": "code",
   "execution_count": 70,
   "metadata": {},
   "outputs": [
    {
     "data": {
      "text/plain": [
       "117636"
      ]
     },
     "execution_count": 70,
     "metadata": {},
     "output_type": "execute_result"
    }
   ],
   "source": [
    "len(AnEM_train_merged)"
   ]
  },
  {
   "cell_type": "code",
   "execution_count": 71,
   "metadata": {},
   "outputs": [
    {
     "data": {
      "text/plain": [
       "['B-Multi-tissue_structure',\n",
       " 'O',\n",
       " 'B-Organism_substance',\n",
       " 'B-Organism_subdivision',\n",
       " 'B-Organ',\n",
       " 'I-Multi-tissue_structure',\n",
       " 'B-Cellular_component',\n",
       " 'I-Cellular_component',\n",
       " 'B-Cell',\n",
       " 'I-Cell',\n",
       " 'B-Immaterial_anatomical_entity',\n",
       " 'B-Tissue',\n",
       " 'I-Tissue',\n",
       " 'B-Pathological_formation',\n",
       " 'B-Anatomical_system',\n",
       " 'I-Organism_substance',\n",
       " 'I-Anatomical_system',\n",
       " 'I-Pathological_formation',\n",
       " 'I-Immaterial_anatomical_entity',\n",
       " 'I-Organ',\n",
       " 'I-Organism_subdivision',\n",
       " 'B-Developing_anatomical_structure',\n",
       " 'I-Developing_anatomical_structure']"
      ]
     },
     "execution_count": 71,
     "metadata": {},
     "output_type": "execute_result"
    }
   ],
   "source": [
    "tags = list(AnEM_train_merged.tag.unique())\n",
    "tags"
   ]
  },
  {
   "cell_type": "code",
   "execution_count": 72,
   "metadata": {},
   "outputs": [],
   "source": [
    "import matplotlib.pyplot as plt\n",
    "import seaborn as sns"
   ]
  },
  {
   "cell_type": "code",
   "execution_count": 73,
   "metadata": {},
   "outputs": [
    {
     "data": {
      "text/plain": [
       "<matplotlib.axes._subplots.AxesSubplot at 0x7fd36b8fa880>"
      ]
     },
     "execution_count": 73,
     "metadata": {},
     "output_type": "execute_result"
    },
    {
     "data": {
      "image/png": "[encoded data removed]",
      "text/plain": [
       "<Figure size 1080x360 with 1 Axes>"
      ]
     },
     "metadata": {
      "needs_background": "light"
     },
     "output_type": "display_data"
    }
   ],
   "source": [
    "plt.figure(figsize=(15, 5))\n",
    "sns.countplot(AnEM_train_merged.tag.values)"
   ]
  },
  {
   "cell_type": "code",
   "execution_count": 74,
   "metadata": {},
   "outputs": [
    {
     "data": {
      "text/plain": [
       "23"
      ]
     },
     "execution_count": 74,
     "metadata": {},
     "output_type": "execute_result"
    }
   ],
   "source": [
    "num_tags = len(tags)\n",
    "num_tags"
   ]
  },
  {
   "cell_type": "code",
   "execution_count": 75,
   "metadata": {},
   "outputs": [],
   "source": [
    "agg_func = lambda s: [(w, t) for w, t in zip(s[\"word\"].values.tolist(), s[\"tag\"].values.tolist())]\n",
    "group = AnEM_train_merged.groupby(\"Sentence #\").apply(agg_func)\n",
    "lines = [s for s in group]"
   ]
  },
  {
   "cell_type": "code",
   "execution_count": 76,
   "metadata": {},
   "outputs": [
    {
     "data": {
      "text/plain": [
       "[('Ventricular', 'B-Multi-tissue_structure'),\n",
       " ('fibrillation', 'O'),\n",
       " ('due', 'O'),\n",
       " ('to', 'O'),\n",
       " ('long', 'O'),\n",
       " ('QT', 'O'),\n",
       " ('syndrome', 'O'),\n",
       " ('probably', 'O'),\n",
       " ('caused', 'O'),\n",
       " ('by', 'O'),\n",
       " ('clindamycin', 'O'),\n",
       " ('.', 'O')]"
      ]
     },
     "execution_count": 76,
     "metadata": {},
     "output_type": "execute_result"
    }
   ],
   "source": [
    "lines[0]"
   ]
  },
  {
   "cell_type": "code",
   "execution_count": 77,
   "metadata": {},
   "outputs": [],
   "source": [
    "sentences = [[tokens[0] for tokens in line] for line in lines]\n",
    "tags = [[tokens[1] for tokens in line] for line in lines]"
   ]
  },
  {
   "cell_type": "code",
   "execution_count": 78,
   "metadata": {},
   "outputs": [
    {
     "data": {
      "text/plain": [
       "<matplotlib.axes._subplots.AxesSubplot at 0x7fd4777417c0>"
      ]
     },
     "execution_count": 78,
     "metadata": {},
     "output_type": "execute_result"
    },
    {
     "data": {
      "image/png": "[encoded data removed]",
      "text/plain": [
       "<Figure size 1080x360 with 1 Axes>"
      ]
     },
     "metadata": {
      "needs_background": "light"
     },
     "output_type": "display_data"
    }
   ],
   "source": [
    "sen_lengths = [len(sent) for sent in sentences]\n",
    "plt.figure(figsize=(15, 5))\n",
    "sns.countplot(sen_lengths)"
   ]
  },
  {
   "cell_type": "code",
   "execution_count": 79,
   "metadata": {},
   "outputs": [],
   "source": [
    "import os\n",
    "import time\n",
    "import numpy as np\n",
    "import pandas as pd\n",
    "\n",
    "import torch\n",
    "import torch.nn as nn\n",
    "import torch.optim as optim\n",
    "import torch.utils.data as data\n",
    "\n",
    "from transformers import BertTokenizer, BertModel\n",
    "\n",
    "from itertools import chain\n",
    "from collections import Counter\n",
    "from sklearn import metrics\n",
    "from sklearn.preprocessing import MultiLabelBinarizer\n",
    "from sklearn.model_selection import train_test_split\n",
    "\n",
    "import matplotlib.pyplot as plt\n",
    "import seaborn as sns"
   ]
  },
  {
   "cell_type": "code",
   "execution_count": 80,
   "metadata": {},
   "outputs": [],
   "source": [
    "MAX_LEN = 60\n",
    "tokenizer = BertTokenizer.from_pretrained('bert-base-cased')"
   ]
  },
  {
   "cell_type": "code",
   "execution_count": 81,
   "metadata": {},
   "outputs": [
    {
     "data": {
      "text/plain": [
       "device(type='cpu')"
      ]
     },
     "execution_count": 81,
     "metadata": {},
     "output_type": "execute_result"
    }
   ],
   "source": [
    "device = torch.device('cpu')\n",
    "device"
   ]
  },
  {
   "cell_type": "code",
   "execution_count": 82,
   "metadata": {},
   "outputs": [
    {
     "name": "stdout",
     "output_type": "stream",
     "text": [
      "101 0 100\n"
     ]
    }
   ],
   "source": [
    "# get the special tokens, it is required to use these while encoding in Field\n",
    "init_token = tokenizer.cls_token\n",
    "pad_token = tokenizer.pad_token\n",
    "unk_token = tokenizer.unk_token\n",
    "\n",
    "init_token_idx = tokenizer.convert_tokens_to_ids(init_token)\n",
    "pad_token_idx = tokenizer.convert_tokens_to_ids(pad_token)\n",
    "unk_token_idx = tokenizer.convert_tokens_to_ids(unk_token)\n",
    "\n",
    "print(init_token_idx, pad_token_idx, unk_token_idx)"
   ]
  },
  {
   "cell_type": "code",
   "execution_count": 83,
   "metadata": {},
   "outputs": [],
   "source": [
    "# limit the input tokens to max length - 1, [CLS] is the initial token\n",
    "def convert_to_id(tokens, tokenizer, max_input_length=MAX_LEN):\n",
    "    tokens = tokens[:max_input_length-1]\n",
    "    tokens = [init_token_idx] + tokenizer.convert_tokens_to_ids(tokens)\n",
    "    return tokens\n",
    "\n",
    "def cut_tags(tag, max_input_length=MAX_LEN):\n",
    "    tags = tag[:max_input_length-1]\n",
    "    return tags"
   ]
  },
  {
   "cell_type": "code",
   "execution_count": 84,
   "metadata": {},
   "outputs": [
    {
     "name": "stdout",
     "output_type": "stream",
     "text": [
      "CPU times: user 95.3 ms, sys: 1.53 ms, total: 96.8 ms\n",
      "Wall time: 95.7 ms\n"
     ]
    }
   ],
   "source": [
    "%%time\n",
    "sentences_ids = [convert_to_id(line, tokenizer) for line in sentences]\n",
    "tags = [cut_tags(tag) for tag in tags]"
   ]
  },
  {
   "cell_type": "code",
   "execution_count": 85,
   "metadata": {},
   "outputs": [
    {
     "data": {
      "text/plain": [
       "([101, 100, 100, 1496, 1106, 1263, 100, 9318, 1930, 2416, 1118, 100, 119],\n",
       " ['B-Multi-tissue_structure',\n",
       "  'O',\n",
       "  'O',\n",
       "  'O',\n",
       "  'O',\n",
       "  'O',\n",
       "  'O',\n",
       "  'O',\n",
       "  'O',\n",
       "  'O',\n",
       "  'O',\n",
       "  'O'])"
      ]
     },
     "execution_count": 85,
     "metadata": {},
     "output_type": "execute_result"
    }
   ],
   "source": [
    "sentences_ids[0], tags[0]"
   ]
  },
  {
   "cell_type": "code",
   "execution_count": 86,
   "metadata": {},
   "outputs": [],
   "source": [
    "class Vocabulary(object):\n",
    "    def __init__(self):\n",
    "        self.word2idx = {}\n",
    "        self.idx2word = {}\n",
    "        self.idx = 0\n",
    "\n",
    "    def add_word(self, word):\n",
    "        if not word in self.word2idx:\n",
    "            self.word2idx[word] = self.idx\n",
    "            self.idx2word[self.idx] = word\n",
    "            self.idx += 1\n",
    "\n",
    "    def __call__(self, word):\n",
    "        return self.word2idx[word]\n",
    "\n",
    "    def __len__(self):\n",
    "        return len(self.word2idx)"
   ]
  },
  {
   "cell_type": "code",
   "execution_count": 87,
   "metadata": {},
   "outputs": [],
   "source": [
    "def build_vocab(tags, threshold=5):\n",
    "    \"\"\"Build a simple vocabulary wrapper.\"\"\"\n",
    "    counter = Counter(chain(*tags))\n",
    "\n",
    "    # If the word frequency is less than 'threshold', then the word is discarded.\n",
    "    words = [word for word, cnt in counter.items() if cnt >= threshold]\n",
    "\n",
    "    # Create a vocab wrapper and add some special tokens.\n",
    "    vocab = Vocabulary()\n",
    "    vocab.add_word('<pad>')\n",
    "\n",
    "    # Add the words to the vocabulary.\n",
    "    for i, word in enumerate(words):\n",
    "        vocab.add_word(word)\n",
    "    return vocab"
   ]
  },
  {
   "cell_type": "code",
   "execution_count": 88,
   "metadata": {},
   "outputs": [
    {
     "name": "stdout",
     "output_type": "stream",
     "text": [
      "Total vocabulary size: 24\n"
     ]
    }
   ],
   "source": [
    "tags_vocab = build_vocab(tags)\n",
    "print(\"Total vocabulary size: {}\".format(len(tags_vocab)))"
   ]
  },
  {
   "cell_type": "code",
   "execution_count": 89,
   "metadata": {},
   "outputs": [],
   "source": [
    "tags_ids = [[tags_vocab('<pad>')] + [tags_vocab(t) for t in tag] for tag in tags]"
   ]
  },
  {
   "cell_type": "code",
   "execution_count": 90,
   "metadata": {},
   "outputs": [
    {
     "data": {
      "text/plain": [
       "(4828, 603, 604)"
      ]
     },
     "execution_count": 90,
     "metadata": {},
     "output_type": "execute_result"
    }
   ],
   "source": [
    "train_sentences, valid_sentences, train_tags, valid_tags = train_test_split(sentences_ids, tags_ids, test_size=0.2, random_state=42)\n",
    "valid_sentences, test_sentences, valid_tags, test_tags = train_test_split(valid_sentences, valid_tags, test_size=0.5, random_state=42)\n",
    "len(train_sentences), len(valid_sentences), len(test_sentences)"
   ]
  },
  {
   "cell_type": "code",
   "execution_count": 91,
   "metadata": {},
   "outputs": [],
   "source": [
    "class NERDataset(data.Dataset):\n",
    "    def __init__(self, sentences, tags):\n",
    "        self.sentences = sentences\n",
    "        self.tags = tags\n",
    "    \n",
    "    def __len__(self):\n",
    "        return len(self.sentences)\n",
    "    \n",
    "    def __getitem__(self, item):\n",
    "        sentence = self.sentences[item]\n",
    "        tag = self.tags[item]\n",
    "\n",
    "        return torch.LongTensor(sentence), torch.LongTensor(tag)"
   ]
  },
  {
   "cell_type": "code",
   "execution_count": 92,
   "metadata": {},
   "outputs": [],
   "source": [
    "train_dataset = NERDataset(train_sentences, train_tags)\n",
    "valid_dataset = NERDataset(valid_sentences, valid_tags)\n",
    "test_dataset = NERDataset(test_sentences, test_tags)"
   ]
  },
  {
   "cell_type": "code",
   "execution_count": 93,
   "metadata": {},
   "outputs": [
    {
     "name": "stdout",
     "output_type": "stream",
     "text": [
      "(tensor([  101,  1826,   119,  2614,  2097, 11621,   100,  1105,  5625,  1104,\n",
      "         3368,  1146,   117,  1134,  1195,  1215,  1112,   170,   100,  4929,\n",
      "         1111,  2616,   118,  3767,   117,  1127,  2412,  1750,  1696,   117,\n",
      "         8080]), tensor([0, 2, 2, 2, 2, 2, 2, 2, 2, 2, 2, 2, 2, 2, 2, 2, 2, 2, 2, 2, 2, 2, 2, 2,\n",
      "        2, 2, 2, 2, 2, 2, 2]))\n"
     ]
    }
   ],
   "source": [
    "print(train_dataset[0])\n",
    "BATCH_SIZE = 64"
   ]
  },
  {
   "cell_type": "code",
   "execution_count": 94,
   "metadata": {},
   "outputs": [],
   "source": [
    "def collate_fn(data):\n",
    "    data.sort(key=lambda x: len(x[0]), reverse=True)\n",
    "    sentences, tags = zip(*data)\n",
    "\n",
    "    # Merge questions (from tuple of 1D tensor to 2D tensor).\n",
    "    sent_lengths = [len(sent) for sent in sentences]\n",
    "    inputs = torch.zeros(len(sentences), max(sent_lengths)).long()\n",
    "    labels = torch.zeros(len(sentences), max(sent_lengths)).long()\n",
    "    \n",
    "    for i, (sent, lab) in enumerate(zip(sentences, tags)):\n",
    "        end = sent_lengths[i]\n",
    "        inputs[i, :end] = sent[:end]\n",
    "        labels[i, :end] = lab[:end]\n",
    "\n",
    "    return inputs, labels"
   ]
  },
  {
   "cell_type": "code",
   "execution_count": 95,
   "metadata": {},
   "outputs": [],
   "source": [
    "train_data_loader = data.DataLoader(train_dataset, BATCH_SIZE, shuffle=True, collate_fn=collate_fn)\n",
    "valid_data_loader = data.DataLoader(valid_dataset, BATCH_SIZE, shuffle=False, collate_fn=collate_fn)\n",
    "test_data_loader = data.DataLoader(test_dataset, BATCH_SIZE, shuffle=False, collate_fn=collate_fn)"
   ]
  },
  {
   "cell_type": "code",
   "execution_count": 96,
   "metadata": {},
   "outputs": [
    {
     "data": {
      "text/plain": [
       "(torch.Size([64, 60]), torch.Size([64, 60]))"
      ]
     },
     "execution_count": 96,
     "metadata": {},
     "output_type": "execute_result"
    }
   ],
   "source": [
    "sample = next(iter(train_data_loader))\n",
    "sample[0].shape, sample[1].shape"
   ]
  },
  {
   "cell_type": "code",
   "execution_count": 97,
   "metadata": {},
   "outputs": [],
   "source": [
    "class NERTagger(nn.Module):\n",
    "    def __init__(self, output_dim, dropout):\n",
    "        super().__init__()\n",
    "        \n",
    "        # bert model\n",
    "        self.bert = BertModel.from_pretrained('bert-base-cased')\n",
    "        \n",
    "        # bert model hidden size\n",
    "        d_model = self.bert.config.to_dict()['hidden_size']\n",
    "        \n",
    "        # prediction layer\n",
    "        self.fc = nn.Linear(d_model, output_dim)\n",
    "        \n",
    "        self.dropout = nn.Dropout(dropout)\n",
    "    \n",
    "    def forward(self, text):\n",
    "        # text => [batch_size, seq_len]\n",
    "\n",
    "        embedded = self.dropout(self.bert(text)[0])\n",
    "        # only take the outputs, pooled output is not required\n",
    "        # embedded => [batch_size, seq_len, d_model]\n",
    "\n",
    "        predictions = self.fc(self.dropout(embedded))\n",
    "        # predictions => [batch_size, seq_len, output_dim]\n",
    "\n",
    "        return predictions"
   ]
  },
  {
   "cell_type": "code",
   "execution_count": 98,
   "metadata": {},
   "outputs": [
    {
     "data": {
      "application/vnd.jupyter.widget-view+json": {
       "model_id": "6c1ff73eebe645278e5fed682ad32f7a",
       "version_major": 2,
       "version_minor": 0
      },
      "text/plain": [
       "HBox(children=(FloatProgress(value=0.0, description='Downloading', max=433.0, style=ProgressStyle(description_…"
      ]
     },
     "metadata": {},
     "output_type": "display_data"
    },
    {
     "name": "stdout",
     "output_type": "stream",
     "text": [
      "\n"
     ]
    },
    {
     "data": {
      "application/vnd.jupyter.widget-view+json": {
       "model_id": "1a82665307d746cc98b788dcb55dac9d",
       "version_major": 2,
       "version_minor": 0
      },
      "text/plain": [
       "HBox(children=(FloatProgress(value=0.0, description='Downloading', max=435779157.0, style=ProgressStyle(descri…"
      ]
     },
     "metadata": {},
     "output_type": "display_data"
    },
    {
     "name": "stdout",
     "output_type": "stream",
     "text": [
      "\n"
     ]
    }
   ],
   "source": [
    "OUTPUT_DIM = len(tags_vocab)\n",
    "DROPOUT = 0.4\n",
    "\n",
    "model = NERTagger(OUTPUT_DIM, DROPOUT)"
   ]
  },
  {
   "cell_type": "code",
   "execution_count": 99,
   "metadata": {},
   "outputs": [],
   "source": [
    "model = model.to(device)"
   ]
  },
  {
   "cell_type": "code",
   "execution_count": 100,
   "metadata": {},
   "outputs": [
    {
     "name": "stdout",
     "output_type": "stream",
     "text": [
      "The model has 108,328,728 trainable parameters\n"
     ]
    }
   ],
   "source": [
    "def count_parameters(model):\n",
    "    return sum(p.numel() for p in model.parameters() if p.requires_grad)\n",
    "\n",
    "print(f'The model has {count_parameters(model):,} trainable parameters')"
   ]
  },
  {
   "cell_type": "code",
   "execution_count": 101,
   "metadata": {},
   "outputs": [],
   "source": [
    "LR = 5e-5\n",
    "TAG_PAD_IDX = tags_vocab('<pad>')\n",
    "\n",
    "optimizer = optim.Adam(model.parameters(), lr=LR)\n",
    "criterion = nn.CrossEntropyLoss(ignore_index = TAG_PAD_IDX).to(device)"
   ]
  },
  {
   "cell_type": "code",
   "execution_count": 102,
   "metadata": {},
   "outputs": [],
   "source": [
    "def train(model, iterator, criterion, optimizer):\n",
    "    model.train()\n",
    "\n",
    "    epoch_loss = 0\n",
    "\n",
    "    for batch in iterator:\n",
    "        text = batch[0].to(device)\n",
    "        tags = batch[1].to(device)\n",
    "        # text => [seq_len, batch_size]\n",
    "        # tags => [seq_len, batch_size]\n",
    "\n",
    "        optimizer.zero_grad()\n",
    "\n",
    "        logits = model(text)\n",
    "        # logits => [batch_size, seq_len, output_dim]\n",
    "\n",
    "        logits = logits.view(-1, logits.shape[-1])\n",
    "        # logits => [batch_size * seq_len, output_dim]\n",
    "\n",
    "        tags = tags.view(-1)\n",
    "        # tags => [batch_size * seq_len]\n",
    "\n",
    "        loss = criterion(logits, tags)\n",
    "\n",
    "        loss.backward()\n",
    "        optimizer.step()\n",
    "        \n",
    "        epoch_loss += loss.item()\n",
    "    \n",
    "    return epoch_loss / len(iterator)"
   ]
  },
  {
   "cell_type": "code",
   "execution_count": 103,
   "metadata": {},
   "outputs": [],
   "source": [
    "def evaluate(model, iterator, criterion):\n",
    "    model.eval()\n",
    "\n",
    "    epoch_loss = 0\n",
    "\n",
    "    with torch.no_grad():\n",
    "        for batch in iterator:\n",
    "            text = batch[0].to(device)\n",
    "            tags = batch[1].to(device)\n",
    "            # text => [batch_size, seq_len]\n",
    "            # tags => [batch_size, seq_len]\n",
    "\n",
    "            optimizer.zero_grad()\n",
    "\n",
    "            logits = model(text)\n",
    "            # logits => [batch_size, seq_len, output_dim]\n",
    "\n",
    "            logits = logits.view(-1, logits.shape[-1])\n",
    "            # logits => [batch_size * seq_len, output_dim]\n",
    "\n",
    "            tags = tags.view(-1)\n",
    "            # tags => [batch_size * seq_len]\n",
    "\n",
    "            loss = criterion(logits, tags)\n",
    "            epoch_loss += loss.item()\n",
    "    \n",
    "    return epoch_loss / len(iterator)"
   ]
  },
  {
   "cell_type": "code",
   "execution_count": 104,
   "metadata": {},
   "outputs": [],
   "source": [
    "def epoch_time(start_time, end_time):\n",
    "    elapsed_time = end_time - start_time\n",
    "    elapsed_mins = int(elapsed_time / 60)\n",
    "    elapsed_secs = int(elapsed_time - (elapsed_mins * 60))\n",
    "    return elapsed_mins, elapsed_secs"
   ]
  },
  {
   "cell_type": "code",
   "execution_count": 105,
   "metadata": {},
   "outputs": [
    {
     "name": "stdout",
     "output_type": "stream",
     "text": [
      "Epoch: 01 | Epoch Time: 11m 49s\n",
      "\tTrain Loss: 0.379 | Val. Loss: 0.264\n",
      "Epoch: 02 | Epoch Time: 9m 31s\n",
      "\tTrain Loss: 0.245 | Val. Loss: 0.171\n",
      "Epoch: 03 | Epoch Time: 9m 30s\n",
      "\tTrain Loss: 0.171 | Val. Loss: 0.161\n",
      "Epoch: 04 | Epoch Time: 9m 37s\n",
      "\tTrain Loss: 0.142 | Val. Loss: 0.137\n",
      "Epoch: 05 | Epoch Time: 9m 32s\n",
      "\tTrain Loss: 0.112 | Val. Loss: 0.126\n"
     ]
    }
   ],
   "source": [
    "#N_EPOCHS = 10\n",
    "N_EPOCHS = 5\n",
    "best_valid_loss = float('inf')\n",
    "\n",
    "for epoch in range(N_EPOCHS):\n",
    "\n",
    "    start_time = time.time()\n",
    "    \n",
    "    train_loss = train(model, train_data_loader, criterion, optimizer)\n",
    "    valid_loss = evaluate(model, valid_data_loader, criterion)\n",
    "    \n",
    "    end_time = time.time()\n",
    "\n",
    "    epoch_mins, epoch_secs = epoch_time(start_time, end_time)\n",
    "    \n",
    "    if valid_loss < best_valid_loss:\n",
    "        best_valid_loss = valid_loss\n",
    "        torch.save(model.state_dict(), 'model.pt')\n",
    "    \n",
    "    print(f'Epoch: {epoch+1:02} | Epoch Time: {epoch_mins}m {epoch_secs}s')\n",
    "    print(f'\\tTrain Loss: {train_loss:.3f} | Val. Loss: {valid_loss:.3f}')"
   ]
  },
  {
   "cell_type": "code",
   "execution_count": 106,
   "metadata": {},
   "outputs": [
    {
     "data": {
      "text/plain": [
       "<All keys matched successfully>"
      ]
     },
     "execution_count": 106,
     "metadata": {},
     "output_type": "execute_result"
    }
   ],
   "source": [
    "model.load_state_dict(torch.load('model.pt'))"
   ]
  },
  {
   "cell_type": "code",
   "execution_count": 151,
   "metadata": {},
   "outputs": [],
   "source": [
    "def cal_metrics(iterator):\n",
    "    model.eval()\n",
    "    epoch_loss = 0\n",
    "    fin_outputs = []\n",
    "    fin_targets = []\n",
    "\n",
    "    with torch.no_grad():\n",
    "        for batch in iterator:\n",
    "            text = batch[0].to(device)\n",
    "            tags = batch[1].to(device)\n",
    "            # text => [seq_len, batch_size]\n",
    "            # tags => [seq_len, batch_size]\n",
    "\n",
    "            logits = model(text)\n",
    "            # logits => [seq_len, batch_size, output_dim]\n",
    "\n",
    "            predictions = logits.argmax(-1)\n",
    "\n",
    "            fin_outputs.extend(predictions.detach().cpu().numpy().tolist())\n",
    "            fin_targets.extend(tags.detach().cpu().numpy().tolist())\n",
    "\n",
    "    assert len(fin_outputs) == len(fin_targets)\n",
    "    mlb = MultiLabelBinarizer()\n",
    "    trans_trg = mlb.fit_transform(fin_targets)\n",
    "    trans_pred = mlb.transform(fin_outputs)\n",
    "    print(trans_pred)\n",
    "\n",
    "    cf = metrics.classification_report(trans_trg, trans_pred)\n",
    "    print(cf)"
   ]
  },
  {
   "cell_type": "code",
   "execution_count": 153,
   "metadata": {},
   "outputs": [],
   "source": [
    "#cal_metrics(test_data_loader)"
   ]
  },
  {
   "cell_type": "markdown",
   "metadata": {},
   "source": [
    "# BiLSTM_CRF"
   ]
  },
  {
   "cell_type": "code",
   "execution_count": 118,
   "metadata": {},
   "outputs": [],
   "source": [
    "import os\n",
    "import time\n",
    "import pandas as pd\n",
    "\n",
    "import torch\n",
    "import torch.nn as nn\n",
    "import torch.optim as optim\n",
    "import torch.utils.data as data\n",
    "\n",
    "from itertools import chain\n",
    "from collections import Counter\n",
    "from sklearn import metrics\n",
    "from sklearn.preprocessing import MultiLabelBinarizer\n",
    "from sklearn.model_selection import train_test_split\n",
    "\n",
    "import matplotlib.pyplot as plt\n",
    "import seaborn as sns"
   ]
  },
  {
   "cell_type": "code",
   "execution_count": 119,
   "metadata": {},
   "outputs": [],
   "source": [
    "sentences = [['<START>'] + [tokens[0] for tokens in line] + ['<END>'] for line in lines]\n",
    "tags = [['<START>'] + [tokens[1] for tokens in line] + ['<END>'] for line in lines]"
   ]
  },
  {
   "cell_type": "code",
   "execution_count": 120,
   "metadata": {},
   "outputs": [],
   "source": [
    "chars = [[['<START']] + [['<START>'] + [ch for ch in word] + ['<END>'] for word in sent[1:-1]] + [['<END>']] for sent in sentences]"
   ]
  },
  {
   "cell_type": "code",
   "execution_count": 121,
   "metadata": {},
   "outputs": [
    {
     "data": {
      "text/plain": [
       "(6035, 6035, 6035)"
      ]
     },
     "execution_count": 121,
     "metadata": {},
     "output_type": "execute_result"
    }
   ],
   "source": [
    "len(sentences), len(tags), len(chars)"
   ]
  },
  {
   "cell_type": "code",
   "execution_count": 122,
   "metadata": {},
   "outputs": [
    {
     "data": {
      "text/plain": [
       "['<START>',\n",
       " 'Ventricular',\n",
       " 'fibrillation',\n",
       " 'due',\n",
       " 'to',\n",
       " 'long',\n",
       " 'QT',\n",
       " 'syndrome',\n",
       " 'probably',\n",
       " 'caused',\n",
       " 'by',\n",
       " 'clindamycin',\n",
       " '.',\n",
       " '<END>']"
      ]
     },
     "execution_count": 122,
     "metadata": {},
     "output_type": "execute_result"
    }
   ],
   "source": [
    "sentences[0]"
   ]
  },
  {
   "cell_type": "code",
   "execution_count": 123,
   "metadata": {},
   "outputs": [
    {
     "data": {
      "text/plain": [
       "[['<START'],\n",
       " ['<START>', 'V', 'e', 'n', 't', 'r', 'i', 'c', 'u', 'l', 'a', 'r', '<END>'],\n",
       " ['<START>',\n",
       "  'f',\n",
       "  'i',\n",
       "  'b',\n",
       "  'r',\n",
       "  'i',\n",
       "  'l',\n",
       "  'l',\n",
       "  'a',\n",
       "  't',\n",
       "  'i',\n",
       "  'o',\n",
       "  'n',\n",
       "  '<END>'],\n",
       " ['<START>', 'd', 'u', 'e', '<END>'],\n",
       " ['<START>', 't', 'o', '<END>'],\n",
       " ['<START>', 'l', 'o', 'n', 'g', '<END>'],\n",
       " ['<START>', 'Q', 'T', '<END>'],\n",
       " ['<START>', 's', 'y', 'n', 'd', 'r', 'o', 'm', 'e', '<END>'],\n",
       " ['<START>', 'p', 'r', 'o', 'b', 'a', 'b', 'l', 'y', '<END>'],\n",
       " ['<START>', 'c', 'a', 'u', 's', 'e', 'd', '<END>'],\n",
       " ['<START>', 'b', 'y', '<END>'],\n",
       " ['<START>', 'c', 'l', 'i', 'n', 'd', 'a', 'm', 'y', 'c', 'i', 'n', '<END>'],\n",
       " ['<START>', '.', '<END>'],\n",
       " ['<END>']]"
      ]
     },
     "execution_count": 123,
     "metadata": {},
     "output_type": "execute_result"
    }
   ],
   "source": [
    "chars[0]"
   ]
  },
  {
   "cell_type": "code",
   "execution_count": 124,
   "metadata": {},
   "outputs": [
    {
     "data": {
      "text/plain": [
       "<matplotlib.axes._subplots.AxesSubplot at 0x7fd204a4b700>"
      ]
     },
     "execution_count": 124,
     "metadata": {},
     "output_type": "execute_result"
    },
    {
     "data": {
      "image/png": "[encoded data removed]",
      "text/plain": [
       "<Figure size 1080x360 with 1 Axes>"
      ]
     },
     "metadata": {
      "needs_background": "light"
     },
     "output_type": "display_data"
    }
   ],
   "source": [
    "sen_lengths = [len(sent) for sent in sentences]\n",
    "plt.figure(figsize=(15, 5))\n",
    "sns.countplot(sen_lengths)"
   ]
  },
  {
   "cell_type": "code",
   "execution_count": 125,
   "metadata": {},
   "outputs": [
    {
     "data": {
      "text/plain": [
       "<matplotlib.axes._subplots.AxesSubplot at 0x7fd363e2a7f0>"
      ]
     },
     "execution_count": 125,
     "metadata": {},
     "output_type": "execute_result"
    },
    {
     "data": {
      "image/png": "[encoded data removed]",
      "text/plain": [
       "<Figure size 1080x360 with 1 Axes>"
      ]
     },
     "metadata": {
      "needs_background": "light"
     },
     "output_type": "display_data"
    }
   ],
   "source": [
    "char_lengths = [len(t) for char in chars for t in char]\n",
    "plt.figure(figsize=(15, 5))\n",
    "sns.countplot(char_lengths)"
   ]
  },
  {
   "cell_type": "code",
   "execution_count": 126,
   "metadata": {},
   "outputs": [
    {
     "data": {
      "text/plain": [
       "(4828, 603, 604)"
      ]
     },
     "execution_count": 126,
     "metadata": {},
     "output_type": "execute_result"
    }
   ],
   "source": [
    "train_sentences, valid_sentences, train_tags, valid_tags, train_chars, valid_chars = train_test_split(sentences, tags, chars, test_size=0.2, random_state=42)\n",
    "valid_sentences, test_sentences, valid_tags, test_tags, valid_chars, test_chars = train_test_split(valid_sentences, valid_tags, valid_chars, test_size=0.5, random_state=42)\n",
    "len(train_sentences), len(valid_sentences), len(test_sentences)"
   ]
  },
  {
   "cell_type": "code",
   "execution_count": 127,
   "metadata": {},
   "outputs": [],
   "source": [
    "class Vocab:\n",
    "    def __init__(self, word2id, id2word):\n",
    "        self.UNK = '<UNK>'\n",
    "        self.PAD = '<PAD>'\n",
    "        self.START = '<START>'\n",
    "        self.END = '<END>'\n",
    "        self.__word2id = word2id\n",
    "        self.__id2word = id2word\n",
    "\n",
    "    def get_word2id(self):\n",
    "        return self.__word2id\n",
    "\n",
    "    def get_id2word(self):\n",
    "        return self.__id2word\n",
    "\n",
    "    def __getitem__(self, item):\n",
    "        if self.UNK in self.__word2id:\n",
    "            return self.__word2id.get(item, self.__word2id[self.UNK])\n",
    "        return self.__word2id[item]\n",
    "\n",
    "    def __len__(self):\n",
    "        return len(self.__word2id)\n",
    "\n",
    "    def id2word(self, idx):\n",
    "        return self.__id2word[idx]"
   ]
  },
  {
   "cell_type": "code",
   "execution_count": 128,
   "metadata": {},
   "outputs": [],
   "source": [
    "def build_vocab(data, freq_cutoff=5, is_tags=False, is_chars=False):\n",
    "    if is_chars:\n",
    "        word_counts = Counter(chain(*chain(*train_chars[:10])))\n",
    "    else:\n",
    "        word_counts = Counter(chain(*data))\n",
    "    valid_words = [w for w, d in word_counts.items() if d >= freq_cutoff]\n",
    "    valid_words = sorted(valid_words, key=lambda x: word_counts[x], reverse=True)\n",
    "    valid_words += ['<PAD>']\n",
    "    word2id = {w: idx for idx, w in enumerate(valid_words)}\n",
    "    if not is_tags:\n",
    "        word2id['<UNK>'] = len(word2id)\n",
    "        valid_words += ['<UNK>']\n",
    "    return Vocab(word2id=word2id, id2word=valid_words)"
   ]
  },
  {
   "cell_type": "code",
   "execution_count": 129,
   "metadata": {},
   "outputs": [],
   "source": [
    "words_vocab = build_vocab(train_sentences)\n",
    "tags_vocab = build_vocab(train_tags, is_tags=True)\n",
    "chars_vocab = build_vocab(train_chars, is_chars=True)"
   ]
  },
  {
   "cell_type": "code",
   "execution_count": 130,
   "metadata": {},
   "outputs": [
    {
     "data": {
      "text/plain": [
       "(2622, 26, 45)"
      ]
     },
     "execution_count": 130,
     "metadata": {},
     "output_type": "execute_result"
    }
   ],
   "source": [
    "len(words_vocab), len(tags_vocab), len(chars_vocab)"
   ]
  },
  {
   "cell_type": "code",
   "execution_count": 131,
   "metadata": {},
   "outputs": [],
   "source": [
    "MAX_SEQ_LEN = 50\n",
    "MAX_WORD_LEN = 15"
   ]
  },
  {
   "cell_type": "code",
   "execution_count": 132,
   "metadata": {},
   "outputs": [],
   "source": [
    "class NERDataset(data.Dataset):\n",
    "    def __init__(self, sentences, tags, chars, max_seq_len, max_word_len):\n",
    "        self.sentences = sentences\n",
    "        self.tags = tags\n",
    "        self.characters = chars\n",
    "        self.max_seq_len = max_seq_len\n",
    "        self.max_word_len = max_word_len\n",
    "    \n",
    "    def __len__(self):\n",
    "        return len(self.sentences)\n",
    "    \n",
    "    def __getitem__(self, item):\n",
    "        sentence = self.sentences[item]\n",
    "        tag = self.tags[item]\n",
    "        chars = self.characters[item]\n",
    "        seq_len = len(sentence)\n",
    "\n",
    "        # convert the sentences and tags into numerical format\n",
    "        word_tokens = [words_vocab[word] for word in sentence]\n",
    "        tag_tokens = [tags_vocab[t] for t in tag]\n",
    "\n",
    "        char_seq = []\n",
    "        for word in chars:\n",
    "            word_len = len(word)\n",
    "            # truncate the word if it is greater than max_word_len\n",
    "            if word_len > self.max_word_len:\n",
    "                word = word[:self.max_word_len]\n",
    "            # pad the word if it less\n",
    "            else:\n",
    "                pad_length = self.max_word_len - word_len\n",
    "                word = word + [chars_vocab.PAD] * pad_length\n",
    "            \n",
    "            # convert the chars into numerical format\n",
    "            char_ids = []\n",
    "            for each_char in word: \n",
    "                char_ids.append(chars_vocab[each_char])\n",
    "            char_seq.append(char_ids)\n",
    "        \n",
    "        return torch.LongTensor(word_tokens), torch.LongTensor(char_seq), torch.LongTensor(tag_tokens)"
   ]
  },
  {
   "cell_type": "code",
   "execution_count": 133,
   "metadata": {},
   "outputs": [],
   "source": [
    "train_dataset = NERDataset(train_sentences, train_tags, train_chars, MAX_SEQ_LEN, MAX_WORD_LEN)\n",
    "valid_dataset = NERDataset(valid_sentences, valid_tags, valid_chars, MAX_SEQ_LEN, MAX_WORD_LEN)\n",
    "test_dataset = NERDataset(test_sentences, test_tags, test_chars, MAX_SEQ_LEN, MAX_WORD_LEN)"
   ]
  },
  {
   "cell_type": "code",
   "execution_count": 134,
   "metadata": {},
   "outputs": [
    {
     "data": {
      "text/plain": [
       "(tensor([   0, 1217,    2, 2621, 2621, 2162,  507,    7,  462,    5, 2621,  174,\n",
       "            3,   51,   74,   76,   28,   12, 1798,  581,   14,  817,    6, 2621,\n",
       "            3,   18,  897,  230,  214,    3,  758,    1]),\n",
       " tensor([[24, 43, 43, 43, 43, 43, 43, 43, 43, 43, 43, 43, 43, 43, 43],\n",
       "         [ 1,  8,  2,  9, 25,  3, 11,  2,  8,  0, 43, 43, 43, 43, 43],\n",
       "         [ 1, 26,  0, 43, 43, 43, 43, 43, 43, 43, 43, 43, 43, 43, 43],\n",
       "         [ 1, 37,  3, 14,  2,  0, 43, 43, 43, 43, 43, 43, 43, 43, 43],\n",
       "         [ 1,  8, 15,  2,  5,  6,  0, 43, 43, 43, 43, 43, 43, 43, 43],\n",
       "         [ 1,  7, 20,  6,  4,  3,  5,  3,  5, 21,  0, 43, 43, 43, 43],\n",
       "         [ 1, 32,  9, 27, 32,  0, 43, 43, 43, 43, 43, 43, 43, 43, 43],\n",
       "         [ 1,  4,  5, 12,  0, 43, 43, 43, 43, 43, 43, 43, 43, 43, 43],\n",
       "         [ 1, 16,  9,  2, 44, 17,  2,  5, 11, 18,  0, 43, 43, 43, 43],\n",
       "         [ 1,  7, 16,  0, 43, 43, 43, 43, 43, 43, 43, 43, 43, 43, 43],\n",
       "         [ 1, 15,  3, 11, 38,  0, 43, 43, 43, 43, 43, 43, 43, 43, 43],\n",
       "         [ 1, 17, 15,  0, 43, 43, 43, 43, 43, 43, 43, 43, 43, 43, 43],\n",
       "         [ 1, 22,  0, 43, 43, 43, 43, 43, 43, 43, 43, 43, 43, 43, 43],\n",
       "         [ 1, 19, 13,  3, 11, 13,  0, 43, 43, 43, 43, 43, 43, 43, 43],\n",
       "         [ 1, 19,  2,  0, 43, 43, 43, 43, 43, 43, 43, 43, 43, 43, 43],\n",
       "         [ 1, 17,  8,  2, 12,  0, 43, 43, 43, 43, 43, 43, 43, 43, 43],\n",
       "         [ 1,  4,  8,  0, 43, 43, 43, 43, 43, 43, 43, 43, 43, 43, 43],\n",
       "         [ 1,  4,  0, 43, 43, 43, 43, 43, 43, 43, 43, 43, 43, 43, 43],\n",
       "         [ 1, 15,  9,  7, 44, 18,  0, 43, 43, 43, 43, 43, 43, 43, 43],\n",
       "         [ 1, 14,  2,  4,  8, 17,  9,  2,  0, 43, 43, 43, 43, 43, 43],\n",
       "         [ 1, 16,  7,  9,  0, 43, 43, 43, 43, 43, 43, 43, 43, 43, 43],\n",
       "         [ 1, 11,  7,  8,  6,  0, 43, 43, 43, 43, 43, 43, 43, 43, 43],\n",
       "         [ 1, 30,  0, 43, 43, 43, 43, 43, 43, 43, 43, 43, 43, 43, 43],\n",
       "         [ 1,  7, 15, 15,  7,  9,  6, 17,  5,  3,  6, 18,  0, 43, 43],\n",
       "         [ 1, 22,  0, 43, 43, 43, 43, 43, 43, 43, 43, 43, 43, 43, 43],\n",
       "         [ 1, 19,  2,  9,  2,  0, 43, 43, 43, 43, 43, 43, 43, 43, 43],\n",
       "         [ 1, 21,  2,  5,  2,  9,  4, 10, 10, 18,  0, 43, 43, 43, 43],\n",
       "         [ 1, 10,  2,  8,  8,  0, 43, 43, 43, 43, 43, 43, 43, 43, 43],\n",
       "         [ 1,  3, 14, 15,  7,  9,  6,  4,  5,  6,  0, 43, 43, 43, 43],\n",
       "         [ 1, 22,  0, 43, 43, 43, 43, 43, 43, 43, 43, 43, 43, 43, 43],\n",
       "         [ 1, 11,  7,  5,  8,  3,  8,  6,  2,  5,  6,  0, 43, 43, 43],\n",
       "         [ 0, 43, 43, 43, 43, 43, 43, 43, 43, 43, 43, 43, 43, 43, 43]]),\n",
       " tensor([1, 0, 0, 0, 0, 0, 0, 0, 0, 0, 0, 0, 0, 0, 0, 0, 0, 0, 0, 0, 0, 0, 0, 0,\n",
       "         0, 0, 0, 0, 0, 0, 0, 2]))"
      ]
     },
     "execution_count": 134,
     "metadata": {},
     "output_type": "execute_result"
    }
   ],
   "source": [
    "train_dataset[0]"
   ]
  },
  {
   "cell_type": "code",
   "execution_count": 135,
   "metadata": {},
   "outputs": [],
   "source": [
    "BATCH_SIZE = 64"
   ]
  },
  {
   "cell_type": "code",
   "execution_count": 136,
   "metadata": {},
   "outputs": [],
   "source": [
    "def collate_fn(data):\n",
    "    data.sort(key=lambda x: len(x[0]), reverse=True)\n",
    "    sentences, words, tags = zip(*data)\n",
    "\n",
    "    # Merge questions (from tuple of 1D tensor to 2D tensor).\n",
    "    sent_lengths = [len(sent) for sent in sentences]\n",
    "    inputs = torch.zeros(len(sentences), max(sent_lengths)).long()\n",
    "    labels = torch.zeros(len(sentences), max(sent_lengths)).long()\n",
    "    chars = torch.zeros(len(sentences), max(sent_lengths), MAX_WORD_LEN).long()\n",
    "    for i, (sent, lab, ch) in enumerate(zip(sentences, tags, words)):\n",
    "        end = sent_lengths[i]\n",
    "        inputs[i, :end] = sent[:end]\n",
    "        labels[i, :end] = lab[:end]\n",
    "        chars[i, :end] = ch[:end]\n",
    "    return inputs, chars, labels, sent_lengths"
   ]
  },
  {
   "cell_type": "code",
   "execution_count": 137,
   "metadata": {},
   "outputs": [],
   "source": [
    "train_data_loader = data.DataLoader(train_dataset, BATCH_SIZE, shuffle=True, collate_fn=collate_fn)\n",
    "valid_data_loader = data.DataLoader(valid_dataset, BATCH_SIZE, shuffle=False, collate_fn=collate_fn)\n",
    "test_data_loader = data.DataLoader(test_dataset, BATCH_SIZE, shuffle=False, collate_fn=collate_fn)"
   ]
  },
  {
   "cell_type": "code",
   "execution_count": 138,
   "metadata": {},
   "outputs": [],
   "source": [
    "sample = next(iter(train_data_loader))"
   ]
  },
  {
   "cell_type": "code",
   "execution_count": 139,
   "metadata": {},
   "outputs": [
    {
     "data": {
      "text/plain": [
       "(torch.Size([64, 50]), torch.Size([64, 50, 15]), torch.Size([64, 50]), 64)"
      ]
     },
     "execution_count": 139,
     "metadata": {},
     "output_type": "execute_result"
    }
   ],
   "source": [
    "sample[0].shape, sample[1].shape, sample[2].shape, len(sample[3])"
   ]
  },
  {
   "cell_type": "code",
   "execution_count": 140,
   "metadata": {},
   "outputs": [],
   "source": [
    "class CharBiLSTMCRF(nn.Module):\n",
    "    def __init__(self, vocab_size, emb_dim, hid_dim, char_emb_dim, char_hid_dim, char_vocab_size, tag_vocab_size, sent_pad_token, tag_start_token, dropout=0.3):\n",
    "        super().__init__()\n",
    "        self.hid_dim = hid_dim\n",
    "        self.sent_pad_token = sent_pad_token\n",
    "        self.tag_start_token = tag_start_token\n",
    "        self.tag_vocab_size = tag_vocab_size\n",
    "\n",
    "        self.char_embedding = nn.Embedding(char_vocab_size, char_emb_dim, padding_idx=0)\n",
    "        self.char_lstm = nn.LSTM(char_emb_dim, char_hid_dim, bidirectional=True, batch_first=True)\n",
    "\n",
    "        self.embedding = nn.Embedding(vocab_size, emb_dim, padding_idx=0)\n",
    "        self.lstm = nn.LSTM(\n",
    "            emb_dim + char_hid_dim,\n",
    "            hid_dim,\n",
    "            bidirectional=True,\n",
    "            batch_first=True\n",
    "        )\n",
    "        self.emission = nn.Linear(hid_dim * 2, tag_vocab_size)\n",
    "        self.transition = nn.Parameter(torch.rand(tag_vocab_size, tag_vocab_size))\n",
    "\n",
    "        self.dropout = nn.Dropout(dropout)\n",
    "    \n",
    "    def forward(self, sentences, lengths, words, tags):\n",
    "        # sentences => [batch_size, seq_len]\n",
    "        # lengths => [batch_size]\n",
    "        # words => [batch_size, seq_len, word_len]\n",
    "        # tags => [batch_size, seq_len]\n",
    "\n",
    "        char_final_hidden = []\n",
    "        for word in words:\n",
    "            # word => [seq_len, word_len]\n",
    "            char_embed = self.char_embedding(word)\n",
    "            char_embed = self.dropout(char_embed)\n",
    "            # char_embed => [seq_len, word_len, char_emb_dim]\n",
    "\n",
    "            _, (char_hidden, _) = self.char_lstm(char_embed)\n",
    "            # char_hidden => [2, seq_len, char_hid_dim]\n",
    "\n",
    "            # add the final forward and backward hidden states\n",
    "            char_combined = char_hidden[-1, :, :] + char_hidden[-2, :, :]\n",
    "            # char_combined => [seq_len, char_hid_dim]\n",
    "\n",
    "            char_final_hidden.append(char_combined)\n",
    "        \n",
    "        char_encoding = torch.stack(char_final_hidden)\n",
    "        # char_encoding => [batch_size, seq_len, char_hid_dim]\n",
    "\n",
    "        mask = (sentences != self.sent_pad_token).to(device)\n",
    "        # mask => [batch_size, seq_len]\n",
    "\n",
    "        embed = self.embedding(sentences)\n",
    "        embed = self.dropout(embed)\n",
    "        # embed => [batch_size, seq_len, emb_dim]\n",
    "\n",
    "        embed_with_char = torch.cat((embed, char_encoding), dim=-1)\n",
    "        # embed_with_char => [batch_size, seq_len, emb_dim + char_hid_dim]\n",
    "\n",
    "        packed_input = nn.utils.rnn.pack_padded_sequence(embed_with_char, lengths, batch_first=True)\n",
    "        packed_output, _ = self.lstm(packed_input)\n",
    "        outputs, _ = nn.utils.rnn.pad_packed_sequence(packed_output, batch_first=True)\n",
    "        # outputs => [batch_size, seq_len, hid_dim * 2]\n",
    "\n",
    "        combined = torch.cat((outputs[:, :, :self.hid_dim], outputs[:, :, self.hid_dim:]), dim=-1)\n",
    "        combined = self.dropout(combined)\n",
    "        # combined => [batch_size, seq_len, hid_dim * 2]\n",
    "\n",
    "        emission_scores = self.emission(combined)\n",
    "        # emission_scores => [batch_size, seq_len, tag_size]\n",
    "\n",
    "        loss = self.vitebri_loss(tags, mask, emission_scores)\n",
    "        # loss => [batch_size]\n",
    "\n",
    "        return loss\n",
    "\n",
    "    def vitebri_loss(self, tags, mask, emit_scores):\n",
    "        # tags => [batch_size, seq_len]\n",
    "        # mask => [batch_size, seq_len]\n",
    "        # emit_scores => [batch_size, seq_len, tag_size]\n",
    "\n",
    "        batch_size, sent_len = tags.shape\n",
    "\n",
    "        # calculate the ground truth score\n",
    "        score = torch.gather(emit_scores, 2, tags.unsqueeze(2)).squeeze(2)\n",
    "        # emission scores of actual tags\n",
    "        # score => [batch_size, seq_len]\n",
    "\n",
    "        # add the transition scores to the emission scores\n",
    "        # ignore the start token tag score\n",
    "        score[:, 1:] += self.transition[tags[:, :-1], tags[:, 1:]]\n",
    "\n",
    "        # consider only the scores of actual tokens not the padded\n",
    "        gold_scores = (score * mask.type(torch.float)).sum(dim=1)\n",
    "        # gold_scores => [batch_size]\n",
    "\n",
    "        # calculate the scores of the partition (Z)\n",
    "        # tensor to hold the accumulated sequence scores at each time step\n",
    "        # at the inital time step score will be on dim=0\n",
    "        scores_upto_t = emit_scores[:, 0].unsqueeze(1)\n",
    "        # scores_upto_t => [batch_size, 1, tag_size]\n",
    "\n",
    "        for i in range(1, sent_len):\n",
    "            # get the current batch_size\n",
    "            batch_t = mask[:, i].sum()\n",
    "\n",
    "            # get the accumulated scores till now (only the current batch size)\n",
    "            scores_unpad = scores_upto_t[:batch_t]\n",
    "            # scores_unpad => [batch_t, 1, tag_size]\n",
    "\n",
    "            # add the transition scores for this time step\n",
    "            scores_with_trans = emit_scores[:batch_t, i].unsqueeze(1) + self.transition\n",
    "            # scores_with_trans => [batch_t, tag_size, tag_size]\n",
    "\n",
    "            # add to the accumulation\n",
    "            sum_scores = scores_unpad.transpose(1, 2) + scores_with_trans\n",
    "            # sum_scores => [batch_t, tag_size, tag_size]\n",
    "            \n",
    "            # apply the following to overcome the overflow problems\n",
    "            # since the exp(some_big_number) will cause issues \n",
    "            # log(Σ exp(z_k)) = max(z) + log(Σ exp(z_k - max(z)))\n",
    "            # log(Σ exp(z_k)) = log(Σ exp(z_k - c + c))\n",
    "            #                 = log(Σ exp(z_k - c) * exp(c))\n",
    "            #                 = log(Σ exp(z_k - c)) + log(exp(c))\n",
    "            #                 = log(Σ exp(z_k - c)) + c\n",
    "            # by taking c as max(z)\n",
    "            # log(Σ exp(z_k)) = max(z) + log(Σ exp(z_k - max(z))) [log_sum_exp]\n",
    "            # get the maximum score of the current time step\n",
    "            max_t = sum_scores.max(dim=1)[0].unsqueeze(1)\n",
    "            # max_t => [batch_t, 1, tag_size]\n",
    "\n",
    "            sum_scores = sum_scores - max_t\n",
    "            # sum_scores => [batch_t, tag_size, tag_size]\n",
    "\n",
    "            scores_t = max_t + torch.logsumexp(sum_scores, dim=1).unsqueeze(1)\n",
    "            # scores_t => [batch_t, 1, tag_size]\n",
    "\n",
    "            # update the accumulation scores\n",
    "            scores_upto_t = torch.cat((scores_t, scores_upto_t[batch_t:]), dim=0)\n",
    "            # scores_upto_t => [batch_size, 1, tag_size]\n",
    "        \n",
    "        final_scores = scores_upto_t.squeeze(1)\n",
    "        # final_scores => [batch_size, tag_size]\n",
    "\n",
    "        max_final_scores = final_scores.max(dim=-1)[0]\n",
    "        # max_final_scores => [batch_size]\n",
    "\n",
    "        predicted_scores = max_final_scores + torch.logsumexp(final_scores - max_final_scores.unsqueeze(1), dim=1)\n",
    "        # predicted_scores => [batch_size]\n",
    "\n",
    "        vitebri_loss = predicted_scores - gold_scores\n",
    "        # vitebri_loss => [batch_size]\n",
    "\n",
    "        return vitebri_loss\n",
    "    \n",
    "    def predict(self, sentences, lengths, words):\n",
    "        # sentences => [batch_size, seq_len]\n",
    "        # lengths => [batch_size]\n",
    "        # words => [batch_size, seq_len, word_len]\n",
    "\n",
    "        batch_size = sentences.size(0)\n",
    "\n",
    "        char_final_hidden = []\n",
    "        for word in words:\n",
    "            # word => [seq_len, word_len]\n",
    "            char_embed = self.char_embedding(word)\n",
    "            char_embed = self.dropout(char_embed)\n",
    "            # char_embed => [seq_len, word_len, char_emb_dim]\n",
    "\n",
    "            _, (char_hidden, _) = self.char_lstm(char_embed)\n",
    "            # char_hidden => [2, seq_len, char_hid_dim]\n",
    "\n",
    "            # add the final forward and backward hidden states\n",
    "            char_combined = char_hidden[-1, :, :] + char_hidden[-2, :, :]\n",
    "            # char_combined => [seq_len, char_hid_dim]\n",
    "\n",
    "            char_final_hidden.append(char_combined)\n",
    "        \n",
    "        char_encoding = torch.stack(char_final_hidden)\n",
    "        # char_encoding => [batch_size, seq_len, char_hid_dim]\n",
    "\n",
    "        mask = (sentences != self.sent_pad_token).to(device)\n",
    "        # mask => [batch_size, seq_len]\n",
    "\n",
    "        embed = self.embedding(sentences)\n",
    "        embed = self.dropout(embed)\n",
    "        # embed => [batch_size, seq_len, emb_dim]\n",
    "\n",
    "        embed_with_char = torch.cat((embed, char_encoding), dim=-1)\n",
    "        # embed_with_char => [batch_size, seq_len, emb_dim + char_hid_dim]\n",
    "\n",
    "        packed_inp = nn.utils.rnn.pack_padded_sequence(embed_with_char, lengths, batch_first=True)\n",
    "        packed_output, _ = self.lstm(packed_inp)\n",
    "        outputs, _ = nn.utils.rnn.pad_packed_sequence(packed_output, batch_first=True)\n",
    "        # outputs => [batch_size, seq_len, hid_dim * 2]\n",
    "\n",
    "        combined = torch.cat((outputs[:, :, :self.hid_dim], outputs[:, :, self.hid_dim:]), dim=-1)\n",
    "        combined = self.dropout(combined)\n",
    "        # combined => [batch_size, seq_len, hid_dim * 2]\n",
    "\n",
    "        emission_scores = self.emission(combined)\n",
    "        # emission_scores => [batch_size, seq_len, tag_size]\n",
    "\n",
    "        # to store the tags predicted at each time step\n",
    "        # since at the begining every tag is start tag create the list with start tags\n",
    "        tags = [[[self.tag_start_token] for _ in range(self.tag_vocab_size)]] * batch_size\n",
    "        # tags => [batch_size, tag_size, 1]\n",
    "\n",
    "        scores_upto_t = emission_scores[:, 0].unsqueeze(1)\n",
    "        # scores_upto_t => [batch_size, 1, tag_size]\n",
    "\n",
    "        for i in range(1, max(lengths)):\n",
    "            # get the current batch_size\n",
    "            batch_t = mask[:, i].sum()\n",
    "\n",
    "            # get the accumulated scores till now (only the current batch size)\n",
    "            scores_unpad = scores_upto_t[:batch_t]\n",
    "            # scores_unpad => [batch_t, 1, tag_size]\n",
    "\n",
    "            # add the transition scores for this time step\n",
    "            scores_with_trans = emission_scores[:batch_t, i].unsqueeze(1) + self.transition\n",
    "            # scores_with_trans => [batch_t, tag_size, tag_size]\n",
    "\n",
    "            # add to the accumulation\n",
    "            sum_scores = scores_unpad.transpose(1, 2) + scores_with_trans\n",
    "            # sum_scores => [batch_t, tag_size, tag_size]\n",
    "\n",
    "            max_scores_t, max_ids_t = torch.max(sum_scores, dim=1)\n",
    "            max_ids_t = max_ids_t.tolist()\n",
    "            # max_scores_t => [batch_t, tag_size]\n",
    "            # max_ids_t => [batch_t, tag_size]\n",
    "\n",
    "            # add the current time step predicted tags \n",
    "            tags[:batch_t] = [[tags[b][k] + [j] for j, k in enumerate(max_ids_t[b])] for b in range(batch_t)]\n",
    "            \n",
    "            # update the accumulation scores\n",
    "            scores_upto_t = torch.cat((max_scores_t.unsqueeze(1), scores_upto_t[batch_t:]), dim=0)\n",
    "            # scores_upto_t => [batch_size, tag_size]\n",
    "\n",
    "        scores = scores_upto_t.squeeze(1)\n",
    "        # scores => [batch_size, tag_size]\n",
    "\n",
    "        _, max_ids = torch.max(scores, dim=1)\n",
    "        max_ids = max_ids.tolist()\n",
    "        # max_ids => [batch_size]\n",
    "\n",
    "        # tags => [batch_size, tag_size, seq_len]\n",
    "        tags = [tags[b][k] for b, k in enumerate(max_ids)]\n",
    "        # tags => [batch_size, seq_len]\n",
    "\n",
    "        return tags"
   ]
  },
  {
   "cell_type": "code",
   "execution_count": 142,
   "metadata": {},
   "outputs": [
    {
     "data": {
      "text/plain": [
       "CharBiLSTMCRF(\n",
       "  (char_embedding): Embedding(45, 20, padding_idx=0)\n",
       "  (char_lstm): LSTM(20, 50, batch_first=True, bidirectional=True)\n",
       "  (embedding): Embedding(2622, 50, padding_idx=0)\n",
       "  (lstm): LSTM(100, 200, batch_first=True, bidirectional=True)\n",
       "  (emission): Linear(in_features=400, out_features=26, bias=True)\n",
       "  (dropout): Dropout(p=0.3, inplace=False)\n",
       ")"
      ]
     },
     "execution_count": 142,
     "metadata": {},
     "output_type": "execute_result"
    }
   ],
   "source": [
    "vocab_size = len(words_vocab)\n",
    "sent_pad_token = words_vocab[words_vocab.PAD]\n",
    "tag_start_token = tags_vocab[tags_vocab.START]\n",
    "emb_dim = 50\n",
    "hid_dim = 200\n",
    "char_emb_dim = 20\n",
    "char_hid_dim = 50\n",
    "char_vocab_size = len(chars_vocab)\n",
    "tag_vocab_size = len(tags_vocab)\n",
    "model = CharBiLSTMCRF(\n",
    "    vocab_size,\n",
    "    emb_dim,\n",
    "    hid_dim,\n",
    "    char_emb_dim,\n",
    "    char_hid_dim,\n",
    "    char_vocab_size,\n",
    "    tag_vocab_size,\n",
    "    sent_pad_token,\n",
    "    tag_start_token\n",
    ")\n",
    "model.to(device)"
   ]
  },
  {
   "cell_type": "code",
   "execution_count": 143,
   "metadata": {},
   "outputs": [
    {
     "name": "stdout",
     "output_type": "stream",
     "text": [
      "The model has 655,102 trainable parameters\n"
     ]
    }
   ],
   "source": [
    "def count_parameters(model):\n",
    "    return sum(p.numel() for p in model.parameters() if p.requires_grad)\n",
    "\n",
    "print(f'The model has {count_parameters(model):,} trainable parameters')"
   ]
  },
  {
   "cell_type": "code",
   "execution_count": 144,
   "metadata": {},
   "outputs": [],
   "source": [
    "optimizer = optim.Adam(model.parameters(), lr=0.01)"
   ]
  },
  {
   "cell_type": "code",
   "execution_count": 145,
   "metadata": {},
   "outputs": [],
   "source": [
    "def train(model, iterator, optimizer, clip):\n",
    "    model.train()\n",
    "\n",
    "    epoch_loss = 0\n",
    "    total_sentences = 0\n",
    "\n",
    "    for batch in iterator:\n",
    "        sentences = batch[0].to(device)\n",
    "        words = batch[1].to(device)\n",
    "        tags = batch[2].to(device)\n",
    "        seq_lengths = batch[3]\n",
    "        # sentences => [batch_size, seq_len]\n",
    "        # words => [batch_size, seq_len, word_len]\n",
    "        # tags => [batch_size, seq_len]\n",
    "        # seq_lengths => [batch_size]\n",
    "\n",
    "        optimizer.zero_grad()\n",
    "\n",
    "        batch_loss = model(sentences, seq_lengths, words, tags)\n",
    "        # batch_loss => [batch_size]\n",
    "\n",
    "        loss = batch_loss.mean()\n",
    "\n",
    "        loss.backward()\n",
    "        torch.nn.utils.clip_grad_norm_(model.parameters(), clip)\n",
    "        optimizer.step()\n",
    "        \n",
    "        epoch_loss += batch_loss.sum().item()\n",
    "        total_sentences += len(sentences)\n",
    "\n",
    "    return epoch_loss / total_sentences"
   ]
  },
  {
   "cell_type": "code",
   "execution_count": 146,
   "metadata": {},
   "outputs": [],
   "source": [
    "def evaluate(model, iterator):\n",
    "    model.eval()\n",
    "    epoch_loss = 0\n",
    "    total_sentences = 0\n",
    "\n",
    "    with torch.no_grad():\n",
    "        for batch in iterator:\n",
    "            sentences = batch[0].to(device)\n",
    "            words = batch[1].to(device)\n",
    "            tags = batch[2].to(device)\n",
    "            seq_lengths = batch[3]\n",
    "            # sentences => [batch_size, seq_len]\n",
    "            # words => [batch_size, seq_len, word_len]\n",
    "            # tags => [batch_size, seq_len]\n",
    "            # seq_lengths => [batch_size]\n",
    "\n",
    "            batch_loss = model(sentences, seq_lengths, words, tags)\n",
    "            # batch_loss => [batch_size]\n",
    "\n",
    "            loss = batch_loss.mean()\n",
    "\n",
    "            epoch_loss += batch_loss.sum().item()\n",
    "            total_sentences += len(sentences)\n",
    "        \n",
    "    return epoch_loss / total_sentences"
   ]
  },
  {
   "cell_type": "code",
   "execution_count": 147,
   "metadata": {},
   "outputs": [],
   "source": [
    "def epoch_time(start_time, end_time):\n",
    "    elapsed_time = end_time - start_time\n",
    "    elapsed_mins = int(elapsed_time / 60)\n",
    "    elapsed_secs = int(elapsed_time - (elapsed_mins * 60))\n",
    "    return elapsed_mins, elapsed_secs"
   ]
  },
  {
   "cell_type": "code",
   "execution_count": 148,
   "metadata": {},
   "outputs": [
    {
     "name": "stdout",
     "output_type": "stream",
     "text": [
      "Epoch: 01 | Epoch Time: 1m 24s\n",
      "\tTrain Loss: 80.658 | Val. Loss: 20.857\n",
      "Epoch: 02 | Epoch Time: 1m 27s\n",
      "\tTrain Loss: 5.584 | Val. Loss: 2.295\n",
      "Epoch: 03 | Epoch Time: 1m 25s\n",
      "\tTrain Loss: 1.860 | Val. Loss: 1.641\n",
      "Epoch: 04 | Epoch Time: 1m 25s\n",
      "\tTrain Loss: 1.417 | Val. Loss: 1.556\n",
      "Epoch: 05 | Epoch Time: 1m 26s\n",
      "\tTrain Loss: 1.247 | Val. Loss: 1.429\n",
      "Epoch: 06 | Epoch Time: 1m 25s\n",
      "\tTrain Loss: 1.067 | Val. Loss: 1.380\n",
      "Epoch: 07 | Epoch Time: 1m 26s\n",
      "\tTrain Loss: 0.943 | Val. Loss: 1.342\n",
      "Epoch: 08 | Epoch Time: 1m 24s\n",
      "\tTrain Loss: 0.862 | Val. Loss: 1.392\n",
      "Epoch: 09 | Epoch Time: 1m 25s\n",
      "\tTrain Loss: 0.770 | Val. Loss: 1.301\n",
      "Epoch: 10 | Epoch Time: 1m 20s\n",
      "\tTrain Loss: 0.680 | Val. Loss: 1.371\n"
     ]
    }
   ],
   "source": [
    "N_EPOCHS = 10\n",
    "CLIP = 2\n",
    "best_valid_loss = float('inf')\n",
    "\n",
    "for epoch in range(N_EPOCHS):\n",
    "\n",
    "    start_time = time.time()\n",
    "    \n",
    "    train_loss = train(model, train_data_loader, optimizer, CLIP)\n",
    "    valid_loss = evaluate(model, valid_data_loader)\n",
    "    \n",
    "    end_time = time.time()\n",
    "\n",
    "    epoch_mins, epoch_secs = epoch_time(start_time, end_time)\n",
    "    \n",
    "    if valid_loss < best_valid_loss:\n",
    "        best_valid_loss = valid_loss\n",
    "        torch.save(model.state_dict(), 'model.pt')\n",
    "    \n",
    "    print(f'Epoch: {epoch+1:02} | Epoch Time: {epoch_mins}m {epoch_secs}s')\n",
    "    print(f'\\tTrain Loss: {train_loss:.3f} | Val. Loss: {valid_loss:.3f}')"
   ]
  },
  {
   "cell_type": "code",
   "execution_count": 154,
   "metadata": {},
   "outputs": [
    {
     "data": {
      "text/plain": [
       "<All keys matched successfully>"
      ]
     },
     "execution_count": 154,
     "metadata": {},
     "output_type": "execute_result"
    }
   ],
   "source": [
    "model.load_state_dict(torch.load('model.pt'))"
   ]
  },
  {
   "cell_type": "code",
   "execution_count": 155,
   "metadata": {},
   "outputs": [
    {
     "name": "stdout",
     "output_type": "stream",
     "text": [
      "Test Loss: 1.589\n"
     ]
    }
   ],
   "source": [
    "test_loss = evaluate(model, test_data_loader)\n",
    "print(f'Test Loss: {test_loss:.3f}')"
   ]
  },
  {
   "cell_type": "code",
   "execution_count": 156,
   "metadata": {},
   "outputs": [],
   "source": [
    "def cal_metrics(model, iterator):\n",
    "    model.eval()\n",
    "\n",
    "    fin_outputs = []\n",
    "    fin_targets = []\n",
    "\n",
    "    with torch.no_grad():\n",
    "        for batch in iterator:\n",
    "            sentences = batch[0].to(device)\n",
    "            words = batch[1].to(device)\n",
    "            tags = batch[2].to(device)\n",
    "            seq_lengths = batch[3]\n",
    "            # sentences => [batch_size, seq_len]\n",
    "            # words => [batch_size, seq_len, word_len]\n",
    "            # tags => [batch_size, seq_len]\n",
    "            # seq_lengths => [batch_size]\n",
    "\n",
    "            predictions = model.predict(sentences, seq_lengths, words)\n",
    "            # predictions => [batch_size, seq_len]\n",
    "\n",
    "            fin_outputs.extend(predictions)\n",
    "            fin_targets.extend(tags.detach().cpu().numpy().tolist())\n",
    "        \n",
    "    assert len(fin_outputs) == len(fin_targets)\n",
    "    mlb = MultiLabelBinarizer()\n",
    "    trans_trg = mlb.fit_transform(fin_targets)\n",
    "    trans_pred = mlb.transform(fin_outputs)\n",
    "\n",
    "    cf = metrics.classification_report(trans_trg, trans_pred)\n",
    "    print(cf)"
   ]
  },
  {
   "cell_type": "code",
   "execution_count": 157,
   "metadata": {},
   "outputs": [
    {
     "name": "stdout",
     "output_type": "stream",
     "text": [
      "              precision    recall  f1-score   support\n",
      "\n",
      "           0       1.00      1.00      1.00       604\n",
      "           1       1.00      1.00      1.00       604\n",
      "           2       1.00      1.00      1.00       604\n",
      "           3       0.91      0.88      0.90        49\n",
      "           4       0.63      0.80      0.70        54\n",
      "           5       0.87      0.91      0.89        22\n",
      "           6       0.57      0.75      0.65        28\n",
      "           7       1.00      0.81      0.89        36\n",
      "           8       0.96      0.71      0.81        34\n",
      "           9       0.95      0.75      0.84        24\n",
      "          10       0.89      0.74      0.81        23\n",
      "          11       0.88      0.44      0.58        16\n",
      "          12       1.00      0.57      0.73        14\n",
      "          13       0.67      0.55      0.60        11\n",
      "          14       1.00      0.67      0.80         9\n",
      "          15       0.60      0.50      0.55         6\n",
      "          16       1.00      0.62      0.77         8\n",
      "          17       0.75      0.50      0.60         6\n",
      "          18       0.67      0.67      0.67         3\n",
      "          19       1.00      0.33      0.50         6\n",
      "          20       1.00      0.67      0.80         3\n",
      "          21       0.67      0.67      0.67         3\n",
      "          22       0.50      0.50      0.50         2\n",
      "          23       0.00      0.00      0.00         2\n",
      "\n",
      "   micro avg       0.97      0.96      0.96      2171\n",
      "   macro avg       0.81      0.67      0.72      2171\n",
      "weighted avg       0.97      0.96      0.96      2171\n",
      " samples avg       0.98      0.97      0.97      2171\n",
      "\n"
     ]
    }
   ],
   "source": [
    "cal_metrics(model, test_data_loader)"
   ]
  },
  {
   "cell_type": "code",
   "execution_count": 158,
   "metadata": {},
   "outputs": [],
   "source": [
    "def inference(sentence):\n",
    "    if isinstance(sentence, str):\n",
    "        tokens = [words_vocab[words_vocab.START]] + sentence.split() + [words_vocab[words_vocab.END]]\n",
    "    else:\n",
    "        tokens = sentence\n",
    "    \n",
    "    chars = [['<START']] + [['<START>'] + [ch for ch in word] + ['<END>'] for word in tokens[1:-1]] + [['<END>']]\n",
    "\n",
    "    char_seq = []\n",
    "    for word in chars:\n",
    "        word_len = len(word)\n",
    "        # truncate the word if it is greater than max_word_len\n",
    "        if word_len > MAX_WORD_LEN:\n",
    "            word = word[:MAX_WORD_LEN]\n",
    "        # pad the word if it less\n",
    "        else:\n",
    "            pad_length = MAX_WORD_LEN - word_len\n",
    "            word = word + [chars_vocab.PAD] * pad_length\n",
    "        \n",
    "        # convert the chars into numerical format\n",
    "        char_ids = []\n",
    "        for each_char in word: \n",
    "            char_ids.append(chars_vocab[each_char])\n",
    "        char_seq.append(char_ids)\n",
    "\n",
    "    # numericalize\n",
    "    token_ids = [words_vocab[tok] for tok in tokens]\n",
    "    \n",
    "    # seq length\n",
    "    sent_length = [len(token_ids)]\n",
    "\n",
    "    # create tensors\n",
    "    sent_tensor = torch.LongTensor(token_ids).to(device)\n",
    "    sent_tensor = sent_tensor.unsqueeze(0)\n",
    "    # sent_tensor => [1, seq_len]\n",
    "\n",
    "    char_tensor = torch.LongTensor(char_seq).to(device)\n",
    "    char_tensor = char_tensor.unsqueeze(0)\n",
    "    # char_tensor => [1, seq_len, word_len]\n",
    "\n",
    "    model.eval()\n",
    "    with torch.no_grad():\n",
    "        predictions = model.predict(sent_tensor, sent_length, char_tensor)\n",
    "    \n",
    "    predictions = predictions[0]\n",
    "    predicted_tags = []\n",
    "    for i in predictions:\n",
    "        predicted_tags.append(tags_vocab.id2word(i))\n",
    "    \n",
    "    return tokens, predicted_tags"
   ]
  },
  {
   "cell_type": "code",
   "execution_count": 159,
   "metadata": {},
   "outputs": [
    {
     "name": "stdout",
     "output_type": "stream",
     "text": [
      "Pred. Tag\tActual Tag\tCorrect?\tToken\n",
      "\n",
      "<START>\t\t<START>\t\t✔\t\t<START>\n",
      "O\t\tO\t\t✔\t\tDeveloping\n",
      "O\t\tO\t\t✔\t\tsmall\n",
      "O\t\tO\t\t✔\t\tmolecule\n",
      "O\t\tO\t\t✔\t\tagonistic\n",
      "O\t\tO\t\t✔\t\tligands\n",
      "O\t\tO\t\t✔\t\tfor\n",
      "O\t\tO\t\t✔\t\ttyrosine\n",
      "O\t\tO\t\t✔\t\tkinase\n",
      "O\t\tO\t\t✔\t\treceptors\n",
      "O\t\tO\t\t✔\t\thas\n",
      "O\t\tO\t\t✔\t\tbeen\n",
      "O\t\tO\t\t✔\t\tdifficult\n",
      "O\t\tO\t\t✔\t\t,\n",
      "O\t\tO\t\t✔\t\tand\n",
      "O\t\tO\t\t✔\t\tit\n",
      "O\t\tO\t\t✔\t\tis\n",
      "O\t\tO\t\t✔\t\tgenerally\n",
      "O\t\tO\t\t✔\t\tthought\n",
      "O\t\tO\t\t✔\t\tthat\n",
      "O\t\tO\t\t✔\t\tsuch\n",
      "O\t\tO\t\t✔\t\tligands\n",
      "O\t\tO\t\t✔\t\trequire\n",
      "O\t\tO\t\t✔\t\tbivalency\n",
      "O\t\tO\t\t✔\t\t.\n",
      "<END>\t\t<END>\t\t✔\t\t<END>\n"
     ]
    }
   ],
   "source": [
    "sentence = test_sentences[0]\n",
    "actual_tags = test_tags[0]\n",
    "tokens, predicted_tag_ids = inference(sentence)\n",
    "\n",
    "print(\"Pred. Tag\\tActual Tag\\tCorrect?\\tToken\\n\")\n",
    "for token, pred_tag, actual_tag in zip(tokens, predicted_tag_ids, actual_tags):\n",
    "    correct = '✔' if pred_tag == actual_tag else '✘'\n",
    "    print(f\"{pred_tag}\\t\\t{actual_tag}\\t\\t{correct}\\t\\t{token}\")"
   ]
  },
  {
   "cell_type": "code",
   "execution_count": 160,
   "metadata": {},
   "outputs": [
    {
     "name": "stdout",
     "output_type": "stream",
     "text": [
      "Pred. Tag\tActual Tag\tCorrect?\tToken\n",
      "\n",
      "<START>\t\t<START>\t\t✔\t\t<START>\n",
      "O\t\tO\t\t✔\t\tnewborn\n",
      "O\t\tO\t\t✔\t\tpigs\n",
      "O\t\tO\t\t✔\t\t.\n",
      "O\t\tO\t\t✔\t\tTo\n",
      "O\t\tO\t\t✔\t\tinvestigate\n",
      "O\t\tO\t\t✔\t\tthe\n",
      "O\t\tO\t\t✔\t\tpotential\n",
      "O\t\tO\t\t✔\t\trole\n",
      "O\t\tO\t\t✔\t\tof\n",
      "O\t\tO\t\t✔\t\tsympathetic\n",
      "O\t\tB-Multi-tissue_structure\t\t✘\t\tnerves\n",
      "O\t\tO\t\t✔\t\tin\n",
      "O\t\tO\t\t✔\t\tpreventing\n",
      "O\t\tO\t\t✔\t\tpronounced\n",
      "O\t\tO\t\t✔\t\tincreases\n",
      "O\t\tO\t\t✔\t\tin\n",
      "B-Organ\t\tB-Organ\t\t✔\t\tcerebral\n",
      "B-Organism_substance\t\tB-Organism_substance\t\t✔\t\tblood\n",
      "<END>\t\t<END>\t\t✔\t\t<END>\n"
     ]
    }
   ],
   "source": [
    "sentence = test_sentences[10]\n",
    "actual_tags = test_tags[10]\n",
    "tokens, predicted_tag_ids = inference(sentence)\n",
    "\n",
    "print(\"Pred. Tag\\tActual Tag\\tCorrect?\\tToken\\n\")\n",
    "for token, pred_tag, actual_tag in zip(tokens, predicted_tag_ids, actual_tags):\n",
    "    correct = '✔' if pred_tag == actual_tag else '✘'\n",
    "    print(f\"{pred_tag}\\t\\t{actual_tag}\\t\\t{correct}\\t\\t{token}\")"
   ]
  },
  {
   "cell_type": "code",
   "execution_count": 161,
   "metadata": {},
   "outputs": [
    {
     "name": "stdout",
     "output_type": "stream",
     "text": [
      "Pred. Tag\tToken\n",
      "\n",
      "O\t\tVibrissae\n",
      "O\t\tare\n",
      "O\t\ttactile\n",
      "O\t\thairs\n",
      "O\t\tfound\n",
      "O\t\tmainly\n",
      "O\t\ton\n",
      "O\t\tthe\n",
      "B-Multi-tissue_structure\t\trostrum\n",
      "O\t\tof\n",
      "O\t\tmost\n",
      "O\t\tmammals.\n",
      "O\t\tThe\n",
      "O\t\tfollicle,\n",
      "O\t\twhich\n",
      "O\t\tis\n",
      "O\t\tsurrounded\n",
      "O\t\tby\n",
      "O\t\ta\n",
      "O\t\tlarge\n",
      "B-Multi-tissue_structure\t\tvenous\n",
      "O\t\tsinus,\n",
      "O\t\tis\n",
      "O\t\tcalled\n",
      "O\t\t'follicle‐sinus\n",
      "O\t\tcomplex'\n",
      "O\t\t(FSC).\n",
      "O\t\tThis\n",
      "O\t\tcomplex\n",
      "O\t\tis\n",
      "O\t\thighly\n",
      "O\t\tinnervated\n",
      "O\t\tby\n",
      "O\t\tsomatosensitive\n",
      "B-Organ\t\tfibers\n",
      "O\t\tand\n",
      "O\t\treached\n",
      "O\t\tby\n",
      "B-Tissue\t\tvisceromotor\n",
      "I-Tissue\t\tfibers\n",
      "O\t\tthat\n",
      "O\t\tinnervate\n",
      "O\t\tthe\n",
      "B-Multi-tissue_structure\t\tsurrounding\n",
      "I-Multi-tissue_structure\t\tvessels.\n",
      "O\t\tThe\n",
      "O\t\tsurrounding\n",
      "O\t\tstriated\n",
      "B-Tissue\t\tmuscles\n",
      "I-Tissue\t\treceive\n",
      "I-Tissue\t\tsomatomotor\n",
      "I-Tissue\t\tfibers\n",
      "O\t\tfrom\n",
      "O\t\tthe\n",
      "B-Multi-tissue_structure\t\tfacial\n",
      "I-Multi-tissue_structure\t\tnerve.\n",
      "O\t\tThe\n",
      "O\t\tbottlenose\n",
      "O\t\tdolphin\n",
      "O\t\t(Tursiops\n",
      "O\t\ttruncatus),\n",
      "O\t\ta\n",
      "O\t\tfrequently\n",
      "O\t\tdescribed\n",
      "O\t\tmember\n",
      "O\t\tof\n",
      "O\t\tthe\n",
      "O\t\tdelphinid\n",
      "O\t\tfamily,\n",
      "O\t\tpossesses\n",
      "O\t\tthis\n",
      "B-Organ\t\torgan\n",
      "O\t\tonly\n",
      "O\t\tin\n",
      "O\t\tthe\n",
      "O\t\tpostnatal\n",
      "O\t\tperiod.\n",
      "O\t\tHowever,\n",
      "O\t\tinformation\n",
      "O\t\ton\n",
      "O\t\tthe\n",
      "O\t\tfunction\n",
      "O\t\tof\n",
      "O\t\tthe\n",
      "B-Cellular_component\t\tvibrissal\n",
      "I-Cellular_component\t\tcomplex\n",
      "O\t\tin\n",
      "O\t\tthis\n",
      "O\t\tlatter\n",
      "O\t\tspecies\n",
      "O\t\tis\n",
      "O\t\tscarce.\n",
      "O\t\tRecently,\n",
      "O\t\tpsychophysical\n",
      "O\t\texperiments\n",
      "O\t\ton\n",
      "O\t\tthe\n",
      "O\t\triver‐living\n",
      "O\t\tGuiana\n",
      "O\t\tdolphin\n",
      "O\t\t(Sotalia\n",
      "O\t\tguianensis)\n",
      "O\t\trevealed\n",
      "O\t\tthat\n",
      "O\t\tthe\n",
      "O\t\tFSC\n",
      "O\t\tcould\n",
      "O\t\twork\n",
      "O\t\tas\n",
      "O\t\tan\n",
      "O\t\telectroreceptor\n",
      "O\t\tin\n",
      "O\t\tmurky\n",
      "O\t\twaters.\n",
      "O\t\tIn\n",
      "O\t\tthe\n",
      "O\t\tpresent\n",
      "O\t\tstudy,\n",
      "O\t\twe\n",
      "O\t\tanalyzed\n",
      "O\t\tthe\n",
      "O\t\tmorphology\n",
      "O\t\tand\n",
      "O\t\tinnervation\n",
      "O\t\tof\n",
      "O\t\tthe\n",
      "O\t\tFSC\n",
      "O\t\tof\n",
      "O\t\tnewborn\n",
      "O\t\t(n\n",
      "O\t\t=\n",
      "O\t\t8)\n",
      "O\t\tand\n",
      "O\t\tadult\n",
      "O\t\t(n\n",
      "O\t\t=\n",
      "O\t\t3)\n",
      "O\t\tbottlenose\n",
      "O\t\tdolphins.\n",
      "O\t\tWe\n",
      "O\t\tused\n",
      "O\t\tMasson's\n",
      "O\t\ttrichrome\n",
      "O\t\tstain\n",
      "O\t\tand\n",
      "O\t\tantibodies\n",
      "O\t\tagainst\n",
      "O\t\tneurofilament\n",
      "O\t\t200\n",
      "O\t\tkDa\n",
      "O\t\t(NF\n",
      "O\t\t200),\n",
      "O\t\tprotein\n",
      "O\t\tgene\n",
      "O\t\tproduct\n",
      "O\t\t(PGP\n",
      "O\t\t9.5),\n",
      "O\t\tsubstance\n",
      "O\t\tP\n",
      "O\t\t(SP),\n",
      "O\t\tcalcitonin\n",
      "O\t\tgene‐related\n",
      "O\t\tpeptide,\n",
      "O\t\tand\n",
      "O\t\ttyrosine\n",
      "O\t\thydroxylase\n",
      "O\t\t(TH)\n",
      "O\t\tto\n",
      "O\t\tcharacterize\n",
      "O\t\tthe\n",
      "O\t\tFSC\n",
      "O\t\tof\n",
      "O\t\tthe\n",
      "O\t\ttwo\n",
      "O\t\tage\n",
      "O\t\tclasses.\n"
     ]
    }
   ],
   "source": [
    "sentence = \"Vibrissae are tactile hairs found mainly on the rostrum of most mammals. The follicle, which is surrounded by a large venous sinus, is called 'follicle‐sinus complex' (FSC). This complex is highly innervated by somatosensitive fibers and reached by visceromotor fibers that innervate the surrounding vessels. The surrounding striated muscles receive somatomotor fibers from the facial nerve. The bottlenose dolphin (Tursiops truncatus), a frequently described member of the delphinid family, possesses this organ only in the postnatal period. However, information on the function of the vibrissal complex in this latter species is scarce. Recently, psychophysical experiments on the river‐living Guiana dolphin (Sotalia guianensis) revealed that the FSC could work as an electroreceptor in murky waters. In the present study, we analyzed the morphology and innervation of the FSC of newborn (n = 8) and adult (n = 3) bottlenose dolphins. We used Masson's trichrome stain and antibodies against neurofilament 200 kDa (NF 200), protein gene product (PGP 9.5), substance P (SP), calcitonin gene‐related peptide, and tyrosine hydroxylase (TH) to characterize the FSC of the two age classes.\"\n",
    "tokens, predicted_tag_ids = inference(sentence)\n",
    "\n",
    "print(\"Pred. Tag\\tToken\\n\")\n",
    "for token, pred_tag in zip(tokens[1:-1], predicted_tag_ids[1:-1]):\n",
    "    print(f\"{pred_tag}\\t\\t{token}\")"
   ]
  },
  {
   "cell_type": "code",
   "execution_count": null,
   "metadata": {},
   "outputs": [],
   "source": []
  }
 ],
 "metadata": {
  "kernelspec": {
   "display_name": "Python 3",
   "language": "python",
   "name": "python3"
  },
  "language_info": {
   "codemirror_mode": {
    "name": "ipython",
    "version": 3
   },
   "file_extension": ".py",
   "mimetype": "text/x-python",
   "name": "python",
   "nbconvert_exporter": "python",
   "pygments_lexer": "ipython3",
   "version": "3.8.3"
  }
 },
 "nbformat": 4,
 "nbformat_minor": 4
}
